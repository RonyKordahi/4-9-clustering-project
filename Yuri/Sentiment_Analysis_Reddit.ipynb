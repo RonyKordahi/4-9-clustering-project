{
 "cells": [
  {
   "cell_type": "code",
   "execution_count": 418,
   "metadata": {
    "scrolled": true
   },
   "outputs": [],
   "source": [
    "#Library\n",
    "import pandas as pd \n",
    "from pmaw import PushshiftAPI\n",
    "import datetime\n",
    "import requests\n",
    "import json\n",
    "import psaw\n",
    "import spacy\n",
    "\n",
    "import nltk\n",
    "from nltk.tokenize import word_tokenize\n",
    "from nltk.tag import pos_tag\n",
    "\n",
    "from collections import Counter\n",
    "import flair\n",
    "import ast"
   ]
  },
  {
   "cell_type": "code",
   "execution_count": 392,
   "metadata": {},
   "outputs": [],
   "source": [
    "api = PushshiftAPI()"
   ]
  },
  {
   "cell_type": "code",
   "execution_count": 419,
   "metadata": {
    "scrolled": false
   },
   "outputs": [
    {
     "name": "stdout",
     "output_type": "stream",
     "text": [
      "42276 results available in Pushshift\n",
      "Checkpoint:: Success Rate: 100.00% - Requests: 100 - Batches: 10 - Items Remaining: 32294\n",
      "Checkpoint:: Success Rate: 100.00% - Requests: 200 - Batches: 20 - Items Remaining: 23297\n",
      "Checkpoint:: Success Rate: 100.00% - Requests: 300 - Batches: 30 - Items Remaining: 14533\n",
      "Checkpoint:: Success Rate: 100.00% - Requests: 400 - Batches: 40 - Items Remaining: 6300\n",
      "Checkpoint:: Success Rate: 100.00% - Requests: 500 - Batches: 50 - Items Remaining: 97\n",
      "Total:: Success Rate: 100.00% - Requests: 505 - Batches: 51 - Items Remaining: 3\n",
      "Total:: Success Rate: 100.00% - Requests: 506 - Batches: 52 - Items Remaining: 0\n"
     ]
    }
   ],
   "source": [
    "# before = int(datetime.datetime(2021,1,1,0,0).timestamp()) \n",
    "# start_time =  int(datetime.datetime(2021,3,6,0,0).timestamp())\n",
    "\n",
    "before = int(datetime.datetime(2021,3,16,0,0).timestamp())\n",
    "after = int(datetime.datetime(2021,1,1,0,0).timestamp())\n",
    "\n",
    "submissions = api.search_submissions(before=before,\n",
    "                                     after=after,\n",
    "                                     subreddit='stocks',\n",
    "                                     filter=['url','subreddit',  'author', 'title','removed_by_category',\n",
    "                                             'selftext', 'upvote_ratio', 'ups', 'down', 'score'])\n",
    "                                     #stop_condition=lambda x: 'moderator' in x.removed_by_category,\n",
    "                                     #limit=1000)\n",
    "\n",
    "submissions = pd.DataFrame(submissions)"
   ]
  },
  {
   "cell_type": "code",
   "execution_count": 428,
   "metadata": {},
   "outputs": [],
   "source": [
    "submissions.to_csv('data/reddit_stocks_2021')"
   ]
  },
  {
   "cell_type": "code",
   "execution_count": 431,
   "metadata": {
    "scrolled": true
   },
   "outputs": [
    {
     "data": {
      "text/html": [
       "<div>\n",
       "<style scoped>\n",
       "    .dataframe tbody tr th:only-of-type {\n",
       "        vertical-align: middle;\n",
       "    }\n",
       "\n",
       "    .dataframe tbody tr th {\n",
       "        vertical-align: top;\n",
       "    }\n",
       "\n",
       "    .dataframe thead th {\n",
       "        text-align: right;\n",
       "    }\n",
       "</style>\n",
       "<table border=\"1\" class=\"dataframe\">\n",
       "  <thead>\n",
       "    <tr style=\"text-align: right;\">\n",
       "      <th></th>\n",
       "      <th>Unnamed: 0</th>\n",
       "      <th>author</th>\n",
       "      <th>created_utc</th>\n",
       "      <th>score</th>\n",
       "      <th>selftext</th>\n",
       "      <th>subreddit</th>\n",
       "      <th>title</th>\n",
       "      <th>upvote_ratio</th>\n",
       "      <th>url</th>\n",
       "      <th>removed_by_category</th>\n",
       "    </tr>\n",
       "  </thead>\n",
       "  <tbody>\n",
       "    <tr>\n",
       "      <th>42271</th>\n",
       "      <td>904</td>\n",
       "      <td>Bob__Kazamakis</td>\n",
       "      <td>1615865386</td>\n",
       "      <td>1</td>\n",
       "      <td>[removed]</td>\n",
       "      <td>stocks</td>\n",
       "      <td>The stock market don’t make no sense to me</td>\n",
       "      <td>1.0</td>\n",
       "      <td>https://www.reddit.com/r/stocks/comments/m5zzd...</td>\n",
       "      <td>moderator</td>\n",
       "    </tr>\n",
       "    <tr>\n",
       "      <th>42272</th>\n",
       "      <td>903</td>\n",
       "      <td>t-carter41</td>\n",
       "      <td>1615865543</td>\n",
       "      <td>1</td>\n",
       "      <td>I saw this post the other day knocking down Mo...</td>\n",
       "      <td>stocks</td>\n",
       "      <td>Any recs on stocks information and research?</td>\n",
       "      <td>1.0</td>\n",
       "      <td>https://www.reddit.com/r/stocks/comments/m6011...</td>\n",
       "      <td>NaN</td>\n",
       "    </tr>\n",
       "    <tr>\n",
       "      <th>42273</th>\n",
       "      <td>902</td>\n",
       "      <td>ImNotSmelly</td>\n",
       "      <td>1615865946</td>\n",
       "      <td>1</td>\n",
       "      <td>I would have to believe the CCP runs a skim on...</td>\n",
       "      <td>stocks</td>\n",
       "      <td>Would anyone be surprised if these Chinese sto...</td>\n",
       "      <td>1.0</td>\n",
       "      <td>https://www.reddit.com/r/stocks/comments/m6058...</td>\n",
       "      <td>NaN</td>\n",
       "    </tr>\n",
       "    <tr>\n",
       "      <th>42274</th>\n",
       "      <td>901</td>\n",
       "      <td>JollyGreeneGiants</td>\n",
       "      <td>1615866088</td>\n",
       "      <td>1</td>\n",
       "      <td>KE Holdings, a leading integrated online and o...</td>\n",
       "      <td>stocks</td>\n",
       "      <td>KE Holdings [BEKE] posts strong fourth quarter...</td>\n",
       "      <td>1.0</td>\n",
       "      <td>https://www.reddit.com/r/stocks/comments/m606o...</td>\n",
       "      <td>NaN</td>\n",
       "    </tr>\n",
       "    <tr>\n",
       "      <th>42275</th>\n",
       "      <td>900</td>\n",
       "      <td>wavefool</td>\n",
       "      <td>1615866588</td>\n",
       "      <td>1</td>\n",
       "      <td>[removed]</td>\n",
       "      <td>stocks</td>\n",
       "      <td>Debit Spread help</td>\n",
       "      <td>1.0</td>\n",
       "      <td>https://www.reddit.com/r/stocks/comments/m60bu...</td>\n",
       "      <td>moderator</td>\n",
       "    </tr>\n",
       "  </tbody>\n",
       "</table>\n",
       "</div>"
      ],
      "text/plain": [
       "       Unnamed: 0             author  created_utc  score  \\\n",
       "42271         904     Bob__Kazamakis   1615865386      1   \n",
       "42272         903         t-carter41   1615865543      1   \n",
       "42273         902        ImNotSmelly   1615865946      1   \n",
       "42274         901  JollyGreeneGiants   1615866088      1   \n",
       "42275         900           wavefool   1615866588      1   \n",
       "\n",
       "                                                selftext subreddit  \\\n",
       "42271                                          [removed]    stocks   \n",
       "42272  I saw this post the other day knocking down Mo...    stocks   \n",
       "42273  I would have to believe the CCP runs a skim on...    stocks   \n",
       "42274  KE Holdings, a leading integrated online and o...    stocks   \n",
       "42275                                          [removed]    stocks   \n",
       "\n",
       "                                                   title  upvote_ratio  \\\n",
       "42271         The stock market don’t make no sense to me           1.0   \n",
       "42272       Any recs on stocks information and research?           1.0   \n",
       "42273  Would anyone be surprised if these Chinese sto...           1.0   \n",
       "42274  KE Holdings [BEKE] posts strong fourth quarter...           1.0   \n",
       "42275                                  Debit Spread help           1.0   \n",
       "\n",
       "                                                     url removed_by_category  \n",
       "42271  https://www.reddit.com/r/stocks/comments/m5zzd...           moderator  \n",
       "42272  https://www.reddit.com/r/stocks/comments/m6011...                 NaN  \n",
       "42273  https://www.reddit.com/r/stocks/comments/m6058...                 NaN  \n",
       "42274  https://www.reddit.com/r/stocks/comments/m606o...                 NaN  \n",
       "42275  https://www.reddit.com/r/stocks/comments/m60bu...           moderator  "
      ]
     },
     "execution_count": 431,
     "metadata": {},
     "output_type": "execute_result"
    }
   ],
   "source": [
    "reddit_stocks = pd.read_csv('data/reddit_stocks_2021')\n",
    "\n",
    "\n",
    "reddit_stocks = reddit_stocks.sort_values(by=['created_utc'], ascending=True)\n",
    "reddit_stocks.reset_index(drop=True, inplace=True)\n",
    "#transform epoch time to date format\n",
    "reddit_stocks['date'] = reddit_stocks['created_utc'].map(lambda val: datetime.datetime.fromtimestamp(val).strftime('%Y-%m-%d'))\n",
    "reddit_stocks['date'] = pd.to_datetime(reddit_stocks['date'])\n",
    "#combine title and selftext together\n",
    "reddit_stocks['post'] = reddit_stocks['title'] + reddit_stocks['selftext'].astype(str)"
   ]
  },
  {
   "cell_type": "code",
   "execution_count": 438,
   "metadata": {},
   "outputs": [],
   "source": []
  },
  {
   "cell_type": "code",
   "execution_count": 439,
   "metadata": {},
   "outputs": [
    {
     "data": {
      "text/html": [
       "<div>\n",
       "<style scoped>\n",
       "    .dataframe tbody tr th:only-of-type {\n",
       "        vertical-align: middle;\n",
       "    }\n",
       "\n",
       "    .dataframe tbody tr th {\n",
       "        vertical-align: top;\n",
       "    }\n",
       "\n",
       "    .dataframe thead th {\n",
       "        text-align: right;\n",
       "    }\n",
       "</style>\n",
       "<table border=\"1\" class=\"dataframe\">\n",
       "  <thead>\n",
       "    <tr style=\"text-align: right;\">\n",
       "      <th></th>\n",
       "      <th>Unnamed: 0</th>\n",
       "      <th>author</th>\n",
       "      <th>created_utc</th>\n",
       "      <th>score</th>\n",
       "      <th>selftext</th>\n",
       "      <th>subreddit</th>\n",
       "      <th>title</th>\n",
       "      <th>upvote_ratio</th>\n",
       "      <th>url</th>\n",
       "      <th>removed_by_category</th>\n",
       "      <th>date</th>\n",
       "      <th>post</th>\n",
       "    </tr>\n",
       "  </thead>\n",
       "  <tbody>\n",
       "    <tr>\n",
       "      <th>0</th>\n",
       "      <td>15455</td>\n",
       "      <td>izgustant</td>\n",
       "      <td>1609477274</td>\n",
       "      <td>1</td>\n",
       "      <td>Dear future stonk millionaires,\\n\\nFirst of al...</td>\n",
       "      <td>stocks</td>\n",
       "      <td>Question about the 2021 stocks and your opinio...</td>\n",
       "      <td>1.0</td>\n",
       "      <td>https://www.reddit.com/r/stocks/comments/ko5e2...</td>\n",
       "      <td>NaN</td>\n",
       "      <td>2021-01-01</td>\n",
       "      <td>Question about the 2021 stocks and your opinio...</td>\n",
       "    </tr>\n",
       "    <tr>\n",
       "      <th>1</th>\n",
       "      <td>15454</td>\n",
       "      <td>Andymilonakis21</td>\n",
       "      <td>1609478082</td>\n",
       "      <td>1</td>\n",
       "      <td>[removed]</td>\n",
       "      <td>stocks</td>\n",
       "      <td>So I hear a lot of people say don’t do options...</td>\n",
       "      <td>1.0</td>\n",
       "      <td>https://www.reddit.com/r/stocks/comments/ko5kz...</td>\n",
       "      <td>moderator</td>\n",
       "      <td>2021-01-01</td>\n",
       "      <td>So I hear a lot of people say don’t do options...</td>\n",
       "    </tr>\n",
       "    <tr>\n",
       "      <th>2</th>\n",
       "      <td>7799</td>\n",
       "      <td>PuzzledMindAndBody</td>\n",
       "      <td>1609478237</td>\n",
       "      <td>1</td>\n",
       "      <td>[removed]</td>\n",
       "      <td>stocks</td>\n",
       "      <td>Index Funds:Stocks Allocation</td>\n",
       "      <td>1.0</td>\n",
       "      <td>https://www.reddit.com/r/stocks/comments/ko5md...</td>\n",
       "      <td>moderator</td>\n",
       "      <td>2021-01-01</td>\n",
       "      <td>Index Funds:Stocks Allocation[removed]</td>\n",
       "    </tr>\n",
       "    <tr>\n",
       "      <th>3</th>\n",
       "      <td>7798</td>\n",
       "      <td>bigbang1996</td>\n",
       "      <td>1609478251</td>\n",
       "      <td>1</td>\n",
       "      <td>According to a JD power survey, Tesla was rank...</td>\n",
       "      <td>stocks</td>\n",
       "      <td>High confidence - Nio</td>\n",
       "      <td>1.0</td>\n",
       "      <td>https://www.reddit.com/r/stocks/comments/ko5mh...</td>\n",
       "      <td>NaN</td>\n",
       "      <td>2021-01-01</td>\n",
       "      <td>High confidence - NioAccording to a JD power s...</td>\n",
       "    </tr>\n",
       "    <tr>\n",
       "      <th>4</th>\n",
       "      <td>7797</td>\n",
       "      <td>PuzzledMindAndBody</td>\n",
       "      <td>1609478426</td>\n",
       "      <td>1</td>\n",
       "      <td>[removed]</td>\n",
       "      <td>stocks</td>\n",
       "      <td>Index Funds:Stocks Allocation %</td>\n",
       "      <td>1.0</td>\n",
       "      <td>https://www.reddit.com/r/stocks/comments/ko5o1...</td>\n",
       "      <td>moderator</td>\n",
       "      <td>2021-01-01</td>\n",
       "      <td>Index Funds:Stocks Allocation %[removed]</td>\n",
       "    </tr>\n",
       "  </tbody>\n",
       "</table>\n",
       "</div>"
      ],
      "text/plain": [
       "   Unnamed: 0              author  created_utc  score  \\\n",
       "0       15455           izgustant   1609477274      1   \n",
       "1       15454     Andymilonakis21   1609478082      1   \n",
       "2        7799  PuzzledMindAndBody   1609478237      1   \n",
       "3        7798         bigbang1996   1609478251      1   \n",
       "4        7797  PuzzledMindAndBody   1609478426      1   \n",
       "\n",
       "                                            selftext subreddit  \\\n",
       "0  Dear future stonk millionaires,\\n\\nFirst of al...    stocks   \n",
       "1                                          [removed]    stocks   \n",
       "2                                          [removed]    stocks   \n",
       "3  According to a JD power survey, Tesla was rank...    stocks   \n",
       "4                                          [removed]    stocks   \n",
       "\n",
       "                                               title  upvote_ratio  \\\n",
       "0  Question about the 2021 stocks and your opinio...           1.0   \n",
       "1  So I hear a lot of people say don’t do options...           1.0   \n",
       "2                      Index Funds:Stocks Allocation           1.0   \n",
       "3                              High confidence - Nio           1.0   \n",
       "4                    Index Funds:Stocks Allocation %           1.0   \n",
       "\n",
       "                                                 url removed_by_category  \\\n",
       "0  https://www.reddit.com/r/stocks/comments/ko5e2...                 NaN   \n",
       "1  https://www.reddit.com/r/stocks/comments/ko5kz...           moderator   \n",
       "2  https://www.reddit.com/r/stocks/comments/ko5md...           moderator   \n",
       "3  https://www.reddit.com/r/stocks/comments/ko5mh...                 NaN   \n",
       "4  https://www.reddit.com/r/stocks/comments/ko5o1...           moderator   \n",
       "\n",
       "        date                                               post  \n",
       "0 2021-01-01  Question about the 2021 stocks and your opinio...  \n",
       "1 2021-01-01  So I hear a lot of people say don’t do options...  \n",
       "2 2021-01-01             Index Funds:Stocks Allocation[removed]  \n",
       "3 2021-01-01  High confidence - NioAccording to a JD power s...  \n",
       "4 2021-01-01           Index Funds:Stocks Allocation %[removed]  "
      ]
     },
     "execution_count": 439,
     "metadata": {},
     "output_type": "execute_result"
    }
   ],
   "source": [
    "reddit_stocks.head()"
   ]
  },
  {
   "cell_type": "code",
   "execution_count": 440,
   "metadata": {},
   "outputs": [],
   "source": [
    "nlp = spacy.load('en_core_web_sm')"
   ]
  },
  {
   "cell_type": "code",
   "execution_count": 441,
   "metadata": {},
   "outputs": [],
   "source": [
    "# remove specific term \n",
    "BLACKLIST = ['Vanguard','Newbie', 'YouTube','EV','Fidelity', \n",
    "             \"McDonald’s\", 'Boeing', 'Blackrock', 'Merrill Lynch', \n",
    "             'TransferWise', 'Renters/Home', 'Lemonade','RENT &', \"removed\"]\n",
    "\n",
    "def get_orgs(text):\n",
    "    doc = nlp(text)\n",
    "    org_list = []\n",
    "    for entity in doc.ents:\n",
    "        # here we modify the original code to check that entity text is not equal to one of our 'blacklisted' organizations\n",
    "        # (we also add .lower() to lowercase the text, this allows us to match both 'nyse' and 'NYSE' with just 'nyse')\n",
    "        if entity.label_ == 'ORG' and entity.text.lower() not in BLACKLIST:\n",
    "            org_list.append(entity.text)\n",
    "    # if organization is identified more than once it will appear multiple times in list\n",
    "    # we use set() to remove duplicates then convert back to list\n",
    "    org_list = list(set(org_list))\n",
    "    return org_list\n",
    "\n"
   ]
  },
  {
   "cell_type": "code",
   "execution_count": 442,
   "metadata": {},
   "outputs": [],
   "source": [
    "#find entity among posts\n",
    "reddit_stocks['orgs'] = reddit_stocks['post'].apply(get_orgs)"
   ]
  },
  {
   "cell_type": "code",
   "execution_count": 446,
   "metadata": {},
   "outputs": [
    {
     "data": {
      "text/html": [
       "<div>\n",
       "<style scoped>\n",
       "    .dataframe tbody tr th:only-of-type {\n",
       "        vertical-align: middle;\n",
       "    }\n",
       "\n",
       "    .dataframe tbody tr th {\n",
       "        vertical-align: top;\n",
       "    }\n",
       "\n",
       "    .dataframe thead th {\n",
       "        text-align: right;\n",
       "    }\n",
       "</style>\n",
       "<table border=\"1\" class=\"dataframe\">\n",
       "  <thead>\n",
       "    <tr style=\"text-align: right;\">\n",
       "      <th></th>\n",
       "      <th>Unnamed: 0</th>\n",
       "      <th>author</th>\n",
       "      <th>created_utc</th>\n",
       "      <th>score</th>\n",
       "      <th>selftext</th>\n",
       "      <th>subreddit</th>\n",
       "      <th>title</th>\n",
       "      <th>upvote_ratio</th>\n",
       "      <th>url</th>\n",
       "      <th>removed_by_category</th>\n",
       "      <th>date</th>\n",
       "      <th>post</th>\n",
       "      <th>orgs</th>\n",
       "    </tr>\n",
       "  </thead>\n",
       "  <tbody>\n",
       "    <tr>\n",
       "      <th>0</th>\n",
       "      <td>15455</td>\n",
       "      <td>izgustant</td>\n",
       "      <td>1609477274</td>\n",
       "      <td>1</td>\n",
       "      <td>Dear future stonk millionaires,\\n\\nFirst of al...</td>\n",
       "      <td>stocks</td>\n",
       "      <td>Question about the 2021 stocks and your opinio...</td>\n",
       "      <td>1.0</td>\n",
       "      <td>https://www.reddit.com/r/stocks/comments/ko5e2...</td>\n",
       "      <td>NaN</td>\n",
       "      <td>2021-01-01</td>\n",
       "      <td>Question about the 2021 stocks and your opinio...</td>\n",
       "      <td>[IRL, NASDAQ]</td>\n",
       "    </tr>\n",
       "    <tr>\n",
       "      <th>1</th>\n",
       "      <td>15454</td>\n",
       "      <td>Andymilonakis21</td>\n",
       "      <td>1609478082</td>\n",
       "      <td>1</td>\n",
       "      <td>[removed]</td>\n",
       "      <td>stocks</td>\n",
       "      <td>So I hear a lot of people say don’t do options...</td>\n",
       "      <td>1.0</td>\n",
       "      <td>https://www.reddit.com/r/stocks/comments/ko5kz...</td>\n",
       "      <td>moderator</td>\n",
       "      <td>2021-01-01</td>\n",
       "      <td>So I hear a lot of people say don’t do options...</td>\n",
       "      <td>[]</td>\n",
       "    </tr>\n",
       "    <tr>\n",
       "      <th>2</th>\n",
       "      <td>7799</td>\n",
       "      <td>PuzzledMindAndBody</td>\n",
       "      <td>1609478237</td>\n",
       "      <td>1</td>\n",
       "      <td>[removed]</td>\n",
       "      <td>stocks</td>\n",
       "      <td>Index Funds:Stocks Allocation</td>\n",
       "      <td>1.0</td>\n",
       "      <td>https://www.reddit.com/r/stocks/comments/ko5md...</td>\n",
       "      <td>moderator</td>\n",
       "      <td>2021-01-01</td>\n",
       "      <td>Index Funds:Stocks Allocation[removed]</td>\n",
       "      <td>[]</td>\n",
       "    </tr>\n",
       "    <tr>\n",
       "      <th>3</th>\n",
       "      <td>7798</td>\n",
       "      <td>bigbang1996</td>\n",
       "      <td>1609478251</td>\n",
       "      <td>1</td>\n",
       "      <td>According to a JD power survey, Tesla was rank...</td>\n",
       "      <td>stocks</td>\n",
       "      <td>High confidence - Nio</td>\n",
       "      <td>1.0</td>\n",
       "      <td>https://www.reddit.com/r/stocks/comments/ko5mh...</td>\n",
       "      <td>NaN</td>\n",
       "      <td>2021-01-01</td>\n",
       "      <td>High confidence - NioAccording to a JD power s...</td>\n",
       "      <td>[]</td>\n",
       "    </tr>\n",
       "    <tr>\n",
       "      <th>4</th>\n",
       "      <td>7797</td>\n",
       "      <td>PuzzledMindAndBody</td>\n",
       "      <td>1609478426</td>\n",
       "      <td>1</td>\n",
       "      <td>[removed]</td>\n",
       "      <td>stocks</td>\n",
       "      <td>Index Funds:Stocks Allocation %</td>\n",
       "      <td>1.0</td>\n",
       "      <td>https://www.reddit.com/r/stocks/comments/ko5o1...</td>\n",
       "      <td>moderator</td>\n",
       "      <td>2021-01-01</td>\n",
       "      <td>Index Funds:Stocks Allocation %[removed]</td>\n",
       "      <td>[]</td>\n",
       "    </tr>\n",
       "  </tbody>\n",
       "</table>\n",
       "</div>"
      ],
      "text/plain": [
       "   Unnamed: 0              author  created_utc  score  \\\n",
       "0       15455           izgustant   1609477274      1   \n",
       "1       15454     Andymilonakis21   1609478082      1   \n",
       "2        7799  PuzzledMindAndBody   1609478237      1   \n",
       "3        7798         bigbang1996   1609478251      1   \n",
       "4        7797  PuzzledMindAndBody   1609478426      1   \n",
       "\n",
       "                                            selftext subreddit  \\\n",
       "0  Dear future stonk millionaires,\\n\\nFirst of al...    stocks   \n",
       "1                                          [removed]    stocks   \n",
       "2                                          [removed]    stocks   \n",
       "3  According to a JD power survey, Tesla was rank...    stocks   \n",
       "4                                          [removed]    stocks   \n",
       "\n",
       "                                               title  upvote_ratio  \\\n",
       "0  Question about the 2021 stocks and your opinio...           1.0   \n",
       "1  So I hear a lot of people say don’t do options...           1.0   \n",
       "2                      Index Funds:Stocks Allocation           1.0   \n",
       "3                              High confidence - Nio           1.0   \n",
       "4                    Index Funds:Stocks Allocation %           1.0   \n",
       "\n",
       "                                                 url removed_by_category  \\\n",
       "0  https://www.reddit.com/r/stocks/comments/ko5e2...                 NaN   \n",
       "1  https://www.reddit.com/r/stocks/comments/ko5kz...           moderator   \n",
       "2  https://www.reddit.com/r/stocks/comments/ko5md...           moderator   \n",
       "3  https://www.reddit.com/r/stocks/comments/ko5mh...                 NaN   \n",
       "4  https://www.reddit.com/r/stocks/comments/ko5o1...           moderator   \n",
       "\n",
       "        date                                               post           orgs  \n",
       "0 2021-01-01  Question about the 2021 stocks and your opinio...  [IRL, NASDAQ]  \n",
       "1 2021-01-01  So I hear a lot of people say don’t do options...             []  \n",
       "2 2021-01-01             Index Funds:Stocks Allocation[removed]             []  \n",
       "3 2021-01-01  High confidence - NioAccording to a JD power s...             []  \n",
       "4 2021-01-01           Index Funds:Stocks Allocation %[removed]             []  "
      ]
     },
     "execution_count": 446,
     "metadata": {},
     "output_type": "execute_result"
    }
   ],
   "source": [
    "reddit_stocks.head()"
   ]
  },
  {
   "cell_type": "code",
   "execution_count": 447,
   "metadata": {
    "scrolled": true
   },
   "outputs": [
    {
     "data": {
      "text/html": [
       "<div>\n",
       "<style scoped>\n",
       "    .dataframe tbody tr th:only-of-type {\n",
       "        vertical-align: middle;\n",
       "    }\n",
       "\n",
       "    .dataframe tbody tr th {\n",
       "        vertical-align: top;\n",
       "    }\n",
       "\n",
       "    .dataframe thead th {\n",
       "        text-align: right;\n",
       "    }\n",
       "</style>\n",
       "<table border=\"1\" class=\"dataframe\">\n",
       "  <thead>\n",
       "    <tr style=\"text-align: right;\">\n",
       "      <th></th>\n",
       "      <th>date</th>\n",
       "      <th>author</th>\n",
       "      <th>post</th>\n",
       "      <th>orgs</th>\n",
       "    </tr>\n",
       "  </thead>\n",
       "  <tbody>\n",
       "    <tr>\n",
       "      <th>0</th>\n",
       "      <td>2021-01-01</td>\n",
       "      <td>izgustant</td>\n",
       "      <td>Question about the 2021 stocks and your opinio...</td>\n",
       "      <td>[IRL, NASDAQ]</td>\n",
       "    </tr>\n",
       "    <tr>\n",
       "      <th>1</th>\n",
       "      <td>2021-01-01</td>\n",
       "      <td>Andymilonakis21</td>\n",
       "      <td>So I hear a lot of people say don’t do options...</td>\n",
       "      <td>[]</td>\n",
       "    </tr>\n",
       "    <tr>\n",
       "      <th>2</th>\n",
       "      <td>2021-01-01</td>\n",
       "      <td>PuzzledMindAndBody</td>\n",
       "      <td>Index Funds:Stocks Allocation[removed]</td>\n",
       "      <td>[]</td>\n",
       "    </tr>\n",
       "    <tr>\n",
       "      <th>3</th>\n",
       "      <td>2021-01-01</td>\n",
       "      <td>bigbang1996</td>\n",
       "      <td>High confidence - NioAccording to a JD power s...</td>\n",
       "      <td>[]</td>\n",
       "    </tr>\n",
       "    <tr>\n",
       "      <th>4</th>\n",
       "      <td>2021-01-01</td>\n",
       "      <td>PuzzledMindAndBody</td>\n",
       "      <td>Index Funds:Stocks Allocation %[removed]</td>\n",
       "      <td>[]</td>\n",
       "    </tr>\n",
       "    <tr>\n",
       "      <th>5</th>\n",
       "      <td>2021-01-01</td>\n",
       "      <td>PuzzledMindAndBody</td>\n",
       "      <td>Index funds: StocksI am 36M. Couple of questio...</td>\n",
       "      <td>[]</td>\n",
       "    </tr>\n",
       "    <tr>\n",
       "      <th>6</th>\n",
       "      <td>2021-01-01</td>\n",
       "      <td>WalkerTejasRanger</td>\n",
       "      <td>Compounding interest questionNew to investing ...</td>\n",
       "      <td>[]</td>\n",
       "    </tr>\n",
       "    <tr>\n",
       "      <th>7</th>\n",
       "      <td>2021-01-01</td>\n",
       "      <td>Kyle_Ace_22</td>\n",
       "      <td>Top Stock Picks For 2021?What stocks, etf's, o...</td>\n",
       "      <td>[AAPL, ICLN, AMZN, IWF]</td>\n",
       "    </tr>\n",
       "    <tr>\n",
       "      <th>8</th>\n",
       "      <td>2021-01-01</td>\n",
       "      <td>sco77001</td>\n",
       "      <td>January 2021 stock market performance?[removed]</td>\n",
       "      <td>[]</td>\n",
       "    </tr>\n",
       "    <tr>\n",
       "      <th>9</th>\n",
       "      <td>2021-01-01</td>\n",
       "      <td>Substantial_Net4379</td>\n",
       "      <td>BNGO[removed]</td>\n",
       "      <td>[]</td>\n",
       "    </tr>\n",
       "    <tr>\n",
       "      <th>10</th>\n",
       "      <td>2021-01-01</td>\n",
       "      <td>geja99</td>\n",
       "      <td>I’m a senior in HS. How can I start setting my...</td>\n",
       "      <td>[HS]</td>\n",
       "    </tr>\n",
       "    <tr>\n",
       "      <th>11</th>\n",
       "      <td>2021-01-01</td>\n",
       "      <td>mandingob</td>\n",
       "      <td>What is the hardest form of trading?We know ab...</td>\n",
       "      <td>[FOREX]</td>\n",
       "    </tr>\n",
       "    <tr>\n",
       "      <th>12</th>\n",
       "      <td>2021-01-01</td>\n",
       "      <td>ClappedCheeks114</td>\n",
       "      <td>Tesla Call[removed]</td>\n",
       "      <td>[]</td>\n",
       "    </tr>\n",
       "    <tr>\n",
       "      <th>13</th>\n",
       "      <td>2021-01-01</td>\n",
       "      <td>ClappedCheeks114</td>\n",
       "      <td>Should I sell my tesla stocks to go in on a te...</td>\n",
       "      <td>[]</td>\n",
       "    </tr>\n",
       "    <tr>\n",
       "      <th>14</th>\n",
       "      <td>2021-01-01</td>\n",
       "      <td>snackerjoe</td>\n",
       "      <td>strikereports.com - your daily newsletter for ...</td>\n",
       "      <td>[SEC, insider_trading_program/g9cmzvi/?context...</td>\n",
       "    </tr>\n",
       "    <tr>\n",
       "      <th>15</th>\n",
       "      <td>2021-01-01</td>\n",
       "      <td>ejfsoccer</td>\n",
       "      <td>Due DiligenceHey guys! So there’s people comme...</td>\n",
       "      <td>[DiligenceHey]</td>\n",
       "    </tr>\n",
       "    <tr>\n",
       "      <th>16</th>\n",
       "      <td>2021-01-01</td>\n",
       "      <td>waffled_pancake</td>\n",
       "      <td>Adding my 401k to my TDA trading account?I cur...</td>\n",
       "      <td>[TDA]</td>\n",
       "    </tr>\n",
       "    <tr>\n",
       "      <th>17</th>\n",
       "      <td>2021-01-01</td>\n",
       "      <td>fet_nick</td>\n",
       "      <td>pharma company valuationFor some academic purp...</td>\n",
       "      <td>[]</td>\n",
       "    </tr>\n",
       "    <tr>\n",
       "      <th>18</th>\n",
       "      <td>2021-01-01</td>\n",
       "      <td>CrispierCloud</td>\n",
       "      <td>500 dollar equity[removed]</td>\n",
       "      <td>[]</td>\n",
       "    </tr>\n",
       "    <tr>\n",
       "      <th>19</th>\n",
       "      <td>2021-01-01</td>\n",
       "      <td>CrispierCloud</td>\n",
       "      <td>400 - 1000I have a 400 dollar portfolio right ...</td>\n",
       "      <td>[]</td>\n",
       "    </tr>\n",
       "    <tr>\n",
       "      <th>20</th>\n",
       "      <td>2021-01-01</td>\n",
       "      <td>Acc373828</td>\n",
       "      <td>Advice on portfolioWhen I first started invest...</td>\n",
       "      <td>[PLTR, CRSR, VOO, MSFT, AAPL]</td>\n",
       "    </tr>\n",
       "    <tr>\n",
       "      <th>21</th>\n",
       "      <td>2021-01-01</td>\n",
       "      <td>EveryoneIsGoldeen</td>\n",
       "      <td>Anyone else realize in 2020 how much they hate...</td>\n",
       "      <td>[ARKK, ARKG]</td>\n",
       "    </tr>\n",
       "    <tr>\n",
       "      <th>22</th>\n",
       "      <td>2021-01-01</td>\n",
       "      <td>AutoModerator</td>\n",
       "      <td>r/Stocks Daily Discussion &amp;amp; Fundamentals F...</td>\n",
       "      <td>[Fundamentals](https://www.reddit.com, Trading...</td>\n",
       "    </tr>\n",
       "    <tr>\n",
       "      <th>23</th>\n",
       "      <td>2021-01-01</td>\n",
       "      <td>Icy-Aca</td>\n",
       "      <td>best stocks to buy now/soon for pretty short t...</td>\n",
       "      <td>[]</td>\n",
       "    </tr>\n",
       "    <tr>\n",
       "      <th>24</th>\n",
       "      <td>2021-01-01</td>\n",
       "      <td>modatv</td>\n",
       "      <td>RYCEY stockAfter doing a lot of research which...</td>\n",
       "      <td>[]</td>\n",
       "    </tr>\n",
       "    <tr>\n",
       "      <th>25</th>\n",
       "      <td>2021-01-01</td>\n",
       "      <td>Admirable-Ad-5801</td>\n",
       "      <td>Join[removed]</td>\n",
       "      <td>[]</td>\n",
       "    </tr>\n",
       "    <tr>\n",
       "      <th>26</th>\n",
       "      <td>2021-01-01</td>\n",
       "      <td>Gullible_State_9849</td>\n",
       "      <td>How did PINS lose 1.5b last year?I'm not the b...</td>\n",
       "      <td>[]</td>\n",
       "    </tr>\n",
       "    <tr>\n",
       "      <th>27</th>\n",
       "      <td>2021-01-01</td>\n",
       "      <td>simdee</td>\n",
       "      <td>Help identify growth potential in a few stocks...</td>\n",
       "      <td>[ARKK, AMD, CRWD]</td>\n",
       "    </tr>\n",
       "    <tr>\n",
       "      <th>28</th>\n",
       "      <td>2021-01-01</td>\n",
       "      <td>crapcakes0987</td>\n",
       "      <td>How can I protect my etrade account from my da...</td>\n",
       "      <td>[]</td>\n",
       "    </tr>\n",
       "    <tr>\n",
       "      <th>29</th>\n",
       "      <td>2021-01-01</td>\n",
       "      <td>LarryRose826</td>\n",
       "      <td>Trump's executive order to on Chinese stocks[r...</td>\n",
       "      <td>[Trump]</td>\n",
       "    </tr>\n",
       "  </tbody>\n",
       "</table>\n",
       "</div>"
      ],
      "text/plain": [
       "         date               author  \\\n",
       "0  2021-01-01            izgustant   \n",
       "1  2021-01-01      Andymilonakis21   \n",
       "2  2021-01-01   PuzzledMindAndBody   \n",
       "3  2021-01-01          bigbang1996   \n",
       "4  2021-01-01   PuzzledMindAndBody   \n",
       "5  2021-01-01   PuzzledMindAndBody   \n",
       "6  2021-01-01    WalkerTejasRanger   \n",
       "7  2021-01-01          Kyle_Ace_22   \n",
       "8  2021-01-01             sco77001   \n",
       "9  2021-01-01  Substantial_Net4379   \n",
       "10 2021-01-01               geja99   \n",
       "11 2021-01-01            mandingob   \n",
       "12 2021-01-01     ClappedCheeks114   \n",
       "13 2021-01-01     ClappedCheeks114   \n",
       "14 2021-01-01           snackerjoe   \n",
       "15 2021-01-01            ejfsoccer   \n",
       "16 2021-01-01      waffled_pancake   \n",
       "17 2021-01-01             fet_nick   \n",
       "18 2021-01-01        CrispierCloud   \n",
       "19 2021-01-01        CrispierCloud   \n",
       "20 2021-01-01            Acc373828   \n",
       "21 2021-01-01    EveryoneIsGoldeen   \n",
       "22 2021-01-01        AutoModerator   \n",
       "23 2021-01-01              Icy-Aca   \n",
       "24 2021-01-01               modatv   \n",
       "25 2021-01-01    Admirable-Ad-5801   \n",
       "26 2021-01-01  Gullible_State_9849   \n",
       "27 2021-01-01               simdee   \n",
       "28 2021-01-01        crapcakes0987   \n",
       "29 2021-01-01         LarryRose826   \n",
       "\n",
       "                                                 post  \\\n",
       "0   Question about the 2021 stocks and your opinio...   \n",
       "1   So I hear a lot of people say don’t do options...   \n",
       "2              Index Funds:Stocks Allocation[removed]   \n",
       "3   High confidence - NioAccording to a JD power s...   \n",
       "4            Index Funds:Stocks Allocation %[removed]   \n",
       "5   Index funds: StocksI am 36M. Couple of questio...   \n",
       "6   Compounding interest questionNew to investing ...   \n",
       "7   Top Stock Picks For 2021?What stocks, etf's, o...   \n",
       "8     January 2021 stock market performance?[removed]   \n",
       "9                                       BNGO[removed]   \n",
       "10  I’m a senior in HS. How can I start setting my...   \n",
       "11  What is the hardest form of trading?We know ab...   \n",
       "12                                Tesla Call[removed]   \n",
       "13  Should I sell my tesla stocks to go in on a te...   \n",
       "14  strikereports.com - your daily newsletter for ...   \n",
       "15  Due DiligenceHey guys! So there’s people comme...   \n",
       "16  Adding my 401k to my TDA trading account?I cur...   \n",
       "17  pharma company valuationFor some academic purp...   \n",
       "18                         500 dollar equity[removed]   \n",
       "19  400 - 1000I have a 400 dollar portfolio right ...   \n",
       "20  Advice on portfolioWhen I first started invest...   \n",
       "21  Anyone else realize in 2020 how much they hate...   \n",
       "22  r/Stocks Daily Discussion &amp; Fundamentals F...   \n",
       "23  best stocks to buy now/soon for pretty short t...   \n",
       "24  RYCEY stockAfter doing a lot of research which...   \n",
       "25                                      Join[removed]   \n",
       "26  How did PINS lose 1.5b last year?I'm not the b...   \n",
       "27  Help identify growth potential in a few stocks...   \n",
       "28  How can I protect my etrade account from my da...   \n",
       "29  Trump's executive order to on Chinese stocks[r...   \n",
       "\n",
       "                                                 orgs  \n",
       "0                                       [IRL, NASDAQ]  \n",
       "1                                                  []  \n",
       "2                                                  []  \n",
       "3                                                  []  \n",
       "4                                                  []  \n",
       "5                                                  []  \n",
       "6                                                  []  \n",
       "7                             [AAPL, ICLN, AMZN, IWF]  \n",
       "8                                                  []  \n",
       "9                                                  []  \n",
       "10                                               [HS]  \n",
       "11                                            [FOREX]  \n",
       "12                                                 []  \n",
       "13                                                 []  \n",
       "14  [SEC, insider_trading_program/g9cmzvi/?context...  \n",
       "15                                     [DiligenceHey]  \n",
       "16                                              [TDA]  \n",
       "17                                                 []  \n",
       "18                                                 []  \n",
       "19                                                 []  \n",
       "20                      [PLTR, CRSR, VOO, MSFT, AAPL]  \n",
       "21                                       [ARKK, ARKG]  \n",
       "22  [Fundamentals](https://www.reddit.com, Trading...  \n",
       "23                                                 []  \n",
       "24                                                 []  \n",
       "25                                                 []  \n",
       "26                                                 []  \n",
       "27                                  [ARKK, AMD, CRWD]  \n",
       "28                                                 []  \n",
       "29                                            [Trump]  "
      ]
     },
     "execution_count": 447,
     "metadata": {},
     "output_type": "execute_result"
    }
   ],
   "source": [
    "reddit_stocks = reddit_stocks[['date','author', 'post', 'orgs']]\n",
    "reddit_stocks.head(30)"
   ]
  },
  {
   "cell_type": "code",
   "execution_count": 448,
   "metadata": {},
   "outputs": [],
   "source": [
    "reddit_stocks.to_csv('data/reddit_stocks')"
   ]
  },
  {
   "cell_type": "code",
   "execution_count": 703,
   "metadata": {},
   "outputs": [
    {
     "data": {
      "text/html": [
       "<div>\n",
       "<style scoped>\n",
       "    .dataframe tbody tr th:only-of-type {\n",
       "        vertical-align: middle;\n",
       "    }\n",
       "\n",
       "    .dataframe tbody tr th {\n",
       "        vertical-align: top;\n",
       "    }\n",
       "\n",
       "    .dataframe thead th {\n",
       "        text-align: right;\n",
       "    }\n",
       "</style>\n",
       "<table border=\"1\" class=\"dataframe\">\n",
       "  <thead>\n",
       "    <tr style=\"text-align: right;\">\n",
       "      <th></th>\n",
       "      <th>date</th>\n",
       "      <th>author</th>\n",
       "      <th>post</th>\n",
       "      <th>orgs</th>\n",
       "      <th>sentences</th>\n",
       "      <th>scores</th>\n",
       "      <th>scores_sum</th>\n",
       "    </tr>\n",
       "  </thead>\n",
       "  <tbody>\n",
       "    <tr>\n",
       "      <th>0</th>\n",
       "      <td>2021-01-01</td>\n",
       "      <td>izgustant</td>\n",
       "      <td>Question about the 2021 stocks and your opinio...</td>\n",
       "      <td>[IRL, NASDAQ]</td>\n",
       "      <td>[Question about the 2021 stocks and your opini...</td>\n",
       "      <td>[0.985, 0.997, 0.983, -0.978, -0.963, -0.879, ...</td>\n",
       "      <td>-2.385</td>\n",
       "    </tr>\n",
       "    <tr>\n",
       "      <th>1</th>\n",
       "      <td>2021-01-01</td>\n",
       "      <td>Andymilonakis21</td>\n",
       "      <td>So I hear a lot of people say don’t do options...</td>\n",
       "      <td>[]</td>\n",
       "      <td>[So I hear a lot of people say don’t do option...</td>\n",
       "      <td>[-0.973]</td>\n",
       "      <td>-0.973</td>\n",
       "    </tr>\n",
       "    <tr>\n",
       "      <th>2</th>\n",
       "      <td>2021-01-01</td>\n",
       "      <td>PuzzledMindAndBody</td>\n",
       "      <td>Index Funds:Stocks Allocation[removed]</td>\n",
       "      <td>[]</td>\n",
       "      <td>[Index Funds:Stocks Allocation[removed]]</td>\n",
       "      <td>[-0.951]</td>\n",
       "      <td>-0.951</td>\n",
       "    </tr>\n",
       "    <tr>\n",
       "      <th>3</th>\n",
       "      <td>2021-01-01</td>\n",
       "      <td>bigbang1996</td>\n",
       "      <td>High confidence - NioAccording to a JD power s...</td>\n",
       "      <td>[]</td>\n",
       "      <td>[High confidence - NioAccording to a JD power ...</td>\n",
       "      <td>[0.999, 0.997]</td>\n",
       "      <td>1.996</td>\n",
       "    </tr>\n",
       "    <tr>\n",
       "      <th>4</th>\n",
       "      <td>2021-01-01</td>\n",
       "      <td>PuzzledMindAndBody</td>\n",
       "      <td>Index Funds:Stocks Allocation %[removed]</td>\n",
       "      <td>[]</td>\n",
       "      <td>[Index Funds:Stocks Allocation %[removed]]</td>\n",
       "      <td>[-0.994]</td>\n",
       "      <td>-0.994</td>\n",
       "    </tr>\n",
       "  </tbody>\n",
       "</table>\n",
       "</div>"
      ],
      "text/plain": [
       "        date              author  \\\n",
       "0 2021-01-01           izgustant   \n",
       "1 2021-01-01     Andymilonakis21   \n",
       "2 2021-01-01  PuzzledMindAndBody   \n",
       "3 2021-01-01         bigbang1996   \n",
       "4 2021-01-01  PuzzledMindAndBody   \n",
       "\n",
       "                                                post           orgs  \\\n",
       "0  Question about the 2021 stocks and your opinio...  [IRL, NASDAQ]   \n",
       "1  So I hear a lot of people say don’t do options...             []   \n",
       "2             Index Funds:Stocks Allocation[removed]             []   \n",
       "3  High confidence - NioAccording to a JD power s...             []   \n",
       "4           Index Funds:Stocks Allocation %[removed]             []   \n",
       "\n",
       "                                           sentences  \\\n",
       "0  [Question about the 2021 stocks and your opini...   \n",
       "1  [So I hear a lot of people say don’t do option...   \n",
       "2           [Index Funds:Stocks Allocation[removed]]   \n",
       "3  [High confidence - NioAccording to a JD power ...   \n",
       "4         [Index Funds:Stocks Allocation %[removed]]   \n",
       "\n",
       "                                              scores  scores_sum  \n",
       "0  [0.985, 0.997, 0.983, -0.978, -0.963, -0.879, ...      -2.385  \n",
       "1                                           [-0.973]      -0.973  \n",
       "2                                           [-0.951]      -0.951  \n",
       "3                                     [0.999, 0.997]       1.996  \n",
       "4                                           [-0.994]      -0.994  "
      ]
     },
     "execution_count": 703,
     "metadata": {},
     "output_type": "execute_result"
    }
   ],
   "source": [
    "reddit_stocks.head()"
   ]
  },
  {
   "cell_type": "code",
   "execution_count": 449,
   "metadata": {
    "scrolled": true
   },
   "outputs": [
    {
     "data": {
      "text/plain": [
       "['IRL',\n",
       " 'NASDAQ',\n",
       " 'AAPL',\n",
       " 'ICLN',\n",
       " 'AMZN',\n",
       " 'IWF',\n",
       " 'HS',\n",
       " 'FOREX',\n",
       " 'SEC',\n",
       " 'insider_trading_program/g9cmzvi/?context=3']"
      ]
     },
     "execution_count": 449,
     "metadata": {},
     "output_type": "execute_result"
    }
   ],
   "source": [
    "# merge organizations column into one big list\n",
    "orgs = reddit_stocks['orgs'].to_list()\n",
    "orgs = [org for sublist in orgs for org in sublist]\n",
    "orgs[:10]"
   ]
  },
  {
   "cell_type": "code",
   "execution_count": 619,
   "metadata": {},
   "outputs": [
    {
     "name": "stdout",
     "output_type": "stream",
     "text": [
      "Counter({'GME': 2044, 'AMC': 857, 'EV': 396, 'Apple': 370, 'WSB': 353, 'Amazon': 290, 'PLTR': 268, 'NOK': 259, 'Tesla': 238, 'AAPL': 209, 'Fidelity': 202, 'SEC': 199, 'AMD': 197, 'ICLN': 192, 'ARK': 189, '🚀': 162, 'Microsoft': 160, 'ARKK': 156, 'FDA': 150, 'GameStop': 150, 'NYSE': 149, 'NASDAQ': 142, 'Nokia': 141, 'EPS': 115, 'APHA': 114, 'Ford': 106, 'Newbie': 105, 'NIO': 101, 'NAKD': 97, 'GM': 96, 'Robinhood': 91, 'YouTube': 89, 'ARKG': 88, 'Disney': 88, 'Nasdaq': 84, 'CNBC': 82, 'GE': 81, 'EU': 80, 'Vanguard': 78, 'AI': 76, 'AMZN': 71, 'Boeing': 71, 'ITM': 69, 'ATH': 67, 'Reuters': 66, 'Palantir': 65, 'BB': 63, 'MSFT': 62, 'Tilray': 61, 'SPY': 60, 'FOMO': 60, 'RSI': 59, 'Intel': 58, 'Treasury': 57, 'Google': 57, 'CCIV': 57, 'PE': 56, 'ETFs': 56, 'VOO': 55, 'Senate': 55, 'SLV': 51, 'Fed': 50, 'Cathie Wood': 48, 'CRSR': 46, 'Fundamentals](https://www.reddit.com': 45, 'Trading](https://www.reddit.com': 45, 'DIS': 45, 'Congress': 44, 'NET': 44, 'YoY': 44, '’ve': 43, 'Morgan Stanley': 43, 'TAN': 41, 'Cannabis': 41, 'PYPL': 41, 'RH': 41, 'VW': 40, 'WMT': 40, 'SPCE': 38, 'OTM': 37, 'JPM': 37, 'Dow': 37, 'Hyundai': 37, 'Goldman Sachs': 35, 'DKNG': 35, 'PFE': 35, 'TSX': 34, 'IBM': 34, 'TDA': 33, 'TSM': 33, 'Volkswagen': 33, 'FUBO': 32, 'JNJ': 32, 'CFO': 32, 'GEVO': 32, 'USPS': 31, 'QCLN': 30, 'Toyota': 30, 'Samsung': 30, 'Stock Market News': 30, 'Tech': 30, 'CAD': 30, 'iPhone': 29, 'House': 29, 'NNDM': 29, 'AAL': 29, 'Revolut': 29, 'ZOM': 29, 'BlackBerry': 29, 'ABNB': 28, 'Ticker': 28, 'Amazon’s': 27, 'American Airlines': 27, 'BA': 27, 'BABA': 26, 'LOT': 26, 'SOS': 26, 'ARKQ': 25, 'NVDA': 25, 'BBBY': 25, 'Cloudflare': 25, 'Sony': 25, 'RobinHood': 25, 'Visa': 25, 'HCMC': 25, 'Trump': 24, 'BP': 24, 'Yahoo Finance': 24, 'ACB': 24, 'Netflix': 24, 'EOY': 24, 'Learn': 23, 'LEAPS': 23, 'YOLO': 23, 'IBKR': 23, 'TikTok': 23, 'EMA': 23, 'Costco': 23, 'XYZ': 23, 'Invest': 22, 'LUV': 22, 'UI': 22, 'Plug Power': 22, 'UAL': 22, 'MM': 22, 'ISA': 22, 'RBLX': 22, 'CRWD': 21, 'IP': 21, 'Vortex': 21, 'Roku': 21, 'XOM': 21, \"THIS MORNING'S\": 21, 'MGM': 21, 'FCF': 21, 'Roblox': 21, 'BlackRock': 21, 'AT&amp;T': 21, 'Pre-Market Stock Movers &': 21, 'ARKW': 20, 'BEP': 20, 'UAVS': 20, 'Honda': 20, 'CCL': 20, 'CFD': 20, 'IRS': 20, 'Hydrogen': 20, 'Target': 20, 'FAANG': 20, 'COO': 20, 'Limit': 20, 'Clean Energy': 19, 'DAL': 19, 'DraftKings': 19, 'the New York Stock Exchange': 19, 'ROTH': 19, 'FSR': 19, 'Wells Fargo': 19, 'Johnson &': 19, 'Citadel': 19, 'Interactive Brokers': 18, 'Ocugen': 18, 'Virgin Galactic': 18, 'VIX': 18, 'ENPH': 18, 'Lockheed': 18, 'PLUG': 18, 'KO': 18, 'YOY': 18, 'Melvin Capital': 18, 'GME &': 18, 'MOON': 18, 'NASA': 17, 'NEE': 17, 'Nvidia': 17, 'XPENG': 17, 'ADR': 17, 'BS': 17, 'Fisker': 17, 'Time': 17, 'SKT': 17, 'Exxon': 17, 'TWTR': 17, 'CVS': 17, 'TAM': 17, 'SoFi': 17, 'FED': 17, 'CGC': 17, 'DTC': 17, 'INO': 17, 'CCP': 16, 'NFLX': 16, 'Dividend': 16, 'DM': 16, 'IoT': 16, 'FCEL': 16, 'BTC': 16, 'Bank of America': 16, 'Airbus': 16, 'WSJ': 16, 'ATOS': 16, 'QNX': 16, 'TD': 16, 'Yahoo': 16, 'MAC': 16, 'KOSS': 16, 'ASX': 16, 'AGTC': 16, 'Nikola': 15, 'Chinese EV': 15, 'the White House': 15, 'the Federal Reserve': 15, 'BMW': 15, 'PEG': 15, 'NAV': 15, 'LMT': 15, 'App': 15, 'Starbucks': 15, 'Fiverr': 15, 'EBITDA': 15, 'VTI': 15, 'Lordstown Motors': 15, 'Android': 15, 'AMC Entertainment': 15, 'VGAC': 15, 'TTD': 15, 'Ameritrade': 14, 'PDT': 14, 'Shell': 14, 'Coke': 14, 'Nike': 14, 'LMND': 14, 'PSA': 14, 'TSMC': 14, 'Company': 14, 'General Motors': 14, 'GOOG': 14, 'Kia': 14, 'Apple’s': 14, 'Stock': 14, 'Lucid': 14, 'AC': 14, 'NOKIA': 14, 'CDC': 14, 'Blackrock': 14, 'Motley Fool': 14, 'ETH': 14, 'INVEST': 14, 'AMC &': 14, 'NAK': 14, 'QQQ': 13, 'GOP': 13, 'IPOE': 13, 'GLOBE NEWSWIRE': 13, 'AH': 13, 'FactSet': 13, 'Chevron': 13, 'DPO': 13, 'BAC': 13, 'UVXY': 13, 'Qualcomm': 13, 'IDEX': 13, 'PDF': 13, 'GOOGL': 13, 'SRNE': 13, 'TRXC': 13, 'TOS': 13, 'eToro': 13, 'Lucid Motors': 13, 'FINRA': 13, 'Credit Suisse': 13, 'IG': 13, 'iPhones': 12, 'EA': 12, 'YT': 12, 'Google’s': 12, 'ESG': 12, 'SP500': 12, 'Other Stock Market News': 12, 'DCA': 12, 'PINS': 12, 'Huawei': 12, 'CVX': 12, 'Goldman': 12, 'Healthcare': 12, 'Spotify': 12, 'General Electric': 12, '3D': 12, 'Cathie': 12, 'SBE': 12, '❗': 12, 'WTF': 12, 'STPK': 12, 'Canoo': 12, 'Forbes': 12, 'RMO': 12, 'ChargePoint': 12, 'Glassdoor': 12, 'Inovio': 12, 'KMPH': 12, 'AR': 12, 'Nintendo': 12, 'TSNP': 12, 'Chase': 12, 'ER': 12, 'PS': 11, 'NCLH': 11, 'Penny': 11, 'ETFS': 11, 'Discord': 11, 'AMA': 11, 'BRK': 11, 'BYD': 11, 'LIT': 11, 'ACTC': 11, 'IVR': 11, 'BMY': 11, 'TGT': 11, 'DoorDash': 11, 'Porsche': 11, 'NVIDIA': 11, 'Home Depot': 11, 'ABC': 11, 'TSE': 11, 'Lion Electric': 11, 'CTO': 11, 'SABR': 11, 'ROKU': 11, 'OGI': 11, 'Oppenheimer': 11, 'ESPN': 11, 'ATM': 11, 'NFL': 11, 'LGND': 11, 'BCRX': 11, 'THC': 11, 'Meme': 11, 'SQQQ': 11, 'Outperform': 11, 'BNTX': 10, 'FDX': 10, 'LOL': 10, 'AVGO': 10, '500k': 10, 'Caterpillar': 10, 'INTC': 10, 'Palantir’s': 10, 'Carnival': 10, 'Lemonade': 10, 'VGT': 10, 'XL': 10, 'The Wall Street Journal': 10, 'Audi': 10, 'Capitol': 10, 'Pepsi': 10, 'TSXV': 10, 'CRSP': 10, 'Baidu': 10, 'Merrill': 10, 'USO': 10, 'GPU': 10, 'Hertz': 10, 'CHART': 10, 'Macy': 10, 'AFRM': 10, 'DIP': 10, 'UPCOMING': 10, 'Needham &': 10, 'Alexa': 10, 'Desktop Metal': 10, 'Microsoft’s': 10, 'SPOT': 10, 'Coca-Cola': 10, 'Corsair': 10, 'CSE': 10, 'GTE': 10, 'MWK': 10, 'United': 10, 'SAVA': 10, 'Sundial Growers': 10, 'TD Ameritrade': 9, 'NOW': 9, 'Big Tech': 9, 'ARK Invest': 9, 'CAT': 9, 'APPLE': 9, 'Energy': 9, 'NKE': 9, 'MRO': 9, 'Merck': 9, 'UBER': 9, 'Marijuana': 9, 'WhatsApp': 9, 'QCOM': 9, 'DDD': 9, 'Dow Jones': 9, 'Hyliion': 9, 'JPMorgan': 9, 'Sofi': 9, 'CC': 9, 'ETF': 9, 'SPWR': 9, 'not?[removed]': 9, 'STEM': 9, 'MarketWatch': 9, 'SFT': 9, 'Air Canada': 9, 'VWAGY': 9, 'Eli Lilly': 9, 'Next': 9, 'Hedge': 9, 'XL Fleet': 9, 'Hedge Fund': 9, 'NBA': 9, 'HIMS': 9, 'FYI': 9, 'eBay': 9, 'Pinterest': 9, 'INKW': 9, 'Nakd': 9, 'AEZS': 9, 'Robinhood’s': 9, 'EHang': 9, 'Automoderator': 9, 'CHL': 8, 'YouTubers': 8, 'Stock Analyst Upgrades &': 8, 'the Major Indices': 8, 'PRE-MARKET EARNINGS TIME &': 8, 'Major Futures Markets': 8, 'QTD': 8, 'WTD': 8, 'YTD': 8, 'MTD': 8, 'SMA': 8, 'Foundry': 8, 'IPOF': 8, 'Palantir Technologies': 8, 'United Airlines': 8, 'CNN': 8, 'GLD': 8, 'PayPal': 8, 'CashApp': 8, 'Indicator - Trade Signals - Lagging Indicator - Leading': 8, 'Deutsche Bank': 8, 'Delta': 8, 'SI': 8, 'BC': 8, 'RUN': 8, 'LEV': 8, 'MARA': 8, 'COVID': 8, 'Forex': 8, 'PUT': 8, 'WKHS': 8, 'Stock A': 8, 'the Securities and Exchange Commission': 8, 'ISI': 8, 'Atomera': 8, 'the House of Representatives': 8, 'BND': 8, 'Renault': 8, 'Petco': 8, 'Wikipedia': 8, 'P/S': 8, 'Foot Locker': 8, 'LLC': 8, 'EBIT': 8, 'AVG': 8, 'SSR': 8, 'Citron Research': 8, 'HEXO': 8, 'AMAZON': 8, 'web2x&amp;context=3': 8, 'Reddit’s': 8, 'GSK': 8, 'Buffet': 8, 'Wedbush': 8, 'KHC': 8, 'VR': 8, 'Roche': 8, 'SSN': 8, 'Value': 8, 'Twitch': 8, 'CHGG': 8, 'HFT': 8, 'eSports': 8, 'EXPR': 8, 'me?[removed]': 8, 'AKA': 8, 'MA': 8, 'Cassava Sciences': 8, 'PI': 8, 'FUD': 8, 'new\"](https://www.reddit.com': 8, 'EYES': 8, 'LNG': 7, 'VOOG': 7, 'Royal Dutch Shell': 7, 'ESTIMATES!](https://i.imgur.com': 7, 'RBC': 7, 'Advanced Micro Devices': 7, 'MU': 7, 'CHART!](https://media.bespokepremium.com': 7, 'McDonalds': 7, 'Board': 7, 'Brent': 7, 'Utilities': 7, 'Disney &': 7, 'Georgia Senate': 7, 'SAVE': 7, 'Ant Group': 7, 'MAX': 7, 'NIU': 7, 'INRG': 7, 'NA': 7, 'Large-Cap Growth': 7, 'QE': 7, 'Citi': 7, 'White House': 7, 'GS': 7, 'ABBV': 7, 'Enron': 7, 'eCommerce': 7, 'TQQQ': 7, 'APPL': 7, 'IR': 7, 'Canopy Growth': 7, 'PRNT': 7, 'ATOM': 7, 'Daimler': 7, 'MELI': 7, 'QYLD': 7, 'Elon': 7, 'IQQH': 7, 'CPE': 7, 'USD': 7, 'PSEC': 7, 'CBS': 7, 'DASH': 7, 'Harvard': 7, 'UNH': 7, 'Blackberry': 7, 'ToS': 7, 'SCHW': 7, 'Morgan Stanley (MS': 7, 'Stem Inc.': 7, 'Walt Disney': 7, 'ICE': 7, 'the U.S. Food and Drug Administration': 7, 'HITIF': 7, 'TZA': 7, 'FuboTV': 7, 'FSD': 7, 'GME Stock': 7, 'Deloitte': 7, 'AYRO': 7, 'GameStop’s': 7, 'HUYA': 7, 'AMC Stock': 7, 'KEEP': 7, 'DogeCoin': 7, 'BBW': 7, 'GBR': 7, 'Stock Market Movers &': 7, 'ASRT': 7, 'AG': 7, 'HF': 7, 'AppHarvest': 7, 'Digital': 7, 'Federal Reserve': 7, 'Adjusted EBITDA': 7, 'FRX': 7, 'ONTX': 7, 'WAY': 6, 'UPS': 6, 'GA': 6, 'China Telecom': 6, 'Fintech': 6, 'MSM': 6, 'the LPL Chart': 6, 'Micron Technology': 6, 'Bull': 6, 'FAN': 6, 'BYND': 6, 'Penn National': 6, 'Medicare': 6, 'WB': 6, 'CVNA': 6, 'Mercedes': 6, 'Adobe': 6, 'Software': 6, 'Micron': 6, 'the European Commission': 6, 'APP': 6, 'SPHD': 6, 'FSLR': 6, 'FAA': 6, 'Palantir Technologies Inc.': 6, 'REGI': 6, 'Merrill Lynch': 6, 'CBD': 6, 'Trump’s': 6, 'Capitol Hill': 6, 'EOD': 6, 'RIG': 6, 'SDC': 6, 'LG': 6, 'Tesla &': 6, 'Raytheon': 6, 'LINK!](https://i.imgur.com': 6, 'State': 6, 'TSLA&amp;ty': 6, 'FSKAX': 6, 'BILI': 6, 'LIDAR': 6, 'Citigroup': 6, 'Siemens': 6, 'RNA': 6, 'Natural Gas': 6, 'MRK': 6, 'Daimler AG': 6, 'AstraZeneca': 6, 'Amazon.com Inc.': 6, 'SUNW': 6, 'GRWG': 6, 'POC': 6, 'Qualtrics': 6, 'the U.S. Securities and Exchange Commission': 6, 'PSX': 6, 'EBITA': 6, 'ALWAYS': 6, 'THE MOST ANTICIPATED EARNINGS RELEASES': 6, 'Stellantis': 6, 'Edge': 6, 'SUPER': 6, 'StockMarket': 6, 'Blue Apron': 6, 'IRBT': 6, 'Bezos': 6, 'Uranium': 6, 'SENS': 6, 'Cowen': 6, 'WHO': 6, 'the HEAT MAP': 6, 'Exxon Mobil': 6, 'CLIR': 6, 'FTC': 6, 'Dodge': 6, 'GSM': 6, 'FOMC': 6, 'Ally': 6, 'RAD': 6, 'DDS': 6, 'Institutional Investors': 6, 'ZKIN': 6, 'GMC': 6, 'Honeywell': 6, 'Philip Morris': 6, 'EPIC': 6, 'The Washington Post': 6, 'the Stock Market': 6, 'Blue Origin': 6, 'Canopy': 6, 'Transportation': 6, 'Sundial': 6, 'MINE': 6, 'Rigel Pharmaceuticals - Primed': 6, 'Johnson’s': 6, 'NFT': 6, 'HS': 5, 'Co-Founder': 5, 'Projekt Red': 5, 'the Biden Administration': 5, 'CHART!](https://i.imgur.com': 5, 'Consensus': 5, 'Bed Bath &': 5, 'CHART!](https://i0.wp.com/lplresearch.com': 5, 'Inc.': 5, 'Social Capital': 5, 'McDonald’s': 5, 'MFA': 5, 'NIO Inc.': 5, 'AQB': 5, 'IPOC': 5, 'Panasonic': 5, 'OXY': 5, 'Allstate': 5, 'JMP Securities': 5, 'Akamai': 5, 'SolarWinds': 5, 'Pre-Market Movers &': 5, 'Market Makers': 5, \"Cathie Wood's\": 5, 'ICLN &': 5, 'IWM': 5, 'NERD': 5, 'Financial Services': 5, 'AMAT': 5, 'ADP': 5, 'VXX': 5, 'Cybersecurity': 5, 'Lehman': 5, 'ATNX': 5, 'II': 5, 'Nestle': 5, 'Ponzi': 5, 'TMUS': 5, 'DIY': 5, 'FinTech': 5, 'the Motley Fool': 5, 'PFE&amp;ty': 5, 'DOCU': 5, 'JAGX': 5, 'Fannie Mae': 5, 'WFH': 5, 'NIO’s': 5, 'JPMorgan Chase &': 5, 'HODL': 5, 'Long Term': 5, 'MercadoLibre': 5, 'Social Media': 5, 'XLE': 5, 'IND': 5, 'PACB': 5, 'SoftBank': 5, 'Volvo': 5, 'Nissan': 5, 'PENN &': 5, 'WCLD': 5, 'Pump &': 5, 'Tesla Inc.': 5, 'GoPro': 5, 'EV &': 5, 'DocuSign': 5, 'Catalyst': 5, 'HBO': 5, 'LUMN': 5, 'Jeep': 5, 'ENG': 5, 'NHL': 5, 'Medtronic': 5, 'IIPR': 5, 'PUMP': 5, 'the Wall Street Journal': 5, 'Chewy': 5, 'DPW': 5, 'SNOW': 5, 'Canopy Growth Corporation': 5, 'BASF': 5, 'NWC': 5, 'DTIL': 5, 'CMO': 5, 'SCHB': 5, 'TIGR': 5, 'DCF': 5, 'Penn National Gaming': 5, 'Apple Stock': 5, 'SMH': 5, 'Data': 5, 'XLK': 5, 'NIO &': 5, 'NLLSF': 5, 'TFSA': 5, 'FNMA': 5, 'EV’s': 5, 'HTZGQ': 5, 'Kodak': 5, 'PEP': 5, 'Google &': 5, 'DOW': 5, 'Chevrolet': 5, 'Suncor': 5, 'Price': 5, 'Media &': 5, 'ROE': 5, 'MVP': 5, 'Clover Health': 5, 'SBUX': 5, 'FLT': 5, 'Float': 5, 'BBI': 5, 'CNK': 5, 'NCNO': 5, 'Lilly': 5, 'Chipotle': 5, 'GMBL': 5, 'TAC': 5, 'Corsair’s': 5, 'eTrade': 5, 'PST': 5, 'NRGU': 5, 'OZSC': 5, 'NAT': 5, 'BMBL': 5, 'Tencent': 5, 'GME Options': 5, 'Quantum': 5, 'Ballard Power Systems': 5, 'PEI': 5, 'MGI': 5, 'UXIN': 5, 'Game Stop': 5, 'HON': 5, 'USAA': 5, 'Apex Clearing': 5, 'EUA': 5, 'BOA': 5, 'MGNI': 5, 'NEXT': 5, 'INOVIO': 5, 'Long Term][removed': 5, 'CS': 5, 'EM': 5, 'Apple TV': 5, 'ADA': 5, 'TradingView': 5, 'FMR': 5, 'IOS': 5, 'Shit': 5, 'BANG': 5, 'Piper Sandler': 5, 'FCC': 5, 'Starlink': 5, 'Verizon': 5, 'RIP': 5, 'the Earnings Report': 5, 'GREAT': 5, 'the Bezos Earth Fund': 5, 'buy?Hi': 5, 'SEC Hunts': 5, 'dip?[removed': 5, 'INC': 5, 'VTV': 5, 'Uber': 5, 'ADT': 5, 'TMO': 5, 'Tiktok': 5, 'Peloton': 5, 'the Financial Times': 5, 'LoanDepot': 5, 'APPH': 5, 'ARTL': 5, 'the House Financial Services Committee': 5, 'AUM': 5, 'FIII': 5, 'BFLY': 5, 'TTM': 5, 'Mizuho': 5, 'HACK': 4, 'Genomics': 4, 'Delta Airlines': 4, 'PCG': 4, 'Sector': 4, 'QuantumScape': 4, 'WISH': 4, \"Barron's\": 4, 'Li Auto': 4, 'LPL Financial Chief Market Strategist': 4, 'Electoral College': 4, 'VFV': 4, 'CSV': 4, 'HBO Max': 4, 'GME\\n\\n&': 4, 'Pentagon': 4, 'Biden’s': 4, 'TipRanks': 4, 'CureVac': 4, 'Covid': 4, 'Service': 4, 'Appian': 4, 'the Board of Directors': 4, 'IAG': 4, 'Biogen': 4, 'ServiceNow': 4, 'Operations': 4, 'Technology': 4, 'BAM': 4, 'GMO': 4, 'SO': 4, 'KTOS': 4, 'DXY': 4, 'LVGO': 4, 'Reach': 4, 'Coinbase': 4, \"Today's Top Headlines\": 4, 'JPMorgan Chase': 4, 'DIVIDEND': 4, 'Youtube': 4, 'HSBC': 4, 'CTV': 4, 'BETZ': 4, 'BGS': 4, 'FIRE': 4, 'GM &': 4, 'PMI': 4, 'VUG': 4, 'Global Clean Energy': 4, 'Alibaba Group Holding Ltd.': 4, 'Washington Post': 4, 'Gates': 4, 'ETFI': 4, 'United Natural Foods': 4, 'GIK': 4, 'SunPower': 4, 'Instagram': 4, 'WealthSimple': 4, 'Taxes': 4, 'EBay': 4, 'NLS': 4, 'Shopify': 4, 'qydhy62v08tw4em/Reddit_Sentiment_Equity.csv?dl=0': 4, 'DOJ': 4, 'Hyundai Motor': 4, '3D Systems': 4, 'TDDI': 4, 'Q4 Earnings': 4, 'CES': 4, 'PFE\\n\\n&': 4, 'MicroStrategy': 4, 'RBC Capital Markets': 4, 'Navy': 4, 'Amazon Stock': 4, 'Sunrun': 4, 'BioTech': 4, 'EBON': 4, 'Freddie Mac': 4, 'Ford - EV': 4, 'Alibaba Group': 4, 'Delta Air Lines': 4, 'ACI': 4, 'TDAmeritrade': 4, 'Price Target': 4, 'EPA': 4, 'WDC': 4, 'Merrill Edge': 4, 'Mazda': 4, 'FedEx': 4, 'ADI': 4, 'United Parcel Service': 4, 'NEL': 4, 'American Cannabis': 4, 'WATT': 4, 'Affirm': 4, 'GUSH': 4, 'E*Trade': 4, 'CBAT': 4, 'BEAM': 4, 'SSPK': 4, 'Proterra': 4, 'Amazon.com': 4, 'Cadillac': 4, 'Hims &': 4, 'Aphria/Tilray': 4, 'Nvidia’s': 4, 'URG': 4, 'DAC': 4, 'SAIC Motor': 4, 'RCL': 4, 'Space Exploration': 4, 'DHL': 4, 'GEM': 4, 'AMD &': 4, 'Applied Materials': 4, 'DE': 4, 'PLL': 4, 'ELY': 4, 'GMT': 4, 'the Capex &': 4, 'NFL](https://ibb.co/zbYySCp': 4, 'Amazon Studios': 4, 'AI Improvements': 4, 'income](https://ibb.co/rdc1HRZ': 4, 'Capital Expenditure': 4, 'the Amazon Web Services': 4, 'Price to Future Earnings': 4, 'CVS &': 4, 'International Sales': 4, 'Luna': 4, 'Next](https://ibb.co/F75r4jN': 4, 'Capex](https://ibb.co/f0dSK7B': 4, 'Earnings before Interest': 4, 'earnings](https://ibb.co/nLhCJpk': 4, 'Global Payments &': 4, 'EVBox': 4, 'ARCUS': 4, 'Logitech': 4, 'UGMA': 4, 'KPTI': 4, 'Fundamental &': 4, 'StockTwits': 4, 'FBI': 4, 'Goldman Sachs Group': 4, 'Alphabet Inc.': 4, 'VOD': 4, 'WWE': 4, 'Stocktwits': 4, 'IB': 4, 'NASD': 4, 'Contracts': 4, 'KSS': 4, 'ITP': 4, 'MIT': 4, 'TTWO': 4, 'Lupus Nephritis': 4, 'Microsoft Corp.': 4, 'Dexcom': 4, 'Stanford': 4, 'PLNHF': 4, 'SEC &': 4, 'CVE': 4, '&': 4, 'WACC': 4, 'Warner Bros': 4, 'PLS': 4, 'Marvel': 4, 'Vanguard &': 4, 'Cashapp': 4, 'ClearSign': 4, 'UWM': 4, 'GameStop Corp.': 4, 'FORD': 4, 'ACRX': 4, 'CMA': 4, 'ExxonMobil': 4, 'US &': 4, 'DID': 4, 'Videos': 4, 'ISRG': 4, 'TRQ': 4, 'SS': 4, 'Microsoft Azure': 4, 'PDUFA': 4, 'EVBox Group': 4, 'ALB': 4, 'APD': 4, 'Cronos': 4, 'FRA': 4, 'Microsoft &': 4, 'IMHO': 4, 'Ocean Power Technologies': 4, 'ICAGY': 4, 'GNOG': 4, 'NDA': 4, 'OPK': 4, 'SLS': 4, 'SNCA': 4, 'SHMP': 4, 'Thinkorswim': 4, 'ARPU': 4, 'Mobileye': 4, 'RXT': 4, 'Suncor Energy': 4, 'SNDL': 4, 'BB &': 4, 'Health Canada': 4, '#': 4, 'Commission': 4, 'XLM': 4, 'AMCX': 4, 'DOGE': 4, 'PSLV': 4, 'BDRBF': 4, 'Doge': 4, 'AMD DD / Stock Analysis [Technical, Fundamental &': 4, 'TIL': 4, 'Bank': 4, 'DISCA': 4, 'ADMA': 4, 'Quantum Theory': 4, 'Super': 4, 'MAJOR': 4, 'Workhorse': 4, 'Biocryst’s': 4, 'OPEC': 4, 'SPXL': 4, 'ASO': 4, 'ARR': 4, 'GBP': 4, 'Callaway': 4, 'Call Options': 4, 'The USA Cannabis Opportunity': 4, 'GNW': 4, 'Ford Motor': 4, 'the European Union': 4, 'Tilray’s': 4, 'THERAPEUTICS AG': 4, 'Cinemark': 4, 'Xilinx': 4, 'Robinhood to Fidelity': 4, 'the Exec Chair': 4, 'the Amazon Board': 4, 'Oil Company Symbol': 4, 'iPad': 4, 'BlackRock Inc.': 4, 'Leveraged': 4, 'BFARF': 4, 'FINV': 4, 'SMG': 4, 'TSN': 4, 'HEMP': 4, 'WORK': 4, 'Cathie Woods': 4, 'TDOC': 4, 'NIH': 4, 'ZSAN': 4, 'REI': 4, 'THMO': 4, 'HAE': 4, 'Astra': 4, 'EWEB 1.3%': 4, 'SCHF': 4, 'KOPN': 4, \"the World Health Organization's\": 4, 'BBIG': 4, 'FUTU': 4, 'Paramount': 4, 'CNR': 4, 'PPE': 4, 'THCX': 4, 'Supreme Cannabis': 4, 'Quantum Computing': 4, 'KT': 4, 'MasterCard': 4, 'M1 Finance': 4, 'NAS': 4, 'IFMK': 4, 'Softbank': 4, 'WOW': 4, 'SEP': 4, 'Plant Biotech Entering Weed Market': 4, 'Australis Capital Inc.': 4, 'The Booming U.S. Cannabis Sector[removed]': 4, 'CPG': 4, 'UAMY': 4, 'PDAC': 4, 'UBS Group': 4, 'Palo Alto Networks': 4, 'British American Tobacco': 4, 'Macy’s': 4, 'ITA': 4, 'BlackSky': 4, 'SFTW': 4, 'Churchill Capital Corp': 4, 'DAU': 4, 'ARK Bought': 4, 'KeyCorp': 4, 'SLGG': 4, 'L Brands': 4, 'Reddit Ticker Mention Trends': 4, 'LTM': 4, 'SVB Leerink': 4, 'Super League Gaming': 4, 'Flipkart': 4, 'DGX': 4, 'IGIC': 4, 'no?[removed]': 3, 'Pltr': 3, 'FTEC': 3, 'ETSY': 3, 'BOTZ': 3, 'LB': 3, 'AP': 3, 'ZM': 3, 'Fidelity’s': 3, 'RNG': 3, 'Venture': 3, 'China Mobile': 3, 'Microsoft Excel': 3, 'ANT': 3, 'Call Debit': 3, 'VIE': 3, 'NXO': 3, 'DXC': 3, 'DXC Technology': 3, 'STZ': 3, 'ISM': 3, 'FLIR': 3, 'FireEye': 3, 'Teledoc': 3, 'AQN': 3, 'BLDP': 3, 'PBD': 3, 'BEPC': 3, 'Apple &': 3, 'ITB': 3, 'EMA Lines': 3, 'IPOD': 3, 'Media': 3, 'Finance': 3, 'Wall Street Journal': 3, 'SOMPO Holdings': 3, 'Macro': 3, 'Global Clean Energy UCITS': 3, 'Lithium': 3, 'APPN': 3, 'TTCF': 3, 'EBAY': 3, 'Salesforce': 3, 'MKT': 3, 'DOC': 3, 'BBC': 3, 'The New York Stock Exchange': 3, 'DTE': 3, 'IPOed': 3, 'SCV': 3, 'Ultimate': 3, 'the US': 3, 'First Solar': 3, 'VLKAF': 3, 'Perion Network Ltd.': 3, 'MT': 3, 'KNDI': 3, 'Peugeot': 3, 'CSCO': 3, 'Nortel': 3, 'MCD': 3, 'Credit': 3, 'BULL': 3, 'TLSS': 3, 'HERO': 3, 'ViewRay': 3, 'SunRun': 3, 'Macs': 3, 'XBC': 3, 'DAR': 3, 'TX': 3, 'CZR': 3, 'FTSE': 3, 'FUBO Stock': 3, 'Block': 3, 'ESPR': 3, 'DJI': 3, 'VRSN': 3, 'UNFI': 3, 'SK Group': 3, 'US Steel': 3, 'Pence': 3, 'EOW': 3, 'VLO': 3, 'EXP': 3, 'LULU': 3, 'DMD': 3, 'ARCC': 3, 'CSP': 3, 'The World Health Organization': 3, 'SKLZ': 3, 'Space Force': 3, 'RIDE': 3, 'Pershing Square Holdings &': 3, 'EXTREMELY': 3, 'General Mills': 3, 'BDC': 3, 'Dominos': 3, 'THE MAJOR FUTURES INDICES AS OF': 3, 'National Securities': 3, 'Wells Fargo &': 3, 'BLK': 3, 'Latest': 3, 'IM': 3, 'Tips': 3, 'AEP': 3, 'ADC': 3, 'The Stock Market': 3, 'OSTK': 3, 'MW': 3, 'Kroger': 3, 'Kraft': 3, 'Electric Vehicles': 3, 'CLNE': 3, 'HP': 3, 'Apple Inc': 3, 'JKS': 3, 'Enphase Energy Inc': 3, 'Array Technologies, Inc.': 3, 'VanEck': 3, 'Wealthsimple': 3, 'General Motors Co': 3, 'AQMS': 3, 'ETS': 3, 'ARRY': 3, 'CMC': 3, 'Good Food Company': 3, 'UTMA': 3, 'HVAC': 3, 'TTOO': 3, 'sell?Hey': 3, 'BrightDrop': 3, 'Telus': 3, 'Plug': 3, 'SOLO': 3, 'Jaguar': 3, 'CRISPR': 3, 'RSU': 3, 'GOEV': 3, 'ABT': 3, 'PTRA': 3, 'Oil &': 3, 'CCIV &': 3, 'Fair': 3, 'IVV': 3, 'AFRM &': 3, 'ARK’s': 3, 'BHC\\n\\n&': 3, 'VMware': 3, 'Brookfield Renewable Partners': 3, 'DARPA': 3, 'FY20': 3, 'Goldman Sachs &': 3, 'SEC Filiing': 3, 'VMW': 3, 'CLWD': 3, 'CPSH': 3, 'Autopilot': 3, 'Harvard University': 3, 'CBOE': 3, 'Meh': 3, 'Romeo Power': 3, 'Core': 3, 'Nel Asa': 3, 'Trades': 3, '☄': 3, 'ITIN': 3, 'TEC': 3, '|Amazon Stock Price Target Prediction &': 3, 'Gamestop': 3, 'AMSC': 3, 'Lincoln': 3, 'HIBL': 3, 'BJ': 3, 'BOD': 3, 'Price/Book': 3, 'the Toronto Stock Exchange': 3, 'Wolfe Research': 3, 'ARK/Cathie Wood': 3, 'Ebay': 3, 'CMS': 3, 'Safeway': 3, 'Solid': 3, 'iRobot': 3, 'TradeStation': 3, 'Innovation Pharmaceuticals': 3, 'ARK Investments': 3, 'USB': 3, 'XXII - Plant': 3, 'AEYE': 3, 'NOVA': 3, 'LOVE': 3, 'ACRHF': 3, 'Cruise': 3, 'HUGE': 3, 'LLNW': 3, 'CGM': 3, 'BEST': 3, 'BK': 3, 'Cheech &': 3, 'IEA': 3, 'MYT': 3, 'the Meme Stock': 3, 'Senseonics': 3, 'Kerrisdale Capital': 3, 'China’s Government': 3, 'FED’s': 3, 'Today](https://ibb.co/jgJ1frz': 3, 'Energy, Communications &': 3, 'rally](https://ibb.co/wYZKGmT': 3, 'NetFlix': 3, 'NYT': 3, 'Options': 3, 'ARK Space Exploration': 3, 'DQ': 3, 'MLB': 3, 'Big Data': 3, 'Department of Homeland Security': 3, 'HSA': 3, '💰': 3, 'Lemme': 3, 'S3 Partners': 3, 'Pixar': 3, 'Disney’s': 3, 'FIFO': 3, 'Xbox': 3, 'VTIAX': 3, 'SNPW': 3, 'XPO': 3, 'ML': 3, 'EV/EBITDA': 3, 'PIPE': 3, 'Bloomberg Terminal': 3, 'Medicare Advantage': 3, 'Mercedez': 3, 'Smart': 3, 'Customs': 3, 'LPL': 3, 'BLOZF': 3, 'TRIT': 3, 'Copper Bull': 3, 'Apple Inc.': 3, 'Shorts': 3, 'Nokia’s': 3, 'ARVL': 3, 'ASIC': 3, 'Intel’s': 3, 'WSB &': 3, 'Bronco': 3, 'Coronavirus': 3, 'SaaS': 3, 'NOK 🚀': 3, 'Aqua Metals': 3, 'DHR': 3, 'CMLF': 3, 'NQ': 3, 'Helsinki': 3, 'DEGIRO': 3, 'Playboy': 3, 'OBLN': 3, 'MIB': 3, 'NVNXF': 3, 'Wendy’s': 3, 'IAC': 3, 'DOYU': 3, 'TRIB': 3, 'JP': 3, 'HYSR': 3, 'VPN': 3, 'GOGO': 3, 'SNE': 3, 'OCUGEN': 3, 'CleanSpark': 3, 'Cathie’s': 3, '|AMD - Advanced Micro': 3, '👏': 3, 'SHLDQ': 3, 'The Next Stock Market Crash or': 3, 'Wall Street Bets': 3, 'SWN': 3, 'EBS': 3, 'AMD’s': 3, 'NBEV': 3, 'ZK International': 3, 'Success': 3, 'XSPA': 3, 'Senseonics Holdings': 3, 'the US Army': 3, 'Content Delivery Network': 3, 'Royal Bank of Canada': 3, 'BILLIONS': 3, 'XRP': 3, 'ACY': 3, 'Robbinhood': 3, 'NAKD Stock': 3, 'Overstock.com': 3, 'DODGE': 3, 'SQ / UBER |': 3, 'The Short Squeeze &': 3, 'the Food and Drug Administration': 3, 'AMC&amp;ty': 3, 'Moderna’s': 3, 'Fintel': 3, 'IPA': 3, 'CLSN': 3, 'Viacom': 3, 'SANP': 3, 'Capcom Stocks[removed]': 3, 'NTM': 3, 'FDA Approval': 3, 'Friday[removed': 3, 'Crypto': 3, 'BMO': 3, 'BMRN': 3, 'Ford Motor Company': 3, 'Naked Brands': 3, 'Stupid': 3, 'Lehman Brothers': 3, 'VYGVF': 3, 'CREST': 3, 'Ortex': 3, 'Ericcson': 3, 'NAKED': 3, 'SIN': 3, 'ZRX': 3, 'Corp.': 3, 'FTD': 3, 'Silver Lake Partners': 3, 'Pets.com': 3, 'SOS Ltd.': 3, 'Hype': 3, 'Charles Schwab': 3, 'XFLS': 3, 'First Oil': 3, 'Robinhood CEO': 3, 'Q4': 3, 'Norwegian Air': 3, 'NGL': 3, 'FNF': 3, 'Fidelity Investments': 3, 'VWAP': 3, 'Arista Networks': 3, 'Amazon Fresh': 3, 'RYCEY': 3, 'AUMN': 3, 'GrowGeneration': 3, 'TWNK': 3, 'CDN': 3, 'QUBT': 3, 'IFF': 3, '🚀🚀': 3, 'GAP': 3, 'Finviz.com': 3, 'PSS': 3, 'VBTLX': 3, 'ORD': 3, 'SHS': 3, 'ENTIRE': 3, 'VMWare': 3, 'AHPI': 3, 'FARM': 3, 'EOS': 3, 'World': 3, 'the Company’s': 3, 'Ammo Inc.': 3, 'LYV': 3, 'SNDL &': 3, 'HIMX': 3, 'Nano Dimension': 3, 'UPST': 3, 'TIN': 3, 'Magic Mushroom Stock FAMI': 3, 'GCP': 3, 'StreetAccount': 3, 'CRBP': 3, 'Chart': 3, 'SpotX': 3, 'Bridgetown Holdings': 3, 'GME’s': 3, 'IQST': 3, 'BX': 3, 'UNITY': 3, 'Cronos Group': 3, 'Vaxart Inc.': 3, 'CYTH': 3, 'Match Group': 3, 'Amgen': 3, 'SIRC': 3, 'Amateur Investors Post': 3, 'POV': 3, 'HOL': 3, 'Non-GAAP': 3, 'New York Stock Exchange': 3, 'RAM': 3, '❓': 3, 'Overstock': 3, 'Recommend': 3, 'TNXP[removed': 3, 'LSPD': 3, 'CrowdStrike': 3, 'CRMD': 3, 'DOT': 3, 'The Labor Department': 3, 'Hindenburg Research': 3, 'Going Forward - Uncovering Market Inefficienciesnan': 3, 'Fidelity Management &': 3, 'Research Company LLC': 3, 'REV': 3, 'DAE': 3, 'HMPQ': 3, 'CRLBF': 3, 'Coca Cola': 3, 'DBX': 3, 'SeekingAlpha': 3, 'The Score Media': 3, 'Pinterest’s': 3, 'NSPR': 3, 'CMG': 3, 'FMS': 3, 'ADAG': 3, 'Board of Directors': 3, 'IZRL': 3, 'Motional': 3, 'Bollinger Bands': 3, 'Mohawk Group Holdings': 3, 'Empery Investments': 3, 'Biotechnology': 3, 'the University of Pittsburgh': 3, 'Earnings Report': 3, 'Blackrock Inc. &': 3, 'XLRP Clinical Trials': 3, 'Blackrock Inc': 3, 'Piper Jaffray': 3, 'Empery Asset Management': 3, 'Shorters': 3, 'IMMR': 3, 'Citadel Securities': 3, 'Thrace Plastics Holding': 3, 'HUGELY': 3, 'OLB Group': 3, 'NXTTF': 3, 'PMCC': 3, 'CPER': 3, 'Soligenix': 3, 'GTC': 3, 'NEPT': 3, 'KT Corp': 3, 'VoIP': 3, 'ZYNE': 3, 'CBDMD - Huge': 3, 'ON': 3, 'HPQ': 3, 'Deep Value Stock Near Book Value': 3, 'GTA': 3, 'Extended Hours': 3, 'NVS': 3, 'LDI': 3, 'Daily Discussion &': 3, 'Pfizer’s': 3, 'SPAC': 3, 'LRCX': 3, 'Research and Development': 3, 'UBS': 3, 'Imperial Brands': 3, 'SAIC': 3, 'ITC': 3, 'Marlboro': 3, 'Australis Capital': 3, 'Fisker’s': 3, 'Cloudflare’s': 3, 'the New York Times': 3, 'Diamond': 3, 'Loan Depot': 3, 'Butterfly Network': 3, 'SEDG': 3, 'PV': 3, 'VWRL': 3, 'Wood': 3, 'TurboTax': 3, 'PG&amp;E': 3, 'UCO': 3, 'Wolfpack Research': 3, 'MAR': 3, 'UNDERWAY': 3, 'Registrant': 3, 'Innovation Pharmaceuticals Inc.': 3, 'Institutional': 3, 'FUSE/MoneyLion Merger[removed]': 3, 'SOS Limited': 3, 'SOS Ltd': 3, 'Great S/T &': 3, 'Royal Caribbean': 3, 'Pivotal Research': 3, 'Impossible Foods': 3, 'VST': 3, 'DPZ': 3, 'MRKR': 3, 'Kandi Technologies Group Inc.': 3, 'Hasbro': 3, 'GME&amp;ty': 3, 'Roth Capital': 3, 'Barclays': 3, 'Powell’s': 3, 'BOLT': 3, 'ALRM': 3, 'CCIV/Lucid – Buckle': 3, 'TDC': 3, 'Societe Generale': 3, 'KKR': 3, 'IGO': 3, 'IMCC': 3, 'LVS': 3, 'Smith &': 3, 'Tidal': 3, 'UFC': 3, 'DKS': 3, 'AER': 3, 'Equal-Weight': 3, 'Hemostemix Great': 3, 'Hemostemix Inc.': 3, 'SLGWF': 3, 'Slang Worldwide': 3, 'Expected Biotech News': 3, 'IPOE/SoFi': 3, 'IRL': 2, 'IWF': 2, 'FANG': 2, 'WSE': 2, 'American Express': 2, 'EPAM': 2, 'Motley Fool Stock Advisor[removed': 2, 'Psychedelics': 2, 'MPLX': 2, 'NEXE': 2, 'AWK': 2, 'Communication Services': 2, 'NXO - Nexoptic': 2, 'Barron’s': 2, 'Model': 2, 'IVW': 2, 'HPE': 2, 'IVE': 2, 'Bleakley Advisory Group': 2, 'CAG&amp;ty': 2, 'US Treasuries': 2, 'the U.S. Senate': 2, 'IWN': 2, 'WBA&amp;ty': 2, 'Vanguard Total Stock Market Index Fund': 2, 'VWS': 2, 'DOE': 2, 'Walt Disney Co.': 2, 'Amazon AMZN': 2, 'Brain': 2, 'Gold &': 2, 'Opendoor': 2, 'Beyond': 2, 'MindMed': 2, 'I´m': 2, 'Chamath': 2, 'YahooFinance': 2, 'SPX': 2, 'Li Auto Inc.': 2, 'Dis': 2, 'USI': 2, 'NHS': 2, 'Ant Group’s': 2, 'Smartsheet': 2, 'CWM': 2, 'The E-Book': 2, 'Monday.com': 2, 'Collaborative Work Management': 2, 'Individual, Business, Enterprise': 2, 'Forrester’s': 2, 'SharePoint': 2, 'Brandfolder, Inc.': 2, 'Adobe, Jira, Salesforce': 2, 'Brandfolder': 2, 'Skype': 2, 'Marketing/Branding': 2, 'Smartsheets': 2, 'Professional Services': 2, 'Fox': 2, 'BPY': 2, 'Brookfield Asset Management': 2, 'Asset Management': 2, 'LI': 2, 'BLFS': 2, 'BioLife Solutions': 2, 'NJ': 2, 'CRNC': 2, 'GSX': 2, 'BigCommerce': 2, 'CRK': 2, 'SWISX': 2, 'Pokémon': 2, 'DSS': 2, 'OR': 2, 'ARKF': 2, 'Green Energy': 2, 'Fleet Vehicles and Services': 2, 'The Shyft Group, Inc.': 2, 'Utilivan': 2, 'Utilimaster Upfit Services': 2, 'Spartan Motors USA, Inc.': 2, 'Trademaster': 2, 'FTX': 2, 'Fiat Chrysler': 2, 'Tencent Holdings': 2, 'MDLZ&amp;ty': 2, 'CHA': 2, 'The U.S. Food and Drug Administration': 2, 'Munger': 2, 'PPS': 2, 'IncrediMail Ltd.': 2, 'Smilebox': 2, 'IncrediMail': 2, 'Websites': 2, 'VHCIX': 2, 'CATL': 2, 'TDY': 2, 'DRE': 2, 'PEAK': 2, 'KREF': 2, 'U': 2, 'SWTSX': 2, 'ALPP': 2, 'VWO': 2, 'Yum China': 2, 'CSFFF Capstone Mining': 2, 'Palantir Foundry': 2, 'Fujitsu': 2, 'MGK': 2, 'BONZ': 2, 'UnitedHealth': 2, 'TLS': 2, 'MacBook Air': 2, 'OMF': 2, 'NRZ': 2, 'ASK': 2, 'Amazon &': 2, 'Govt': 2, 'iShare': 2, 'Tencent Holdings Ltd.': 2, 'WBA': 2, 'Earn': 2, 'SPAC Subreddit': 2, 'FGEN': 2, 'NETE': 2, 'Q3': 2, 'TTM EPS': 2, 'VRYYF': 2, 'Infosys': 2, 'CGT': 2, 'New Leaf Opportunities': 2, 'Alibaba &': 2, 'Walgreens': 2, 'MGM Resorts': 2, 'Bayer': 2, 'DXC&amp;ty': 2, 'Plant': 2, 'Big Tobacco': 2, 'Worldcom': 2, 'Penny Stock': 2, 'Canadian Cannabis': 2, 'Falcon': 2, 'the U.S. Government': 2, 'the Justice Department': 2, 'Confirmation': 2, 'STAG': 2, 'IHI': 2, 'Display Supply Chain Consultants': 2, 'Xiaomi, Oppo, Apple': 2, 'DDIC': 2, 'ExpectationsMagnachip Semiconductor': 2, 'Novatek Microelectronics': 2, 'QRVO': 2, 'Vestas': 2, \"Pfizer's](https://ibb.co/6nGSdWR\": 2, 'Nikola](https://ibb.co/DLP8f1P': 2, 'passed](https://ibb.co/yXnFsbp': 2, 'The Friendly Bear': 2, 'the Green with Technology': 2, 'Cabinet': 2, 'FLEX': 2, 'NOL': 2, 'PRTS': 2, 'CHU': 2, 'Quantum Scape': 2, 'Toughts': 2, 'Castor': 2, 'Paid Services': 2, 'SHARE': 2, 'MGC': 2, 'AVCT': 2, 'non-US': 2, 'Pershing Square Holdings': 2, 'XLF': 2, 'PSTG': 2, 'Rich Dad Poor Dad': 2, 'Orin': 2, 'Taiwan Semiconductor Manufacturing Company Limited': 2, 'Taiwan Semiconductor': 2, 'VTWAX': 2, 'Brand New to Stocks[removed]': 2, 'BLM': 2, 'LMFA': 2, 'Wish.com': 2, 'KNSL': 2, 'SDS': 2, 'FINX': 2, 'MGNI[removed': 2, 'PRVB': 2, 'FBGRX': 2, 'Siemens Gamesa': 2, 'Signal': 2, 'WORTH': 2, 'Fintech, Space, Health Care, Real Estate': 2, 'Sarepta Therapeutics': 2, 'CTS': 2, 'Pacific Biosciences': 2, 'FROG': 2, 'GND': 2, 'MoM': 2, 'Carnival Cruiseline': 2, 'Unilever': 2, 'Colgate-Palmolive': 2, 'Diesel': 2, 'The White House': 2, 'BBY': 2, 'GAN': 2, 'NSCO': 2, 'BEEM': 2, 'RHood': 2, 'Array': 2, 'DuraTrack': 2, 'TXN': 2, 'Merck &': 2, 'WEC Energy Group Inc WEC': 2, 'CenterPoint Energy Inc': 2, 'CMS Energy Corporation CMS': 2, 'Air Transport Services Group Inc.': 2, 'CHD': 2, 'American Electric Power Company Inc AEP': 2, 'Dwight Co.': 2, 'BXP': 2, 'KNOW': 2, 'Real Estate': 2, 'DraftKings &': 2, 'the Energy Sector': 2, 'Morgan Stanley’s': 2, 'Credit Suisse Group AG': 2, 'Office Depot': 2, 'GEOV': 2, 'LIKELY': 2, 'Parler': 2, 'HEAVILY': 2, 'Opdivo': 2, 'Google Sheets': 2, 'SubReddit': 2, 'the Chinese Communist Party': 2, 'BLR': 2, 'the Meteoric Rise of NIO': 2, 'IBD': 2, 'KreditKarma': 2, 'TT': 2, 'CARR': 2, 'Gevo, Inc.': 2, 'Delete': 2, 'NCBI': 2, 'JNJ’s': 2, 'Boeing Co.': 2, 'Motley Fool Stock Advisor - How': 2, 'Auxly': 2, 'Volkswagen AG': 2, 'LOCKHEED': 2, 'Computershare': 2, 'BSX': 2, 'CCI': 2, 'American Tower': 2, 'Financial Stock Analysis': 2, 'ACTUAL': 2, 'Regeneron': 2, 'OAC': 2, 'Cigna CI': 2, 'MGTI': 2, 'BEAM Therapeutics': 2, 'the 3K': 2, 'GoogleFinance': 2, 'SQL': 2, 'GrowGeneration Corp': 2, 'CCIV/Lucid': 2, 'Bigcommerce Holdings': 2, 'Amazon.com, Inc.': 2, 'CNRG': 2, 'RZZRY': 2, 'Large-Cap Growth Companies': 2, 'ISO': 2, 'Mutual Fund': 2, 'URBN': 2, 'DIS&amp;ty': 2, 'Bausch': 2, 'Target’s': 2, 'Boston Dynamics': 2, 'Amazon Prime Video': 2, 'F35': 2, 'Skoal': 2, 'the Department of Defense': 2, 'J.P. Morgan Healthcare Conference': 2, 'ADR Feesnan': 2, 'QLI': 2, 'Citi Group': 2, 'Bloom Energy': 2, 'IDK': 2, 'IHS': 2, 'NHTSA': 2, 'AML': 2, 'SAMSUNG': 2, 'AIRBUS': 2, 'SNX': 2, 'KGC': 2, 'Sierra': 2, 'RC Ventures': 2, 'Customer Service': 2, 'YTEN': 2, 'IMMP': 2, 'ORR': 2, 'Today](https://ibb.co/C79879d': 2, 'Baidu &': 2, 'the Ant Group': 2, 'Energy, Industrials and Materials': 2, 'Real Estate and Utilities': 2, 'Atlanta FED': 2, '.23%': 2, 'INDEX](https://ibb.co/n1Jr9G2': 2, 'RESTATED](https://ibb.co/WtNxQKM': 2, 'EPC': 2, \"Resonant's PT\": 2, '😉': 2, 'SENS &': 2, 'The Mises Institute': 2, 'ARK Investment Management': 2, 'IRWD': 2, 'Telos': 2, 'CyberSecurity': 2, 'Tantech': 2, 'Snowflake and Redshift': 2, 'SPCE Virgin Galactic': 2, 'HRC': 2, 'GALXF': 2, 'LGORF': 2, 'FCX': 2, 'Administration': 2, 'Congress Wall Street': 2, 'Sernova Corp': 2, 'Martin': 2, 'Grand View Research': 2, 'Cyber Security': 2, \"McDonald's\": 2, 'IKEA': 2, 'Nordics': 2, 'Wedbush Securities': 2, 'QA': 2, 'Elo Life Systems': 2, 'OWN': 2, 'VTWO': 2, 'PR Newswire': 2, 'Bristol-Myers Squibb': 2, 'EVBOX': 2, 'Analysis': 2, 'SPHB': 2, 'PetCo': 2, 'Dermtech': 2, 'NES': 2, 'Intel Corp.': 2, 'THE MOST ANTICIPATED EARNINGS RELEASES FOR FINANCIAL': 2, 'UNH&amp;ty': 2, 'Prudential Financial': 2, 'Bank of America Corp.': 2, 'Procter &': 2, 'VEU': 2, 'the National Cybersecurity Center': 2, 'Lessons Learned': 2, 'PNG': 2, 'Frankfurt Stock Exchange': 2, 'British EV': 2, 'kav460/missing_out_on_ipos_ipo_pops_of_best_reverse/': 2, 'Electric Vehicle Maker Arrival': 2, 'StreetInsider': 2, 'BEAT': 2, 'Barron': 2, 'PRWCX': 2, 'Wall Street’s': 2, 'BAIC': 2, 'Letraset': 2, 'Aldus': 2, 'Inauguration': 2, 'The New York Times': 2, 'Largest': 2, 'EIX': 2, 'Barrick': 2, 'FMC': 2, 'Indonesia](https://www.reddit.com': 2, 'Monday](https://www.reddit.com': 2, 'steroids!](https://www.reddit.com': 2, 'GOEV.](https://www.reddit.com': 2, 'SoftBan': 2, 'NIO|300+%|': 2, 'NIO|300+%|\\n': 2, 'Stock Price Target Prediction &': 2, 'kwh7hg/intel_gains_9_as_ceo_bob_swan_to_step_down_feb_15/)|INTC|300+%|\\n|[NIO DAY': 2, 'kxwq2t/continuing_our_investing_journey_from_pltr_to_dtil/)|DTIL': 2, 'nio_partners_with_nvidia_to_develop_a_new/)|NVDA': 2, 'control](https://www.reddit.com': 2, 'Develop a New Generation of Automated Driving Electric Vehicles](https://www.reddit.com': 2, 'Identity': 2, 'StocksWhat': 2, 'Groups': 2, 'GSA': 2, 'TMF': 2, 'Bank of Montreal': 2, 'PLUG &': 2, 'TWS': 2, 'Nikola a few months ago': 2, 'Nel Hydrogen Solutions': 2, 'Nel Hydrogen Fueling': 2, 'FuelCell Energy': 2, 'XXII': 2, 'Legalization': 2, 'INSANE': 2, 'Midas': 2, 'AUP': 2, 'GME?Hey': 2, 'LOC': 2, 'Saxo': 2, 'AMC’s': 2, 'Warner Brothers': 2, 'USHey': 2, 'HongKong': 2, 'VHT': 2, '@Scaramucci': 2, 'SkyBridge Capital': 2, 'TIMES': 2, 'CBT': 2, 'Eton Pharmaceuticals': 2, 'XPEV': 2, '……': 2, 'National Institute of Health': 2, 'SYK': 2, 'NETosis': 2, 'University of Amsterdam': 2, 'INSTEAD': 2, 'Grand Theft Auto': 2, 'AutoMod': 2, 'Geode Capital Management': 2, 'Blackrock Inc.': 2, 'Vanguard Group': 2, 'Tattooed Chef': 2, 'LPCN DD': 2, 'eMarketer': 2, 'Principal': 2, 'UEC': 2, 'Netflix’s': 2, 'Phizer': 2, 'Post': 2, 'COVI': 2, 'Bell': 2, 'ERX': 2, 'Solar / EV /': 2, 'Defense / Medical / Energy 🚀': 2, 'HKEX': 2, 'Stock Market Lab': 2, 'Invesco': 2, 'AVGR': 2, 'CBBT': 2, 'PNK': 2, 'Smoke • Trailer Park Boys': 2, '0.9\\n\\nFacts &': 2, 'The Beach Bum • Radio Days •': 2, 'Chong’s Up': 2, 'Toyota Motor': 2, 'Paribas': 2, 'TCEHY': 2, 'CRAZY': 2, 'Company’s': 2, 'EPD': 2, 'IDFA': 2, 'Polaris, Western Digital': 2, 'PSJ': 2, 'the World Health Organization': 2, 'Grubhub': 2, 'ReconAfrica': 2, 'OPT': 2, 'Sustainability': 2, 'GSAT': 2, 'Lynch': 2, 'I.e': 2, 'Trader': 2, 'Powerhouse Energy': 2, 'DuPont': 2, 'Defense': 2, 'CO': 2, 'MAIN': 2, 'Cars.com': 2, 'CarLotz': 2, 'Chartmill (Stock': 2, 'KC': 2, '\\\\~4/10': 2, 'ZOMEDICA': 2, 'BOEING': 2, 'the US Court of Appeals': 2, 'Harvard Business Review report](https://hbr.org': 2, 'NewVantage-Partners-Releases-2020-Big-Data': 2, 'The Standish Group](https://www.standishgroup.com': 2, 'Enforce': 2, 'Foundry’s': 2, 'Airforce': 2, 'AI Executive': 2, 'Forward Deployed Engineers': 2, 'the Federal Acquisition Streamlining Act': 2, 'Army': 2, 'the Total Addressable Market': 2, 'the U.S. Army': 2, 'Crisis &': 2, 'U.S. Military': 2, 'Chevron Corporation': 2, 'Federal National Mortgage Association': 2, 'Competitive Landscape': 2, 'HRTX - Great': 2, 'HRTX': 2, 'NON': 2, 'ROBO': 2, 'FuelCell Energy Inc': 2, 'DISCORD': 2, 'Disney](https://ibb.co/hM8mqnd': 2, 'Android &': 2, 'Studio Entertainment top &': 2, 'approach](https://ibb.co/jkL0JG9': 2, 'increased](https://ibb.co/BP8SVHK': 2, 'earnings](https://ibb.co/k8x6cCW': 2, 'the Studio Entertainment &': 2, 'the Net Working Capital': 2, 'the Studio Entertainment Business': 2, 'Hulu &': 2, 'Studio Entertainment': 2, 'Parks &': 2, 'ESPN &': 2, 'Amazon’s Fire TV': 2, 'Disney](https://ibb.co/x3n4Bmb': 2, 'Media Networks': 2, 'the Media Networks': 2, 'AMTX': 2, 'SSYS': 2, 'F-150': 2, 'Bronco Sport': 2, 'KLR': 2, 'IRDM': 2, 'Prob': 2, 'WRLD': 2, 'LIACF': 2, 'Enphase Energy': 2, 'SPXU': 2, 'Potential - $EXPC (Experience Investment Corp': 2, 'Start Now': 2, \"dayI'm\": 2, 'Tellurian’s': 2, 'RAN': 2, 'Jumia Technologies': 2, 'ARKF - Financial Technology': 2, 'Comparison': 2, 'BEE': 2, 'Meme Stocks[removed': 2, 'FFS': 2, 'TSLAI': 2, 'CRA': 2, 'MM/Citadel': 2, 'JNJ&amp;ty': 2, 'General Electric Co.': 2, 'THE MAJOR FUTURES INDICES AS OF FRIDAY!](https://i.imgur.com': 2, 'NatWest Markets': 2, 'PCE': 2, 'Roku Inc.': 2, 'ClearSigns Technology': 2, 'ClearSign Technologies Corporation Provides Updates': 2, 'Zeeco': 2, 'NOC': 2, 'UK)[removed': 2, 'Cinemax': 2, 'Movie': 2, 'SM Energy': 2, 'TRINITY Biotech': 2, 'Complaint': 2, 'Mylan': 2, 'FREE': 2, 'RH’s': 2, 'PAOG': 2, 'Yum Brands': 2, 'Artificial Intelligence': 2, 'Value Growth': 2, 'PSG': 2, 'AMC Theaters': 2, 'Calculations &': 2, 'SQM': 2, 'TPIC': 2, 'Android Auto': 2, 'Armistice': 2, 'McKinsey &': 2, 'Rocket Auto': 2, 'Rocket Mortgage': 2, 'Humanigen': 2, 'SNDL, CRON': 2, 'RIO': 2, 'Bear Cave': 2, 'SME': 2, 'CAN': 2, 'e.g': 2, 'USP': 2, 'F3wm2d8': 2, 'JP Morgan': 2, 'Banks alongside Oil &': 2, 'Facebook &': 2, 'AT&amp;T &': 2, 'the Services and Manufacturing PMI': 2, 'Citron’s': 2, 'Growth Companies &': 2, 'Financials, Energy and Industrials': 2, 'Friday](https://ibb.co/MnWSRV4': 2, 'AAPL / TSLA / FB / MSFT &': 2, 'SDDI': 2, 'ThinkorSwim': 2, 'Chrysler': 2, 'APT': 2, 'JG': 2, 'Romeo Power, Inc.': 2, 'CMPS': 2, 'SRAX': 2, 'EUR': 2, 'Infrastructure': 2, 'INTEL': 2, 'UA': 2, 'PLAYBOY': 2, 'AR/VR': 2, 'Vodafone': 2, 'Navistar\\xa0International Corp.': 2, 'TuSimple': 2, 'ADAS': 2, 'Traton Group': 2, 'Schneider': 2, 'Space X': 2, 'McDonald': 2, 'Earnings &': 2, 'ZTE': 2, 'Parliament': 2, 'Akon Lighting America': 2, 'Raytheon Technologies': 2, 'NOK AMC': 2, 'NI': 2, 'Fisker Inc': 2, 'Cenovus Energy': 2, 'ETSY - Elon': 2, 'Burger King': 2, 'Huya': 2, 'KBLB': 2, 'Fund': 2, 'DDOS': 2, 'AXDX': 2, 'MATN': 2, 'HIVE': 2, 'KODK': 2, 'LUCKIN COFFEE': 2, 'POP': 2, 'Reports Financial': 2, 'LKNCY': 2, 'AMC 🚀': 2, 'Sycamore Partners': 2, 'Ascena Retail Group': 2, 'Glaxo': 2, 'GMEI': 2, '💭': 2, 'Automod': 2, 'International': 2, 'Press Release': 2, 'FIZZ': 2, 'GENERAL ELECTRIC': 2, 'Nok': 2, 'First World Highly Industrialized': 2, 'Unifi': 2, '🚀🚀🚀': 2, 'MJLB': 2, 'Intel Corporation': 2, 'CCG': 2, 'BRPA': 2, 'RLFTF': 2, 'AMC Networks': 2, 'Tanger Factory Outlet Centers': 2, 'WSB’s': 2, 'Brokerage': 2, 'Random Stock': 2, 'Robinhood[removed]': 2, 'the Yahoo Finance': 2, 'AHT': 2, 'Planet Fitness': 2, 'Cleanspark DD - Microgrid Clean Energy Reversal': 2, 'Justin': 2, 'PROBLEM': 2, 'Aquarefining': 2, 'Drop': 2, 'Harvest Health &': 2, 'Steinhoff International': 2, 'Drive Shack': 2, 'ANYTHING': 2, 'Upside': 2, 'xSigma': 2, 'Stonks': 2, 'the Federal Deposit Insurance Act': 2, 'Retail Investors': 2, 'Securities Laws': 2, 'EDGAR': 2, 'UNP': 2, 'NG': 2, 'RSSV': 2, 'New Concept Energy': 2, 'CANCEL': 2, 'Doge Coin': 2, 'Inovio Pharmaceuticals, Inc.': 2, 'Botox': 2, 'Reddit Robinhood Traders Sends Aussie Junior Mining Stock': 2, 'WRAP': 2, 'VET': 2, 'the Depository Trust Company': 2, 'E-Trade': 2, 'Brick &': 2, 'Keep Doge': 2, 'TD Ameritrade &': 2, 'AME': 2, 'Comex': 2, 'AMC Entertainment Holdings': 2, 'XYZ EPS 2.00': 2, 'Toronto Stock Exchange[removed]': 2, 'VRM': 2, 'NVAX&amp;ty': 2, 'Custodial Accounts[removed]': 2, 'KR': 2, 'Change': 2, 'INVE': 2, 'SLV &': 2, 'Ameriprise': 2, 'SIM': 2, 'GFV': 2, 'BIIB': 2, 'Metro Bank': 2, 'BLSP': 2, 'CAPEX': 2, 'Bharat Biotech': 2, 'CUK': 2, 'Textron': 2, 'NMTC': 2, 'CPST Next': 2, 'GLBS': 2, 'Bail Out Melvin Capital Shorts[removed]': 2, 'BBQ': 2, 'TAKOF': 2, 'VANGUARD': 2, 'Stock &': 2, 'ZSAN Stock': 2, 'CCUR Holdings, Inc.': 2, 'GCI': 2, 'MIK': 2, 'HOLDtheLine': 2, 'NTDOY': 2, 'HGEN': 2, 'SPDR': 2, 'OCC': 2, 'KemPharm': 2, 'MESA': 2, 'FanDuel': 2, 'Exxon Mobil Corp.': 2, 'XOM&amp;ty': 2, 'WW International': 2, '\\\\[1\\\\': 2, 'XXII - Time': 2, 'firm](https://finance.yahoo.com': 2, 'PHUN': 2, 'Nokia &': 2, 'APOLLO CAPITAL MANAGEMENT[removed]': 2, 'eHealth': 2, 'SPACEX': 2, 'XYZ company': 2, 'Electric': 2, 'Worth': 2, 'NPV': 2, 'AMZN &': 2, '🚨🚨🚨🚨🚨': 2, '🚨 🚨 🚨 🚨 🚨': 2, 'the Hedge Funds Manipulate': 2, 'Research in Motion': 2, 'Distort Bear Market Stock Manipulation](https://www.investopedia.com/articles': 2, 'From%20%251%24s&amp;ampshare': 2, 'Microsoft DD': 2, 'PSAC': 2, 'AMC Short Interest': 2, 'KOS': 2, 'AMC Sri Lanka[removed]': 2, 'Market Watch': 2, 'Big News': 2, 'Kryptonaire n Swing Trades[removed]': 2, 'Ocean Power': 2, 'ZENABIS': 2, 'Whole Foods': 2, 'TUI Stock': 2, 'Workhorse Group': 2, 'NEOM': 2, 'Squarespace': 2, 'Carnival Cruise Corp.': 2, 'Potential Risk': 2, 'S3': 2, 'Luckin Coffee': 2, 'SMP': 2, 'Game Stock': 2, 'AWS': 2, 'NATO': 2, 'AFFORD': 2, 'Pricing Trades': 2, 'BLRX': 2, 'TLBT': 2, '💰💰💰': 2, 'Retail': 2, 'Non-US': 2, 'QAnon': 2, 'ANY CANADIAN BROKERS OFFERING PRE MARKET BEFORE': 2, 'Discussion[removed]': 2, 'Pi Network': 2, 'Energy &': 2, 'Snap': 2, 'BIO': 2, 'Seneca': 2, 'AIM': 2, 'CorMedix': 2, 'Valens': 2, 'VLNS': 2, 'NCL': 2, 'AMD Complete Stock Analysis &': 2, 'Digital Media': 2, 'Core Commerce': 2, 'Stock X': 2, 'UPVOTE': 2, 'Rocket Companies': 2, 'TRNX': 2, 'AZ': 2, 'APHA/Tilray exchange': 2, 'Intuit': 2, 'the Bank of England': 2, 'The Federal Reserve': 2, 'TerrAscend': 2, 'Social Security': 2, 'GameStop Stock[removed]': 2, 'CRUS': 2, 'OG': 2, 'WallStreet': 2, 'Healthier Choices Management': 2, 'Biden Administration': 2, 'GME Squeeze': 2, 'Short Interest': 2, 'the Biden Administration’s': 2, 'Monthly Active Users': 2, 'lad736/the_rolling_20s_leaps_on_cannabis/?utm_source': 2, 'AMP': 2, 'Good Manufacturing Processes': 2, 'the French National Agency': 2, 'Good Manufacturing Practice': 2, 'US Legalization': 2, 'US Legalization &': 2, 'GWPH': 2, 'EXAS': 2, 'Exact Sciences': 2, 'INSG': 2, 'GILD': 2, 'NETFLIX INC': 2, 'AMPE': 2, 'Some Research Notes, References, Open Questions': 2, 'LPT': 2, 'Pokemon': 2, 'Funko': 2, 'DC Comics': 2, 'Funko’s': 2, 'Account': 2, 'Curiosity Stream': 2, 'Marston': 2, 'CURI': 2, 'Fuel Cell Buses': 2, '4K': 2, '2K': 2, 'WPM': 2, 'NXPI&amp;ty': 2, 'HOG': 2, 'Harley': 2, 'NXP': 2, 'Ballard': 2, 'GME Order Book': 2, 'KINGS': 2, 'l8rhr3': 2, 'JMC': 2, 'a Brass Casing Division (JMC': 2, 'Jagemann Stamping Company': 2, 'Their STREAK Visual Ammunition': 2, 'Jagemann Munition Components': 2, 'Jagemann Munition Company': 2, 'IRR': 2, 'FAZ': 2, 'Mohawk Group': 2, 'FRO': 2, 'Capital.com': 2, 'NBY Stock': 2, 'AQST': 2, 'VAXART Inc.': 2, 'Upstart': 2, 'Amazon.com Announces Financial Results': 2, 'PHO': 2, 'Thier': 2, 'JBLU-SAVE-AAL-DAL-ABNB': 2, 'ETC': 2, 'Amazon Founder': 2, 'Warrants': 2, 'Federated Hermes': 2, 'Vanguard Group Inc': 2, 'SPY/VOO': 2, 'Silvergate': 2, 'TTI': 2, 'LODE': 2, 'Pershing Square Hedge Fund PSHZF': 2, 'WLL': 2, 'MOASS': 2, 'ECDP': 2, 'HUM': 2, 'Amazon Web Services': 2, 'DIVIDEND CALENDAR!](https://i.imgur.com': 2, 'VA Linux': 2, 'Bionano Genomics': 2, 'Canopy’s': 2, 'LIZI': 2, 'Purple': 2, 'Payoneer': 2, 'GME Puts': 2, 'AIR': 2, '👨': 2, '🚀🌕': 2, 'YUM': 2, 'NextEra Energy': 2, \"HF's\": 2, 'Lessons Learned Participating': 2, 'CMV': 2, 'GenX': 2, 'Stocks &': 2, 'Marijuana Stock': 2, 'Social-Media Posts': 2, 'AMC ENTERTAINMENT': 2, 'Ford Motors': 2, 'ContextLogic': 2, 'Investigation of Social Media': 2, 'Non-GAAP EPS': 2, 'Bluehouse': 2, 'ALPS': 2, 'Red Light Holland Announces Increase': 2, 'ACA': 2, 'Unlimited': 2, 'Apple - Hyundai - Canoo': 2, 'Airline Stocks[removed': 2, 'HIMS - Hims &': 2, 'Acreage': 2, 'Quick': 2, 'KIA': 2, 'NOK Earnings': 2, 'ESPO': 2, 'Holicity': 2, 'Minerco': 2, 'FAD': 2, 'Genetics': 2, 'TPR': 2, 'GrubHub': 2, 'TPR\\n\\n&': 2, 'TBLT': 2, 'Eastern': 2, 'Exxon Mobile': 2, 'Virgin Group': 2, 'Align Technologies': 2, 'AREC': 2, 'MLPA': 2, 'Drone Delivery Canada': 2, 'JPB': 2, 'Digital Infrastructure Stock': 2, 'October](https://www.barrons.com': 2, 'Broke': 2, 'USMJ': 2, 'GOOG Stock Analysis [Technical, Fundamental &': 2, 'CTXR': 2, 'Tilray Aphria': 2, 'XIAOMI': 2, 'AAA': 2, 'NDAQ': 2, 'OSTK - Enemy': 2, 'Thermo Fisher Scientific Inc.': 2, 'Constellation Brands': 2, 'Sativa': 2, 'SPG': 2, 'Hisense': 2, 'Cloudfare': 2, 'AOS': 2, 'Rheumatoid Arthritis': 2, 'Firazyr': 2, 'Homeland Security': 2, 'the U.S. Department of Defense': 2, 'Churchill Capital IV': 2, 'Potential Short Squeeze': 2, 'OPY': 2, 'Boeings': 2, 'Twitter’s': 2, 'Canabis': 2, 'Call': 2, 'Deutsche Cannabis': 2, 'AMZN’s': 2, 'AFAIK': 2, 'the U.S. FDA': 2, 'FAS': 2, 'KP415': 2, '&gt;1M': 2, 'SVP': 2, 'the Supreme Court': 2, 'SGMD': 2, 'Ring Energy': 2, 'NYL Investments': 2, 'HART': 2, 'DK': 2, 'GAMR': 2, 'XL FLEET': 2, 'SPAC SEC': 2, 'Reddit Inc.': 2, 'MVMD': 2, 'Paya Holdings Inc.': 2, 'PAYA': 2, 'Straco Corp': 2, 'ALS': 2, 'MOGO': 2, 'Simon Property Group': 2, 'INND': 2, 'QNX Black Channel Communications': 2, 'Stockpile': 2, 'SNPR': 2, 'Mettler': 2, 'HULK': 2, 'FDIC': 2, 'AGTC Price Target': 2, 'AGTC Pipeline Programs': 2, 'VLI': 2, 'Antibiotics': 2, 'ARMP - Bacteriophage Treatment': 2, 'MIL': 2, 'UAA': 2, 'Newbie Options': 2, 'AudioEye': 2, 'IGTrading': 2, 'Slippage': 2, 'Merger / Acquisition of Indi': 2, 'THBR Stock': 2, 'IEX Group': 2, 'United Wholesale Mortgage': 2, 'PBF': 2, 'EVFM': 2, 'Barstool': 2, 'Cathie Wood &': 2, 'PGR': 2, 'KT Corporation': 2, 'AFCG': 2, 'AFC': 2, 'ASTI': 2, 'Chiasma $CHMA Target $12.67 ▲': 2, 'CuraLeaf': 2, 'OrganiGram Holdings': 2, 'RF': 2, 'MSFT’s': 2, 'HCANF': 2, 'Supreme Cannabis Company': 2, 'ERBB': 2, 'Roundhill Investments': 2, 'Euro': 2, 'NVCN': 2, 'PLNHF / PLTH': 2, 'Guangzhou Automobile Group Co., Ltd.': 2, 'GAC': 2, 'GAC Group': 2, 'Patreon': 2, 'Green Thumb Industries': 2, 'The Motley Fool](https://www.fool.com': 2, 'Dropbox': 2, 'Popeyes': 2, 'SGFY': 2, \"FuelCell Energy's\": 2, 'OrganiGram': 2, 'Caesars': 2, 'Durata': 2, 'XeriSol': 2, 'MedPointe Healthcare': 2, 'Gvoke': 2, 'XOG': 2, 'VUZI': 2, 'UEM': 2, 'AOSP': 2, 'Android Open Source Project': 2, 'KLIC': 2, 'Goldman e.t.c': 2, 'BNY': 2, 'Citibank': 2, 'Johns Hopkins University': 2, 'Defense for Intelligence in the Clinton': 2, 'Releases/Release/Article/2314065': 2, 'UAP Technology': 2, 'Secret UFO Program': 2, 'CRADA': 2, 'UAP': 2, 'SectorHey': 2, 'US Navy': 2, 'NTLA': 2, 'Investment Banking': 2, 'FMR LLC': 2, 'the Stock Market Works': 2, 'XTZ': 2, 'YINN': 2, 'Truverra': 2, 'AZRX': 2, 'SubB2M': 2, 'Switchback (NYSE': 2, 'Switchback’s': 2, 'Réunion': 2, 'Subaru': 2, 'ADN': 2, 'Starlink, Virgin Galactic': 2, 'Citigroup Inc.': 2, 'Smith Barney Citigroup': 2, 'Major': 2, 'UN': 2, 'Spineway': 2, 'BTC Mining': 2, 'TMBR': 2, 'NOU': 2, 'BORR': 2, 'SVMK': 2, 'a Securities and Exchange Commission': 2, 'Bausch Health': 2, 'the National Institutes of Health': 2, 'Marathon': 2, 'NCMI': 2, 'Hemostemix': 2, 'SOXS': 2, 'ILMN': 2, '$GROW.V Technical Analysis[removed]': 2, 'Lockup Expiration': 2, 'Apollo': 2, 'Tesla’s': 2, 'LVMH': 2, 'The Securities and Exchange Commission': 2, 'Clearing Corp.': 2, 'Apple, Qualcomm': 2, 'the U.S. International Trade Commission': 2, 'Ferroglobe PLC': 2, 'Altria/Cronos Group': 2, 'CRON': 2, 'the University of Minnesota': 2, 'PRLB': 2, 'the University of Wisconsin': 2, 'MN USA': 2, 'the Mayo Clinic': 2, 'MN': 2, 'Volkswagen Group': 2, 'Ant Financial': 2, 'ANTE': 2, 'TFFP': 2, 'Vanguards': 2, 'Fiverr International Ltd.': 2, 'the National Association of Realtors': 2, 'Tilray, Inc.': 2, 'LPL Chief Market Strategist': 2, 'Braille Energy Systems': 2, 'META': 2, 'SOLID': 2, 'CNQ': 2, 'TCNNF': 2, 'Emerald Health': 2, 'Longview Acquisition Corp.': 2, 'AEO': 2, 'CM': 2, 'HVBTF': 2, 'GLW': 2, 'Rockwell Automation': 2, 'Kansas City Southern': 2, 'Wanxiang International Investment': 2, 'Guotai Junan International': 2, 'NVO': 2, 'Schneider Electric': 2, 'Flextronics International Ltd.': 2, 'Kokam': 2, 'Enphase or SolarCity': 2, 'SolarEdge': 2, 'SolarEdge Technologies': 2, 'Maximum Power Point Tracking': 2, 'Enphase': 2, 'CPO &': 2, 'Norwest': 2, 'the Power Optimizers': 2, 'Canadian Solar Inc.': 2, 'Applied Materials Inc': 2, 'MindMedicine': 2, 'FY22': 2, 'MLM': 2, 'Performant $PFMT': 2, 'BMA': 2, 'Banco Macro': 2, 'Telegram - PAVmed': 2, 'Telegram Group': 2, 'Exchange': 2, 'Goldman’s': 2, 'MER': 2, 'KSU': 2, 'Capital Research &': 2, 'Kimbal': 2, 'Management Co.': 2, 'the Vanguard Group\\xa0': 2, 'AMKR': 2, 'Econ/Management': 2, 'PHAR': 2, 'Bristol Myers Squibb': 2, 'Aegon Asset Management and Janus Capital': 2, 'VIOO': 2, 'PIG': 2, 'SPOTIFY TECHNOLOGY SA': 2, 'ARK Autonomous Technology &': 2, 'the Shroom Stock Boom': 2, 'CCO': 2, 'SCR': 2, 'ETP': 2, 'XRT--': 2, 'Sutton Bank': 2, 'WeedMaps': 2, 'KT Corp.': 2, 'the United Nations': 2, 'USMCA': 2, 'USWS': 2, 'HY International Group New York Inc': 2, 'Marqeta': 2, 'Denison Mines': 2, 'XLRP': 2, 'lm0lpe/sos_ebon_and_the_similarities_to_eh': 2, 'SOS EBON': 2, 'HMC': 2, 'Advice Needed[removed': 2, 'Mattel Exec': 2, 'Xtreme POWER': 2, 'MARVEL': 2, 'Meisheng Cultural': 2, 'Jakks Management': 2, 'Gamestop, Walmart, Target': 2, 'NSO': 2, 'BLOK': 2, 'Microsoft Teams': 2, 'SOS Limited[removed]': 2, 'SCAM': 2, 'HY International Group New York Inc.': 2, 'Palantir Faces Big Test': 2, 'Soros Fund Management': 2, 'Marriott': 2, 'NTR': 2, 'SUPV': 2, 'Oxford': 2, 'ZoomInfo': 2, 'Unisync Corp.': 2, 'Stamps.com': 2, 'STMP': 2, 'TCL': 2, 'Biotech': 2, 'Chembio Diagnostics': 2, 'Business Insider': 2, 'Humira': 2, 'SA': 2, 'Rigel': 2, 'Unity': 2, 'CMLS': 2, 'EVTOL': 2, 'Deere': 2, 'Inn Express': 2, 'SYNA': 2, 'EOLS': 2, 'QuiverQuant': 2, '\\\\[redacted': 2, 'ACIC': 2, 'SH': 2, 'Affinity Beverage Group Inc': 2, 'Sylios Corp': 2, 'CHF': 2, 'GE Healthcare': 2, 'Boeing &': 2, 'Rank': 2, 'MSCI USA': 2, 'EXRO': 2, 'Sherwin-Williams': 2, 'Security &': 2, 'Shopify or Wordpress': 2, 'BAT': 2, 'WELL.TO': 2, 'MCK': 2, 'Pizza, Inc.': 2, 'Global Portfolio Strategy': 2, 'NDX': 2, 'the Senate Banking Committee': 2, 'Anheuser-Busch': 2, 'BTI': 2, 'Sears': 2, 'Signal Sciences': 2, 'OTCMKTS': 2, 'BHP': 2, 'Newbie Macro': 2, 'Better/Cheaper': 2, '&amp;amp': 2, 'Lumen Technologies': 2, 'the Small Business Administration': 2, \"WEEK'S MARKET MAP\": 2, 'CTB': 2, 'Smart Glasses': 2, 'ARK Group': 2, 'MAC Analysis - Potential Deep Value': 2, 'HHS': 2, 'JET': 2, 'XOS': 2, 'Carnegie Clean Energy Limited': 2, \"Alphabet Inc's\": 2, 'Bitcoin (BTC': 2, 'ZS': 2, 'Tencent’s': 2, 'Wood’s': 2, 'Cathie Wood’s': 2, 'Bull/Bear': 2, 'Global Cord Blood Corporation': 2, 'ALGT': 2, 'Carnival Corp': 2, 'FRPT': 2, 'Wrigley Chewing Gum —&': 2, 'KBAL': 2, 'PBR': 2, 'ASE Tech': 2, 'CCL&amp;ty': 2, 'LOWEST': 2, 'Norwegian Airlines': 2, 'NSAV': 2, 'Workhorse Group Inc.': 2, 'Rosenblatt Securities': 2, '🤯': 2, 'The AdvisorShares Pure US Cannabis': 2, 'MX - Magnachip - OLED Company - 100%': 2, 'Alarm.com': 2, 'OSK': 2, 'GitHub': 2, 'HSTO': 2, 'Keycorp': 2, 'Argus': 2, '💰💰': 2, 'EMQQ': 2, 'NUSI': 2, 'lm92zw/gme_short_squeeze_what_comes_next_part_4_micro/': 2, 'Anything': 2, 'UP': 2, 'TRAP': 2, 'FedEx Corp.': 2, 'Canadian Solar': 2, 'Containing GME Average Daily Short': 2, 'Foxconn Technology': 2, 'Ford Motor Co': 2, 'CHINESE COMPANY': 2, 'CHIF': 2, 'Rogers Communications': 2, 'GME - Alleged Market Manipulation[removed]': 2, 'State Farm': 2, '401k': 2, 'VNQ': 2, 'Cloudflare’s Workers': 2, 'Akamai’s': 2, 'Overview': 2, 'AMGN': 2, 'TPG Capital': 2, 'RKT&amp;ty': 2, 'DRIP': 2, 'SHAK': 2, 'Strong-Buy': 2, 'XTNT': 2, 'Diversified': 2, 'Mercury': 2, 'Multiple Issuers Based on': 2, 'Naked Brand Group Signs Definitive Agreement': 2, 'MICRO DEVICES': 2, 'DRAFTKINGS INC |': 2, 'APPLE INC |': 2, 'PLUG POWER INC': 2, 'AIR CANADA': 2, 'NIO, XPEV': 2, 'SEC Stops Trading': 2, 'Taiga Motors': 2, 'Barstool Sports': 2, 'revenu**e': 2, 'CAPE': 2, 'expanded](https://ycharts.com': 2, 'KLR Stock': 2, 'ALK': 2, 'Defense and Aerospace': 2, 'Ross Stores': 2, 'RTK': 2, 'GXXM': 2, 'Battery Technology Company': 2, 'Epsilon Theory': 2, 'CONGRESS': 2, 'MIA': 2, 'EIN': 2, 'NUE': 2, 'Aubameyang': 2, 'BVB Stock': 2, 'Manchester United': 2, 'Borussia Dortmund GmbH &': 2, 'Champions League': 2, 'Pulisic': 2, 'BVB': 2, 'Edison Research': 2, 'KGaA Stock Quote': 2, 'PRE-COVID': 2, 'JPOW': 2, 'GTT': 2, 'Fibonacci': 2, \"Australis' Accretive Acquisitions\": 2, 'Board Member': 2, 'PS Ratio': 2, '# Management': 2, 'GSFI': 2, 'Investors': 2, 'PIMCO': 2, 'Bloomberg China': 2, 'ULTA': 2, 'Bear Case)|2024': 2, '|**2023 Share Price Target': 2, 'Bull Case)|\\n': 2, 'Robotaxi': 2, 'Autonomous Capable Fleet': 2, 'Robotaxi Revenue': 2, 'Storage': 2, 'ARKInvest/ARK-Invest-Tesla-Valuation-Model': 2, 'the Robotaxi Network': 2, 'Switch': 2, 'Inc': 2, 'Deutsche Bank Aktiengesellschaft': 2, 'Dhaliwal](https://www.benzinga.com': 2, 'DMYI': 2, 'YELL': 2, 'HMY': 2, 'Clean Harbors': 2, 'Query regarding': 2, 'Landsdown': 2, 'Hargreaves &': 2, 'the Labor Force Participation': 2, 'Instacart': 2, 'JE': 2, 'Science and Technology': 2, 'Taxable': 2, 'SK Telecom': 2, 'the South Korean eCommerce': 2, 'Coupang Travel': 2, '\\\\~$12BN': 2, 'Expedia': 2, \"Labor Department's\": 2, 'TEV': 2, 'TEV/REV': 2, 'BESI - BE Semiconductor Industries N.V - EU Semiconductor': 2, 'Ives': 2, 'TGB': 2, 'Stimulus': 2, 'Lomiko Metals': 2, 'VIR': 2, 'Youtubers': 2, 'Facebook Inc.': 2, 'GE Capital Aviation Services': 2, 'University ePublishing - You Should Invest': 2, 'YELP': 2, 'GDRX': 2, 'SUMO': 2, 'HIMS - Tendies': 2, 'Healthcare / Biotech': 2, 'Wealthsimple and 90%': 2, 'CHR': 2, 'Court Update': 2, '$BA Stock Full Analysis &': 2, 'OpinionHey': 2, 'Jobs | Zoom &': 2, 'subscribers](https://imgur.com/fCTDNGX': 2, 'QbuiSot': 2, 'numbers](https://imgur.com/awXUGgw': 2, 'HERE](https://imgur.com/ZlO593': 2, 'The Stock Market Going To Crash Again': 2, 'Microsoft, Salesforce &': 2, 'SP &': 2, 'Germany &': 2, 'AstraZeneca’s': 2, 'Stock Market Lovers': 2, 'DEEPLY': 2, 'FOREX': 1, 'insider_trading_program/g9cmzvi/?context=3': 1, 'aggregate](https://www.strikereports.com': 1, 'DiligenceHey': 1, 'Broker - Interactive Brokers': 1, 'FedX': 1, 'the New York MTA': 1, 'LG’s': 1, 'iPhone 8': 1, 'Pro Demand Strong': 1, 'CIIC': 1, 'Sites': 1, 'Dorel Industries Higher': 1, 'QEP': 1, 'QEP now.[removed': 1, 'Lantech Pharmaceuticals  Ltd': 1, 'Chemcon': 1, 'Calcium Bromide': 1, 'Chemcon Chemicals': 1, 'SharesMin Order': 1, 'Chemcon Speciality Chemicals Ltd': 1, 'NII': 1, 'CMIC': 1, 'Eq Shares': 1, 'HMDS': 1, 'Chemcon Speciality Chemicals Limited': 1, 'Sodium Bromide': 1, 'Navdeep Naresh Goyal': 1, 'QIB': 1, 'Industry - New York Times': 1, 'WIG': 1, 'PLN': 1, 'Cd Projekt': 1, 'Take-Two Interactive': 1, 'Diablo, Destroy': 1, 'Projekt Red Analysis': 1, 'PROJEKT Group': 1, 'GOG Galaxy': 1, 'DRM': 1, 'PROJEKT RED': 1, 'PROJEKT S.A.': 1, 'PROJEKT': 1, \"Projekt Red's\": 1, 'PROJEKT Capital Group': 1, 'Take Two Interactive': 1, 'GTA Onlines': 1, 'Media Outlook': 1, 'PWC Global Entertainment &': 1, 'GOG': 1, 'PROJEKT RED STORE': 1, 'RPG': 1, 'PROJEKT Co. Ltd': 1, 'CDR': 1, 'Fidelity National Information': 1, 'the Stock MarketIs': 1, 'Georgia Runoff &': 1, 'ADSK': 1, \"TD Ameritrade's\": 1, 'Irrational': 1, 'Downturn elasticity &': 1, 'Royal Dutch': 1, 'SWPPX': 1, 'China Mobile Limited': 1, 'China Telecom Corp. Limited': 1, 'Traffic Control Tech': 1, 'Undervalued Oil': 1, 'British Petroleum': 1, 'ENI': 1, 'Saudi Aramco': 1, 'Balances': 1, 'Fidelity?I': 1, 'NTT': 1, 'Into': 1, 'Telus IoT': 1, 'NYSE Arca': 1, 'HON / LMT': 1, 'WMT / COST / PG / PEP': 1, 'CVX / PSX /': 1, 'AAPL / MSFT / CRM': 1, 'ROK': 1, 'DRE / DLR': 1, 'Long Term Sector': 1, 'LVS / GM / BABA\\n3': 1, 'ECL / GOLD / NEM / LTHM': 1, 'JNJ / PFE\\t\\t\\n': 1, \"capI'm\": 1, 'Georgia?Happy New Years': 1, 'JD BABA': 1, 'PDD': 1, 'Contact Energy': 1, 'QSI': 1, 'Dividend Growth Fund': 1, 'PRDGX': 1, 'Started Trading 2 Months': 1, 'Brokerage Acc': 1, 'EtoroIs Etoro': 1, 'NWARF -86%': 1, 'New Hires': 1, 'ARK Invest - Discrepancies?[removed]': 1, 'growth?For': 1, 'Vanguard All World': 1, 'ALERT🚨 ALERT🚨': 1, 'GLOBAL CLEAN ENERGY UCITS': 1, 'Best Psychedelic': 1, 'CRWD FSLY ZM': 1, 'the Lifecycle Trade': 1, 'XPengTesla': 1, 'Tesla Cuts Prices': 1, 'election?There': 1, 'PROJEKT REDThey': 1, 'FART': 1, 'BFCH': 1, 'Project Gotham Titanhttps://www.palantir.com/palantir-gotham/titan/': 1, 'Personal Fund +113.29% Charity Fund': 1, 'Family Fund +719%': 1, 'Friends &': 1, 'THE MAJOR FUTURES INDICES AS OF THURSDAY!](https://i.imgur.com/5egoYkS.png': 1, '# Conagra Brands': 1, 'MSC Industrial Direct Co. Inc.': 1, 'ESTIMATES!](https://i.imgur.com/wKzyMxp.png': 1, 'Beyond, Inc.': 1, 'CHART!](https://i.imgur.com/32Ma7rG.png': 1, 'Third Point': 1, 'Long-Term Treasuries': 1, 'IWO': 1, 'UNF&amp;ty': 1, 'Walgreens Boots Alliance Inc': 1, 'Troy Ltd.': 1, 'Rupkey': 1, 'the Russell 2000 Growth': 1, 'House of Representatives': 1, 'Walgreens Boots Alliance': 1, 'RPM&amp;ty': 1, 'Long Term US Treasuries': 1, '# Growth Dragging on Small Caps\\n\\n&': 1, 'ESTIMATES!](https://i.imgur.com/cDQHHqx.png': 1, 'MUFG Union Bank': 1, 'UniFirst Corporation': 1, 'ESTIMATES!](https://i.imgur.com/ZAbC0jw.png': 1, 'Brock ValueHappy New Year': 1, 'the Brock Value': 1, 'Buffet Indicator': 1, 'PowerShare CleanTeach': 1, 'Y!Finance': 1, 'AbroadHey': 1, 'ICLN Going': 1, 'WarnerMedia’s': 1, 'NBCUniversal’s CMCSA Peacock': 1, 'Microsoft MSFT': 1, 'Robinhood Free': 1, '2021 - Stock Predictions!2021': 1, 'The Reliability Of Stock': 1, 'General Direction/Advice': 1, 'NNDM &': 1, 'Hydrogen Stocks[removed': 1, 'ESPORT': 1, 'Redfin Now, Redfin Mortgage': 1, 'MOOMOOhas': 1, 'Social Capital(IPOC': 1, 'SPREE': 1, 'Triad Pro Innovators': 1, 'Pro Innovators': 1, 'Corsair &': 1, 'Microsoft - 20%': 1, 'Financial Education Jeremy’s': 1, 'FEJ': 1, ':*\\n\\n&': 1, 'Shopify, Etsy,': 1, 'Oxcidental Petroleum': 1, 'Knr': 1, 'W/L': 1, 'APPT': 1, 'W/L of': 1, 'JMIA': 1, 'OPTT': 1, 'PYPL &': 1, 'Project Layla': 1, 'kokv87/now_is_the_time_to_take_on_risk/': 1, 'scam](https://www.reddit.com': 1, 'LSD': 1, 'legit](The Immune Tolerance Institute': 1, 'actually](https://reddit.com': 1, 'Canopy Growth Pharmaceuticals': 1, 'Ottawa/ Gatineau': 1, 'ARGK': 1, 'Brookfield Renewable &': 1, 'BIPC': 1, 'BIP': 1, 'Brookfield Infrastructure': 1, 'Bitcoin': 1, 'Corbus Pharmaceuticals': 1, 'the Shiller P/E': 1, 'Transportation and Logistics Systems Inc.': 1, 'the Retail Trader': 1, 'ATRP': 1, 'Average True Range Percent': 1, \"portfolios?I'm\": 1, 'Nio Places': 1, 'ICLN VS': 1, 'WarningAny': 1, 'QSLooks': 1, 'UWJuyam](https://imgur.com': 1, 'Publix Supermarket': 1, '\\\\[prices\\\\]([https://imgur.com/a/30mFM6A](https://imgur.com/a/30mFM6A': 1, 'Siemens Energy AG': 1, 'Siemens EnergyHi': 1, 'Siemens Energy': 1, 'DraftkingsHello': 1, 'Nio Certified': 1, 'Cathie Wood of Ark': 1, 'Velocys': 1, \"VLS)?They've\": 1, 'ABC Energy': 1, 'XYZ Foundations': 1, 'RLH': 1, 'Lion Hotels Corporation': 1, 'Red Lion Hotels Corp.': 1, 'the AliBaba Group': 1, 'XIAOMII': 1, 'SamGulinello/TraderPy)\\n\\n&': 1, 'Python - Looking': 1, 'Contributors[https://github.com/SamGulinello/TraderPy](https://github.com/': 1, 'I Am Underage': 1, 'YungBillionaire': 1, 'Ark Invest Management': 1, 'CRNVL': 1, 'page](https://i.imgur.com/BQDstaZ.png': 1, 'iBuyers': 1, 'Tattoo Chef TTCF': 1, 'Grid Dynamics Holdings, Inc.': 1, 'Support/Resistance Levels](https://www.investopedia.com': 1, 'Bollinger Band': 1, 'Grid Dynamics Holding Inc.': 1, 'Grid Dynamics': 1, 'Central': 1, 'ChaSerg Technology Acquisition Corp.': 1, 'here](https://imgur.com/a/2eGaKuN': 1, 'Grid University': 1, 'Accumulation/Distribution](https://www.investopedia.com': 1, 'ACETQZZ': 1, 'Nio being': 1, 'Weekly Update': 1, \"Qualcomm's Snapdragons\": 1, 'U.S. Senate': 1, 'Financial Reports': 1, '📟': 1, 'Gitlab': 1, 'the Roku Channel': 1, 'Acquire Quibi’s': 1, 'NASDAQ IPO’s': 1, 'WIRE)-- Palantir Technologies Inc.': 1, 'Palantir-Technologies-Expands-Japan-Business-with': 1, 'RDP': 1, 'SOMPO': 1, 'OCUGENOcugen': 1, 'FINANCIALS': 1, 'CDF': 1, 'ROKU &': 1, 'Apple, Nvidia': 1, 'Walgreens &': 1, 'Peloton &': 1, 'memo](https://ibb.co/qyBfzrq': 1, 'numbers](https://ibb.co/Km8px8X': 1, 'DELTA': 1, 'Roku’s': 1, 'Financials, Real Estate &': 1, 'revenue](https://ibb.co/NWBrC3s': 1, 'Health Care': 1, 'the Financial, Travel and Energy': 1, 'Consumer Cyclicals and Communications': 1, 'Alibaba, Shopify, Palantir': 1, 'markets](https://ibb.co/sjvZMrx': 1, 'the Biotech and Oil &': 1, 'kci399/my_tesla_stock_price_predictions_buy_or_sell/': 1, 'Collaborative Work Management Company Poised': 1, 'Market Value': 1, 'ETF?Hello': 1, 'Brookfield Property Partners': 1, 'Brookfield-Asset-Management-and-Institutional-Partners-Propose-to-Acquire-100-of-the-Units-of-Brookfield-Property-Partners-Not-Owned': 1, 'JPM - 4%': 1, 'JNJ - 5%': 1, 'VWForget': 1, 'JB Strabuel &': 1, 'Tesla?I': 1, 'Switchback Energy': 1, 'HMC?Honda': 1, 'Investments': 1, 'NIKLF': 1, 'THE STRONG REVENUE INCREASE': 1, 'CENTOGENE': 1, 'Yahoo Finance[removed]': 1, 'GMBL (Esports Entertainment': 1, \"downI'm\": 1, 'the American Society': 1, '2020 Stock Market Review | Leap of Fate': 1, 'Stock Market Outlook &': 1, 'the 2020 Stock Market Review[removed]': 1, 'the 2020 Stock Market Review': 1, 'the Leap of Fate': 1, 'Chinees exchange': 1, 'Paysafe Acquisition': 1, 'ASCO': 1, 'TYMEBEDMINSTER': 1, 'the American Society of Clinical Oncology': 1, 'the American Society of Clinical Oncology (Pancreatic Cancer': 1, 'Tyme Technologies, Inc.': 1, 'Maxar Tech': 1, 'Teledyne': 1, 'Flir Systems Inc. FLIR': 1, 'Technologies Inc. TDY': 1, 'Lithium Americas Corp.': 1, 'Thacker': 1, 'Cauchari-Olaroz': 1, 'The Hartman Group': 1, 'QuantumScape Corporation (QS': 1, 'the WIKI/Pinned': 1, 'Anta Sports': 1, 'Vermögen': 1, 'EAEG Gesetzt': 1, 'Hello Folks': 1, 'CDLX 4/16/2021': 1, 'Major Option Purchases': 1, 'this Target Flow': 1, 'CDLX': 1, 'VTI/VOO': 1, 'TTCF’s': 1, 'Shenzen': 1, 'Uranium/Lithium': 1, 'BIGC': 1, 'SPYG 5.56': 1, 'NewCo': 1, 'OCGN': 1, '6300 EV': 1, 'German Stock Exchanges': 1, 'GRWG - 6.32%': 1, 'PST H - 8.63%': 1, 'Stoch.': 1, 'Dear Interactive Brokers Prospective Investor': 1, 'IPOI': 1, 'PredictionsLet': 1, 'JND': 1, 'US China': 1, 'Oanda': 1, 'BFTR': 1, 'BTEK': 1, 'MGM NEE NRG AFL UAL': 1, 'FDMT - Nice': 1, 'EM SRI EOC': 1, '€ - X(IE)-MSCI': 1, 'Mid-Large': 1, 'ARK/ICLN': 1, 'XLK/VGT': 1, 'AAPL/MSFT': 1, 'National Health Service': 1, 'Booking.com': 1, 'Stock Advisor': 1, 'BillionBased': 1, 'China &': 1, 'CAPEX](https://ibb.co/HN2zPGF': 1, 'Election](https://ibb.co': 1, 'Real Estate, Utilities &': 1, 'FACTOR](https://ibb.co/Lzzvr0N': 1, 'VtxQdmk': 1, 'TODAY](https://ibb.co/FDyT24L': 1, 'The National Guard': 1, 'Breaker': 1, 'APA Corp.': 1, 'TCF': 1, 'The Institute for Supply Management': 1, 'Jefferies': 1, 'Xiami Music': 1, 'First Solar’s': 1, 'APA&amp;ty': 1, 'JEF': 1, 'APA': 1, 'Associated Press': 1, 'NBC News': 1, 'Ossoff': 1, 'Biden Electoral College': 1, '2!](https://i.imgur.com/HP8dMVe.png': 1, 'Apache Corp.': 1, 'TCF Financial': 1, 'JEF\\n\\n&': 1, 'Check-Cap': 1, 'ByD': 1, 'GA Senate': 1, 'VP': 1, 'EEA': 1, 'Revolut Trading Limited': 1, 'the Financial Conduct Authority': 1, 'RTL': 1, 'Magnetic Levitation Train': 1, 'OFV': 1, 'PUBMMagnite,': 1, 'PubMatic': 1, 'Perion Network': 1, 'WestJet': 1, 'AALP': 1, 'C3AI': 1, 'Virgin Galactic SPCEUnfortunately Virgin Galactic': 1, 'Contemporary Amperex Technology': 1, 'Long Term Capital Gains': 1, 'First Solar - Opportunity': 1, 'Goldman SachsAnyone': 1, 'Imperium Motors': 1, 'Skywell': 1, 'DGST': 1, 'Retail/Institutional?I': 1, 'URA': 1, 'Brain &': 1, 'NTSB': 1, 'TME - Tencent': 1, 'TDK Corp': 1, 'Caterpillar Inc': 1, 'VOLT': 1, 'WisdomTree': 1, 'VOLT - Battery Solutions': 1, 'GEM Co Ltd': 1, 'Mineral Resources Ltd': 1, 'Solaredge Technologies Inc': 1, 'the Executive Order': 1, 'The Executive Order': 1, 'Vortex Consolidating': 1, 'NSA - Fantastic': 1, 'ZOMthere': 1, 'Alipay[https://www.nasdaq.com': 1, 'Fiat-Chrysler': 1, 'the Leading Beauty Care Services': 1, 'Post-COVID Reopening': 1, 'AOC': 1, 'Suggestions - Investors': 1, 'SiriusXM': 1, 'American Century Focused Dynamic Growth': 1, 'Motley Fool Blast': 1, 'GuruFocus': 1, 'ICELANDAIR GROUP HF': 1, 'ICELANDAIR': 1, 'ISK': 1, 'the Centre for Gambling Research': 1, 'the University of British Columbia': 1, 'Lidar Technology SPAC': 1, \"HEAR)I'm\": 1, 'IWD': 1, 'AST': 1, 'Debit/Credit Spreads - Gains': 1, 'U.S. News &': 1, 'Stock WarrantsAre': 1, 'World Report': 1, 'VTI/VXUS': 1, 'Vanguard Fund': 1, 'CRWD\\n\\n&': 1, 'PAYPL': 1, 'the iShares Healthcare Innovation': 1, 'DOW Inc': 1, 'Short Term dip?Is': 1, 'Fujitsu Contract[removed]': 1, 'Fujitsu’s': 1, 'Fujitsu’s DX': 1, 'PalantirTech': 1, 'ERP Suite': 1, 'the Georgia Runoff': 1, 'NISSAN': 1, 'Utilities &': 1, 'Alipay &': 1, 'the Georgia Election': 1, 'OptumInsight': 1, 'United Healthgroup': 1, 'Bloomberg\\n\\n': 1, 'UnitedHealth’s': 1, 'CHNG': 1, 'Change Healthcare': 1, 'the Big Board': 1, 'Royal Dutch Shell - Worth': 1, 'Royal Dutch Shell Stock - Worth': 1, 'Telos Corporation)?I': 1, 'European/ Emerging': 1, 'Hannon Armstrong': 1, 'Goodfood Market': 1, 'HelloFresh': 1, 'the KCSA Cannabis Investor Conference Hosted': 1, 'VirtualInvestorConferences.com': 1, 'Acquired Sales Corp.': 1, 'Bail': 1, 'Blue’s': 1, 'NVDA[removed]': 1, 'MacBook Pro': 1, \"Boost Apple Silicon's\": 1, 'Nikkei Asia': 1, 'iMac': 1, 'TrendForce': 1, 'EBANG International Holdings': 1, 'Active': 1, 'the Options Market Predicting a Spike': 1, 'Zacks Consensus Estimate': 1, 'the Broadcast Radio and': 1, 'Zacks Industry Rank': 1, 'Television': 1, 'Atossa Therapeutics': 1, 'Scotiabank': 1, 'stock\"/pink': 1, 'NIU Technologies': 1, 'NIU)I': 1, 'Going Concern': 1, 'IMH': 1, 'Nationstar': 1, 'NIM': 1, 'NFI': 1, 'SDH': 1, 'RECORD NOT INCLUDING SR INSIDE STREET NAMES': 1, 'NFI Novastar Financial Inc': 1, 'Newcastle Inv Group': 1, 'Newcastle Inv Corp': 1, 'NationStar': 1, 'NOVC ex Board Member at DX (per DX 8K Igdaloff': 1, 'EJF Capital': 1, 'Fortress': 1, 'Bpts WAC': 1, 'NOVC &': 1, 'Novation Companies Inc.': 1, 'Service Rights Transfer Agreement': 1, 'S-8': 1, 'NOVC': 1, 'CPA Firm Boulay Group': 1, 'NYSE NFI': 1, 'Novation Co NOVC': 1, 'Mgt Fees (Fortress': 1, 'COOP': 1, 'SoftBank Group Corp Masa Son': 1, 'the Turnaround of the Year': 1, 'SRTA Service Rights Transfer Agreement Sec 5.04': 1, 'VA': 1, 'HCS': 1, 'NFI Cleanup Call Rights CCR': 1, 'NQM': 1, 'CoB of NOVC': 1, 'NOVC Board': 1, 'OCN': 1, 'NCT': 1, 'Bond Remittance Reports': 1, 'PS D-1': 1, 'MREIT Novastar Financial Inc.': 1, 'CSB': 1, 'PS Ser': 1, 'K DX Board Fee': 1, 'CCR': 1, 'NRZ Equity': 1, 'Discord Server For Daily Watchlists etc.[removed]': 1, 'Metromile': 1, 'Unreal Engine &': 1, 'QFII': 1, 'The Cyprian Govt': 1, 'Nasdaq-100': 1, 'EU Govts': 1, 'Chinese Institutional Investment': 1, 'the \"Great Firewall': 1, 'the Chinese Govt': 1, 'the EU Parliament': 1, 'the US Govt': 1, 'Democratics': 1, 'Murphy Oil Cooperation Huge': 1, 'IFRA': 1, 'Legalizing Sports Betting': 1, 'NY - Draftkings': 1, 'Renewable Energy StocksSo': 1, 'Cleanspark': 1, 'ALPHA': 1, 'RIOCAN\\n2': 1, 'NIO\\n2': 1, 'Tencent to China Stock': 1, '#CBD Set': 1, '#Cannabis &': 1, 'HSD': 1, 'Securities and Exchange Commission': 1, 'Krohn': 1, 'RICH QUICK](https://twitter.com/TikTokInvestors/status/1346139667939340289?s=20': 1, 'secrets](https://twitter.com/TikTokInvestors/status/1343606698896973825?s=20': 1, 'Trend': 1, 'FoolIf': 1, 'Motley Fool Premium Stock': 1, 'Ruger': 1, \"The New Hires And Work Force They've Been Having To Pay, Along With\": 1, 'Nikola Current Stock Pre Pre Market': 1, 'I Predict The Stock Currently To Be': 1, \"Nikola's\": 1, 'Flames': 1, 'AHA': 1, 'Remington': 1, 'HRB': 1, 'ESPR - Esperion Therapeutics': 1, 'Esperion Therapeutics': 1, 'China Telecom Corp': 1, 'YY': 1, 'CDW - Nice': 1, 'the Capital Hill': 1, 'SNDL - Canadian': 1, 'The Container Store’s': 1, 'The Home Edit’s': 1, 'TCS': 1, 'May Q4': 1, \"The Home Edit's\": 1, 'Gun Stocks TodayThis': 1, 'Blue Wave': 1, '7.5B': 1, 'P/S for': 1, 'BioPlastic Stock': 1, 'Founders Advantage Capital Corp.': 1, 'NCTY': 1, 'Income Tax': 1, 'Agains': 1, 'the Stock and Investing Market': 1, 'NoviceWhat': 1, 'the Fed Balance Sheet': 1, 'F &': 1, 'the Industrials, Financials, Green Energy &': 1, 'NIO, ROKU': 1, 'Sunrun, &amp': 1, 'Financials, Energy and Materials': 1, 'MARKET](https://ibb.co/XpbdM7p': 1, 'Solar, Pot &amp': 1, 'Amendment\\n\\n&': 1, 'Trump’s Cabinet': 1, 'the Labor Department': 1, 'Snow Lake Capital': 1, 'Capitol Police': 1, 'Snow Lake': 1, 'the National Republican Senatorial Committee': 1, 'The National Association of Manufacturers': 1, 'U.S. Covid': 1, 'MGM China': 1, 'National Security': 1, 'Bank of America Securities': 1, 'Consumer Electronics Show': 1, 'MGM\\n\\n&': 1, 'Cayman': 1, 'CHWY': 1, 'Greenwich Life Sciences': 1, 'the Democratic Party': 1, 'Bolero': 1, 'PM/AH': 1, 'Dojis': 1, 'SIGNIFICANT': 1, 'UPST)A': 1, 'WAPO': 1, 'Palantir Technologies - GuruFocus.com](https://www.gurufocus.com': 1, 'iv_dcEarning/PLTR/Intrinsic-Value:-DCF-(Earnings-Based)/Palantir%20Technologies#:~:text': 1, 'XNET': 1, 'CatalystMorgan': 1, 'AAPL 3.89%': 1, 'ICLN 10%': 1, 'play?Big Tobacco': 1, 'Spruce Point - stock': 1, 'PTD': 1, 'VEA': 1, 'AVWAP': 1, 'Tyco': 1, 'Qwest': 1, 'GLNCY': 1, 'DDDnan': 1, 'Bezoz': 1, 'Valero’s': 1, 'MeepCity': 1, 'Microgrid': 1, 'TeslaIve': 1, 'ARKW ARKG VOO ICLN': 1, 'Flatex': 1, 'CTEC': 1, 'ARGGD': 1, 'rich\"DQ': 1, 'ArcLight Clean Transition': 1, 'Sunworks ie SUNWSolar company': 1, 'Loeffler': 1, 'Donald Trumps Stores': 1, 'the Federal Aviation Administration’s': 1, 'the U.S. Justice Department': 1, 'Lion Air Flight': 1, 'Boeing’s': 1, 'Ethiopian Airlines': 1, 'the Justice Department’s Criminal Division': 1, 'TeslaWhat': 1, 'IRT': 1, 'ILPT': 1, 'Blink Charging Announces Proposed Public Offering': 1, 'Apple loomshttps://9to5mac.com/2021/01/07/apple-car-tesla-executives-report/': 1, 'Executive': 1, 'Houses': 1, 'B2C': 1, 'XNYIF': 1, 'YLCO': 1, 'ITW &': 1, 'learned2020': 1, '$PLUG’s FutureSo': 1, 'IMMR?I': 1, 'MSFT / AMZN': 1, 'CUNTHAIR': 1, 'Schwab Slices': 1, 'TKD': 1, 'an American Depository Reciept': 1, 'Vestas)Wind Energy Market': 1, 'Wind Energy': 1, \"Tesla?I've\": 1, 'Ballard Power Sys': 1, 'Xiaomi': 1, 'Invesco Mortgage Capital': 1, 'Great Value': 1, 'BLOW UPARK': 1, 'DDD/': 1, 'IDEX Ideanomics': 1, 'ARBKF BTC': 1, 'BlockchainSo': 1, 'The Labor Department’s': 1, 'GT&amp;ty': 1, 'NIU&amp;ty': 1, 'Micron’s': 1, 'KeyBanc': 1, 'SWI&amp;ty': 1, 'FFIV&amp;ty': 1, 'DHI&amp;ty': 1, 'Hershey’s': 1, 'HGV': 1, 'StabilityHello': 1, 'NOKI': 1, 'ERIC': 1, 'the moon?🚀': 1, 'Goldman Sachs](https://www.modernreaders.com/news/2020/12/31': 1, 'Credit Suisse](https://www.modernreaders.com': 1, 'CELG': 1, 'QQQS -13.57%': 1, 'BYND -10.31%': 1, 'Buttigieg': 1, 'buy?PLUG': 1, 'CRSPI': 1, 'the Bloomberg Terminal': 1, 'First Investment for Long Term Growth[removed]': 1, 'ChinaNew': 1, 'MGM Casinos': 1, 'SPLP': 1, 'SPLP / Handy &': 1, 'See Steel Excel': 1, 'STCN - Micro-cap': 1, 'Steel Partners': 1, 'HNH': 1, '\\\\~40-55%': 1, 'Kennedy Capital': 1, 'Aviat Networks (AVNW': 1, 'GAMCO Investors': 1, 'GAMCO': 1, 'CarParts.com’s': 1, 'The U.S. Auto Parts': 1, 'CarParts.com': 1, 'Auto Parts Network, Inc.': 1, 'CarParts.com](https://cts.businesswire.com': 1, 'CarParts.com&amp;index=1&amp;md5': 1, 'Multiple Expansion To Drive The Stock[removed]': 1, 'CyberArk': 1, 'SweetWater Brewing Company': 1, 'Mike Albert Fleet Solutions': 1, 'NIO, WKHS, XPEV': 1, 'XETRA': 1, 'campTesla Inc.': 1, 'Nio Inc. NIO': 1, 'Bloom Energy Corp. BE': 1, 'Facebook Inc.’s': 1, 'PINS?I': 1, 'Long Term Capital Gains Trade Date': 1, 'GIS General Mills Inc -': 1, 'MIFID': 1, 'MIFIC': 1, \"rising?I'm\": 1, 'TSLA](https://us.etrade.com': 1, 'Wal-Mart': 1, 'the Percentage Owned of Each': 1, 'Institutional InvestorsNot': 1, 'Stock Investing + Options Trading Bundle + Free Group Access': 1, 'Beginner Tradingview': 1, 'Takeda Pharmaceutical': 1, 'JD, Tencent': 1, 'the Treasury Department': 1, 'Deutsche Bucht': 1, 'Northland Power IncNorthland Power Inc.': 1, '\\\\~$27': 1, \"Motley Fool's Paid\": 1, 'Stock Advisors &': 1, 'FebruaryRoblox': 1, 'all?I': 1, \"TSLA?I've\": 1, 'American Virtual Cloud Technology': 1, 'FISVX': 1, 'BRAND': 1, 'Lenovo': 1, 'WealthSimple’s': 1, 'ID.3': 1, 'MEB': 1, 'Lamborghini': 1, 'Pershing Square &': 1, 'Starbucks, Restaurant Brands International': 1, 'Lowes': 1, 'Howard Hughes &': 1, 'PCR': 1, 'ICNL': 1, 'Taiwan Semiconductor Manufacturing': 1, 'ARKG?I': 1, 'N.IO': 1, 'H2': 1, \"Opinion)I'm\": 1, 'Bad Investment Advice': 1, 'DEL': 1, 'Aerospace, Travel': 1, 'Commerce': 1, 'StartedHey': 1, \"Kellogg's\": 1, 'Horizon Technology Finance': 1, 'K/GIS': 1, 'ATT': 1, 'TPVG': 1, 'VZ &': 1, 'Andre Kostolany &': 1, 'Arktrack.com': 1, 'EMM &': 1, 'HKD': 1, 'the American Flag': 1, 'PureStorage': 1, '2 Hersheys': 1, 'PalantirWas': 1, 'Jeremey Grantham': 1, 'Late-Stage Stock Market Bubble': 1, 'Solar Energy and Space': 1, 'Isle of Man': 1, 'Pontianak': 1, 'Flightradar24.com': 1, 'IndonesiaHeads': 1, 'NAD': 1, 'HUD': 1, 'NIO DAY': 1, 'Expressway': 1, 'NOMI AI': 1, 'ARK —&': 1, '150kw': 1, 'Develop a New Generation of Automated Driving Electric': 1, 'NIO Partners': 1, 'Politics': 1, 'Princeton University': 1, '# Albertsons Companies': 1, 'Consumer Discretionary, Energy, Health Care': 1, 'ESTIMATES!](https://i.imgur.com/qKlnVyr.png': 1, 'CHART!](https://media.bespokepremium.com/uploads/2021/01/010821-': 1, 'Financials': 1, 'CHART!](https://media.bespokepremium.com/uploads/2021/01/010821-RS.png': 1, '# Earnings': 1, 'AZZ Inc.': 1, 'Financials, Health Care': 1, 'Communication Services and Technology': 1, 'naBACT7.jpg': 1, 'Real Estate, Utilities': 1, 'CMC&amp;ty': 1, 'AZZ': 1, 'CHART!](https://media.bespokepremium.com/uploads/2021/01/010821': 1, 'Consumer Discretionary, Health Care, Industrials, Materials': 1, 'Akerna': 1, 'ESTIMATES!](https://i.imgur.com/mitgWeG.png': 1, 'BlackRock, Inc.': 1, 'DAL&amp;ty': 1, 'Arcturus (ARCT': 1, 'TSM&amp;ty': 1, 'Consumer Discretionary': 1, 'ESTIMATES!](https://i.imgur.com/mfw4byl.png': 1, '# Citigroup, Inc.': 1, 'Energy, Materials': 1, 'BLK&amp;ty': 1, 'Daimler’s': 1, 'HistoryBefore': 1, 'Monogram Orthopedics Pre-IPO': 1, 'Fox Business for Monogram Orthopedics': 1, 'Start Engine': 1, 'Lifetime Savings ISA': 1, 'Microsoft Surface/Word/Excel/LinkedIn/Teams/Cloud Services/Github': 1, 'Lithium-Ion': 1, 'FAANGMT': 1, 'NIO DAY VIDEO RECAP[removed]': 1, 'Patreons/Youtube': 1, \"the Zurich Life's\": 1, 'Global Fund': 1, 'Cyber Securities\\n\\n&': 1, 'SEAWEED': 1, 'Apparel Seaweed': 1, 'Biofuel, Food, Pharma': 1, 'Vanguards Total World Stock': 1, 'Credit Default Swaps': 1, 'fillerfillerfillerfillerfillerfillerfillerfillerfillerfillerfillerfillerfillerfillerfillerfillerfillerfillerfillerfillerfillerfillerfillerfillerfillerfillerfillerfillerfillerfillerfillerfillerfillerfillerfillerfillerfillerfillerfillerfillerfillerfillerfillerfillerfillerfillerfillerfillerfillerfillerfillerfillerfillerfillerfillerfillerfillerfillerfillerfillerfillerfillerfillerfillerfillerfillerfillerfillerfillerfillerfillerfillerfillerfillerfillerfillerfillerfillerfillerfillerfillerfillerfillerfillerfillerfillerfillerfillerfillerfillerfillerfillerfillerfillerfillerfillerfillerfillerfillerfillerfillerfillerfillerfillerfillerfillerfillerfillerfillerfillerfillerfillerfillerfillerfillerfiller': 1, 'Congress/Executive': 1, 'Congress/Executive Branch': 1, 'Wellness - 7%': 1, 'The Medical Cannabis': 1, 'Global Clean Energy - 15%': 1, 'NIO/NVDA': 1, 'KW/h': 1, 'Morgan Stanley Acquired': 1, 'Vale S.A.': 1, 'Vale SA': 1, 'Rostekhnadzor': 1, 'ARK Operation Expenses/Management': 1, 'PlayThis': 1, 'T. I’m': 1, 'Roth IRA.I’m': 1, 'BeyondWith NIO day': 1, 'MondayI’m': 1, 'RWM': 1, 'DOG': 1, 'Fintwit': 1, 'Thoughts / Suggestions': 1, 'Schwab)So': 1, 'Therapeutics AG |4%|': 1, 'Group Holding Ltd |4%|\\n|CRSP|Crispr': 1, 'Inc |4%|': 1, '|TSM|Taiwan Semiconductor Mfg |4%|\\n|AMZN|Amazon.com|4%|\\n|DIS|Walt Disney Co': 1, 'Technologies AG': 1, 'VGT - Computers/Finance': 1, 'PortfolioHey': 1, 'NIO USA': 1, 'Snapdragon': 1, 'NIO ET7': 1, 'the 3rd Generation Qualcomm': 1, 'Carta': 1, 'ONCT': 1, 'GTBP': 1, 'Nordstrom Stock Possibly Returning': 1, 'Nordstrom’s': 1, 'FWWFX': 1, 'ZUO': 1, 'Siemens Gamesa Renewable Energy': 1, 'ITM Power': 1, 'FCH2-JU': 1, 'ITM Power for Oster Project': 1, 'The Fuel Cells': 1, 'OYSTER': 1, 'Orsted': 1, 'SIGL': 1, 'Stock and Business': 1, 'lemonade?LMND': 1, 'NioHello': 1, 'Turbo/': 1, 'Signal Advance': 1, 'ItalyHello': 1, 'Cloverhealth': 1, 'the \"Stock Trader\\'s': 1, \"Stock Trader's\": 1, 'FinViz': 1, 'Indiabulls Housing': 1, 'Arkk': 1, 'COR': 1, 'KRX:035420': 1, 'Overvalued': 1, 'Sinch AB': 1, 'Illumina Inc.](https://www.bloomberg.com/quote/': 1, 'SoftBank’s': 1, 'Firm Pacific BiosciencesSoftBank Group Corp.': 1, 'chart](https://imgur.com/PN59KW2': 1, 'chart](https://imgur.com': 1, 'chart](https://imgur.com/Z5TFn1w': 1, 'ARCT': 1, 'Mid-Term / No Pennystocks / Growth Potential': 1, 'VTTSX': 1, 'the Bureau of Land Management': 1, 'Lithium Americas': 1, 'Citroen': 1, 'TwitterFollowing': 1, 'Magna International Inc.': 1, 'Sarepta Therapeutics, Inc.': 1, 'SRPT': 1, 'PnD penny': 1, 'REC': 1, 'Violet Power': 1, 'REC Solar': 1, 'Violet Power’s': 1, 'Property Solutions': 1, 'Faraday Futures': 1, '🌶': 1, 'AffirmPetco': 1, 'Penney Stock': 1, 'GOING': 1, 'Clean Energy Fuels Corp': 1, 'the Zero Now Program': 1, 'Redeem': 1, 'Programs:*': 1, 'Compressed Natural Gas': 1, 'Waste Management': 1, 'Renewable Natural Gas': 1, 'Republic Services': 1, 'Republic Services,': 1, 'Partnerships &': 1, 'CLNE @': 1, 'Zero Now &': 1, 'Clean Energy Fuels Corp.': 1, 'Liquefied Natural Gas': 1, 'FritoLay': 1, 'Bidens’ Blue Wave': 1, 'the &gt;80%': 1, 'AP Macro': 1, 'WatchlistWas': 1, 'Accenture': 1, 'NRG/NIO/PLUG/FCEL/ICLN[removed]': 1, 'the top.[removed]': 1, 'GOV': 1, 'UBI': 1, 'gov?I': 1, '$SCR Group': 1, 'Exponential Price MovementsCompiled': 1, 'FridayFor': 1, 'Alta Group': 1, 'Komatsu': 1, 'Titan Machinery': 1, 'IPOE - SoFi Merger[removed]': 1, 'Student Loans': 1, 'IPOE - Merging': 1, 'Before Interest Tax Depreciation': 1, 'SoFI': 1, 'Whitehouse': 1, 'Inc (CRM': 1, 'Advanced Micro Devices Inc': 1, 'Coupa Software Inc': 1, 'Intel Corp': 1, 'Slack Technologies': 1, 'Vertex Pharmaceuticals Incorporated': 1, 'Crowdstrike Holdings Inc': 1, 'Texas Instruments Inc': 1, 'Nvidia Corp': 1, 'Salesforce.com': 1, 'SmarTrack': 1, 'Analog Devices Inc': 1, 'Vertex Pharmaceuticals': 1, 'Invesco QQQ Trust': 1, 'AstraZeneca PLC': 1, 'The Trade Desk Inc (TTD': 1, 'Micron Technology Inc': 1, '101st': 1, 'Taiwan Semiconductor Manufacturing Company': 1, 'Zscaler Inc': 1, 'Take-Two Interactive Software Inc': 1, 'Broadcom Inc': 1, 'Roku Inc (ROKU': 1, 'Reddit (Free': 1, 'Overall &': 1, 'DFKG': 1, 'Campbell Soup Company CPB\\n\\n* Conagra Brands': 1, 'Technologies Inc LHX': 1, 'Edison, Inc.': 1, 'European markets.[removed]': 1, 'CARES': 1, 'Canoo $GOEVThem': 1, 'Project, Carnival': 1, 'PlugPower': 1, 'Y.Sun@thomsonreuters.com': 1, 'Yilei Sun': 1, 'Tesla Inc': 1, 'Danimer Scientific': 1, 'the Nvidia CORE': 1, '104': 1, 'Affirm Holdings': 1, 'Real Estate Leading': 1, 'PRICE](https://ibb.co/vcX1Jpw': 1, 'NEWS](https://ibb.co/zJwMGgq': 1, 'Boeing](https://ibb.co/bJwt3Lt': 1, 'their Self-Driving Feature': 1, 'the Federal Budget': 1, 'Discretionary &': 1, 'XET IQQH': 1, 'FLGT Fulgent Genetics': 1, 'GOEV.I': 1, 'BDRY': 1, 'the Breakwave Dry Bulk Shipping': 1, 'Rolls Royce': 1, 'Boom': 1, 'CPS': 1, 'TSLA Transaction': 1, 'Acorn': 1, 'LMC Automotive': 1, 'NW': 1, 'NIO Stock': 1, 'EV Battery StocksSeems': 1, 'SCHWAB': 1, 'QQQN': 1, 'NIO and PLUG': 1, 'ConstructionWas': 1, 'Huge Growth Opportuntiy[removed]': 1, 'Bank Stock': 1, 'SPAXX Core Position': 1, 'SPAXX': 1, 'Projekt RED': 1, 'CFII - View Inc. DD': 1, 'Futuristic Smart': 1, 'Bank of America sayshttps://markets.businessinsider.com/news/stocks/tesla-stock-price-target-rally-fundraising-street-high-tsla-bofa-2021-1-1029956205': 1, 'Ant Group - Report[removed]': 1, 'AAL / Other AirlinesThis': 1, 'US Corp': 1, 'CompanyINMD Sells Cosmetic Medical Devices to Doctors/Dermatologists': 1, 'Grayscale Trust': 1, 'Correlation to Bitcoinnan': 1, 'ThousandairFor': 1, 'Motley Fool Stock Advisor': 1, 'guidance](https://imgur.com': 1, 'Commercial Metal Company': 1, 'The Ultimate Guide to': 1, 'Retail Investor Research': 1, 'Brown University': 1, 'SBE\\n': 1, 'NIO\\n5%': 1, 'Plug and BLNK': 1, 'NIO Proposed Offering': 1, 'Gulag': 1, 'QuantumScape QS': 1, 'SUPERTREND': 1, 'the Moving Averages Crossover': 1, 'Time Granularity': 1, 'Sub ThreadHello Guys': 1, 'Fortune Cookie': 1, 'Chrome': 1, 'Spruce Capital': 1, 'Hulu/Disney': 1, 'Favorite Youtube Stock': 1, 'the Canadian Stock Exchange': 1, 'Vortex Low': 1, 'PNW': 1, \"Investor Relations and Marketing Firm 'North Equities' + Announces\": 1, 'DISNEY': 1, 'NIKE': 1, 'Yellow Pages': 1, 'NSEC': 1, 'TeslaHello': 1, 'Faraday Future': 1, 'Delorean': 1, 'The Inevitable Regulation of FacebookArticle': 1, 'Lucid Motors Inc.': 1, 'Nio &': 1, 'OC': 1, 'deal](https://www.sierraclub.org': 1, 'BLD': 1, 'Gap/Old Navy': 1, 'the Oslo Stock Exchange': 1, 'PTSH': 1, 'RCEL': 1, 'GHG': 1, 'Net-Zero Projects': 1, 'Golden Nugget': 1, 'YouTube Channel': 1, 'New Investing Discord Server[removed]': 1, 'T2 Biosystems, Inc.': 1, \"T2 Biosystems'\": 1, 'GISAID': 1, 'the National Center for Biotechnology Information': 1, 'NEL ASA': 1, 'OTCM': 1, 'Oslo &': 1, 'NOK 34,57)D7G (Frankfurt Exchange': 1, 'Oslo Exchange': 1, 'YT Channels': 1, 'NIOhello': 1, 'the J.P Morgan Health Conference': 1, 'Real Estate, Communications': 1, 'Today](https://ibb.co/Xp3hvr0': 1, 'AFRM IPO &': 1, 'IPOWorth': 1, 'VH Global Sustainable Energy Opportunities': 1, 'WANT TO LEARNHello': 1, 'the U.S. Federal Aviation Administration': 1, 'the ministry’s': 1, 'Air Transportation Directorate General': 1, 'Sriwijaya Air': 1, 'the Flight Safety Foundation': 1, 'DOCRF\\n\\nIndustry': 1, 'Doc': 1, 'Teledoc Health': 1, 'China Passenger Car Association (CPCA': 1, 'China EV': 1, 'CLXPF': 1, 'AOT Trades': 1, 'Talon Metals': 1, 'the Tamarack Nickel Project': 1, 'Talon Metals Corp': 1, 'Clean Energy Index FundsWhat': 1, 'Genomic': 1, 'Diamondback Energy': 1, 'GenMark Diagnostics Surges 7%': 1, 'Bloomberg News’s': 1, 'Brinkman’s': 1, 'Musk’s': 1, 'Alice': 1, 'Energy Private Limited': 1, 'TSSL': 1, 'ATVK': 1, '50/': 1, 'RADAR': 1, 'beginners?Hey': 1, 'Incoming Carbon Tax': 1, 'Millennials, Wildfires in CA': 1, 'SoI': 1, 'ZOM - Zomedica - The Paradigm Shift[removed': 1, \"General Motors'\": 1, 'Chips': 1, 'Fiserv': 1, 'Bit Digital, Inc.': 1, 'FRANCISCO': 1, 'STD': 1, 'MEAN': 1, 'BYDDY - Blade Battery &': 1, 'InvestingHello': 1, \"Profit's Unlimited\": 1, \"Paul Mampilly's\": 1, 'The Near Future Report': 1, 'Eqix': 1, 'Healthspace Data Systems': 1, 'StocksTo': 1, 'MMAT( Metamaterials': 1, 'TGC': 1, 'IG &': 1, 'Stock OfferingsFor': 1, 'ALLY': 1, 'BeamTX': 1, 'Beam Therapeutics': 1, 'PCKs9': 1, 'Micron Waste Techs': 1, \"work?I'm\": 1, 'AAAAAAA': 1, 'Mines': 1, 'Ally Invest[deleted]': 1, 'CannTrust': 1, 'Carvana, Opendoor': 1, 'CLDW': 1, 'Ammo INC.': 1, 'Plant, Tripling its Manufacturing Footprint': 1, 'Construct': 1, 'Rocher Deboule': 1, 'the RecycLiCo Patented Process': 1, 'American Manganese Inc.': 1, 'Rocher Deboule Minerals Corporation': 1, 'Artillery Peak': 1, 'Omineca': 1, 'QOL': 1, 'Amazon Redshift': 1, 'ICLNI': 1, 'long+short': 1, 'Scammers': 1, 'CDAY': 1, 'LNT': 1, 'Roblox (Interactive Brokers)So': 1, 'TY': 1, 'EBIT / Total Assets': 1, 'ACTC/PTRA': 1, 'MRY': 1, 'Campbell Soup Company CPB\\n': 1, 'Global Inc SPGI\\n* Church &': 1, 'Seagate Technology PLC STX\\n': 1, 'SBA Communications Corporation': 1, 'Atlas Air Worldwide Holdings': 1, 'Amazon.com, Inc. AMZN\\n': 1, 'Church &': 1, 'American Tower Corp': 1, 'Seagate Technology PLC STX': 1, 'Consolidated Edison, Inc.': 1, 'SPG Simon Property Group Inc': 1, 'Boston Properties': 1, 'Social Media/Tech': 1, 'Fidelity National Information Servcs Inc FIS': 1, 'Specialized': 1, 'Castle International Corp': 1, 'DexCom, Inc.': 1, 'Alliant Energy Corporation LNT': 1, 'Pinnacle West Capital Corporation PNW\\n': 1, 'Coca-Cola Co KO\\n': 1, 'Health Care Equipment': 1, 'Crown Castle International Corp': 1, 'Cathies': 1, 'from](https://www.investopedia.com': 1, 'XOP)](https://finance.yahoo.com/quote/XOP?p': 1, 'the Exploration and Production': 1, 'Gas Exploration &': 1, 'EXPCI': 1, 'EXPC': 1, 'BioHarvest Sciences': 1, 'Unicorn': 1, 'Lucid Air': 1, 'Air': 1, 'Citizen': 1, 'VASIX \\\\*Vanguard Life Strategy Income Fund\\\\*': 1, 'Fair Value': 1, 'FUBO TV': 1, 'China Telecom Corp Ltd': 1, 'China Mobile Ltd': 1, 'TNXP': 1, 'the Treasury Budget': 1, 'Health Care and Communications': 1, 'FLYING](https://ibb.co/G5bP3YX': 1, 'NOTED](https://ibb.co/qWjZqmF': 1, 'PLUG Power &': 1, 'the Small Business Optimism': 1, 'Today](https://ibb.co/s3c5sMQ': 1, 'Nissan &': 1, 'Air Force': 1, 'the MBA Mortgage Applications': 1, 'gains?Top': 1, 'AUY': 1, 'QCOM 1.32%': 1, 'TGT&amp;ty': 1, 'Alphabet’s': 1, 'Trump\\n&': 1, 'KBH': 1, 'KBH\\n\\n&': 1, 'the J.P. Morgan Healthcare Conference': 1, 'Ally Financial': 1, 'KB Home': 1, 'Regeneron Pharmaceuticals': 1, 'Alphabet’s Google': 1, 'AMT&amp;ty': 1, 'The Justice Department': 1, 'Free People Group': 1, 'the Urban Outfitters Group': 1, 'Regeneron’s': 1, 'NIO&amp;ty': 1, 'House Speak Nancy Pelosi': 1, 'Stone': 1, 'Buffet\\n\\nWondering': 1, \"climateI'm\": 1, 'ZOM penny': 1, 'Carole': 1, 'Plug Power’s': 1, 'Nokiahttps://www.reddit.com/r/stocks/comments/kkpddj/what_are_your_thoughts_on_nok/gh3ourc?utm_medium=android_app&amp;utm_source=share&amp;context=3': 1, 'Fox Business': 1, 'PIPP - Pine Island Acquisition': 1, 'gainshttps://www.cnbc.com/2021/01/13/target-tgt-holiday-sales-2020-comparable-sales-jump-17percent.html\\n\\nTarget’s': 1, 'Hyndai Motor Group': 1, 'SoftBank Group': 1, \"Boston Dynamic's\": 1, 'BMO Investorline': 1, 'British Bank': 1, 'NIOI': 1, 'Palantir New Contract[removed]': 1, 'CRCQQ': 1, 'July\\\\]([https://imgur.com/a/8wW0rvd](https://imgur.com/a/8wW0rvd': 1, 'CRC(California Resources Coroporation': 1, 'GNE': 1, 'the World Just Happened': 1, 'Alfa Romeo': 1, 'DropBox': 1, 'Skyborg': 1, 'LEO': 1, 'MEO': 1, 'TITAN (Tactical Interface Tracking Application Node': 1, 'AEGIS': 1, 'kvrv7b/cathie_arkbacked_tech_innovator_kratos_defense/': 1, 'Graywolf': 1, 'HBTSS': 1, 'ZM Planning': 1, 'Moor Insights and Strategy': 1, 'Westport Fuel Systems Inc.': 1, 'Fuel Systems Inc.': 1, 'WPRT': 1, 'Blackwater/Academi': 1, 'the \"Union': 1, 'TikiTorch': 1, 'Golden Corral': 1, 'Country (EWY -Korea': 1, 'Copper Miners': 1, 'a Horizontal Support/Resistance': 1, 'Horizontal Support/Resistance*': 1, 'Disney Closing': 1, 'Historical Support/Resistance': 1, 'Historical Support': 1, 'DIsney': 1, 'Horizontal Support/Resistance': 1, 'a Historical Support/Resistance': 1, 'the Technical Analysis Series: Horizontal Support/Resistance': 1, 'Historical Horizontal Support/Resistance': 1, 'Genprex': 1, 'Genprex &': 1, 'REQORSA': 1, 'Visa / Plaid': 1, 'Shanghai Containerized Freight': 1, 'NMM': 1, 'Danaos Corp.': 1, 'CMRE': 1, 'Battery Recycling': 1, 'ABMLDD:': 1, 'Institutional Ownership': 1, 'Peer Reviewed Medical Research Program': 1, 'DOD': 1, 'The University of Texas Health Science Center': 1, 'UTHealth News': 1, \"UTHealth News'\": 1, 'Secondary MarketsHello': 1, 'Cenovus Stock Price / Husky Merger[removed]': 1, 'Dropbox?I': 1, 'Batteries': 1, 'BANT': 1, 'TargetsCan': 1, 'FCAU': 1, 'PUGOY': 1, 'Appears': 1, 'EXONE CO/THE for': 1, 'GENOMICS INC CLASS-A +117.97%': 1, 'EXONE CO/THE -42.80%': 1, 'REGENERON PHARMACEUTICALS +68.93%': 1, 'HappyAnsu': 1, \"ARK ETF's\": 1, 'SAREPTA THERAPEUTICS': 1, 'MAGNA INTERNATIONAL +228.67%': 1, 'close!76,719': 1, 'Curaçao': 1, 'the SPAC Churchill Capital Corp. IV': 1, 'AHEAD': 1, 'the Bloomberg Tracker': 1, 'Desktop Metals': 1, 'Direct Offerings': 1, 'First EV': 1, 'New Space Exploration': 1, 'Alibaba](https://www.wsj.com': 1, 'TD Ameritrade’s': 1, 'DigiTech': 1, 'CANF - Obvious': 1, 'the US Army Medical Research Institute of Infectious Diseases': 1, 'HoldingsHey Guys': 1, 'ARK ETFs': 1, 'Wall Street Bets Pumped': 1, 'risks(like': 1, '🏀': 1, 'UK Space Agency': 1, 'PowerHello': 1, 'INFO': 1, 'SPGI': 1, 'StockBets': 1, 'Weekly Millionaire': 1, 'The Office of Defects Investigation': 1, 'the National Highway Traffic Safety Administration': 1, 'MCU': 1, 'Model S': 1, 'MDS': 1, 'Orphan Drug Designation': 1, 'Ovarian Cancer': 1, 'AML Post': 1, 'Aprea Therapeutics INC': 1, 'Tolerability': 1, 'Benzinga or Investopedia': 1, 'Air Canada Stock': 1, 'ALIBABA JOINS EV SPACE': 1, 'JACK MA': 1, 'the Irish Examinership': 1, 'Job Postings - Opportunity': 1, 'Lucid E/V.': 1, 'Investor Relations': 1, 'MGLUYWanted': 1, 'the Merger - Automotive Lidar': 1, 'TRCH -DD - $': 1, 'ITM POWER - The': 1, 'Dividend\\nSCHD - 10%': 1, 'Stock Suggestions': 1, 'Synnex Corp - 7': 1, 'Tilray Inc - 32': 1, 'Enphase Energy Inc - 4': 1, 'NexTera Energy Inc - 10': 1, 'Suncor Energy Inc - 22': 1, 'the Draganfly Warrants Investments': 1, 'Draganfly Warrants InvestmentsAny': 1, 'MTN': 1, 'Waaaay': 1, 'CMI': 1, 'US Politics': 1, 'AFRM’s': 1, 'Institute of Biological Products': 1, 'Sinopharm': 1, 'Sierra Chart?Wondering': 1, 'RC Ventures LLC': 1, 'T-Mobile’s': 1, 'Their Customer Service': 1, \"Nano Dimension's\": 1, 'Comparing': 1, 'Monsanto': 1, 'Efti': 1, 'MOA': 1, 'VAT': 1, 'UPST Oriental Bank Selects Upstart’s': 1, 'Synopsys': 1, 'the Asahi Beverages Co': 1, 'NHTSAhttps://www.foxbusiness.com/technology/teslas-model-y-wins-5-star-rating-from-nhtsa\\n\\n': 1, 'Imminent': 1, 'LHX': 1, 'the Whole Industry Soaring': 1, 'Vision for Space ETF Sends': 1, \"American Ticker VRYYFI'm\": 1, 'Vesa': 1, 'ARK, PBW': 1, 'OTOH': 1, 'Woods': 1, 'BWCC': 1, 'Babcock &amp': 1, 'Wilcox Construction Co.': 1, 'Babcock &': 1, 'P.': 1, 'ApoE4': 1, 'the Nun Study': 1, 'Biogen’s': 1, 'Porphyromonas': 1, 'Allied Market Research': 1, 'Digital America': 1, 'Medi-Cal?So': 1, 'Simply Wall Street': 1, 'AMEX': 1, 'the Nest Stock': 1, 'The%205%20analysts%20offering%2012,the%20last%20price%20of%2036.54': 1, 'NanoDimension': 1, 'Hidden S P A C Stock': 1, \"Roth/Traditional IRA's\": 1, 'Withdrawal/Tax': 1, 'PECKW': 1, 'Fed Chair': 1, 'Alibaba Launches Electric Vehicle': 1, 'Biden Education': 1, 'Lions Gate Entertainment Corporation': 1, 'EarningsBot': 1, 'New Biden Education Stimulus - Good Education Stocks To Buy?Looking': 1, 'TenCent': 1, 'ISP/Phone': 1, 'Level3': 1, 'Pinduoduo Inc.](https://www.bloomberg.com': 1, 'payments](https://money.yahoo.com': 1, 'MDGS': 1, 'Fitbit': 1, 'FRIENDS': 1, 'EXPRESS': 1, 'VT/VTI': 1, 'UGL': 1, 'NCNA': 1, 'I10': 1, 'Tesla \"Electric Company Nikola \"Gas Company': 1, 'AHPA': 1, 'PLTR InvestorsARKW': 1, 'Ark Investments': 1, 'Fitbit Inc': 1, 'FIT': 1, 'Any Yahoo Finance Tracker Commission': 1, 'Yahoo Finance Portoflio Commission SettingsIs': 1, 'Virgin Galactic Shares': 1, 'EGP': 1, 'Sotch': 1, 'Biden / Clean Energy Investment: OZSC': 1, 'American Outdoor Brands': 1, 'AOUT': 1, 'Nico': 1, 'Snowflake/Tesla': 1, '🤣\\n•': 1, 'NEV': 1, 'TanTech': 1, 'TANH TanTech HoldingSo': 1, 'TANH': 1, 'Shangchi Automotive': 1, 'the Maxus Euniq 7': 1, 'Suzhou E-Motors': 1, 'Chinas': 1, 'NIO BREAKOUT': 1, 'CCIV News:': 1, 'WOOF?IPO': 1, 'F)ord': 1, 'FTRPF': 1, 'HYMC': 1, 'NASDAQ/HYMC/': 1, 'HYMC Stock Forecast': 1, 'BUY TP': 1, 'Price &': 1, 'Civil Unrest/Inauguration Day Plays[removed': 1, 'Wealthsimple TRADE': 1, 'HRC Steel Prices': 1, 'FLNT': 1, 'Investopedia.com': 1, 'around 100k USD': 1, 'Zoom, Shopify': 1, '548k USD': 1, 'Bulletin': 1, 'Aunt Cathies ARK': 1, 'Largo': 1, 'CONXF': 1, 'Largo Resources Ltd.': 1, 'Largo’s': 1, 'Freeport McMoRan Inc.': 1, 'Conic Metals Capital Corp.': 1, 'Wood Mackenzie': 1, 'WNARF': 1, 'ERMAY': 1, 'The Second Electric Revolution': 1, 'VFRB': 1, 'Bloomberg New Energy Finance': 1, 'IVPAF': 1, 'Baidu, Alibaba, Tencent': 1, 'Chinese FAANG': 1, 'Reddit Recap': 1, 'Any Interest': 1, 'the International Index Fund': 1, 'FSKAX (Total Market Index Fund': 1, 'Fidelity Tech Index Fund': 1, 'the Total International Index Fund (FTIHX': 1, 'Fidelity Indexes': 1, 'Fidelity ZERO': 1, 'ArcelorMittol': 1, 'NIO/XPEV/NIU': 1, 'PSH': 1, 'SEOVF': 1, 'ALERT🚨Robinhood': 1, 'LRNI': 1, 'Batmanhood': 1, 'LGVW &': 1, 'Pre-Market 2%': 1, 'Marvell': 1, 'Sodium Sulfur Battery Market Size Worth': 1, 'Power Industry](https://www.grandviewresearch.com': 1, 'Solid State Battery': 1, 'Grand View Research, Inc.': 1, 'MEA': 1, 'Tokyo Electric Power Company Holdings': 1, 'Sieyuan Electric Co., Ltd.': 1, 'Grand View Research,': 1, 'market](https://www.grandviewresearch.com': 1, 'FIAMM Group': 1, 'NaS': 1, 'Lithium Ion': 1, 'GE Energy': 1, 'Central &': 1, 'Middle East &': 1, 'Baillie Gifford &': 1, 'Co Scottish Mortgage Investment Trust Plc': 1, 'Global Clean Energy UCITS ETF-8%': 1, 'BGF Next Generation Technology': 1, 'BlackRock (Lux': 1, 'Global Technology Index Trust': 1, 'KNR.CN)?I': 1, 'Education': 1, 'Cannabis Industry': 1, 'Kontrol Energy Corp.': 1, 'Smart Buildings': 1, 'IOT': 1, 'Kontrol Energy': 1, 'North American EV': 1, 'Ultroniq': 1, 'European EV': 1, 'Transportation 2.0': 1, 'EVBox Troniq': 1, 'The EVBox Troniq': 1, 'Red-Hot Group': 1, 'the European EV': 1, 'TSX &': 1, 'Investment Bank': 1, 'Operating': 1, 'Keywords Studios': 1, 'KWS': 1, 'Keywords are Game Development and Functionality QA': 1, 'Keywords': 1, 'Virtuos Studios': 1, 'High Voltage Studios': 1, \"the Cathie Wood's\": 1, 'Panera': 1, 'NDLS': 1, 'University of California, Berkley': 1, 'EDIT (Editas': 1, 'Calculate P': 1, 'Desktop Metal Future Opportunity': 1, 'FNGR': 1, 'Dental Care Alliance': 1, 'BIOLASEBiolase': 1, 'Amazon Keeps Buying Pricey Jets After Promising': 1, \"Aurora Cannabis'\": 1, 'Acquire US Clinic Group': 1, 'Ideal Power Inc.': 1, 'Junction Transistor': 1, 'IPWR': 1, 'Ideal Power': 1, 'Bi-polar': 1, 'B-TRAN': 1, 'Apple, Salesforce': 1, 'Versus VS': 1, 'HIBS': 1, 'FTFT': 1, 'SGLB': 1, 'Alternators': 1, 'Polar Power': 1, 'Nowegian Air Shuttle': 1, 'Fiverr (NYSE': 1, 'SMBs': 1, 'Solar Energy': 1, 'Getting University': 1, '$PCYG &': 1, 'the EPIC Healthcare': 1, 'IPOE (Sofi': 1, 'HVC': 1, 'InvestorHey': 1, 'SCHX': 1, 'Renewable Energy &': 1, 'Match Group’s Tinder': 1, 'Rally': 1, 'JVA': 1, 'DT': 1, 'Lessons Learned[removed]': 1, 'Stock Investments -': 1, 'Amazon Stock Price Target Prediction &': 1, 'CCIV/Lucid Motors[removed]': 1, 'Borgwarner': 1, 'Illl': 1, 'Amazon, Walmart': 1, 'THE START OF EARNINGS': 1, 'ICLN -5.39%': 1, 'QCLN -5.57%': 1, 'Gevo?I’ve': 1, 'PRNHX': 1, 'NSEIX': 1, 'WOOF?I': 1, 'service](https://www.investopedia.com': 1, 'the Nuclear Energy Institute': 1, 'Beyond Inc.': 1, 'Tritton': 1, 'BOPIS': 1, 'Platinum': 1, 'AAPL &': 1, 'PlugLong 12 months &': 1, 'Short &': 1, 'Strong Cannabis Stock': 1, 'Gen Core': 1, 'Expect More Market Share Gains': 1, '&gt;Mosesmann': 1, 'LXX': 1, 'Lexaria Bioscience Corp': 1, 'Solar &': 1, 'Metal 3D': 1, '#FAANG': 1, 'AMZN-': 1, 'Cramers FAANG': 1, 'Pinterest (PINS': 1, 'Alex Voice &': 1, 'ORBC': 1, 'ORBCOMM-Wins-2021-IoT-Breakthrough-Award-for-M2M-': 1, 'Orbcomm': 1, 'company(IoT': 1, 'ORBC-Q3-2020-Earnings-Call-Transcript-10.28.20.pdf': 1, 'Amazon Alexa': 1, 'QAnon million militia': 1, 'SNES': 1, 'Leuthold Group': 1, 'UnitedHealth Group, Inc.': 1, 'ESTIMATES!](https://i.imgur.com/sGzg1tF.png': 1, 'CFRA': 1, 'uploads/2021/01/Econ-blog-1.15.21-4.png?ssl=1': 1, 'Charles Schwab Corp.': 1, 'uploads/2021/01/Econ-blog-1.15.21-5.png?ssl=1': 1, 'the December Small Business Optimism Index': 1, 'HAL&amp;ty': 1, 'NASDAQ 1.74%': 1, 's500x750/218ed920ea1a67d95ff97fd05a5b9bbdf2454805.jpg': 1, 'the Democratic Blue Wave\\n\\n&': 1, 'Halliburton Company': 1, 'Stovall': 1, 'Gamble Co.': 1, 'skrsU4T.png': 1, 'NFLX&amp;ty': 1, 'Netflix, Inc.': 1, '# Small Business Owners': 1, 'the Election Results\\n\\n&': 1, '# Bank of America Corp.': 1, 'Santa Claus Rally': 1, 'NFIB': 1, 'the NFIB Small Business Index': 1, 'uploads/2021/01/Econ-blog-1.15.21-2.png?ssl=1': 1, 'EVGM': 1, 'Dividend Income': 1, 'https://twitter.com/cnbc/status/1350468100358107139?s=21': 1, 'NFE': 1, 'GME 🚀🌚🌚🌚🌚🌚': 1, 'Converge Technology Solutions': 1, 'Advanced Amazon Web Services Partner': 1, 'CTS’s': 1, 'Identity Management, Vivvo Trust': 1, 'BC/DR': 1, 'the TSX Venture Exchange': 1, 'AI &': 1, 'Advanced Analytics': 1, 'Global Logistics': 1, 'CTSDF': 1, 'TSX Venture Exchange': 1, 'EssexTec': 1, 'Digital Infrastructure': 1, 'Gold Microsoft Partner': 1, 'Converge Technology Solutions Corp.': 1, 'Portfolio Management &': 1, 'Planning, Design': 1, 'VSS': 1, 'DataTrend': 1, 'Dragon': 1, 'DDDisclaimer': 1, 'Fools': 1, 'AGRESSIV': 1, 'EUV (Extreme Ultraviolet': 1, 'Nvdia': 1, \"crowded?I'm\": 1, 'CllG': 1, 'Mercedes-benz': 1, 'Chery': 1, 'F': 1, 'SOLOIST': 1, 'Lexicon Pharmaceuticals': 1, 'Lexicon Pharm': 1, 'Lotus': 1, 'MASSIVE': 1, 'SMART': 1, 'the QE?**Lorem': 1, 'WoW Shadowlands': 1, \"PLUG)?I'm\": 1, 'ONLN': 1, 'UUP': 1, 'Vanguard Information Technology': 1, 'Vanguard Total World Stock': 1, 'Vanguard Healthcare': 1, 'Vanguard Developed Markets ETF': 1, 'Vanguard FTSE Emerging Markets ETF': 1, 'IQOption': 1, 'BLBD': 1, 'HDV': 1, 'XBI': 1, 'SPYD': 1, 'XLB': 1, 'VAW': 1, 'MTUM': 1, 'INFINITE %': 1, 'SKYY': 1, 'EWA': 1, 'IDV': 1, 'China/HK': 1, 'IYT\\nPAVE': 1, 'BBCA - Canada - Canada': 1, 'XME': 1, 'GoevWhat': 1, 'Portfolio Stock Market News': 1, 'Paris Accord': 1, 'LAZR?I': 1, 'Amazon\\n4': 1, 'Drone Technology': 1, 'SERVICES': 1, 'Franklin Universal Trust': 1, 'First Trust Enhanced Equity Income Fund': 1, 'Melinda Gates': 1, 'Beginner - Advice': 1, '|| \\\\[\\\\[Public Service Enterprise Group|Public Service Elec &': 1, '|| \\\\[\\\\[Southern': 1, 'DUK': 1, '\\\\[\\\\[Pacific Gas &': 1, '2014)==\\n\\n&': 1, '|| \\\\[\\\\[Florida Power &': 1, 'Freetrade': 1, 'American Battery Metals CorpWith': 1, 'Google, Yahoo Finance': 1, 'CSL': 1, 'JBL': 1, 'Opinions / Recommendations Mobile Apps for Stock Alerts &': 1, 'Recommendations for Mobile Stock Apps': 1, 'BidenHow': 1, 'Banks e.g. Intercontinental Exchange[removed]': 1, 'Recommendation for Affordable Tech': 1, 'Some Tech Stocks': 1, 'Tech Stocks': 1, 'M26': 1, '0 Tech Stocks': 1, 'Anton': 1, 'ktu0we/report_goldman_sachs_is_trying_to_dump_38m_shares/)|UBER|159%|': 1, '|NIO - NIO Inc - ADR|4,956|77%|': 1, 'LLC - ARK Genomic Revolution': 1, '|AMD - Advanced Micro Devices': 1, '- Virgin Galactic Holdings Inc - Class': 1, 'the Midas Touch': 1, 'MELI?I': 1, 'the Identity and Access Management': 1, 'Healthcare, Public Sector, Education, Energy, Financial Services and Technology': 1, 'PaloAlto': 1, 'Customer Data Integrators like Segment\\n': 1, 'CyberArk\\n* Endpoint Security and Management': 1, 'Okta': 1, 'SDK': 1, 'MobileIron': 1, 'BeyondTrust': 1, 'the Okta Identity Cloud': 1, 'BetterCloud': 1, 'VMware\\n* Healthcare Technologies like': 1, 'ProofPoint\\n': 1, 'Customer Identity and Access Management': 1, 'the Workforce Identity': 1, 'Fortinet\\n': 1, 'Privileged Access Management': 1, \"Are Micro Investments Worth It?I've\": 1, 'Fanuc': 1, 'Beneficial Finance Corp.': 1, 'TPG Pace Beneficial Finance Corp.': 1, 'Avis': 1, 'kxwq2t/continuing_our_investing_journey_from_pltr_to_dtil/?utm_source': 1, 'Volkswagen Group of America': 1, 'Car.Software.org': 1, 'VW AG': 1, 'The Volkswagen Group': 1, 'XSD': 1, 'Amazon $': 1, 'the Alliance for Digital Innovation': 1, 'the TMF Board’s': 1, 'the Office of Management and Budget': 1, 'the Technology Modernization Fund': 1, 'Saccharin': 1, 'Webull’s EPS': 1, 'PFPT': 1, 'Principal Financial Group': 1, 'CIBC Asset Management Inc.1.67%\\n\\n&': 1, 'Facilities': 1, 'Hydro, Wind, Solar': 1, 'Brookfield Asset Management Inc.': 1, 'Royal Bank of Canada2.92%\\n\\n&': 1, 'TD Asset Management': 1, 'Hydro': 1, 'Inc 1.49%\\n\\n&': 1, 'Brookfield Renewable': 1, 'PBW': 1, 'Clean Energy - nuclear': 1, 'Biden/Haris': 1, 'Infra': 1, 'Negative EPS': 1, 'Broader': 1, 'NVYTF': 1, 'Alpaca': 1, 'Cleantech': 1, 'Stock Data': 1, \"Stock Data FeedsI'm\": 1, 'Bull Market  \\n\\n': 1, \"Bio Fuel Company's\": 1, 'Nikola Analysis': 1, 'Nikola Corporation': 1, 'Interest': 1, 'iRobot’s': 1, 'IRBT!&lt': 1, 'Anker Innovations Ltd': 1, 'Ecovac': 1, 'TCA': 1, 'FWD': 1, 'Anker': 1, 'Stock Trading Fundamental BasicsHi': 1, 'Powerwall': 1, 'Powerwall againhttps://electrek.co/2021/01/17/tesla-increases-price-powerwall/': 1, 'Centennial Bank': 1, 'BancShares': 1, 'Bancshares Inc.': 1, 'Canadian EV': 1, 'MLK': 1, 'LI &': 1, 'SurgiBot': 1, 'Autonomous Driving': 1, 'NIO (NYSE: NIO': 1, 'INSANE news': 1, 'POPPIN': 1, 'THIS ENTIRE POST FROM START TO FINISH': 1, 'Norwegian Airline[removed]': 1, 'QCLN &': 1, 'ICLN + Considering': 1, 'PBWHello': 1, 'Their Gas PumpsWithe': 1, 'Montey Fool': 1, 'PLTK?RLX Technology': 1, 'Global Payments Inc \\n': 1, 'Arena Pharmaceuticals, Inc. \\n': 1, 'HCA Healthcare Inc \\n': 1, 'UpdateHey Everyone': 1, 'Health Technology': 1, 'Leisure Properties': 1, 'Chart Industries, Inc.': 1, 'Lumentum Holdings Inc \\n* Maravai Lifesciences Holdings Inc \\n': 1, 'PHX': 1, 'Lucid Factory\\n': 1, 'Churchhill Capital': 1, 'Lucid HQ': 1, 'Churchhill Capital HQ': 1, 'Cameco(CCJ': 1, 'Denison(DNN': 1, 'FSPSX': 1, 'VGTSX': 1, 'AUPH': 1, 'Soft Power': 1, 'Soft Power\\n\\nHard Power': 1, 'Modena - Amazon': 1, 'DAILY ACTIVE': 1, 'MDM': 1, 'Apple Enterprise Management': 1, 'EMM': 1, 'Jamf': 1, 'Endpoint Protection': 1, 'GPM': 1, 'Nio ($87.7mil': 1, 'NGP': 1, 'TMT Equity Research': 1, 'Global Equities': 1, 'DHRO': 1, 'NEE - Utilities': 1, 'HON - Materials \\nJNJ - Health Care': 1, 'UNP - Materials \\nVZ - Telecommunications \\nV - Financial': 1, 'DUK - Utilities': 1, 'BHTG': 1, 'Proton Power Systems PLC': 1, 'The Goldfield Corporation': 1, 'Nesco Mining Corp': 1, 'Silver Spike/WM Holdings mergerAny': 1, 'XYS': 1, 'TDD': 1, 'IEC Electronics': 1, 'SPY/IWM/': 1, 'BTG': 1, 'Channel Support': 1, 'AKTS': 1, 'TTMI - Channel': 1, 'Reconnaissance Energy Africa Ltd': 1, 'Lund Enterprises Corp': 1, 'StupidityHello': 1, 'Neiman Marcus': 1, 'JWN': 1, 'BE - Bloom Energy': 1, 'IEA - Infrastructure and Energy Alternatives': 1, 'ARRY - Array Technologies': 1, 'Boao Yiling Life Care Center': 1, 'Metabolic Disease Prevention and Treatment': 1, 'Metabolic Disease Prevention and Treatment Center': 1, 'the Boao Lecheng International Medical Tourism Pilot Zone Administration': 1, 'Boao Yiling Cardiovascular': 1, 'Boao Lecheng International Medical Tourism Pilot Zone Administration': 1, 'the Chinese Academy of Medical Sciences': 1, 'Hainan Free Trade Port': 1, 'ACRDF': 1, 'Canopy Goods': 1, 'Supply-Demand(S&amp;D': 1, 'Rebounding Trend\\n\\n': 1, 'the Frankfurt Stock Exchange': 1, 'Frankfurt Stock': 1, 'Un Popular Opinion: NIO - Tread CarefullyLiving': 1, '$LOGI Q3': 1, 'GSK’s': 1, 'ups](https://ir.auriniapharma.com': 1, 'STRONG': 1, 'NBLX': 1, 'UXYZ': 1, 'TMS': 1, 'Neurostar': 1, 'Neuronetics': 1, 'STIM': 1, 'ARDS)Rigel Pharmaceuticals': 1, 'the Imperial College': 1, 'EMA/Canada': 1, 'the University of Amsterdam': 1, 'Inova': 1, 'JP Morgan on 01/14/2021': 1, 'The National Instiute of Health': 1, 'Fostamatinib': 1, 'Potential Investors': 1, 'Patience &': 1, 'TRADING (Stocks &': 1, 'Forex) &amp': 1, 'Business Uni for E-Business': 1, 'Diablo, Hearthstone': 1, 'WoW': 1, 'FIFA': 1, 'Precision BioSciences': 1, 'Webinar': 1, 'Energy, Banks and Semiconductors': 1, 'the Materials and Oil &': 1, 'Nikola](https://ibb.co/r3dFQSk': 1, 'Netflix &': 1, 'Nikola &': 1, 'Gas Industry': 1, 'the Semiconductors, Alibaba': 1, 'the Health Care &': 1, 'Delta](https://ibb.co/FzGKp9C': 1, 'earnings](https://ibb.co/B2T64dc': 1, 'M/M': 1, 'Next Gen Supercycle': 1, 'Verrica Pharmaceuticals': 1, 'TedTalk': 1, 'CSX': 1, 'Ticker GSK': 1, 'Leaps': 1, 'Cormorant Asset Management': 1, 'Charles Schwab Investment Management, Inc.': 1, 'Nuveen Asset Management': 1, 'the Top Institution’s': 1, 'Top Institutional Holders': 1, 'TechSaw': 1, 'AFAIU': 1, 'Forbes - Versus Systems': 1, 'Versus Systems - VS': 1, 'VS - Versus Systems': 1, 'Honda Motor Co': 1, 'Market Attention': 1, 'TTCF Warrants': 1, 'V)or': 1, 'Scotia': 1, 'APPLE INC @ 127.53U$': 1, 'XE Currency': 1, 'VIA': 1, 'PET': 1, 'Zynex Inc': 1, 'CRNT': 1, 'Deadnsyde’s': 1, 'the FREE SWING TRADE OF THE WEEK - Round': 1, 'Yoloed': 1, 'General Motors Corp.': 1, 'Honda Motor Co. Ltd': 1, 'Green energy': 1, 'UC Berkeley': 1, 'Food, Medicine': 1, 'Broad Institute': 1, \"Eli Lilly's\": 1, 'Precision Biosciences': 1, 'Affordable Electric Car Manufacturer': 1, \"Campbell's Soup\": 1, 'L-K-U-N-C-Y?[removed]': 1, 'Giga': 1, 'Asian Markets': 1, \"Plug Power's\": 1, 'LIVERAMP': 1, 'RAMP': 1, 'EmblemHealth': 1, 'Canadian Air Travel': 1, 'Air Travel': 1, 'AutoZone': 1, 'PostMarket': 1, 'Premarket, Market Hours': 1, 'Keystone XL': 1, 'WarnerMedia': 1, 'Sarandos': 1, 'Steam VR': 1, 'Activision or EA': 1, 'Ticker GOLD': 1, 'NIO - China Delistingnan': 1, 'NIO - China Delisting[removed': 1, 'DUMP': 1, 'the Bader Bank': 1, 'Caldas Gold Corp.': 1, '🚀🚀 S/O Zack Morris[removed]': 1, 'IZEA': 1, 'XY': 1, 'FLXN - Great': 1, 'EYE': 1, 'NGD': 1, 'CANF - Fantastic': 1, 'Elon Musks': 1, 'no Ark Fund': 1, 'Bombardier)I': 1, 'Potential CURE': 1, 'LILLY': 1, 'the Vancouver Canucks': 1, 'Largest Gaming Network': 1, 'Reddit Trading Recap': 1, 'the Paris Accord': 1, 'Mobile Startup Raising': 1, 'NFAT/EBITA': 1, 'the Dividend Discount Model': 1, 'DDM': 1, 'Intrinsic': 1, 'TRCH and Metamaterials': 1, '8.51M': 1, 'EWH': 1, 'KHOTF': 1, '🚀  \\n\\n': 1, 'MarketEvery': 1, 'StockHey': 1, 'Climate/Energy': 1, 'Form S-3 (': 1, 'H.C. Wainwright &': 1, 'not?Idk': 1, 'Change.org': 1, 'the Presidential Inauguration': 1, 'Briefing.com': 1, 'the NAHB Housing Market Index': 1, 'U.S. Treasuries': 1, 'Henlo': 1, 'UTSI': 1, 'Silver Partners': 1, 'StoreDot': 1, 'Eve Energy': 1, 'York': 1, 'Mellon': 1, 'Multiple Stock Purchases': 1, 'Global Politics': 1, 'Macro/Micro Economics': 1, 'International Relations': 1, 'International Business': 1, '🚀High Tides': 1, 'Toyotas': 1, 'Stuart Pearson': 1, 'Guardian](https://www.theguardian.com': 1, 'Shark Tank': 1, 'DO': 1, 'ACEV': 1, 'Health &': 1, 'you.](https://healthsectorinsight.com': 1, 'the Federal Emergency Management Agency': 1, 'the National Guard': 1, 'FZROX - 70%': 1, 'FDFIX/FLXSX/FLAPX - 49%': 1, \"Fidelity Go's\": 1, 'Fidelity Go': 1, 'FUENX': 1, 'EV/EBITDA\\n\\n**RISKS': 1, 'Jacobs': 1, 'B Preferred Stock\\n': 1, 'EV/EBITDA\\n': 1, 'Infrastructure and Energy Alternatives': 1, 'AquaBounty Technologies, Inc.': 1, 'Enterprise Products Partners': 1, 'the Registration for Depository Shares': 1, 'EveEnergy': 1, 'Data Center': 1, 'Draftkings $DKNGnan': 1, 'Livent Corp': 1, 'RLX RLX Technology IPOPlanning': 1, 'TD Securities Inc.': 1, 'Greenlane Renewables Inc.': 1, 'SPOT’s': 1, 'MarketWatch](https://www.marketwatch.com': 1, 'Disney+': 1, 'MBS': 1, 'kj1ljo/cannabis_stocks_preinauguration/': 1, 'TaxesHey': 1, 'Cathie Woods &': 1, 'UVXZ': 1, 'SSRI Investments / Biopharmaceuticals': 1, 'Paxil, Xanax': 1, 'Ma’s': 1, 'LuminraDx IPO[removed]': 1, 'EBIZ': 1, 'FTOCPayoneer Inc.': 1, 'FTAC Olympus Acquisition Corp.': 1, 'Rakuten, Walmart': 1, 'Invesco Dynamic Software': 1, 'PowerShares': 1, 'Cananda': 1, 'UAVs Drone Stock Future Potential[removed]': 1, 'ERIE - Setup': 1, 'JILL': 1, 'CERN': 1, 'EDU': 1, 'Intel Q': 1, 'Consulting': 1, 'ACCA': 1, 'Synrgy': 1, 'P3': 1, 'ORCIM Financial Holdings': 1, '\\\\[or': 1, 'CTO/Co-': 1, 'RAZFF': 1, 'ALTM': 1, 'DKNG for BETZ': 1, 'BB Stocks': 1, 'the Meme Stock of 2021': 1, 'Pumpers': 1, 'Robinhooders': 1, 'ARKG Moves': 1, 'Truist Securities': 1, \"Truist Securities'\": 1, 'up?I’m': 1, 'GEVO dip?GEVO': 1, 'Govt Approval': 1, 'HWM': 1, 'Howmet Aerospace': 1, 'TECK.B &': 1, 'SUNCOR ENERGY STOCK[removed]': 1, 'GainsHey': 1, '🥖': 1, 'Obalon': 1, 'Breaking News Concerning Senseonics': 1, 'Senseonic’s Eversence CGM': 1, 'Sen’s CGM': 1, 'Dex’s CGM': 1, 'Sen’s': 1, 'MARD': 1, 'Dex’s': 1, 'Stock Protection': 1, 'BlackberryBought': 1, 'MSC': 1, 'Intrinsic Value': 1, 'Underestimated ESG': 1, 'Green/Clean Tech': 1, 'US Navy’s': 1, 'MD&amp;A': 1, 'The Underdog Car Company To Multiply Your Portfolio[removed]': 1, 'USAHello Guys': 1, 'GSAT Stock': 1, 'BAE Systems': 1, 'SoFi - Social': 1, 'MD/DDS': 1, 'GM Motors': 1, 'Isoray': 1, 'G': 1, 'PlantairCan': 1, 'Fairfax Financial': 1, \"Institutional InvestmentsLet's\": 1, 'Albertsons Companies, Inc.': 1, 'United Supermarkets': 1, 'Takeoff Technologies': 1, 'ARK K/G/F': 1, 'Overnight Highway': 1, 'Jianghuai Weilai': 1, '\\\\[Aika Auto Industry Information': 1, 'NIO ADS Stock': 1, 'Jianghuai NIO': 1, 'Guest': 1, 'Baker Brothers': 1, 'Tobira': 1, 'MIRM': 1, 'Isuzu': 1, 'Ferrel GasFerrel Gas': 1, 'Ferrel Gas': 1, 'Powehouse': 1, 'USA FDA': 1, 'Blue Appron': 1, 'the Short Interest': 1, \"Blue Apron's\": 1, 'RDEXF': 1, 'QMX': 1, 'Red Pine Exploration': 1, 'Suborbital Aerospace': 1, 'Aerospace Beneficiary': 1, 'Enabling Technologies': 1, 'Orbital Aerospace': 1, 'the Amsterdam Stock Exchange': 1, 'Citigroup (NYSE: C': 1, 'InPost': 1, 'Capital World': 1, 'D.A. Davidson': 1, 'Huberty': 1, 'Services': 1, 'White’s': 1, 'IPOEHello': 1, 'SYGGF 2.35 USD': 1, 'DISHello': 1, 'KIOSK': 1, 'CUSTOMER': 1, 'THE KIOSK BREAKS EVEN': 1, 'THE CUSTOMER BREAKS EVEN': 1, 'ON A': 1, 'B. REGULATING FINANCIAL': 1, 'THE MAIN FUNCTIONS OF THE FOREIGN EXCHANGE MARKET': 1, 'WVVI': 1, 'E*TRADE': 1, 'BMW iVentures': 1, 'The Underdog Stock To Multiply Your PortfolioFinancials:\\n\\nTicker Symbol': 1, 'DN Capital': 1, 'Autotempest': 1, 'Insurance Acquisition': 1, 'EBay Motors': 1, 'Lithium Motors': 1, 'Dividend Stocks': 1, 'SCHD': 1, 'ETFs\\n\\n&': 1, 'SENATE': 1, 'NASDAQ Approval &': 1, 'Largest Cannabis Retailer': 1, \"Guns N'\": 1, 'CRO': 1, 'the U.S House': 1, 'Meta Cannabis Co': 1, 'Newleaf Cannabis &': 1, 'Aurora &': 1, 'Haywood Capital Markets': 1, 'NW Botswana': 1, 'RECAF': 1, 'SELLAS Life Science': 1, '$BQ Stock': 1, 'ConocoPhillips': 1, 'BorgWarner': 1, 'Lithium America Corp.': 1, 'Digital Health Startup': 1, 'ACST': 1, 'BFI': 1, 'Goodbye BurgerFi': 1, 'Acasti': 1, 'DFG': 1, 'PortfolioHow': 1, 'Closes Business Combination and Will Trade': 1, 'the Nasdaq Stock Exchange': 1, 'the Keltner Channel': 1, 'OptionsSay': 1, 'US NIU': 1, 'FUV': 1, 'iPhone X': 1, 'AAPL Earnings': 1, 'AAPL Q4': 1, 'iPhone XS': 1, 'AAPL’s': 1, 'BOOMER': 1, 'LanzaJet': 1, 'Keystone': 1, 'LanzaTech’s': 1, 'CBL': 1, 'ACE Technology Holding Co.': 1, 'TAK': 1, 'Wynn Resorts': 1, 'surpassed](https://assetdash.com/Hospitality': 1, 'AFK': 1, 'CAFRX': 1, 'EZA': 1, 'Nigeria &': 1, 'WAFMX': 1, 'HLMOX': 1, 'Bitcoin’s': 1, 'CRWD - Triangle': 1, 'ACCO': 1, 'TTMI - Obvious': 1, 'Complete PLTR DD': 1, 'IBM Call': 1, 'Plyzer Technologies': 1, 'StocksFor': 1, 'Yahoo News': 1, 'CELH': 1, 'Shitron (Evidence of my warnings)[removed]': 1, 'The News': 1, 'LRXC': 1, 'TLSA': 1, 'WSB Shut': 1, 'WSB Moved': 1, 'Chimera Investment': 1, 'Wall Street Bets &': 1, 'RIP R/WALLSTREETBETS': 1, 'ED': 1, 'CONSTANTLY': 1, 'WSB / Some Explanations[removed]': 1, 'Sprint': 1, 'EV/S\\n\\n': 1, 'Recommended Stock': 1, 'SVA': 1, 'CureThis': 1, 'Sernova Corp.': 1, 'Today](https://ibb.co/BTQDPvt': 1, 'FED](https://ibb.co/YpQSMj4': 1, 'Broadcom': 1, 'Next-Gen Battery Producers': 1, 'BLS': 1, 'Bern': 1, 'SIX Swiss': 1, 'Solid State Batteries': 1, 'It‘s': 1, 'Capital Small': 1, 'CrashInvesting': 1, '85.18](https://www.etf.com/ROBO#overview': 1, 'XPO Logistics - GME': 1, 'Sunworks, Sunpower': 1, 'Amazon - 960.-': 1, 'Ballard Power Systems Inc': 1, 'Versarien PLC': 1, 'Square Inc': 1, 'Amazon.com Inc': 1, 'Pinduoduo Inc': 1, 'ATL': 1, 'ZGNX': 1, 'ESTC': 1, 'Passive Income.[removed]': 1, 'othershttps://www.cnbc.com/2021/01/22/bank-of-america-is-giving-750-cash-bonuses-to-lower-paid-employees-restricted-stock-to-others.html\\n\\nStaffers': 1, 'GMI': 1, 'International Operations': 1, 'the Mustang Mach-E': 1, 'Neutral to Overweight': 1, 'Nokia Stocks': 1, 'FaceDrive Inc': 1, 'KLR - Cheap': 1, 'GigCapital': 1, 'TWLO': 1, 'Flipkart,': 1, 'Data Lock': 1, 'SOC': 1, 'Multikine': 1, 'Data Analysis': 1, 'the TAX LOT ID Method': 1, 'Warzone': 1, 'Microsoft Initiated': 1, 'LinkedIn Commercial': 1, 'Goldman, Oracle': 1, 'Azure, Office': 1, 'ReneSola Ltd': 1, 'Exxon MobilHello': 1, 'UNBIASED': 1, \"SAS IPO's\": 1, 'SAS': 1, 'SAP StockBackground': 1, 'Power Metals Corp.': 1, 'UTF-8&amp;oe': 1, 'PENNY': 1, 'American Superconductor AMSC': 1, 'Apple EV': 1, 'Inside Mortgage Finance': 1, 'UWMC?UWM': 1, 'GE &': 1, 'Freeport-McMoRan': 1, 'Santander Consumer USA': 1, 'EBTIDA': 1, 'c.$8bn': 1, 'FY17': 1, 'Engine': 1, 'Merger Mer': 1, 'Liquidity &': 1, 'Options Action CNBC Trade Review - Part': 1, 'CANOPY GROWTH and': 1, 'NYSE De-ListingChina’s': 1, 'Big Three State Telcos': 1, 'the New York Stock Exchange’s': 1, 'the Board of Directors for Clover': 1, 'Google and Sequoia Capital': 1, 'JPM Health Conference': 1, 'the Clover Health': 1, 'Medicare Advantage Leadership Innovations Conference': 1, 'BEFORE': 1, 'SP': 1, 'SP WOULD RISE': 1, \"Nokia Nokia's\": 1, 'Reefshark': 1, 'Mobile Networks': 1, 'QuestionAre': 1, 'FDA APPROVAL FOR': 1, 'Biden’s Science Team': 1, 'Economics': 1, 'Youtube Stock AdvisorsWondering': 1, 'XHE - Medical Equipment (': 1, 'Beginner Investment Question': 1, 'LUPKYNIS': 1, 'a FREE Apple Stock[removed]': 1, 'GMEListen': 1, 'YoY Earnings': 1, 'Mania Fueled': 1, 'Record Options': 1, 'Susquehanna International Group’s': 1, 'ARK ETFs?I': 1, 'Rolls Royce Holdings': 1, 'BioNano Genomics': 1, 'Indivior': 1, 'WSB yesterday’s': 1, 'Stock Exchange': 1, 'Medicare’s': 1, 'TOYOTA': 1, 'FIAT-CHRYSLER': 1, 'Discord/Patreon GroupsHello': 1, 'HWCC': 1, 'STOP ASKING US FOR': 1, 'Financial Instruments': 1, 'Idea - Risky Stock Bets': 1, 'Her Majesty’s Revenue': 1, 'The Lovesac Company': 1, 'Lifetime Opportunity': 1, \"the New York Fed's\": 1, '# General Electric Co.': 1, 'Johnson $': 1, '# Economy\\n&': 1, 'Moody’s Analytics Rapid Update': 1, 'the iShares Home Construction ETF': 1, 'Philly-Fed-Orders.png': 1, 'Post-Election Years\\n\\n&': 1, 'Delivery Times': 1, 'GE&amp;ty': 1, 'Philly-Fed-Deliveries.png': 1, 'Philly-Fed-Inv.png': 1, 'ESTIMATES!](https://i.imgur.com/NnafTFh.png': 1, 'Apple, Inc.': 1, 'Housing-Starts': 1, 'Housing Starts': 1, 'Philly-Fed-Table1.png': 1, 'Philly-Fed-Prices.png': 1, 'LPL Research Chief Market Strategist': 1, 'AMD&amp;ty': 1, 'the Centers for Disease Control': 1, 'Coin Metrics': 1, 'MMM&amp;ty': 1, 'AT&amp;T Corp.': 1, 'Housing-Starts-Details.png': 1, 'Housing-Starts-Population-Adjusted.png': 1, 'Miller Tabak': 1, \"the Philadelphia Fed's\": 1, 'ESTIMATES!](https://i.imgur.com/INHVHTh.png': 1, 'NatWest': 1, 'Philly-Fed-HL.png': 1, 'Building Permits': 1, 'Januray': 1, 'Fidelity Pro': 1, 'European Medicine Agency': 1, 'Exit PlanWhat’s': 1, 'Squeezes, &amp': 1, 'Melvin Capitals': 1, 'Global Trade Finance': 1, 'Andreesen’s': 1, 'Venture Partners': 1, 'Sequoia Capital': 1, 'Clubhouse Valuation Update\"[Clubhouse Gets Investment Interest': 1, 'BB?I': 1, 'BA)Defense': 1, 'CNA': 1, 'Put ExercisingHi': 1, 'dip?I': 1, 'Achieve Life Sciences[removed]': 1, 'Please Bulls': 1, 'Bear/Base/Bull': 1, 'BB EOY': 1, 'GME Monday?Everyone': 1, 'Wilson': 1, 'Resorts International': 1, 'NintendoNintendo': 1, 'the Market Cap': 1, 'IBorrowdesk': 1, 'TRIT Srinivas Koneru': 1, 'KN95': 1, 'Portfolio AllocationHow much %': 1, 'Taxi Drone - Baby': 1, 'CRSR GAMINGCRSR': 1, 'AMC Stock[removed]': 1, 'Enlightened &': 1, \"Nick's &\": 1, 'NightFood &': 1, 'NightFood': 1, 'Company A': 1, 'SURE': 1, 'Win-Win': 1, 'NNOMF': 1, 'Nano One’s': 1, 'Nano One': 1, 'EXp World Holdings': 1, 'WIFI': 1, 'GBTC': 1, 'IXUS': 1, 'THE MOON LOL': 1, 'OptionPlease': 1, 'Noth America': 1, 'Agro': 1, 'Stock Options &': 1, 'Viatris Inc.': 1, 'Tostrud': 1, 'Dismiss': 1, 'EpiPens': 1, 'Mylan’s': 1, 'Mylan Inc.': 1, 'GME MondayHey': 1, 'Long Term Trades': 1, 'StockMoe': 1, 'CSP’s': 1, 'Lobbying Data': 1, 'fintopy.com](https://fintopy.com': 1, 'SEC Filings': 1, 'EBITDA/EV': 1, 'GME Market': 1, 'WSB Mods': 1, 'Bio Nano Genomics': 1, 'APPLE 150c': 1, 'DDHello': 1, 'Barclays Bank - Strong Bank': 1, 'Lloyds': 1, 'Strong Banking Sectors': 1, 'Economics degree?Hi': 1, 'Royal': 1, 'Pineapple Power PNPL.L SPAC': 1, 'the Copper Bull Case[removed]': 1, 'Adaptive Markets': 1, 'Shiller': 1, 'the US Department of Defense': 1, 'UI Path': 1, 'Awesome': 1, 'Beef Up Tech Holdings': 1, 'Amazon Earningshttps://www.bloomberg.com/news/articles/2021-01-23/hedge-funds-beef-up-tech-holdings-before-apple-amazon-earnings': 1, 'Goldman Sachs Group Inc.’s': 1, 'J O Hambro Capital Management': 1, 'WOndering': 1, 'Portfolio Tracking Software/ToolHey': 1, 'ISO/SAE 21434': 1, 'Ipsum': 1, 'Buys': 1, 'GME BB &': 1, \"squeeze?I'm\": 1, 'Draganfly Inc.': 1, 'IFRX': 1, 'Microsoft Health Next': 1, 'Moore': 1, 'TOS Import Links Included': 1, 'Clovis': 1, 'Bachelor’s Degree': 1, 'AVAILABLE': 1, 'YouTube University': 1, 'Float, Interest': 1, 'SPR': 1, 'Oilprice.com': 1, 'Strategic Petroleum Reserve': 1, 'RIDICULOUS': 1, 'PaceWhile': 1, 'TPG Pace': 1, 'TPGY': 1, 'the Lupus Foundation of America': 1, 'Otsuka Pharmaceuticals': 1, 'SLE': 1, 'the Biggest Digital Game Launch of All': 1, 'the Biggest Digital Game Launch of All Time': 1, 'AMC VS CNKAMC': 1, 'HTF': 1, 'BGS[removed]': 1, 'GRAL': 1, 'SilverGold': 1, 'Netflix/ Amazon': 1, 'Apple TV/ HBO Max/': 1, 'XLNX': 1, 'GSAT/Nokia!': 1, '\\\\[Q4\\\\': 1, 'K': 1, 'Q7': 1, 'd/1LWlfeDnDgDItQ9zQg44GBkwwWLss4B4MPKWjhXfkLcs/edit#gid=0': 1, 'WEEKLY TICKER POLL[removed': 1, 'Danimer': 1, 'PHA': 1, 'Transparency Market Research': 1, 'Danimer Scientifics’': 1, 'Danimer Scientific Inc.': 1, 'LOAK': 1, 'EOSE': 1, 'the TOTAL FUND': 1, 'MYRG': 1, 'UNCLEAN': 1, 'PWR': 1, 'BWEN': 1, 'WLDN': 1, 'the Clean Energy': 1, 'WWD': 1, 'BLNK (-432%': 1, '# TOTAL FUND': 1, 'AEIS': 1, 'ORA': 1, 'AMRC': 1, 'ESE': 1, 'IdeasHi': 1, 'GOOG/VGT/VTI': 1, '2025 \\n\\nEmerging Markets': 1, 'QNX Potential Revenue': 1, 'the Auto Market \\n\\nChina': 1, 'QNX Market': 1, 'QNX Clients': 1, 'AOSD': 1, 'MA10': 1, 'Breakthrough Therapy Designation\\n\\nOther Pipelines:': 1, 'OPPENHEIMER': 1, 'Cerecor': 1, 'CERC - Cerecor Inc': 1, 'Senator Investment Group': 1, 'Clinical Stage Pharma': 1, 'Bristol-Myers Squibb(NYSE': 1, 'York Capital': 1, 'MA20': 1, 'CERC': 1, 'BMS': 1, 'RHI': 1, 'Mayo': 1, 'Carda/BARDA': 1, 'entirely](https://www.prnewswire.com': 1, 'the University of Auckland in New Zealand': 1, 'deal](https://www.prnewswire.com': 1, 'Achieve Life Sciences': 1, 'SoFi’s': 1, 'World Trade Center': 1, 'Oyu Tolgoi': 1, 'Ivanhoe': 1, 'the Copper Bull': 1, 'Rhodium Resources': 1, 'ICC': 1, 'Standard Chartered': 1, 'Northland': 1, 'Economist](https://www.economist.com': 1, 'notch.](https://thefly.com/landingPageNews.php?id=3231872&amp;headline': 1, 'TRIT-Triterras': 1, 'Global Trade Review': 1, 'Institute B': 1, 'AAPL 13%\\n\\nMSFT': 1, 'SqueezeHey': 1, \"level?I'm\": 1, 'HALEU': 1, 'TerraPower': 1, 'the US Department of Energy, Centrus Energy': 1, 'Newest': 1, 'Centrus Energy': 1, 'LEU': 1, 'Obligatory': 1, 'Giant Cannabis Dispensary': 1, 'APPL?I': 1, 'APHRIA': 1, 'HoursNewbie': 1, 'Coal/Nuclear': 1, '% Natural Gas': 1, 'Cheniere Energy': 1, 'Driftwood Project': 1, 'FID': 1, 'TTF': 1, 'Demand/Supply': 1, 'the Final Investment Decision': 1, 'Driftwood': 1, 'FGPHF': 1, 'Krafcik': 1, 'no.1': 1, 'Comscore': 1, 'Fidelity Pro Trader': 1, 'AMZNThere': 1, 'Arcimoto FUVI': 1, 'Ebang International Holdings \\n\\nDisclaimer': 1, 'AsicBoost': 1, 'BrainChip’s Akida': 1, 'BRN': 1, 'NIO Market CapI’m': 1, 'Frankfurt Exchange': 1, 'Twitter Influencers': 1, 'BuxZero': 1, 'Next VW': 1, 'Revoult': 1, 'US Foods': 1, 'Performance Food Group Co': 1, 'Sysco Corporation – Food Distributor StocksSysco Corporation’s': 1, \"Takeda Pharmaceutical's\": 1, 'Par Pharmaceutical, Inc.': 1, 'Endo International': 1, 'Par': 1, 'GME Pre-Market Huge Gains': 1, 'Perion': 1, 'Combat FOMO': 1, 'Europeü[removed]': 1, 'SNGX INTERESTING TIMES AHEAD 10×[removed]': 1, 'U.S. Commercialization of SGX301 in': 1, 'the Treatment of Cutaneous T-Cell Lymphoma': 1, 'Reddit/WSB/': 1, 'TFSA CADHello': 1, 'AMC News': 1, 'today?1': 1, 'buy?RMTI': 1, 'the Committee for Medicinal Products for Human': 1, 'Sandler': 1, 'Potential European Medicines Agency': 1, 'Waitr, Stock': 1, 'WTRH': 1, 'Shell’s': 1, 'Workhorse Group - WKHS[removed]': 1, 'Fiat': 1, 'Mopar': 1, 'Fiat Professional': 1, 'Stellantis N.V.': 1, 'Free2Move': 1, 'See More Upside Ahead': 1, 'Kallo': 1, 'BoA.': 1, 'Workhorse Group -': 1, 'growFUBO': 1, 'XITK](https://www.etf.com/XITK#overview': 1, 'Renesola TickerBecause': 1, 'Symbol AIMInteresting': 1, 'ME/CFS\\nTreatments': 1, 'UWMCI': 1, 'Fidelity and Blackrock': 1, 'YP': 1, 'Growing SaaS': 1, 'ThanksDesktop Metal': 1, 'LX': 1, 'MarketsandMarkets': 1, 'Serstech': 1, 'SiriusXm Short Interest Too': 1, 'ANTIBE THERAPEUTICS[removed]': 1, 'ICBC': 1, 'iApp': 1, 'SINA': 1, 'Aurora Mobile Limited': 1, 'Bilibili': 1, 'Amwell': 1, 'C500': 1, 'Cleveland Clinic': 1, 'Amwell Now': 1, 'Cloudflare(NET': 1, 'GME Train - too': 1, 'ggCircuit': 1, 'Esports Entertainment Group': 1, 'FLTDrone': 1, 'Nokia Corp.': 1, 'Compass PathwaysHorizons': 1, \"The Best Cryptocurrency Investment You've\": 1, 'SBE/Chargepoint': 1, 'Aqua Metals Establishes Global Partnership With BASF[removed]': 1, 'ETF1': 1, 'Portfolio Percentage': 1, 'DDOG': 1, 'FPVD - BIGtoken': 1, 'Singapore](https://www.nasdaq.com': 1, 'FPVD - BIGtoken Catalyst BIGtoken': 1, 'FPVD': 1, 'BIGtoken': 1, 'Clean Energy Plays FTEK OEG CLNE': 1, 'Wasion Holdings': 1, 'Potential 865x': 1, 'PitchHey': 1, 'WSBguys': 1, 'Zain': 1, 'Opera GX\\n': 1, 'Opera News': 1, \"Opay (Nigeria's\": 1, 'Opera': 1, 'Chrome/Safari/Firefox': 1, 'MAU': 1, 'Johnson, Proctor &': 1, 'P.S. Aqua Metals': 1, 'Aqua Metals’': 1, 'BASF[Aqua Metals Press': 1, 'Aqua Metals Establishes Global Partnership': 1, 'Discover Financial Services': 1, 'Mutual FundI': 1, 'Correction Warning': 1, 'American Steel': 1, 'STLD Steel Dynamics': 1, 'Rand Water': 1, 'Evoqua Water Technologies': 1, 'WMS': 1, 'The World Wildlife Fund': 1, '# American Water Works': 1, 'Advanced Drainage Systems': 1, 'Point72 Asset Management': 1, 'Melvin’s': 1, 'Melvin Capital Management': 1, 'BB - Bad': 1, 'Nokia Price[removed]': 1, 'Embraer (ERJ': 1, 'First Quarterly Earning?I’m': 1, 'VIX Calls': 1, 'Tattooed Chef’s': 1, 'the Public Warrants': 1, 'MAC’s': 1, 'OMX Helsinki': 1, 'Cryport': 1, 'CRYX': 1, 'MLHR': 1, 'PERFECTLY': 1, 'ASML': 1, 'Boqil Holdings BQ': 1, 'Boqil Holding BQ': 1, 'TRIL \\n\\n&': 1, 'CGEN': 1, 'SCOR - COMSCORE NO DEBT WITH HUGE UPSIDE$SCOR': 1, 'PKG': 1, '5X': 1, 'EVERYTHNG': 1, 'The Retail Trader Rules': 1, '103k': 1, 'Understandably': 1, 'Sanan': 1, 'Sanan IC': 1, 'Sanan Optoelectronics Co., Ltd.': 1, 'OVV': 1, 'incKerrisdale': 1, 'Peacock (Comcast': 1, 'the Nokia Chart': 1, 'Buffet/Munger': 1, 'Werner’s': 1, 'Volkswagen AG’s': 1, 'SAE': 1, '0.83491 Trillion': 1, 'The Tesla Market Cap': 1, 'JAKKS Pacific': 1, 'Ticker JAKK': 1, 'Elon tweeted Unicorn': 1, 'TAN - Solar Energy': 1, 'XHE - Medical Supplies': 1, 'ICLN - Global Clean Energy': 1, 'Baidu on Autonomous Driving Technology[removed]': 1, 'BB LATEST REFUEL NEWS': 1, \"WE'RE GOING TO EGO THE LIVING DIAMOND HANDED PLANET WITH\": 1, 'Blackberry After Market Press': 1, 'FISKER THE UNDERDOG FOR ELECTRIC VEHICLES?!?[removed': 1, 'GiK - Lightning eMotors': 1, 'Logitech\\n\\n': 1, 'Competitive Landscape &': 1, 'DFC Intelligence': 1, 'Pipeline': 1, 'the Limelight Networks’ State of Online Gaming': 1, '2020 Corsair': 1, 'NPD Group': 1, 'JPR': 1, 'EpocCam': 1, 'Logitech International': 1, 'Micron Technologies': 1, 'NZXT': 1, 'PSU': 1, 'MCHI': 1, 'Genius Brands': 1, 'Simon Property Group Stock Analysis': 1, 'Century Precision Medicine': 1, 'IOO': 1, 'ASIA': 1, 'the United States?There': 1, 'USDollar': 1, 'Nokia Pump Incoming!': 1, 'MSNBC': 1, 'PPQ': 1, 'NMIBC': 1, 'Qilu Pharmaceutical': 1, 'Bladder Cancer': 1, 'The ICER Effectiveness': 1, 'Sesen Bio, Inc.': 1, 'BCG': 1, 'BLA': 1, 'Priority Review': 1, 'Huawei/ZTE': 1, 'Ericsson/Nokia/Samsung': 1, 'American Cannabis!I': 1, 'Akon': 1, 'OSS': 1, 'Orbital Energy Group': 1, 'BSF': 1, 'the Black Sunrise Fund': 1, 'Orbital Energy Group - Converting Coal Power Plants': 1, 'Syringes': 1, 'Int': 1, 'LOL[removed]': 1, 'Danske Bank': 1, 'FTTP': 1, 'OLT': 1, 'ODF': 1, 'Nokia SFP': 1, '\\\\~$25': 1, 'American EV': 1, 'PLUG POWER EXCEEDS': 1, 'OutlookIt’s': 1, 'VTNR': 1, 'Vertex Energy': 1, 'Electric Scooters': 1, 'me?Sorry': 1, 'Consumer Staples': 1, 'Banks &': 1, 'Today](https://ibb.co/hdnyZsJ': 1, 'Consumer Confidence': 1, 'Fisker Ink': 1, 'ANY': 1, 'MES': 1, 'INO Pharm[removed]': 1, 'Kiyosaki': 1, 'General Motor': 1, 'PLUG Power': 1, 'NPS': 1, 'German Regulatory Authority': 1, 'IMPD': 1, 'Galena': 1, 'European Countries': 1, 'Chain': 1, 'the French Regulatory Authority': 1, 'Gents': 1, 'MN.V)I': 1, 'SAVA Cassava Sciences': 1, \"GameStop-Like 'Squeeze' Rallies[removed]\": 1, 'Message Board': 1, 'Vimeo': 1, 'MTLS': 1, 'BIO-CHEM': 1, 'The PLANeT Partnership': 1, 'ScoreThe Score': 1, 'CNTTQ Canadian Cannabis Grower Almost': 1, 'NPHC': 1, 'Jim Beam': 1, 'the NY Supreme Court': 1, '@19.10': 1, 'Mitsubishi Heavy Industrial Ltd.': 1, '\\\\[[https://www.seattletimes.com/business/technology': 1, '\\\\~11.5b': 1, 'Biocraft': 1, 'RICH\\n\\nTrinity': 1, 'the SSE Science and Technology Board': 1, 'KSTR': 1, 'Redbox': 1, 'Opinions/Projections': 1, 'SIRI': 1, 'PetMed Express': 1, 'AAL!It’s': 1, 'Macys &': 1, 'Revenues &': 1, 'THE OTCYOU GUYS LIKE GME': 1, 'Accelerate Diagnostics Inc (AXDX': 1, 'REDDITThomas Gorman FMR.SEC SENIOR COUNSEL': 1, 'Elites': 1, 'Fannie': 1, 'SPY Futures 1D': 1, 'Shitron': 1, 'TSH': 1, 'REDDITI': 1, 'KOSS StockNew': 1, 'Stock PriceIn': 1, 'RigSeen': 1, 'the Stock Market Maker System, Matched Orders': 1, '👌': 1, 'the Retail Investors': 1, 'Retail Investors Revenge': 1, 'Callon Petroleum-CPE-Next AMC': 1, 'Callon Petroleum': 1, 'Quick SwingSilvergate Capital': 1, 'WSB\\n\\n&': 1, 'ONDS': 1, 'RunChart': 1, '50%+?I’ve': 1, 'BLIAQ?Blockbuster Video': 1, 'AMC STOCKAMC': 1, 'Ally Bank': 1, 'Oasis Cannabis Dispensary': 1, 'CLS Holdings USA': 1, 'Oasis Cannabis': 1, 'City Trees': 1, 'State Flower': 1, 'COO Andrew Glashow': 1, 'BustThoughts': 1, 'StonksIs TR': 1, 'Senseonics (SENS)?[removed]': 1, 'Heavily Shorted': 1, 'SOARINGLuckin Coffee': 1, 'BBYE': 1, 'the Lords of Finance': 1, '$ABUS GOING TO 100$ABUS': 1, 'Money Laundering': 1, 'S30': 1, 'AMCWSB': 1, 'ALLIF': 1, 'Clovis Oncology Inc.': 1, 'Medical Company': 1, 'UAVSGET': 1, 'NaturalShrimp Iowa Facility': 1, 'Hydrenesis Form Joint Venture': 1, 'NaturalShrimp': 1, 'NaturalShrimp, Inc.': 1, 'Hydrenesis, Inc.': 1, 'Recirculating Aquaculture System': 1, 'NSI': 1, 'RAS': 1, 'Blockbuster, Fossil': 1, 'SUNDIAL PENNY': 1, '🚀🚀SUNDIAL SUNDIAL SUNDIAL SUNDIAL SUNDIAL SUNDIAL SUNDIAL SUNDIAL SUNDIAL SUNDIAL SUNDIAL SUNDIAL': 1, \"Quantumscape/SilvergateLet's\": 1, 'NextShorted': 1, 'Trevena': 1, 'The BlackBerry Spark Suite Software': 1, 'Ann Inc.': 1, 'Justice': 1, 'Catherines': 1, 'SHOP SEA DOCU': 1, 'ALIBABA': 1, 'NokiaOkay': 1, 'Inovio - Crush': 1, 'THE TOP CANADIAN EV COMPANY': 1, 'ADMS FDA': 1, 'ADMS': 1, 'FDU': 1, 'THE GAMBLING INDUSTRY': 1, 'SAVE MGM AND': 1, 'ASA': 1, 'AKBACheck': 1, 'Broker Consorsbank Offline?Maybe': 1, 'Sunworks Inc': 1, 'American Lithium Corp': 1, 'NIO Inc\\nInvivo Therapeutics Holding': 1, 'ASAP?Brookfield Renewable Partners': 1, 'EAT THE RICH 🤑': 1, 'PF8 - LithiumSo': 1, 'PF8': 1, 'BBIGScrew': 1, 'NokiaBuy Nokia': 1, 'SITM,': 1, 'LOGI': 1, '🙁New': 1, 'the \"Essential Minerals': 1, 'OPK Health - Ready': 1, 'PLUGthoughts': 1, 'Refinitiv\\n\\nDaily': 1, 'GME Fridays': 1, 'Individual Tax ID Number': 1, 'the Casablanca Stock Exchange': 1, 'Friday?nan': 1, 'Hllpf 18 cents': 1, 'BROTHA': 1, 'The Name Robinhood': 1, 'OAC/HIMS': 1, 'AMC NOK': 1, 'AMC NOkia': 1, 'PLCE': 1, 'CHURCHILL CAPITAL': 1, 'Reddit/The SEC &': 1, 'Daily Recap and Write': 1, 'Nanoflex - OPVS[removed]': 1, 'New Discord-Where': 1, 'The Schiller PE': 1, 'Big Print': 1, 'Monetary Physics': 1, 'GME FUNNY': 1, 'Stock Market MadnessHello': 1, 'ARC Investment - Cathy': 1, 'TSP': 1, 'ARKWCathie Wood': 1, 'CETY Potential X10000%': 1, 'Hertz Stock': 1, \"inaugurationI'm\": 1, 'ktu0we/report_goldman_sachs_is_trying_to_dump_38m_shares/)|UBER|136%|\\n': 1, 'kvx234/pton_value_is_out_of_control/)|PTON|83%|\\n': 1, 'Hedge Fund Managers': 1, 'NOK OR': 1, 'Warburg Pincus': 1, 'the Carvana of China': 1, 'daily!!![removed]': 1, 'NEW Discord': 1, 'AMC GME': 1, 'Twitter,Tik Tok': 1, 'APPSDigital': 1, 'WSB GME.[removed]': 1, '# Actual Recommendations': 1, 'tweeted](https://twitter.com/CitronResearch/status/1351544479547760642': 1, 'stocks](https://www.barrons.com': 1, 'NSG': 1, 'DCG': 1, 'RETWEET': 1, 'RETWEET SO EVERYONE KNOWS': 1, 'REPOST SO EVERYONE KNOWS TO HOLD': 1, 'WS': 1, 'Game Stop &': 1, 'Quantumscape Corp NYSE': 1, 'Rolls Royce RYCEY': 1, 'Electric Electric': 1, 'Fidelity for Hong KOng': 1, 'DODGECOIN': 1, 'Put Purchase Obligations': 1, 'Underage': 1, 'Today!I': 1, 'the Future[removed]': 1, 'LOTR Summation': 1, 'EAWD': 1, 'Ameritrades': 1, 'Upco International/Upcopay': 1, 'DOGECOIN ALERT 🚨': 1, 'UL': 1, 'HALL - Hallmark Financial ServiceHi': 1, 'SoFi &': 1, 'EXPRESS INC': 1, 'WSB ELITE': 1, 'Criminal Hedge Funds?[removed': 1, 'Criminal Hedge': 1, 'fuboTV FUBO': 1, '|BBBY|FIZZ|FUBO|AMC |MAC |SPWR': 1, 'PubMatic PUBM(51%': 1, 'EMU Resources': 1, 'NOX': 1, 'CPD': 1, 'Rox Resources': 1, 'Noxopharm': 1, 'AEST': 1, 'FREE &': 1, 'Venture Minerals': 1, 'Clash Of Clans': 1, 'Stock Advice Needed[removed': 1, 'Faraday Future EV': 1, 'Fleetcor': 1, 'Broadridge Financial Solutions': 1, 'Inc’s': 1, 'Delta Hedging': 1, 'COVER': 1, 'AMC!AMC': 1, 'QUARTERLY STOCK SIGNALS TO BEAT WALL STREET': 1, 'Brokerage, Traditional IRA': 1, 'DarkPulseTech': 1, 'DPLS': 1, 'BOTDA': 1, 'NOK - Different': 1, 'NIO (NYSE:NIO': 1, 'AMC/BB/PLTR': 1, 'AMC - Food for ThoughtSo': 1, 'GRANDMA': 1, 'BB BLACKBERRY': 1, 'CYAD / Ceylad Oncology / Euronext[removed]': 1, '&gt;300%': 1, 'Faron': 1, 'Paysafe': 1, 'Coca-Cola)[removed]': 1, 'KOSS 🚨🚨🚨🚨🚨🚨🚨🚨': 1, 'EXPR &': 1, 'Naked Brand Group': 1, 'Brand Group Limited': 1, 'the \"Company\"': 1, 'INDIVIOR PLC': 1, 'BB OR': 1, 'VWM': 1, 'iQiyi': 1, 'Baidu, Inc.': 1, 'BILI’s': 1, 'Stops': 1, 'Limits': 1, 'AMC STONKS': 1, 'CONVERT': 1, 'CONVERSION': 1, \"MLN OF CO'S\": 1, 'KIO': 1, 'RAD &': 1, 'Avance Gas': 1, 'Venture Capital': 1, 'CVC': 1, 'NOK NOK🚀': 1, 'Sanofi': 1, 'Castor Maritime INC': 1, 'the Bear Cave': 1, 'Triterras, Inc.': 1, 'TRIT)](https://ir.triterras.com': 1, 'Fintech Analyst': 1, 'WRONG': 1, 'Provides Update on Recent Events': 1, 'BET': 1, 'P.S. FNY Investment Advisers LLC': 1, 'Ethereum': 1, 'the Institutional Investors': 1, 'AMC BB': 1, 'GME 🚀🚀 Anyone': 1, 'GALT': 1, 'Will Supreme Cannabis': 1, 'the trend?Will Supreme Cannabis (FIRE': 1, 'Telehealth': 1, 'SHGFF': 1, \"NewbyI'm\": 1, 'Taiwan Stocks': 1, 'GEO': 1, 'GGSM': 1, 'DSKE': 1, 'NeutriSci international Inc.': 1, 'Nokia Yea': 1, 'next?American Airlines': 1, 'AmcShould': 1, 'GNGR': 1, '$AXDX': 1, 'QuantumScape Consolidating&gt;QS': 1, 'NokiaNokia': 1, 'HERTZ': 1, 'u/dwarfboy1717': 1, 'WBS': 1, 'ABUS': 1, 'AMC BBThey': 1, 'WeBull Brokerage (Commission Free': 1, 'NOKWhats': 1, 'RobinShit': 1, '🍯': 1, 'Retail Traders': 1, 'Auction': 1, 'the New York Magazine’s': 1, 'AvingerEveryone': 1, 'KMPH - BioTech': 1, \"Ernesto Bertarelli's\": 1, 'IPG': 1, 'FRO Stock': 1, 'FSE': 1, 'Apaton Finance GmbH': 1, 'the Victoria Public Market': 1, 'Edge Growth Holdings Corp.': 1, 'Apaton': 1, 'Investor Relations and Corporate Communications Engagements\\n\\nVERY': 1, 'Energica Motor Company': 1, 'EMC': 1, 'AMC StockRobinhood': 1, 'AdviceHi I’m': 1, 'NOKWe': 1, 'AlcoaHedge': 1, 'Alcoa': 1, 'CELZ': 1, 'AMERICAN AIRLINES': 1, 'the Microsoft Windows Operating System': 1, 'Fairchild Semiconductor': 1, 'ON semiconductor': 1, 'RobinHood Removes': 1, 'DogecoinAnyone': 1, 'ON ROBINHOOD!!!!WE': 1, 'THE TIME PEOPLE START TO CARE ABOUT FINANCE': 1, 'FFF': 1, 'Tanger Factory Outlet': 1, 'SupWhat’s': 1, 'BUY &': 1, 'BKYI BioKey International': 1, 'Rio Tinto Sign Multi-Year': 1, 'Palantir-Technologies-and-Rio-Tinto-Sign-Multi-': 1, 'AuphThis': 1, 'EAT THE FUKING RICH': 1, 'KEEP HOLDING AND BUY AMC ON CASHAPP': 1, 'Robinhood nor Webull!': 1, 'UGH': 1, \"Robinhood's\": 1, 'Website': 1, 'QuestradeHi': 1, 'Robinhood Disabled Trading For Certain Stocks[removed': 1, 'ChapmanAlbin LLC': 1, 'ChapmanAlbin': 1, 'AMC - SEC': 1, 'Beginner AdviceBeginner Advice': 1, 'Virgin Galactic Holdings': 1, 'AppStore': 1, 'Rolls Royce Stock &': 1, 'American Airlines[removed]': 1, 'the Qualtrics International Inc.': 1, 'E\\\\*TRADE Securities': 1, 'New Issue Equity Offerings': 1, 'E\\\\*TRADE Securities LLC': 1, 'Sundial Growers 🚀': 1, 'eWellness': 1, 'EWLL': 1, 'GECall Options': 1, 'Legalities': 1, \"Cover Telehealth Pioneer's\": 1, 'Affordable Premium Teeth Straightening': 1, 'NOKia': 1, 'Silver Mining Stocks Group?Curious': 1, 'LQWC': 1, 'A.M.C.': 1, 'PEOPLEDOGE': 1, 'A.M.C': 1, '35+%': 1, 'ZK International’s': 1, 'Stonks Exchage': 1, 'Sheriff Nottingham[removed]': 1, 'User Agreements for Trading[removed]': 1, 'Shorters Asset': 1, 'Falcon Oil': 1, 'Nokia Great': 1, 'Wizard Entertainment INC COM': 1, 'WIZD': 1, 'Wizards of the Coast': 1, 'Hllpf 900 percent': 1, 'SchwabJust': 1, 'Nanosphere Health Sciences Inc.': 1, 'Health Canada for Medical Cannabis': 1, 'NanoSphere': 1, 'the “Delta Facility': 1, 'Hustle.[removed]': 1, 'the Uber of China Senmiao Technology Limited[removed': 1, 'The New Stock': 1, 'NBSE': 1, 'Green American Story (Cannabis DD)[removed]': 1, 'Dear Robinhood': 1, 'A.M.C &': 1, 'Phase 3 Trials': 1, 'Biosimilar Cancer Treatment': 1, 'NantHealth': 1, 'Ideanomics - Digitalizing': 1, 'CBNT Penny': 1, 'SENSEONICS': 1, 'Arno Brand[removed]': 1, 'BNN': 1, 'FCK WOMEN FCK': 1, 'ACP': 1, 'Carver Bank': 1, 'Ballard Power System': 1, 'Watchout for Power Plug': 1, 'Watchout Power Plug': 1, 'The Perfect Target to Catch': 1, 'NKA': 1, 'BLOW': 1, 'NAKEDBRAND': 1, 'ReneSola': 1, 'Robinhood Customers Sue': 1, '🚀🚀\\n\\n&': 1, 'Content Delivery Networks': 1, 'ROB': 1, 'HOD': 1, 'G STOCK M EXCHANGE': 1, 'BNKR': 1, 'ROBINHOOD BLOCKS INDIVIDUALS': 1, 'Lesson for Short Selling': 1, 'Titan Invest': 1, 'A M C &': 1, 'Green American Story': 1, 'Mohawk Holdings': 1, 'Dodge Coin #Crypto[removed]': 1, 'GET RICH OFF': 1, 'AAL American Airlines[removed]': 1, 'NexTech AR': 1, 'MOVE': 1, 'Gaming/Streamer': 1, 'Esport': 1, 'PTR': 1, 'Reddit/Social Media': 1, '🚀🚀🚀NAKD 🚀🚀🚀 let’s': 1, 'the Pre/Post': 1, 'Covid Pharmaceutical Companies - Non Vaccine': 1, 'Rally Call': 1, 'SILVER &': 1, 'FNMA Fannie Mae': 1, 'Dodgecoin': 1, 'Financial Service': 1, 'Crashing': 1, 'RRD': 1, 'Nevada Copper': 1, 'BIDEN WH': 1, 'Fidelity Sign-Up': 1, 'Parent’s': 1, 'AAPL - Best Quarter Ever - Buying': 1, 'Said to Draw on': 1, 'Credit Lines': 1, 'Ticker Ban Resource ThreadLike': 1, 'House Financial Services Committee': 1, 'Plant-Based Food - figuring': 1, 'Plant-Based Foods -': 1, 'Bank Credit Lines Amid Tumult[removed]': 1, 'Plant-Based': 1, 'Merrill Edge?r': 1, 'Discord For Certified Rich': 1, 'ThinkScript': 1, 'The Sheriff of Nottingham': 1, 'Analyze': 1, 'Noob': 1, 'WeBull': 1, 'fall!!![removed': 1, 'RMO EV': 1, '💵': 1, 'GME AMC': 1, 'TRVG': 1, 'QuestionsHey': 1, 'the ProShares Ultra VIX Short-Term Futures': 1, 'AMC Jump': 1, 'CUP': 1, 'SCARY': 1, 'ASKE': 1, 'AAPL CHEAP': 1, 'Academy Sports &': 1, 'WSB - GameStop Pyramid': 1, 'Senate Hearings': 1, 'FRAUD': 1, 'Freedom &': 1, 'Baudax[removed]': 1, 'the Oil Stock Love': 1, 'Buy &': 1, 'BAR': 1, 'Ronbinhood': 1, 'JC Pennies': 1, 'Wrap Technologies': 1, 'Tootsie Roll': 1, 'American Retail Brokers': 1, 'Restaurant Brands': 1, 'IPOE (Soon': 1, 'Quit Robinhood': 1, 'Citadel Securities[removed]': 1, 'KPAY Stock': 1, '$CLSH CLS Holdings USA': 1, 'Inc CLS Holdings USA': 1, '25K': 1, 'Pizza Hut': 1, 'AMC True Potential / When': 1, 'Altimmune': 1, 'GLOBEX DATA': 1, 'Chase You Invest': 1, 'Citadel’s': 1, 'DODGE COIN💰': 1, 'LRDC LAREDO Oil Inc gon': 1, 'TDAmertitrade': 1, 'NewEgg': 1, 'Webull ect?[removed]': 1, 'TD Halted Trade[removed]': 1, 'Hatch': 1, 'RobinHood Has Potentially Robbed Me': 1, 'KEEP GOING RH Shit': 1, 'Shell Companies -': 1, 'LET': 1, 'Torex': 1, 'Melvin/Citadel': 1, 'Ibkr Robinhood': 1, 'the Market Makers': 1, 'THE POWER OF THE LITTLE GUY[removed]': 1, \"etcI'm\": 1, 'Alaska Pacific Energy Corp.': 1, 'CASHAPP': 1, 'Robinhood[removed': 1, 'AMERESCO Stock': 1, 'March[removed]': 1, 'GameStop GS2C - European Market': 1, 'RYCEY &': 1, 'RYCEY/RRU1': 1, 'Rolls Royce Holding': 1, 'National Health Investor': 1, 'SENS LXRX &': 1, 'KhanAcademy': 1, 'kvs2ow/silver_way_more_than_just_a_precious_metal_and_an/': 1, 'best.](https://silverseek.com': 1, 'COMEX': 1, 'TODAYS PUMP': 1, 'Robinhood Temporarily Restricts Trading to Whole Shares[removed': 1, 'Hedge Funds': 1, 'Sunhydrogen': 1, 'BUY GME &': 1, 'CREST TRANSFER FORMIs': 1, 'SG/MY': 1, 'Defense of Robinhood': 1, 'Heavy': 1, 'SilverLake Capital': 1, 'The Board Is Buying Back Stock Aggressively': 1, 'BL - Blackline Inc.': 1, 'Gold/Silver manipulation.[removed]': 1, 'WEBUL': 1, 'DeGiro Market Order': 1, 'VBI': 1, 'Korea Stock Exchange': 1, 'the Next Big Winner.[removed]': 1, 'United Kingdom &': 1, 'SUNCOR': 1, 'Neutral': 1, 'Checkout GNCC Capital': 1, 'GreenGro Technologies GRNH[removed]': 1, 'Sellas Life Sciences[removed': 1, 'LLIT': 1, 'SRL': 1, 'AMC NEXT ON THE LIST[removed]': 1, 'Humbl': 1, 'Colgate': 1, 'Novavax': 1, 'Oreos': 1, 'U.S. Steel (X': 1, 'WDC&amp;ty': 1, 'CAT\\n\\n&': 1, 'CAT&amp;ty': 1, 'Western Digital': 1, 'U.S. Steel': 1, 'Dow stock': 1, 'CVX\\n\\n&': 1, 'CVX&amp;ty': 1, 'the Upgrade Zacks Equity Research': 1, 'Robinhood Limits[removed': 1, 'Capitalize': 1, '$GMGI Online Gambling Explosion[removed]': 1, 'Add Varta': 1, 'ToughBuilt': 1, 'WeBull Desktop': 1, 'NOK GOING': 1, 'FIRST MAGESTIC SILVER CORP | AG': 1, 'E.G.': 1, 'SAVE Spirit Airlines': 1, 'SGR': 1, 'nasdaq-MDGS': 1, 'MEDIGUS': 1, 'DELETE ALLY Invest': 1, 'ALLY Invest': 1, 'Nestle SA': 1, 'EDRY': 1, 'ATIF': 1, 'Biosynex': 1, 'McEwen Mining Inc.': 1, 'ESports &': 1, 'AGTK Agritek': 1, 'Spin Off ESports Co With': 1, 'CashApp Sold': 1, 'MHI': 1, 'Embraer an EPS': 1, 'Silver Mining Stock Investment Fund StartUp': 1, 'Nokia Stock': 1, 'PCTI': 1, 'BUY': 1, 'Gush Stock[removed]': 1, 'Fortitude Gold Corp': 1, 'REVOLUT': 1, 'Auxly Cannabis': 1, 'MY ENTIRE SAVINGS': 1, 'TNRX': 1, 'MCOA': 1, 'GPLA': 1, 'VAXART': 1, 'LCI Needs': 1, 'DIA': 1, 'GameStop Employees Speak Out![removed]': 1, 'OZSC GOING STRONG': 1, 'Robinhood’s Customers Are Hedge Funds Like Citadel': 1, 'Customers Are Hedge Funds[removed]': 1, 'UMICY?This Belgian': 1, 'BANKRUPT': 1, 'APP &': 1, 'Privacy': 1, 'Rackspace': 1, 'Shit Post': 1, 'CytRx Corp.': 1, 'Q2 Financials': 1, 'Congressional': 1, 'Squeeze': 1, 'Reddit Community Buying of': 1, 'TOTP': 1, 'Yubikey': 1, 'Benchmark Minerals': 1, 'TodaySince': 1, 'CORRPUT': 1, 'Pfizer[removed]': 1, 'AMC Holding VWAP[removed]': 1, 'LGF': 1, 'Send $Doge': 1, 'BlackberryFollowing': 1, 'WHR Stocks[removed]': 1, 'SPY Inverse': 1, 'BoA Platinum Savings': 1, 'the BOYS![removed]': 1, 'Innovation Pharmaceuticals IPIX[removed]': 1, 'NQ S': 1, 'FANTASTIC': 1, 'AMC-Waiting': 1, 'NOK Discussion[removed': 1, 'Dogecoin on Robinhood?[removed]': 1, 'AMC NOKIA': 1, 'AMC AMC AMC': 1, 'Fidelity AccountHey': 1, 'ABIO': 1, 'Long Oil Stocks': 1, 'Plant Based Companies': 1, 'Hllpf': 1, 'KOSS Stock': 1, 'Turquoise Hill Resources Ltd NYSE': 1, 'REGRF Stock': 1, 'GME DD &amp': 1, 'DOGECOIN RISE': 1, 'Literally WTF': 1, 'Betterment &': 1, 'Robinhood More Strict Limits[removed': 1, 'StocksThe': 1, 'VNOM': 1, 'Bypass Meme Stock Limits': 1, 'Robinhood/Clearing': 1, 'BlackBerry Ltd.': 1, 'Invites GameStop Corp.': 1, 'AMC Entertainment Holdings, Inc.': 1, 'NATIONAL TRIAL ATTORNEYS': 1, 'HAGENS BERMAN': 1, 'Dogecoin Encouragement[removed]': 1, 'New Stock': 1, 'AMD Stock Analysis [Technical, Fundamental &': 1, 'PEMTF-THOUGHTFUL BRANDS': 1, 'Carnival Stock[removed]': 1, 'SRNE &': 1, 'Nokia 3310': 1, 'Australia[removed]': 1, 'Hedge Fund/Celebrity': 1, 'SUI': 1, 'Safe Harbors': 1, 'a MemeHi Guys': 1, 'Sun': 1, 'Sun Communities, Inc.': 1, 'the Koch Brothers': 1, 'Possibility of Robinhood': 1, 'Anavex Life Sciences': 1, 'CUP &': 1, 'Mobile': 1, '@MAXD': 1, 'Retail Investors Demand Market Transparency![removed]': 1, 'case?-': 1, 'GME AH': 1, 'R\\\\*\\\\*inhood': 1, 'DKMR': 1, 'Misinformed Short Interest Data': 1, 'Open Source': 1, 'ES': 1, '$TTCF The Tattooed Chef - Made Doubling Short Squeeze list!!![removed]': 1, 'AIR CANADA FUTURE': 1, 'TELEGRAM': 1, 'Growth Investors': 1, 'LOTZ': 1, 'Pennsylvania Real Estate Trust': 1, 'GDX': 1, 'SOS Stock Bitcoin': 1, 'Ally Invest': 1, 'Clean Energy Technologies Inc[removed]': 1, 'Prospect': 1, 'Chase Bank': 1, 'Webull[removed]': 1, 'A SUPPORT GROUP THREAD': 1, 'Nikola Stock': 1, 'Spirit Airlines': 1, 'Afterpay Limited': 1, 'RB': 1, 'ARNA': 1, 'ITM Options': 1, 'AMC/GME?1': 1, 'GMD': 1, '\\\\_\\\\_\\\\_\\\\_\\\\_\\\\_\\\\_\\\\_\\\\_\\\\_\\\\_\\\\_\\\\_\\\\_\\\\_\\\\_\\\\_\\\\_\\\\_\\\\_\\\\_\\\\_\\\\_\\\\_\\\\_\\\\_\\\\_\\\\_\\\\_\\\\_\\\\_\\\\_\\\\_\\\\_\\\\_\\\\_\\\\_\\\\_\\\\_\\\\_\\\\_\\\\_\\\\_\\\\_\\\\_\\\\_\\\\_\\\\_\\\\_\\\\_\\\\_\\\\': 1, 'U.S.](https://www.nokia.com': 1, 'Nokia Shanghai Bell': 1, 'Prices|Open Interest': 1, 'T-Mobile 5G': 1, 'Investor Relations News](https://www.nokia.com': 1, 'Growing Business': 1, 'Put Options': 1, '|Put': 1, 'U.S. Federal 5G Cybersecurity': 1, 'Airport Authority': 1, 'New Business DevelopmentsHi': 1, 'CFA': 1, '|Call|$10|198,960|198,960|727,640|N': 1, 'Calls': 1, 'Kong](https://www.nokia.com': 1, 'Term Options': 1, 'Interest|Open Interest Change': 1, 'Short Term Options -\\n\\n|Type|Strike Prices|Open Interest': 1, '🕵': 1, 'nation](https://www.ctvnews.ca': 1, 'SAVA / FDA + BTD FAST': 1, 'Toyota Stock': 1, 'Options, Calls and Puts': 1, 'Quantum Scape[removed]': 1, 'BCRX Naked': 1, 'Pelosi &': 1, 'SBUX/MCD': 1, 'BBA': 1, 'Recommended Brokers for Swing Trading Stocks': 1, 'Recommended Brokers for Swing Trading[removed]': 1, 'Recommended Broker': 1, 'Recommended Brokers for Swing-Trading': 1, 'Frankfurt Stock Markets': 1, 'the Canada US &': 1, 'U.S. Cannabis BS': 1, '🚀🚀🚀DOGE': 1, 'Beware Robinhood': 1, 'Stock for Quebec Gold Research Limited[removed]': 1, 'Broker Firms': 1, 'UKApologies': 1, 'NOK - Options': 1, 'the Big Squeeze': 1, 'Melvin Capital Short Position History[removed]': 1, 'Wallstreet Journal': 1, 'Robinhood Instant': 1, 'Pattern Day Trade': 1, 'CNN Business': 1, 'Sparkasse': 1, 'the Bank Has Begun!': 1, 'GME Style[removed': 1, 'BBI Stock': 1, 'NIO🚀🚀': 1, 'Launch Products': 1, 'URGENT': 1, 'George ShermanHere’s': 1, 'Video Game': 1, 'ACTV': 1, 'CCIV STOCK MERGER': 1, 'next?': 1, 'BNGO Stock': 1, 'New Invester': 1, 'GameStock': 1, 'BB Stock': 1, 'Robinhood Intentionally Tank Options': 1, 'Competitor': 1, 'Nikola Rise': 1, 'FidelityHey': 1, 'Save the Cancers Head': 1, 'CommSec': 1, 'Clearing': 1, 'Just Energy (JE': 1, 'what´s': 1, 'FUNDAMENTAL': 1, 'Resources for Learning Fundamental Analysis[removed]': 1, 'AMC Stock Buy Now Or Wait[removed]': 1, 'ZOM Stock': 1, 'AGIO': 1, 'Naked Juices': 1, 'Koss Stock': 1, 'GamestopHey': 1, 'JBLU': 1, 'Investing / Trading': 1, 'Circumstances': 1, 'Plattform': 1, 'PS Now': 1, 'Ladies &': 1, 'IG HAVE STOPPED ALLOWING ANY BUYS OF GameStop': 1, 'Federal Open Market Committee': 1, 'Reaffirms Support\\n\\n&': 1, 'the NY Fed': 1, 'American Well Corp': 1, '# Pinterest, Inc.': 1, 'Agency': 1, 'LPL Research': 1, '# United Parcel Service': 1, '# Federal Reserve Rebukes Hawkish Rumors': 1, 'Inc. -\\n': 1, '# Alibaba Group Holding Ltd.': 1, 'BNY Mellon Wealth Management': 1, 'The High Short Interest Trade\\n\\n': 1, 'Other High Short Interest Stocks  \\n\\n': 1, 'the High Short Interest': 1, 'Gamespot’s': 1, 'The Macerich Company': 1, 'Tanger Factory Outlet Center': 1, 'ACM': 1, \"\\\\`Communist China Military Companies'\": 1, 'the Chinese Commerce Ministry': 1, 'IG Trading': 1, 'Aurora Cannabis Stock': 1, 'GME 🚀- and then': 1, 'BRQS': 1, 'XXII Stock - Now': 1, 'NOK NOK NOK NOK NOK NOK NOK NOK NOK NOK NOK NOK NOK NOK NOK NOK NOK NOK NOK NOK NOK NOK NOK NOK NOK NOK NOK NOK NOK NOK NOK NOK NOK NOK NOK[removed]': 1, 'rate?If': 1, 'HCMC Healthier Choices Management Corp': 1, 'the Kelly Criterion-': 1, 'Silver Futures': 1, 'IRTC': 1, 'the Options Clearing Corporation': 1, 'VGX': 1, 'EZGO': 1, 'Amazon 2.0': 1, 'Melvin Capital Short Position': 1, 'VOOG - 30%': 1, 'GUESS INC GEA[removed]': 1, 'the % Utilization of Free Float': 1, 'the 2008 VW': 1, 'CDPR': 1, 'First Post': 1, 'Stadia, Epic Games': 1, 'https://www.reddit.com/r/wallstreetbets/comments/ip6jnv/the_real_greatest_short_burn_of_the_century/?utm_source=share&amp;amp;utm_medium=ios_app&amp;amp;utm_name=iossmf': 1, 'SOLD': 1, 'The 9Nine Limited': 1, 'Robinhood to Webull?[removed]': 1, 'ON TWITTER EVER[removed]': 1, 'AAPL AMD MSFT': 1, 'Fox News': 1, 'Unpopular Opinion Why GME': 1, '401ks': 1, 'Green/EV': 1, 'BHC - multiple': 1, 'NEW CURRENCY': 1, 'Qualigen Therapeutics/QLGN/NASDAQ[removed]': 1, 'MBA Finance &': 1, 'Howmet': 1, 'The Market Makers': 1, 'Ericcson &': 1, '\\\\~US$25b': 1, '\\\\~$25b': 1, 'Stock Tracking Spreadsheet': 1, 'Thomson One?[removed]': 1, 'Analyst Reports': 1, 'Instagram, Tik Tok': 1, 'etc.)I': 1, '$ATOS ATOSSA THERAPEUTICS[removed]': 1, 'American Stocks': 1, 'Watkins': 1, 'GME Executive': 1, 'Latham &': 1, 'AMC STOCK OR': 1, 'ON FEB 1st': 1, 'ON TWITTER': 1, 'SEC NEEDS': 1, 'Shorting Biotechnology Companies': 1, 'ThinkOrSwim': 1, 'Friend': 1, 'Chanel': 1, 'Mars &': 1, 'Pacific Gas': 1, 'Inc - Micro Cap Premium Iron Ore': 1, 'Black Iron': 1, 'ZingerNation': 1, '\\\\~$88': 1, 'AWH': 1, 'MIN': 1, 'EXMGF': 1, 'Clovis Oncology Inc': 1, \"execute?I'm\": 1, 'SNDL/Robinhood': 1, 'Robinhood to Vanguard[removed]': 1, 'FreeTrade': 1, 'Options ICLN[removed]': 1, 'Profit/Loss': 1, 'Selfwealth Net Portfolio &': 1, 'HODL XRP': 1, 'DOGEEEE': 1, 'Robinhood AlternativesWhat’s': 1, 'VanguardI’m': 1, 'Canada Options': 1, 'SHOOK': 1, 'Melvin Capital Connected': 1, 'the MarketsJim Cramer': 1, 'GME - Averaging': 1, '$ASTI Ascent Solar Huge Upside': 1, 'Impossible Foods CFO': 1, 'ShakePay': 1, 'Global Fiber Technologies': 1, 'Gettin': 1, 'AMC FINISH': 1, 'GME Related': 1, 'Baytex Energy High Short Interest': 1, 'Reuters Article': 1, 'Interview](https://www.reuters.com': 1, 'VUL Vulcan Energy Resources': 1, 'Social Security Number': 1, 'MITI': 1, 'AWESOME': 1, 'AMC Update': 1, 'vIolent': 1, 'BOLSA DE VALOR': 1, 'SAVE SEARS': 1, 'BioWars': 1, 'GME 249%': 1, 'Interactive Brokers?[removed]': 1, 'TLC': 1, 'SoFi Investment': 1, 'GamesStop': 1, 'Nasdaq.com': 1, 'Put Option': 1, 'Fidelity US': 1, 'ISA\\n\\n&': 1, 'Robinhood to Fidelity[removed]': 1, '🚀🚀 #': 1, 'FF': 1, 'Santitas': 1, 'Shorty': 1, 'Mixed Feelings': 1, 'YouInvest': 1, 'JP Morgan/Chase': 1, 'the Robinhood Restricted List[removed]': 1, 'Buy Trillions': 1, 'NCSS': 1, 'FTR': 1, 'Tastyworks Brokerage[removed]': 1, 'AMC- Next': 1, 'GME FISCAL YEAR ENDS': 1, 'Information Asymmetry': 1, 'NMCI': 1, 'NAKD &': 1, 'The Next Game Stop Stock': 1, 'WSB Index Fund': 1, 'FTX Created': 1, 'Space X.[removed]': 1, 'TastyWorks': 1, 'DHL\\n': 1, 'NY Islanders': 1, \"CAN'T BUY GME\": 1, 'sells](https://www.reddit.com': 1, '|31,182|94%|\\n': 1, 'Plunge Has Newbies Scrambling': 1, 'BB|300+%|\\n': 1, 'ON THE WAY!': 1, 'General Motors?](https://www.reddit.com/': 1, '|AMZN - Amazon.com Inc': 1, 'l6w95k/robinhood_delisted_amc_bb_bbby_gme_nakd/)|BBBY': 1, 'Last 7 Day(s': 1, 'WYNN|155%|\\n|[GME': 1, 'The Undervalued ARKG Sleeper': 1, '|SLV - Silver ETF|1,117|93%|': 1, 'Pharmaceutical Co.': 1, '|NIO - NIO Inc - ADR|420|87%|': 1, 'Analysis \\\\[Technical': 1, 'Crammer': 1, 'the Popular Meme': 1, 'FAANG+M': 1, 'Popular Meme': 1, 'Autotrade': 1, 'game](https://en.m.wikipedia.org': 1, 'manipulated](https://www.reddit.com': 1, 'Silver Lake Group': 1, \"Dalian Wanda Group's\": 1, 'Class A Common Stock': 1, 'Often Overstated': 1, 'FSR Fisker': 1, 'MDXG - Short Sellers': 1, 'Healthier': 1, 'FSR Fisker Being Shorted Bad[removed]': 1, 'HK.02982 / HK.00136[removed]': 1, 'T-Shirt Business': 1, 'Elon’s': 1, 'GMB': 1, 'Chewy.com': 1, '🚀MAJOR TOM TO': 1, 'SPAC IPOE SOFI Stock[removed]': 1, 'WDLF': 1, 'Melvin Capital Loses': 1, 'Reddit Rebel Army of Day Traders Making Billionaires Even': 1, 'CHOISES': 1, 'HEALTHIER': 1, 'UVXY Stock': 1, 'Hero': 1, 'Short-Seller Tool': 1, 'The Two Emotions Of The Stock Market[removed': 1, 'BANG &': 1, 'SUBREDDITS': 1, 'Subreddits': 1, 'Covid-2020': 1, '🚀 🚨GOLDSPOT Discoveries': 1, 'the Federal Reserve and Wallstreet': 1, 'THE STOCK MARKET IF THEY KEEP': 1, 'INTEQ': 1, 'Question - Unjustified': 1, 'yearI’ve': 1, 'Clean Up Stock and Financials Market': 1, 'DGHI.V': 1, 'TD/Fidelity': 1, 'RHLooking': 1, 'Big ShortsWhile': 1, 'International Consolidated Airlines Group': 1, 'Eww': 1, 'International Consolidated': 1, 'Carrier': 1, 'BIG': 1, 'NOK Analysis and Projections for Earnings Week': 1, 'Wix, Shopify and GoDaddy': 1, 'the Australian Stock Exchange': 1, 'up?Hello': 1, 'AFC Energy DD‘s': 1, 'New Trader Channel': 1, 'CRE': 1, 'GGP': 1, 'Ontario Teachers': 1, 'SOS- Undervalued': 1, 'AI Stonks': 1, 'SOS- Undervalued Crypto and Mining Company[removed]': 1, 'Wecon Holdings': 1, 'ARNA Arena Pharmaceuticals': 1, 'Lessons learned &amp': 1, 'ProSiebenSat.1 Media': 1, 'PSM': 1, 'THE CORE FACTS EVERYONE NEEDS': 1, 'HFX': 1, 'Cause': 1, '$PFSI PennyMac Financial': 1, 'Tecs': 1, 'Global Broad Market Index': 1, 'Sector Diversification': 1, 'Complex Mineral Co': 1, 'Ticker GERN': 1, 'Learn to Trade StocksHey': 1, 'BLRX - BioLine RX Limited': 1, 'Standard Deviation Stock ScreenerHey': 1, '-GSR Party': 1, 'Group of Hardcore Longs From StockTwits Make Their Case[removed]': 1, 'Avadel Pharmaceuticals': 1, 'GME - Infinite': 1, 'Namaste Texhnologies NXTTF[removed]': 1, 'Anheuser': 1, \"Robinhood's Decision - GameStop\": 1, 'the Popular Stock': 1, 'Clovis Oncology': 1, 'the Big Guys Pockets[removed]': 1, 'DaVinci': 1, 'Misleading Customers Costs': 1, 'THE SHORTS ARE KILLING MEDICAL ADVANCES AND LAUGHING AT THE SICK AND WEAKENED': 1, 'RecommendationsHey': 1, 'Palantir to Hold/Underperform/Sell': 1, 'Department of State': 1, 'Post-Squeeze Market?[removed': 1, 'Robnihood': 1, 'Chart Set Up': 1, '🚀🚀🚀🌕': 1, 'WindowCan': 1, 'Front Running': 1, 'Etsy, Shopify, Square': 1, \"ARK-Q's\": 1, '45 Call Options': 1, 'Price Motors Co.': 1, 'United States Postal Service Next Generation Delivery Vehicle Contract': 1, 'Internal Combustion Engine': 1, 'Sorrento Therapeutics[removed': 1, 'NEED URGENT': 1, 'EPWCF Set': 1, 'Query': 1, 'Robinhood to Fidelity question.[removed]': 1, 'BioWar': 1, 'Enphase Energy)[removed]': 1, 'the Mars[removed]': 1, 'Club House Invite': 1, 'Wall Street Corporations': 1, 'Vanguard Balance': 1, \"ODEN'S\": 1, 'GME Ownership Above 100%[removed': 1, '🦍&gt;&gt;🐍': 1, 'OPEC+': 1, 'Windows 10 Desktop': 1, 'TIF': 1, 'Capital Raising': 1, 'Robinhood)': 1, '🛸': 1, '🚀🛸🤷[': 1, 'ESPP': 1, 'CARV': 1, 'businesses!UONEK': 1, 'CARMAT SA STOCKS[removed]': 1, 'Gran Tierra Energy': 1, 'Frontier Communications': 1, 'Fidelity Brokerage Account?[removed]': 1, 'Sainsbury': 1, 'Point72 &': 1, 'Keep': 1, 'SCON - Superconductor Technologies': 1, 'Flow Traders Stock': 1, 'APHA STOCK SELL OR': 1, '🚀🌙✋': 1, 'PPC': 1, 'GME - Charging Stations Stocks[removed]': 1, 'WSB Stocks': 1, 'Virgin Galactic Test Flight': 1, 'AMD Stock Price Target Prediction &': 1, 'Virigin Galactic Test Flight': 1, 'American Airlines - Short Squeeze': 1, 'Tesla’s EV': 1, 'Vpq92y3': 1, 'imposing](https://ibb.co/y5sPVJv': 1, 'Starbucks &': 1, 'Friday](https://ibb.co/G3rX22D': 1, 'Friday](https://ibb.co/jVFqVbH': 1, 'PayPal, Qualcomm &': 1, 'morning](https://ibb.co/LvYY84v': 1, 'TUI': 1, 'RobinHood Purchase Limits Todaynan': 1, '️LISTEN': 1, 'VISA': 1, 'Sierra Bullets': 1, 'Clarus Corp': 1, 'OLN': 1, 'XPeng': 1, 'Hot EV Stockshttps://www.thestreet.com/investing/tesla-nio-xpeng-nikola-and-more-the-latest-on-hot-ev-stocks\\n\\nNIO’s': 1, 'Xpeng -': 1, 'Easy Tenbagger': 1, 'Palantir Tech': 1, 'Napkin': 1, 'FFRMF': 1, 'HCMC’s day': 1, 'GME Set': 1, 'FDA APPROVAL Meeting': 1, 'Adamas': 1, 'POTENTIAL': 1, 'SAVE NAKD/EXPR![removed]': 1, 'PS Strangely': 1, 'IDRV': 1, 'Fluoride': 1, 'the American Government': 1, 'GameStop Falling Fast': 1, '🚀🚀🚀BEST Inc.': 1, '🚀🚀🚀HOT STOCK': 1, 'Chickens Coming Home': 1, 'PumpStopper': 1, 'RC': 1, \"noviceI'm\": 1, 'ASM Stock Silver': 1, 'NEW WAVE - DONT BE LATE[removed]': 1, 'Shortys': 1, '&gt;100M': 1, 'NFLX ER': 1, 'Q2 &': 1, 'ASM Silver Huge Rally Today[removed]': 1, 'Republican Party': 1, 'IHS Markit Ltd.': 1, 'GME Shorts Covering': 1, 'Бедный': 1, 'Price Target Predictionnan': 1, 'US X Steel': 1, 'US X / Steel Industry': 1, 'the Zacks Consensus Estimate': 1, 'Bernie': 1, 'economyTL;DR CAT': 1, 'external/22797831.3359/aHR0cHM6Ly93d3cuZmluaW1pemUuY29tL3dwL25ld3MvYmlnLWRpZy1lbmVyZ3kvP25vYXBwPXRydWUmdXRtX2NhbXBhaWduPWRhaWx5LWFtZXJpY2FuLTAxLTAyLTIwMjEmdXRtX3NvdXJjZT1lbWFpbCZ1dG1fbWVkaXVtPURhaWx5JTIwQW1lcmljYW4lMjBFZGl0aW9uJTIwVXNlcnM/5fb5a22f634c92018f77b001B92164428': 1, 'Caterpillar’s': 1, 'Hall - Hallmark Financials: Money': 1, 'NEO Stock Exchange': 1, '📱AT&amp;T📱': 1, 'RBC Direct Investing': 1, 'Silver Confusion': 1, 'ABOS': 1, 'Innovation and Other': 1, 'Alibaba Holdings Group': 1, 'Alibaba Holdings Group Ltd.': 1, 'AliExpress': 1, 'Kaola': 1, 'Taobao': 1, 'THE COMPANY $GME[deleted]': 1, 'Fiskers EV': 1, 'BUSXF': 1, 'DSX': 1, 'NOK - Rated BUY[removed]': 1, 'Dominos Pizza': 1, 'UNISWAP': 1, 'Globalstar': 1, 'AZFL': 1, 'LADR': 1, 'AGNC': 1, 'the Robinhood Class Action Lawsuit - No Fluff': 1, 'LIGHTING SCIENCE GROUP BUY TIME[removed]': 1, 'THE MOON🚀': 1, 'King': 1, 'Robinhood to Fidelitynan': 1, 'DVAX': 1, 'Kitco - Stansbury Research - etc.[removed]': 1, 'ON FIRE TODAY': 1, 'the Market:*': 1, 'Fidelity, Webull, ETrade': 1, 'Short/Long Positions:**\\n\\n*Long': 1, 'Stock X. Stock X': 1, 'RYCY': 1, 'BBM': 1, 'CTO Fynking Analytics': 1, 'AIRLINES': 1, 'GNCA - Genocea Biosciences': 1, 'New Broker': 1, 'the \\\\~130%': 1, 'Line Corp': 1, 'MVMD.CA': 1, 'Rocket Mortgage $RKT  \\n\\n': 1, 'VanEck Vectors VideoGaming&amp;eSports': 1, 'ESP0': 1, 'Robinhood Lied': 1, 'Bluma Wellness': 1, 'LOSS': 1, 'United States Multi': 1, 'US Senate': 1, 'the Canadian Chiefs and Top Dogs': 1, 'The Green American Dream': 1, 'the Gamestop Closing Prices': 1, 'UpsHey': 1, 'The Cloud’s Elite': 1, 'Wilshire Coin': 1, 'Gold Stock': 1, 'PLUG Power WTF[removed]': 1, 'BlXX Bloxx Inc Gold Stock[removed]': 1, 'VINwiki': 1, 'Global Group': 1, 'GME Failed': 1, 'Kill NFLX': 1, 'the Goldman Sachs Technology': 1, 'Corsair’s Investor Relations': 1, '@cnbc': 1, 'BBThe': 1, 'Corp America': 1, 'the Media Heavily Promoting WSB': 1, 'Trading, Selling Stock, Unemployment Benefits[removed]': 1, 'Truth': 1, 'the Clearing House': 1, 'HSDT': 1, 'FDA APPROVAL': 1, 'CAUSE': 1, 'The Clearing House': 1, 'HODL SNDL': 1, 'Gilead': 1, 'The REAL Silver Misinformation Campaign - IMPORTANTnan': 1, 'ZOM❗': 1, 'Mazda Motor': 1, 'MIcrosoft': 1, 'GLGDF': 1, 'ASM': 1, 'Fathers': 1, 'the International Monetary Fund': 1, '$PAAS': 1, 'PRIVATELY': 1, 'The REAL Silver Misinformation Campaign - IMPORTANTI': 1, 'MAG': 1, 'GameStop Corporation - Yahoo': 1, 'WSB DISCORD[removed': 1, 'Silver Sands Resources High Grade': 1, 'Cresco Labs &': 1, 'Columbia Care': 1, 'CannabisThe Rolling': 1, 'Cronos\\n\\nNews': 1, 'Inovio Pharmaceuticals': 1, 'Costodial': 1, 'Clubhouse last night.nan': 1, 'Stock Selling Questionnan': 1, 'CBC': 1, 'SIA Wealth Management': 1, 'IG Markets': 1, 'Price Futures Group': 1, 'THE MOON 🚀🌓': 1, 'GME Today': 1, 'Minor': 1, \"CAn't\": 1, 'US House Committee': 1, 'S3 Partners Tweet': 1, 'TWNKW': 1, 'Hostess Brands': 1, 'AMC Short Interest Calculation](https://www.reddit.com': 1, 'Voortman Cookies': 1, 'Call Options (TWNK210820C17.5': 1, 'Donettes and Zingers': 1, 'HOLDING THE LINE ON GME': 1, 'Twinkies': 1, 'Hostess': 1, 'Owner of Twinkies': 1, 'HoHos': 1, 'DingDongs': 1, 'Cupcakes': 1, 'New York Times': 1, 'Stripe': 1, 'YSK': 1, 'Vanguard Group - 7.58%': 1, 'Morgan Stanley - 2.86%': 1, 'Butler Research': 1, 'BlackRock - 12.3%': 1, 'Kitco NEWS': 1, 'squeeze?Ive': 1, 'Common Stock': 1, 'the Reverse Stock Split': 1, 'RobinHood - Email[removed]': 1, 'Their Phase 2 Data': 1, 'NVAX](https://www.reddit.com': 1, 'Phase 2 Data': 1, 'ROBINHOOD[removed]': 1, 'PLUGI': 1, 'the Illegality of Short Ladder Attacks': 1, 'FLL': 1, 'Australis Provides Update With Respect to Australian Cannabis Grow Facility Contract[removed]': 1, 'International Investors': 1, 'EXPR - Heading': 1, 'Hello Friends': 1, '$BTZI Bots': 1, 'Pekka Lundmark](https://www.reuters.com/': 1, 'extension](https://www.nokia.com': 1, 'Huawei](https://tech.newstatesman.com': 1, 'NOK LEAPS': 1, 'Nokia Networks': 1, 'APRN': 1, 'BioCryst': 1, 'Nuclear Energy': 1, 'Capital Gains Taxes': 1, 'https://tos.mx/WJbahbr](https://tos.mx/WJbahbr': 1, 'LODE Mining': 1, 'Odonate Therapeutics Inc': 1, 'SailPoint Technologies - $SAIL[removed]': 1, 'Tesetaxel': 1, 'FDA approval](https://www.odonate.com': 1, 'Tang Capital Management': 1, 'ODT&amp;o=&amp;pl=&amp;ph=&amp;ll=&amp;lh=&amp;fd=730&amp;fdr=&amp;td=0&amp;tdr=&amp;fdlyl=&amp;fdlyh=&amp;daysago=&amp;xp=1&amp;xs=1&amp;vl=&amp;vh=&amp;ocl=&amp;och=&amp;sic1=-1&amp;sicl=100&amp;sich=9999&amp;grp=0&amp;nfl=&amp;nfh=&amp;nil=&amp;nih=&amp;nol=&amp;noh=&amp;v2l=&amp;v2h=&amp;oc2l=&amp;oc2h=&amp;sortcol=0&amp;cnt=100&amp;page=1': 1, 'CGNH Penny Stock': 1, 'the Sundial Growers': 1, 'SONY': 1, 'Beginner Stock Investor': 1, 'FNMA FMCC': 1, 'the University of Michigan': 1, 'International Finance': 1, 'Jumia Foods': 1, 'Candlesticks': 1, 'Diamond Hands': 1, 'SUNDIAL': 1, 'OutlookHey': 1, 'FUBO Squeeze': 1, 'k3p4bc/when_will_the_gme_squeeze_happen_answers_here/?utm_source': 1, 'Cytodyn INC': 1, 'Grand Tierra Energy Making Moves[removed': 1, 'Clean Energy HoldsHey': 1, 'Inversely': 1, 'YoY\\n': 1, 'Vigtory Inc': 1, 'BBC America': 1, 'fuboTV-Announces-Q3-2020-Results': 1, 'Bravo, Comedy Central': 1, 'Amazon Prime': 1, 'the Weather Network': 1, 'the Safety of Medicines and Health Products': 1, 'TheCannalysts': 1, 'Tilray &': 1, 'the Combined Company': 1, 'Aphria &': 1, 'AMP German Cannabis Group': 1, 'deal](https://www.newswire.ca': 1, 'Tilray Portugal': 1, 'Aphria/Tilray - The European GiantAphria &': 1, 'Portugal](https://www.businesswire.com': 1, 'French National Agency': 1, 'German Pharmaceutical and Medical Cannabis': 1, 'CC Pharma': 1, 'Arrangement, Aphria Shareholders': 1, 'Certified Medical Cannabis Products': 1, 'Value Investing P': 1, 'Recent Bets &': 1, 'Gamestop’s': 1, 'Non Secured': 1, 'the SKYE Team': 1, 'AMC AMC': 1, '$LYSCF &': 1, 'Share Statistics': 1, 'GSE': 1, 'Robinhood Vlad Tenev AMA[removed]': 1, 'FST': 1, 'Brand New to Stocks': 1, 'TATT': 1, 'Reddit/WSB': 1, 'WSB V. Hedges': 1, 'WSB Greednan': 1, 'SPY/NIO/TESLA': 1, 'EASY': 1, 'Air Products': 1, 'Thrive': 1, 'LISTEN': 1, 'TIME': 1, 'BBW Build': 1, 'Automotive Data Startup Otonomo Seals SPAC Merger': 1, 'First Trust': 1, 'Cheers \\\\~\\n\\n&': 1, 'GMEDD.com': 1, 'Kontrol Energy - KNR[removed]': 1, 'the Open Automotive Alliance': 1, 'the QNX Neutrino RTOS': 1, 'ISO 26262': 1, 'Android Automotive': 1, 'Drivewealth': 1, 'Cash-Secured': 1, 'HoLD ThE LinE ✋': 1, 'mEmE': 1, 'RedditContext': 1, 'GAMESTOP CORP CL': 1, 'GILEAD SCIENCES INC': 1, 'JOHNSON &': 1, 'U\\tUNITY SOFTWARE INC\\xa0 \\n\\nVZ': 1, 'FEDEX CORP': 1, 'NUMINUS WELLNESS INC\\xa0 \\n\\n': 1, 'NVIDIA CORP': 1, 'MODERNA INC': 1, 'APPLE INC': 1, 'SOLAREDGE TECHNOLOGIES INC\\xa0 \\n\\nSRNE': 1, 'ALPHABET INC': 1, 'CROWDSTRIKE HOLDINGS INC': 1, 'ADVANCED MICRO DEVICES INC\\xa0 \\n\\nBABA': 1, 'BOEING COMPANY': 1, 'AMAZON.COM INC': 1, 'NEW': 1, 'DIGITAL TURBINE INC NEW': 1, 'PFIZER INC\\xa0 \\n\\nPLUG': 1, 'ENPHASE ENERGY INC': 1, 'CLOUDFLARE INC CL': 1, 'INSEEGO CORP': 1, 'REGENERON PHARMACEUTICALS INC': 1, 'VIATRIS INC': 1, 'WALMART INC\\xa0 \\n\\nDIS': 1, 'MAGNITE INC\\xa0 \\n\\nMSFT': 1, 'SORRENTO THERAPEUTICS': 1, 'QCOM\\tQUALCOMM INC\\xa0 \\n\\nQS': 1, 'INVESCO': 1, 'VERIZON COMMUNICATIONS INC\\xa0 \\n\\nVTRS': 1, 'GAMBLE CO': 1, 'VIRGIN GALACTIC HOLDINGS INC': 1, 'NIO INC ADS REPSTG CL': 1, 'AMC ENTERTAINMENT HLDGS INC CL A': 1, 'AMPIO PHARMACEUTICALS': 1, 'NEXTERA ENERGY INC': 1, 'PLUG POWER INC NEW': 1, 'SILVER DUE DILLIGENCE &amp': 1, '’m Thinking': 1, 'SEC Reg': 1, 'INSANE DD': 1, 'StartersNot': 1, 'Winning Brands': 1, 'Cathie Woods ARK': 1, 'Potential Stocks[removed]': 1, 'US Premarket': 1, 'AGNC Investment Corp.': 1, 'NIO Power': 1, 'Red Star Macalline Group': 1, \"Red Star's\": 1, 'Red Star': 1, 'HCMC DD': 1, 'HCMC DD PACKAGE W/': 1, 'HedgeFunds': 1, 'VCEL': 1, 'Fidelity Active Trader': 1, 'CiCi’s': 1, 'Live Nation': 1, 'Encore': 1, 'The US Travel Association': 1, 'Many Las Vegas Hotels': 1, 'Q3 Gross Profit Percentage': 1, 'The National Retail Federation': 1, 'NPD': 1, 'Operating Margin %': 1, 'Adjusted': 1, 'The Queen’s Gambit': 1, 'Valentine’s Day': 1, 'Marcus Corporation': 1, 'Rev - $4.43 billion': 1, 'NRF': 1, 'Mortar': 1, 'Busters': 1, 'SEARCH TRAFFIC REACHES AN ALL-TIME': 1, 'Umbrella Academy': 1, 'Rio': 1, 'Q3 Operating Profit Percentage': 1, 'e.g.- Shopify': 1, 'Fast &': 1, 'Dave &': 1, 'Mirage': 1, 'Casinos': 1, 'The Office': 1, 'WandaVision, Deadpool': 1, 'HEAR)Low PS-': 1, 'Turtle Beach Corp': 1, 'SexTech / SexDolls': 1, '&lt;$10': 1, 'BUY Genworth Financials': 1, 'Geforce NOW': 1, 'Stadia': 1, 'NAVB': 1, 'KOSS BUY THIS DIP[removed]': 1, 'Apple Silicon': 1, 'wicks](https://i.imgur.com/hVJLO1w.png': 1, 'nVidia': 1, 'Lifecare/ Digital Diagnostics': 1, 'Intel?Intel': 1, 'Stream': 1, 'TPR - Tapestry Inc.': 1, 'Kjetill Sternenan': 1, 'Celyad Oncology / CYAD / Euronextnan': 1, 'portfolio](https://ibb.co': 1, 'Computing &': 1, 'Graphics': 1, 'Forward/PE': 1, 'EPYC': 1, 'Enterprise': 1, 'Semi-Custom': 1, 'Xbx5TV4': 1, 'growth](https://ibb.co/FhLj0Y7': 1, 'WMWare': 1, 'Price Target PredictionIn': 1, 'KOSS &amp': 1, 'Huawei Technologies Co.': 1, 'DNB Markets': 1, 'the U.K. France': 1, 'Nokia + Affordable Cell Phones': 1, 'Eros STX Global Corporation - ESGC Dirty': 1, 'HTBX - Breakthrough': 1, 'Starhub, Company': 1, 'CME': 1, 'la9w0j/for_everyone_new_to_investing_a_comprehensive/?utm_source=': 1, 'BlackBerry - Potential growth?Good Morning': 1, 'Inovio’s': 1, 'CELLECTRA': 1, 'Johnson &amp;amp': 1, 'CNBCRandy Smallwood': 1, '👏🚀': 1, 'ENDO': 1, 'NXP’s': 1, 'DIVIDEND CALENDAR!](https://i.imgur.com/l5Liho7.png': 1, 'Harley-Davidson': 1, 'HOG\\n\\n&': 1, 'Emerson': 1, 'Emerson Electric (EMR': 1, 'TSA': 1, 'VRTX&amp;ty': 1, 'Vertex': 1, 'Virgin Galactic - SPCE[removed': 1, 'WORTHLESS': 1, 'Learn Stocks[removed': 1, \"Barclay's\": 1, 'InsuraGuest Announces OTCQB Listing': 1, 'VYNE': 1, 'Dodd - Frank': 1, 'RIP R': 1, 'SeedInvest Advice': 1, 'CBDD': 1, 'Upvote - Urgency': 1, 'VVPR': 1, 'SELB': 1, 'URG Stock': 1, 'FINV Stock': 1, 'the Gambling Hotline': 1, 'Coach S.A.': 1, 'Ballard’s': 1, 'Arriva Nederland': 1, 'Europe[https://www.sec.gov/Archives': 1, 'Fuel Cell Electric Buses': 1, 'Solaris Bus &': 1, 'CNW Group/Ballard Power Systems Inc.': 1, 'VRTX': 1, 'Nippon Dragon Resources Inc RCCMF': 1, 'Metals[removed]': 1, 'US Department of Energy': 1, 'AmpioPharmaceuticals Stock[removed]': 1, 'HOLD Tight![removed]': 1, 'Lesson Learned[removed': 1, 'MAC &': 1, 'here](https://finviz.com/quote.ashx?t': 1, 'l9rdrt/lets_clear_up_a_few_misconceptions_about_gamma/': 1, 'BABABABA': 1, 'the Memeification of BB': 1, 'Veeva Systems': 1, 'KRG': 1, 'ShaMaran': 1, 'Sarsang': 1, 'Bloomberg, Total': 1, 'EPF.T2': 1, 'SNM': 1, 'Nov-19': 1, 'SOMO': 1, 'GME Ladder': 1, 'Foresight Autonomous': 1, 'KOSS CORP 17.79': 1, 'Diamond Hands🚀🚀🚀🌚': 1, 'Bravehearts &': 1, 'Internal Rate of Return': 1, 'XIRR': 1, '211 Steel Reserve': 1, 'AGN': 1, 'Algernon Pharmaceuticals Inc.': 1, 'a Psychedelic for Stroke Patients.[removed]': 1, 'The Next Couple Of Days[removed]': 1, 'ARK (K) Innovation ETF[removed]': 1, 'CLIR - News': 1, 'Exxon - Exxon': 1, 'VIMEO': 1, 'AMC TRACKER': 1, 'New Energy Stocks': 1, 'BUY BLACKBERRY NEXT GAMESTOP[removed]': 1, 'ARK (K) Innovation ETF': 1, 'Robintheft': 1, 'AINT': 1, 'Lowes[removed]': 1, 'New &': 1, 'PlatformsHello': 1, 'The Uranium Bull Thesis[removed]': 1, 'SNDL Sundial Growers': 1, 'l78h64/mohawk_holdings_mwk_is_very_undervalued_still/': 1, 'change](https://imgur.com': 1, 'KBj1qvJ': 1, 'Organization': 1, 'Office Workers': 1, 'Legal Advice': 1, 'Q4 Earnings Report': 1, 'Wayfair (W) 2020': 1, 'Wayfair’s': 1, 'Solidarity': 1, 'On24': 1, 'Independent Research Sitesnan': 1, '🏾 &': 1, 'Andromeda': 1, 'FAF': 1, 'NASDAQ/AAPL': 1, 'NMGRF': 1, 'the P/S': 1, 'Fuelcell Enery Inc': 1, '\\\\~$230': 1, 'Khan Academy': 1, 'Investopedia University': 1, 'Intelligent Investor': 1, 'ON AMC': 1, 'AIV': 1, 'SAMEWanted': 1, 'Johnson](https://www.nasdaq.com': 1, 'A-Z.': 1, 'Mastercard](https://www.nasdaq.com': 1, 'Cult Followings': 1, 'K9 Gold Corporation': 1, 'AMC Holding': 1, 'Best Foreign Stock Trading Service': 1, 'Petmed Express': 1, 'Shorted': 1, 'SunPower Corporation': 1, 'SRG': 1, 'Tootsie Roll Industries': 1, 'IEC Tech Industry': 1, 'TraderBull-UP Hot Stock': 1, '$PHUN - Phunware Announces': 1, '$PHUN - Phunware': 1, 'MCFE': 1, 'Europe Trusted Broker?Looking': 1, 'Naked Company Shares': 1, 'MGP': 1, 'DECK': 1, 'an E-Trade': 1, 'American Expat Brokerage OptionsAmerican': 1, 'NEC': 1, 'Pharming Group': 1, 'XM': 1, 'Sooooo': 1, 'Demand': 1, 'Little Women': 1, 'the Money Market Fund': 1, 'NAKED BRAND': 1, 'Cathie Woods/ARK': 1, 'EPS/Revenue': 1, 'NASDAQ/NNDM': 1, 'Rolling SENS': 1, 'IG Group': 1, 'O/S Shares &': 1, 'Bloxx Inc Gold': 1, 'Advice Request - Very New[removed]': 1, 'BB Advice/': 1, 'CHURCHILL CAPITAL CORP IV': 1, 'CHURCHILL CAPITAL CORP IVnan': 1, 'Boston Dynamic Product': 1, 'CCIV - Churchill Capital': 1, 'Healthcare Stocks[removed': 1, 'Delivery Update\\n\\nCompany Opened': 1, 'ALYA': 1, \"the US OTCQB.I'm\": 1, 'BB Advice/ Buying': 1, 'Demo': 1, 'NON-MARGING': 1, 'HYRE': 1, \"AMC bubbleI'm\": 1, 'Ford Stock': 1, 'ACI Great Longterm': 1, 'Falcon Oil &': 1, 'BEE Network': 1, '$TRIT &': 1, 'VGR': 1, 'Stonkstreet &': 1, 'Piggly Wiggly': 1, 'PIGGLY WIGGLY': 1, 'the Piggly Wiggly': 1, 'Facebook and General Motors': 1, 'Amazon Smash Earnings Expectations': 1, 'HEL NOK': 1, 'Potential Effect of Shorting': 1, 'the U.S. Federal Reserve System': 1, '€\\n\\n&': 1, 'VVIT': 1, 'Marathon Oil MRO': 1, 'some Sector ETF’s': 1, 'questionHey': 1, 'Nokia Unusual Options': 1, 'Non-GME': 1, 'Carnival Plc': 1, 'London Stock': 1, 'CoronaHi': 1, 'NL': 1, 'RGRX': 1, 'YOLO Cannabis': 1, 'PowerHouse Energy': 1, 'ETF“Y': 1, 'G20': 1, 'Cybase': 1, 'TNXP Someone': 1, 'Google CNBC': 1, 'Dark Pool': 1, 'Goldman Sachs’ Sigma X2': 1, 'UBSA': 1, 'JPM-X': 1, 'Credit Suisse’s': 1, 'JPMorgan Chase’s': 1, 'Morgan Stanley’s MSPL': 1, 'Pools': 1, 'TetraPak': 1, 'Dupont Nutrition and Biosciences': 1, 'IFF - International Flavors and Fragrances - good': 1, 'SNH Steinhoff International': 1, 'AFC Energy DD‘s - hot': 1, 'Amazon - next': 1, 'Robinhood’s GameStop Stock Restriction Class Action Lawsuit': 1, 'Benchmark Metals BNCH': 1, 'AMD/Apple': 1, 'Information Technology': 1, 'Space': 1, 'Tesla.nan': 1, 'Perceptive Advisors Llc': 1, 'Veterans Affairs': 1, 'Audion Therapeutics': 1, 'the National Institute on Deafness and Other Communication Disorders': 1, 'Wasatch Advisors': 1, 'into%20its%20%22target%22%20cell': 1, 'Fortune-Business-Insights.html#:~:text=09%2C%202020%20\\\\(GLOBE%20NEWSWIRE\\\\),by%20the%20end%20of%202026': 1, 'https://finance.yahoo.com/quote/FREQ/': 1, 'ATOSSA': 1, 'NHI': 1, 'Refinitiv/Reuters': 1, 'The Big Short Squeeze:': 1, 'SPCE / Yay': 1, 'JUMPED': 1, 'THE NEW COMMUNITY': 1, 'Vuzix Corp': 1, 'Cassava Sciences Sava': 1, 'SURF\\n\\n&': 1, 'NLSN': 1, 'ThinkOrSwim Import Links Included': 1, 'National Securities Clearing Corporation': 1, 'Fidelity - Website': 1, 'Spruce Point Capital': 1, 'Mcap 4.75 Billion': 1, 'HIMS Ticker': 1, 'MITT AG Mortgage Investment': 1, 'HMM': 1, 'DCAed': 1, 'CCC': 1, 'Hedge Funds/ Media[removed]': 1, 'Fill': 1, 'Sofi’s': 1, 'Best Nickel': 1, 'SHE': 1, 'Conversion': 1, 'KEEP HOLDING GME STOCK': 1, 'Silvergate Capital Corp': 1, 'Sellas Life Science': 1, 'Wallstreetbets &': 1, 'Newbie Stellantis NV': 1, 'GMEapalooza': 1, 'Airlines/Carnival': 1, 'Post-Losing-$4000 Clarity': 1, 'FTS': 1, 'Post-losing-$4,000 Clarity': 1, 'FIDELITY ACTIVE TRADER[removed': 1, 'HOL - Bullish Skyrocketing Off The Charts': 1, 'TIcker ZOM': 1, 'Buyyy🚀🚀🚀': 1, 'NBY': 1, 'Wholesale Mortgages': 1, 'BIG EARNINGS': 1, 'FidelityHello': 1, 'GDNP': 1, 'Agit Pai': 1, 'Express Inc': 1, 'SELLAS LIFE SCIENCES': 1, 'LLNKF on TD Ameritrade': 1, 'Mitsui Mining Corpnan': 1, 'VLVLY': 1, 'News Subscription/Media': 1, 'GUARD AGAINST TAILEVENT': 1, 'Large Synoptic': 1, 'the Meme Stocks': 1, 'The Meme Stocks': 1, '✨Lastly': 1, 'Iron Condors': 1, 'HERE](https://imgur.com': 1, '✨✨✨\\n\\n&': 1, 'YEAR](https://finance.yahoo.com': 1, 'now.](https://imgur.com': 1, 'Bank of China': 1, 'The Agricultural Bank of China': 1, 'Major Upside PotentialKandi Technologies': 1, 'SONO': 1, 'Ford/Google': 1, 'Space Force - Bonds/Securitiesnan': 1, 'Upvote': 1, '998K': 1, 'Cramer': 1, 'SEA': 1, 'Broken Coast](https://uspto.report': 1, 'SweetWater Brews\\n\\nSweetWater Brewing Company': 1, 'Premium Hard': 1, 'SweetWaters': 1, 'BrandingBrand Awareness - Aphria Brands': 1, 'Extra Pale Ale': 1, 'Solei': 1, 'the Aphria/Tilray': 1, 'M&amp;As': 1, 'Solei*\\n&gt;There': 1, 'SweetWater': 1, 'US Trademarks': 1, 'Products Company': 1, 'Kraken': 1, 'SpaceForce': 1, 'the Air Force': 1, 'ARK Fund': 1, 'ARX': 1, 'BLSP Broker Issues[removed]': 1, 'RECO': 1, 'SaaS/Cloud': 1, 'Silver Coin to Continue?[removed]': 1, 'Jet': 1, 'Canna Cabana': 1, 'Surgaline Holdings': 1, 'Digital Services': 1, 'Torraco': 1, 'Xerox Financial Services': 1, 'XMPie': 1, 'Corporate Development': 1, 'Xerox': 1, 'THE NEXT BIG STOCK[removed]': 1, 'Exchange-Traded Funds': 1, 'Kia Motors': 1, 'SOO': 1, 'NAVYA': 1, 'Daiichi': 1, 'NEXLETOL': 1, 'the European Economic Area': 1, 'NEXLIZET': 1, 'Esperion’s': 1, 'ESPR’s': 1, 'Daiichi Sankyo Europe': 1, 'GME Hangover Summary': 1, 'Rolls Royce Stock RR.L': 1, 'STNG': 1, 'ADX - 22%': 1, 'Coatue Management Llc': 1, 'VTSMX - Vanguard Total Stock Market Index Fund Investor Shares': 1, 'IWM - iShares Russell': 1, 'Jane Street Group': 1, 'the Securities Exchange Commission': 1, 'State Street Corp': 1, 'Big Pharma': 1, 'Stock(s': 1, 'OilSome': 1, 'Fluor Corporation': 1, 'Continental Resources Inc': 1, 'Retail Bull Blossoms': 1, 'FDTC': 1, 'HUGE[removed]': 1, 'iPads': 1, '👋 Problem': 1, 'AVAN': 1, 'BB ON': 1, 'DNAX': 1, 'AMPG': 1, 'Cyclo Therapeutics': 1, 'Capri Holdings': 1, 'Boston Scientific': 1, 'FCX&amp;ty': 1, 'SMG\\n\\n&': 1, 'the Amazon Day 1 Fund': 1, 'Humana': 1, 'Planters Snacks': 1, 'SNE&amp;ty': 1, 'HUM\\n\\n&': 1, 'Hormel Foods': 1, 'CPRI&amp;ty': 1, 'Broker Differences': 1, 'Thacker Pass': 1, 'NAGA Group': 1, 'Tooo': 1, 'US NavyCPS Technologies Corporation': 1, 'HybridTech': 1, 'Yahoo Finance Article](https://finance.yahoo.com/news': 1, 'LUMN Big news': 1, 'WSB Super Bowl': 1, 'SVN': 1, 'ProterraRecap': 1, 'Delta Air Lines DDnan': 1, 'LEE': 1, 'MPAA': 1, 'The GME Revolution Against the Laws of Economics': 1, 'DFVnan': 1, 'Tiny': 1, 'HOLICITY SPACE WITH ASTRA[removed]': 1, 'Nvidia Corp.': 1, 'the 🌎 OCUGEN OCUGEN': 1, 'InclusionFirst': 1, 'TransferEarlier': 1, 'HOG - MASSIVELY': 1, 'Dumbass': 1, 'AYRWF': 1, 'Robinhood Trying to Make Me Pay for Stocks I Do Not': 1, 'WebBull': 1, 'eBay Earnings': 1, 'TodayeBay': 1, 'Vxrt - Short': 1, 'INVESTMENT': 1, 'Data Request': 1, 'Reuters/Bloomberg Terminal Dashboard': 1, 'START': 1, 'Aphira/Tilray Merger': 1, 'IMRA': 1, 'Versus Systems': 1, 'the Unlikely Winners  \\n\\n': 1, 'the Ontario Teachers Pension Fund': 1, 'Fidelity, Black Rock': 1, 'VTIVX': 1, 'NOK NEEDS LOVE': 1, 'Tsnp': 1, 'the French national Agency for the Safety of medicines': 1, 'Health Products': 1, 'Canopy Growth Corp': 1, 'SGA': 1, 'COGS': 1, 'WSBnan': 1, 'Academy Sports and Outdoors Inc': 1, 'PRPL.Hims &': 1, 'GME Investing[removed': 1, 'Bb-AMC': 1, 'REMARK HOLDINGS BUYBUYBUY[removed]': 1, 'Genuine GME': 1, 'XBiotech - A': 1, 'Cashapp/': 1, 'INDZX': 1, 'Long Term Strategy/Sale': 1, 'BoardUNFI': 1, 'Global Food Sourcing': 1, 'Boyland': 1, 'Board of Directors](https://finance.yahoo.com': 1, 'Ocugen Inc': 1, 'Vanguard Total International Stock Index Fund': 1, 'Vanguard Total Bond Market Index': 1, 'Ticker SPCE': 1, 'First Time Investing[removed]': 1, 'OGI GOING GOING GOING![removed]': 1, 'Amazon Look Good': 1, 'SPPI': 1, 'AMC Cinemas': 1, 'Bank/Financial- Bank of America': 1, 'LUMN - Lumen Technologies - Value': 1, 'Tier 1 Network': 1, 'Tier 2 Network': 1, 'CAIDA AS Rank (The CAIDA AS Rank': 1, 'Alwags': 1, 'Apple Stock Price[removed]': 1, 'Blackrock &': 1, 'Nokia Earnings Report': 1, 'ELTP': 1, 'Real Nokia Analysis': 1, 'I.': 1, 'Acute': 1, 'DIMI Health Canada': 1, 'Hidden Gem Spectral Medical Inc.': 1, 'EDTXF': 1, 'DIMI': 1, 'p.a': 1, 'Spectral’s': 1, '• Spectral Management': 1, 'DIMI PD FDA': 1, 'Estimated Tigris': 1, 'TMX': 1, 'FDA • Favourable': 1, 'Disruptive Technology': 1, 'Dialco Inc.': 1, 'USThey': 1, 'PMX': 1, 'SAMI': 1, 'Scott’s Miracle Gro': 1, 'Society6 Delivers': 1, 'Livestrong.com': 1, '$LEAF - Leaf Group LtdLeaf Group': 1, 'Isolation Network, Inc.': 1, 'CoachArt\\n\\n&': 1, 'Saatchi Art Group': 1, 'q4cdn.com)](https://s1.q4cdn.com/725197287': 1, 'TuneIn, Inc.\\n\\n': 1, 'VC/PE': 1, 'Saatchi Art': 1, 'Newbie Investor / Trader)[removed]': 1, 'ValueInvesting/': 1, 'BYRNA NON_ETHAL': 1, 'US Steel - Stocks Issued &': 1, 'Hot Rolled Coil Steel': 1, 'BRRRRRRR': 1, 'Trump Tariffs &': 1, 'US Steel (X': 1, 'CRU': 1, 'Rhurstahl Heraeus': 1, 'AW': 1, 'PTS': 1, 'Plymouth': 1, 'Royal Dutch Shell -': 1, 'NEWBIE Stonks Trader': 1, 'Trending Right No?[removed]': 1, 'VRXT': 1, 'Atlas Air Worldwide': 1, 'Investment Advice': 1, '140s': 1, 'Msft': 1, 'NSDAQ': 1, 'FuelCell Energy Inc.': 1, 'Diabetics': 1, 'Draftkings and Penn National (Huge': 1, 'Inc - $XPEV': 1, 'StocksHey': 1, 'Barbies': 1, 'Pizza, Sprite': 1, 'NBBO': 1, 'FMV': 1, 'CVSI': 1, 'OTM Debit': 1, 'Desktop Metal[removed]': 1, 'MEME': 1, \"Benzinga's\": 1, 'AMD Navi GPU': 1, 'IECS': 1, 'USPS Contract': 1, 'the Grumman LLV': 1, 'BlackRock’s': 1, 'Red Light Holland': 1, 'Block’s': 1, 'CBS News': 1, 'BIG ANNOUNCEMENT🚀': 1, 'Growth[https://finance.yahoo.com/news': 1, 'previous](https://community.trading212.com': 1, 'Neutral Brokers - Restricted': 1, 'Wells Fargo - [': 1, 'Disnat': 1, 'Overstock - Furniture E-Commerce Tailwind + Blockchain Monetization': 1, 'Uhhh': 1, 'American Resources Corporation': 1, 'TEDex': 1, 'Amazon Target Prices': 1, 'NexOptic': 1, 'BlXX Insiders': 1, 'Airline Stock': 1, 'Accor': 1, 'Marriot': 1, 'IAC Earnings Beat Estimates': 1, 'Kia Corporations Market Cap': 1, 'EGOV': 1, '4.54\\n\\n&lt;microcap': 1, 'TBH': 1, 'FWIW': 1, 'GME Bag': 1, 'Prospectus': 1, '• Adjusted EBITDA': 1, 'LUCID': 1, 'WIX': 1, 'WPEngine': 1, 'Wordpress': 1, 'Wix Ltd.': 1, 'JS': 1, 'Woocommerce': 1, 'PHP': 1, 'K-6](https://www.sec.gov/Archives': 1, 'Webflow': 1, '🚀🚀🌒': 1, 'LVGN Longeveron IPOAnyone': 1, 'IAC Earnings beat Estimates[deleted]': 1, 'CBULF': 1, 'Topics': 1, 'Kuerig/Dr Pepper)https://en.m.wikipedia.org': 1, 'KDP': 1, 'Mondelez': 1, 'JAB': 1, 'Revolutionary': 1, 'VTSX': 1, 'Medicaid': 1, 'CWEGF': 1, 'Stock Success - Profits Unlimited': 1, 'Stock Succuess': 1, 'Ally and Apex': 1, 'Ally Invest[removed': 1, 'SunVault': 1, 'Florida Vertiflights[removed': 1, 'Cell and Molecular Biology': 1, 'Fiscally': 1, 'HOLLLD': 1, 'Volkswagen/Blue Apron': 1, 'RTE-PaaS': 1, 'the Federal Communications Commision': 1, 'Verge': 1, 'UWB': 1, 'ReportThe': 1, 'FATE - Fate Therapeutics': 1, 'PINS - Pinterest': 1, 'GORO': 1, 'charting](https://houndermedia.com': 1, 'SuperBowl': 1, 'Greenlight Capital': 1, 'Roku/Spotify': 1, 'TEST': 1, 'the Raptors, Sixers': 1, 'the U.S. Cannabis': 1, 'U.S. Cannabis': 1, 'APHA/Tilray': 1, 'Mavericks': 1, 'Storz &': 1, 'Biosteel': 1, 'Costellation Brands': 1, 'Robinhood Free Stock': 1, 'MAJESTIC SILVER CORP.': 1, 'P.S. Citadel': 1, 'Excel Trading Journal': 1, 'WTRH - MULTIBAGGER': 1, 'Going to Post': 1, 'HEDGIES ARE USING SYNTHETIC LONGS TO MANIPULATE THEIR TRUE EXPOSURE': 1, 'Value Investing.[removed]': 1, 'Apple’s Autonomous Car Coming to You': 1, 'STUPID': 1, 'TLD': 1, 'BLASTING OFF': 1, 'WSB Vent': 1, 'WSB Reddit': 1, 'Polymarket &': 1, 'STO': 1, 'FidelityHow': 1, 'WSB SOLD': 1, 'WALLSTREET': 1, 'Lordstown Motors![Lordstown Motors Electric Pickup': 1, 'Research/Development': 1, 'ON BOARD FOR': 1, 'GIC': 1, 'UInan': 1, 'Broker Recommendations': 1, 'HELP US': 1, 'FISV': 1, 'VST\\n\\nPlanning': 1, 'WSB Compromised': 1, 'Workhorse &': 1, 'BATT': 1, 'WKHS &': 1, 'W-S-B': 1, 'AVXL': 1, 'Dodge Coin': 1, 'Earth &': 1, 'DURECT CORP (': 1, 'Robinhood to Fidelity?[removed]': 1, \"rates?I'm\": 1, 'CFMS': 1, 'Conformis CFMS': 1, \"useI'm\": 1, 'Nasdaq &': 1, 'Nyse': 1, 'Merger &': 1, 'TNK': 1, 'FICO': 1, 'Novice’s': 1, 'Defencatch': 1, 'FebruaryCross': 1, 'SUNSTOCK INC': 1, 'Cassava SAVA': 1, 'FUDnan': 1, 'CND': 1, 'LTHM Lithium': 1, 'YOUKU': 1, 'H.K.) Ltd.': 1, 'Tencent Holdings Ltd.](https://www.bloomberg.com/quote/700:HK': 1, 'the Futu Securities International (Hong Kong) Ltd.': 1, 'Phillip Securities Group': 1, 'the Bright Smart Securities International': 1, 'GMV': 1, 'E-Commerce': 1, 'First Amendment Deniers': 1, 'PENNY STOCK': 1, 'ARK Funds / Teslanan': 1, 'ARK Funds /': 1, 'TeslaHey': 1, 'G Q K &': 1, 'BDX': 1, 'VG Acquisition': 1, 'Canada Goose': 1, 'QCOM&amp;ty': 1, 'Align Technology': 1, 'VGAC&amp;ty': 1, 'CLX&amp;ty': 1, 'ELF&amp;ty': 1, 'Coach': 1, 'VG Acquisition’s': 1, 'the Senate Judiciary': 1, 'Apple Car\\n\\n&': 1, 'D-R.I.': 1, 'Big Tech\\n\\n&': 1, 'Holding!!![removed]': 1, 'AXXA': 1, 'BeeNetwork': 1, 'Radient Technologies Inc.': 1, 'IRCP': 1, 'Tennesseehttps://www.marketwatch.com/story/amazon-to-build-200-million-distribution-center-in-eastern-tennessee-01612402929': 1, 'CRDF - Received': 1, 'Chongqing Changan Automobile Co': 1, 'the State Council': 1, 'Nio Inc': 1, 'Zotye Automobile': 1, 'Ceragon Network': 1, 'ARKQ &': 1, 'Canoo:*': 1, 'Apple:*': 1, 'Canoos': 1, \"ordersI'm\": 1, 'Zelda’s': 1, 'PDS Precision Drilling Corp - A hidden': 1, 'POTX': 1, 'Clover Health (Chamath Palihapitiya': 1, 'VGAC FINALLY ANNOUNCED 🤑🤑': 1, 'Big Moves': 1, 'Everlight Electronics': 1, 'National Taiwan University': 1, 'the Institute of Fisheries Science': 1, 'SMART Global Holdings': 1, 'the Everlight Electronics': 1, 'College of Public Health': 1, 'VOO/VTI': 1, 'Statistics': 1, 'the NASDAQ Short Interest Publication Schedule': 1, 'ATNP': 1, 'SAVE BARNES': 1, 'OpenDoor': 1, 'Main': 1, 'Vatera Holdings': 1, 'Palantir Technologies Incnan': 1, 'Going Forward - Uncovering Inefficiencies': 1, 'Smile Direct Club Partners With': 1, 'Impinj Q4': 1, 'Cassava Sciences BOOMING': 1, 'VOOI': 1, 'Largest US': 1, 'the Market - Short Thesis[removed]': 1, 'ETHEREUM': 1, 'GME GOING DOWN[removed]': 1, 'the Post Office': 1, 'The Board of Governors': 1, 'Buy American Buy Workhorse': 1, 'CALIFORNIA &': 1, 'Altimeter Capital': 1, 'Revolutionize Personalized Healthcare': 1, 'Merge with Virgin Group’s VG Acquisition Corp.': 1, 'Foresite Capital': 1, 'VG Acquisition Corp.': 1, 'Become Publicly-Traded Company Set': 1, 'Casdin Capital': 1, 'Virgin Group’s': 1, 'Co-Founder Anne Wojcicki': 1, 'Revlon': 1, 'Cosmetics': 1, 'Lockdown': 1, 'AFC ENERGY': 1, 'Ballard Energy Systems': 1, 'HUMBL': 1, 'Meta': 1, 'TradingCentral': 1, 'KALA': 1, 'Bloxx Inc Gold Stock Potentially to Surge over1000%': 1, 'market?Let’s': 1, 'IDXX': 1, 'ASKE Stock': 1, 'GME Lessons': 1, 'GME Pump': 1, 'Generic Reflective Comment': 1, 'Continuing &amp;amp': 1, 'Discontinued': 1, 'UndervaluedThe': 1, 'Bull &': 1, 'ACAT RobinHood': 1, 'Fidelity - What Happens': 1, 'Vertiv-Names-Stephen-Liang-Chief-Technology-Officer': 1, 'growth](https://www.businesswire.com': 1, 'Drone': 1, 'Long &': 1, 'Drizly': 1, 'xD\\n\\n&': 1, '&gt;Federal Reserve': 1, 'MIDATECH PHARMA PLC': 1, '$CRBP Cannabis Patent News!': 1, 'Ford(FORD': 1, 'Nokia Sees Revenue Drop': 1, 'NASDAQ/ERIC/': 1, 'Telecom News': 1, 'deliveries](https://www.benzinga.com': 1, 'Xmart': 1, 'Norway](https://www.benzinga.com/news/21/02/19489216': 1, 'LI Auto': 1, 'Iterum’s': 1, 'HEMP &': 1, 'DSGT': 1, 'the North American EV': 1, 'ETFs?Hey': 1, 'Clean Power': 1, '🚀🚀ZRX': 1, 'AAPL Raised': 1, 'Gargantuan possibilities[removed]': 1, 'Current State and Future': 1, 'Stock Stream': 1, 'LEAPs': 1, 'LEAPs InvestingHi': 1, 'YRC Worldwide Inc.': 1, 'EXPFF': 1, 'FOMO/Peer': 1, 'Newbie - ZOM &': 1, 'Historically S &': 1, 'S &': 1, 'CrapApp': 1, 'MIE': 1, 'Wolrd Holdings': 1, 'T-Bill Investment': 1, 'EWEB': 1, 'ADT SAFE TO': 1, 'Travel/Hotel/Outdoor Entertainment': 1, 'AACG': 1, 'UXIN Future': 1, 'UBX &': 1, 'Stock Forecast[deleted': 1, 'Growth Funds?I’m': 1, 'VWE': 1, 'Bespoke Capital Aquisition Corp': 1, 'Market Value to Lowest': 1, 'Life Sciences Solutions': 1, 'Thermo Scientific': 1, 'Applied Biosystems': 1, 'Its Laboratory Products': 1, 'Thermo Fisher': 1, 'Specialty Diagnostics': 1, 'Laboratory Products and Services': 1, 'BYFC &': 1, 'DAC/chart?p': 1, 'DD$DAC': 1, 'Research and Information for Newcomer[removed]': 1, 'Branson Aid': 1, 'Solo': 1, 'Branson Aid[https://www.bloomberg.com/news': 1, 'UK)?Hey': 1, 'Fidelity Research': 1, 'Potential Upside': 1, 'Acrimoto': 1, 'the Art of Selling Out': 1, '💝': 1, 'NLLSF Holding': 1, 'Critical Mass Group': 1, 'Head of Operations\\n\\n* Senior Commercialization': 1, 'Beverage CorporationThe Tinley’s Beverage Company': 1, 'Co-Founder\\n\\n': 1, 'Alvarez &': 1, 'Chemical Engineering': 1, 'Advisory Board': 1, 'Cott’s Retail Brands International': 1, 'Canopy Growth Corp](https://www.beveragedaily.com/': 1, 'BevMo': 1, 'Advisory Board\\n\\n*': 1, 'Lionsgate Entertainment': 1, 'the Fluent Beverage Company': 1, 'Beckett’s': 1, 'Colombia University': 1, 'Tinley-Takes-Top-Two-Infused-Beverage-Prizes': 1, 'Tinley': 1, 'MTV': 1, 'Aphria](https://www.globenewswire.com': 1, 'NYU Stern School of Business': 1, 'Molson &': 1, 'Hexo': 1, 'Ralphs &': 1, 'Supply Chain Integration': 1, 'EVP Cott USA': 1, 'AB InBev &': 1, 'Marsal Private Equity': 1, 'Cott Canada': 1, 'Black Velvet Whiskey (Constellation Brands': 1, 'Article/2020/05/05/Constellation-Brands': 1, 'Tinley’s': 1, 'AMC Landlords': 1, 'DeepfuckingValue': 1, 'PUBMATIC': 1, 'NUUU &': 1, 'Anxiety + Undisciplined + Stress : Need': 1, 'KKR &': 1, 'NovoCure': 1, 'ACTIVISION/BLIZZARD': 1, 'MSFT/AAPL/AMZN': 1, 'AdviceHey': 1, 'PfizerHas': 1, 'Unmanned EV': 1, 'ETC/Etherium': 1, 'Canada Market Data': 1, '\\U0001f90c🏼[removed': 1, 'lb4e2m/part_3_bb_dd_no_meems_fuck_the_memes/': 1, 'Android app](http://www.qnx.com': 1, 'Tootsie': 1, 'Bulls &': 1, 'SPark': 1, 'Ford Sync': 1, 'LUKOY?I': 1, 'Infrastructure/Renewable Energy': 1, 'Convert': 1, 'Financial Statements?Super': 1, 'Chinese New YearI’ve': 1, 'ATR Stop Loss with Maximum Allocation?[removed]': 1, 'Hyundai Motor Co.': 1, 'Kia Motors Corp.': 1, 'Apple AAPL': 1, 'Nokia Best INC': 1, 'Berotralstat': 1, 'Evercore': 1, 'Astra-Zeneca': 1, 'Peramivir': 1, 'Cinryze': 1, 'XBIO': 1, 'Robinhood Super Bowl': 1, 'AAPL/MSFT/AMZN[removed]': 1, 'CRWG': 1, 'ECA': 1, 'WidePoint Corporation': 1, 'British Telecom': 1, 'the Department of Health and Human Services': 1, 'HEMP ME FREE STOCK PLEASE LOOK': 1, 'Unfair Tax TreatmentCapital': 1, 'Stock Discord': 1, 'Bancorp|\\n|:-|:-|:-|:-|:-|:-|': 1, 'OPY’s P/E': 1, 'Oppenheimer Holdings': 1, 'OPY)|Cowen|Piper Sandler|Berkshire': 1, 'INVEST NOW': 1, 'Link](https://www.reddit.com': 1, 'RobinHood/Sun Hydrogen HYSR': 1, 'Feedback for Stock Computer': 1, 'a Stockmarket Dashboard Application': 1, 'Worden TC2000': 1, 'MetaStock': 1, 'VJET': 1, 'ON $CLUBQ[removed]': 1, 'EJ': 1, 'Snap’s': 1, 'Snap Inc.': 1, 'PINS &': 1, 'Person A': 1, 'Call Contract': 1, 'JavaScript': 1, 'Kemp': 1, 'Astra (HOL)Hey': 1, 'Wealthsimple Trade': 1, 'Palantir?Hello everyone!': 1, 'HEPA': 1, 'HOLY SHIT HCMC': 1, 'HASBRO INC COM[removed': 1, 'Dark Pulse Inc.': 1, 'Market Scanners': 1, 'Go Public Via Alec Gores SPAC': 1, 'KMPH - KemPharm[removed]': 1, 'ViaCyte, Inc.': 1, 'TRTC (TERRA TECH': 1, 'SQD': 1, '🚀🚀🚀 Potential': 1, 'p2p': 1, '@Mcuban': 1, 'Ocugen OCGN': 1, 'CHGG Earnings': 1, 'Pepsi - 2/11': 1, 'N95': 1, 'Ocugen - Company': 1, 'Ocugen, Inc.': 1, 'New Broker / Transfer[removed]': 1, 'GBDC': 1, 'Price Chopper[removed]': 1, \"Long AnalysisIt's\": 1, 'Trading View': 1, 'WAVE': 1, 'LOL FIRST OFFICIAL CURRENCY ON MARS': 1, 'Tibet House NY': 1, 'GamersHi!': 1, 'Stock Traders': 1, 'Poker Players': 1, 'Gme Daily Chart: Huge Price Spikes': 1, 'Europe &': 1, 'Lucira': 1, 'Big Penny': 1, 'CBAY': 1, 'Kpay Stock': 1, 'Baytex Energy Corp Stocks[removed': 1, \"Market BuysI'm\": 1, 'LIUNA(Labours International Union of North America': 1, 'Mary’s': 1, 'Weedmd-Wddmf': 1, 'THE BIGGEST CONSTRUCTION UNION🚀': 1, 'THE BIGGEST CONSTRUCTION PENSION FUND IN AMERICA': 1, 'Miner.co': 1, 'Focus Graphite': 1, 'Takeda': 1, 'Vyvanse': 1, 'Shire': 1, 'ZOM $': 1, 'StockMonkey': 1, 'ZOM AH': 1, 'DHT': 1, 'GME🚀': 1, 'Whitehorn Solar Project': 1, 'the Radar Stock': 1, 'Freyr[removed]': 1, '👋 New': 1, 'HIGHLY': 1, 'Huya/DOYU': 1, 'MACD Cross': 1, 'LASER': 1, 'PAVM': 1, 'CarpX': 1, 'EsoGuard': 1, 'GERD/Eso Cancer': 1, 'Nano-X': 1, 'Air BnB': 1, \"Bezos/Amazon's\": 1, 'upon - Mohawk Group Holdings Inc\\n': 1, 'fuboTV-Accelerates-Development-of-Sportsbook': 1, 'Vigtory': 1, 'Android TV': 1, 'share](https://www.cnbc.com/2019/04/27': 1, 'Android/iOS': 1, 'YouTube TV': 1, 'RedZone': 1, 'Telemundo': 1, 'FaceBank': 1, 'customers](https://www.businesswire.com': 1, 'Director / Co-Founder\\n\\nAppointed': 1, 'Sling TV Orange': 1, 'Hulu + Live TV': 1, 'Time Warner': 1, 'Amazon Fire TV': 1, 'Add-ons**](https://www.fubo.tv': 1, 'Balto Sports': 1, 'FuboTV](https://en.wikipedia.org': 1, 'Standard': 1, 'BusinessWire': 1, 'Fubo': 1, 'MLS': 1, 'DVR': 1, 'fuboTV-Acquires-Balto-Sports': 1, 'Sling TV Blue': 1, 'Parks Associates': 1, 'Scripps Networks Interactive': 1, 'FuboTV DD': 1, 'YouTube Red Originals\\n': 1, 'TVN S.A.’s': 1, 'RYA': 1, 'missed**Ryanair': 1, 'WizzAir': 1, 'EasyJet': 1, 'Bergamo': 1, 'Stock Information': 1, 'Stock Advice For Noobs[removed]': 1, 'Fed Bucks': 1, 'BTO@': 1, 'BSQR': 1, 'Are Airlines': 1, 'Exxon Mobil’s': 1, 'Zosano Pharma[removed]': 1, 'LCDX': 1, 'NEWBIE': 1, 'DIVIDENDS': 1, 'ANJESO': 1, 'Ontx': 1, 'SND - Highly Undervalued &': 1, 'Deadly': 1, 'REGNI': 1, 'Initial Investment': 1, \"Robinhood Sued Over Student's Suicide[removed]\": 1, \"Student's Sucide[removed]\": 1, 'Bull Market': 1, 'FidelitySo I’m': 1, 'Battery/Mining': 1, 'LGVW-UN': 1, 'Jazz Pharm': 1, 'Hemp': 1, 'their Supreme Court': 1, 'ACH': 1, 'Fidelity Active Trader Pro on Mac': 1, \"Fidelity Active Trader Pro?I'm\": 1, 'Esports Entertainment': 1, 'the Hedge Funds': 1, 'NASDAQ &': 1, 'VDY': 1, 'GLU Mobile': 1, 'GLU': 1, 'ATB Capital Markets': 1, 'Echelon Wealth Partners': 1, 'HYII (All Grade Mining Inc.': 1, 'GENE': 1, 'USEI': 1, 'Critical Minerals List': 1, 'the Alabama Union': 1, 'Vapor Group': 1, 'AMCraze': 1, 'Nasdaq as STRONG BUY': 1, 'Otsuka Pharmaceutical': 1, 'GMEania': 1, 'Hematology': 1, 'the Mutual Funds': 1, '🚀Stock-Rockets': 1, '# Zosano Pharma Corp.': 1, 'NASDAQ\\n\\n&': 1, 'Migrane': 1, 'C/P': 1, 'MerrilEdge': 1, 'United I': 1, 'Vista Outdoors': 1, 'EOM': 1, 'Tnxp': 1, 'HQGE': 1, 'QNX System': 1, 'BB Literally': 1, 'Comstock Holding Companies, Inc.': 1, 'NIH - US Department Of Health &': 1, 'MVMD Takes Existing Vaccines': 1, 'TOPICAL             (': 1, 'IVERMECTIN': 1, 'The US National Institute of Health': 1, 'MVMD VIRUSES &': 1, 'Ivermectin': 1, 'Canines': 1, 'Avian Flu': 1, 'American Journal of Pharmacological Sciences\\n\\nPoor': 1, 'Human &': 1, 'Quicksome™ Technology': 1, 'Human Services': 1, 'Swine Flu Market\\n\\nTesting': 1, 'LVGO @$73': 1, 'SNOW Snowflake': 1, 'price?SNOW': 1, 'Ticker $IPIX': 1, 'Quick Answer': 1, 'Coin Citadel': 1, 'DYN': 1, 'WYNN': 1, 'BJK': 1, 'AIQ': 1, 'MachineLearning': 1, '3P': 1, 'VZ:\\\\': 1, 'KO:\\\\': 1, 'Portfolio Tracking - Multiple Brokers[removed]': 1, 'Clubhouse': 1, 'Anxiety/Depression/ Innovation': 1, 'Chinese Aquarium': 1, 'Vertu Motors': 1, 'Reg Vardy’s': 1, 'Pendragon': 1, 'Credit Suisse Securities': 1, 'the Underwriters for Unity’s': 1, 'Co. LLC': 1, 'Nano Fiber Companies': 1, 'TILRAY': 1, 'Indexfunds': 1, 'CAD Penny': 1, 'Blrx': 1, 'World Holdings, Inc.': 1, 'World Holdings Announces': 1, 'World Holdings': 1, 'ARGO / HCMC': 1, 'Adamis Pharmaceuticals Corporation': 1, 'Ironwood Pharmaceuticals Announces': 1, 'Linzess': 1, 'Shower Thoughts &': 1, 'Comcast Corp': 1, 'FMR LL HH': 1, 'https://www.reddit.com/r/GME/comments/lftqeh/gme\\\\_float\\\\_is\\\\_still\\\\_over\\\\_175/?utm\\\\_source=share&amp;utm\\\\_medium=web2x&amp;context=3](https://www.reddit.com/r/GME/comments/lftqeh/gme_float_is_still_over_175/?utm_source=share&amp;utm_medium=web2x&amp;context=3': 1, 'EUR 179.8M': 1, 'EUR 269.7M': 1, 'MorphoSys': 1, 'NantKwest': 1, 'WORKHORSE COULD END UP': 1, 'CRSR EarningsThoughts': 1, 'The New England Journal of Medicine': 1, 'the American College of Cardiology': 1, 'the National Medical Products Administration': 1, 'VAZKEPA': 1, 'the Hong Kong Department of Health': 1, 'the Chinese National Medical Products Administration': 1, 'the Department of Health': 1, 'the Committee for Medicinal Products for Human Use (CHMP': 1, 'Health China 2030': 1, 'the European Medicines Agency': 1, 'CVD': 1, 'REDUCE': 1, 'VASCEPA': 1, 'IPE': 1, 'Hong KongAmarin Corporation': 1, 'NMPA': 1, '-20% Market Correction': 1, 'Stock Tip Sources': 1, 'Quidel': 1, 'Senate\\n\\n&': 1, 'HBI&amp;ty': 1, 'SPG&amp;ty': 1, 'Champion': 1, 'EPC&amp;ty': 1, 'CNC&amp;ty': 1, 'CBO': 1, 'Congressional Budget Office': 1, 'Edgewell': 1, 'Medicare and Health Insurance Marketplace': 1, 'Celestial Seasonings': 1, 'Thermo Fisher Scientific': 1, 'HanesBrands': 1, 'Qiagen': 1, 'Kalvista Pharmaceuticals': 1, 'KALV': 1, 'Comstock Holding 🚀': 1, 'Team C': 1, '^of': 1, 'Team A': 1, 'Overview of Current GME Situation: Searching for Equilibrium and Finding Dark': 1, '^is': 1, '^up ^as': 1, \"Team A ISN'T\": 1, 'REZZF Stock': 1, 'GreenGro Technologies': 1, 'NV Gold Corp': 1, 'NVX': 1, 'APPSI': 1, 'IPOhttps://www.cnbc.com/2021/02/09/spacexs-starlink-accepting-99-preorders-as-musk-considers-ipo.html\\n\\nProspective': 1, 'Maxeon': 1, 'Snap, Inc. Stocks[removed]': 1, 'Democratic Party': 1, 'Nike Stock - Revenue Accounting Method[removed': 1, 'Pitfalls of DD': 1, 'not)If': 1, 'Outrage': 1, 'Fidelity Submitted![removed]': 1, 'SunDial': 1, 'the Goldman Sachs Convention': 1, 'Creator Peripherals': 1, 'Adjusted Net Income': 1, 'Ironburg Inventions Ltd.': 1, 'Valve Corp': 1, 'SCUF': 1, 'BILLIONNN': 1, 'DCRB &': 1, 'HYDROGEN FUEL CELL COMPANY': 1, 'DWR': 1, 'LCAR-B38M': 1, 'Morgan BuyLegend Biotech Corp.': 1, 'FREQ - Frequency': 1, 'SPH/Propane': 1, 'I.e TP53': 1, 'RChop': 1, 'I.e 0.62 - 0.99': 1, 'PFS': 1, 'Plenary Session': 1, 'CI': 1, 'Performance': 1, 'CLL': 1, 'Squeeze Float Update End of Market': 1, 'Cross TradesTrades': 1, 'Intelligent': 1, 'SCHB Schwab': 1, 'SCHWAB US SMALL CAP': 1, 'SCHX Schwab US': 1, \"Amazon Tissu Women's Regular Flared Kurta[removed]\": 1, 'NCI': 1, 'BANK': 1, 'New York Mortgage TrustThis': 1, 'now?[removed]': 1, 'QBTC': 1, 'Diagnostic Products': 1, 'Non-Tech Stocks to Diversify Your PortfolioSo': 1, 'Nutritional Products': 1, 'ProShares Pet Care': 1, 'Medical Devices': 1, 'CHCI': 1, 'Nerdy': 1, 'DCRB': 1, 'The Silver Squeeze': 1, 'Blue': 1, 'Black Channel Communications': 1, 'Sonim Technologies, Inc.': 1, 'Rona': 1, 'HAPBF': 1, 'HAPBF Sleeper Waking': 1, 'the RH BS': 1, 'NUGS': 1, 'Omg RIOT’s': 1, 'New Video': 1, 'AMCHello': 1, 'axWwcy0': 1, 'confirmed](https://imgur.com/gMyNebx': 1, 'the Bollinger Band': 1, 'confirmed](https://imgur.com/W3tjDL6': 1, 'Denison Mines Corp': 1, 'Nemaska Lithium[removed]': 1, 'CruiseShip': 1, 'TYME': 1, 'EXMT Anything Technologies Media[removed]': 1, 'Consumer Electronics': 1, 'ThermoGenesis Holdings': 1, '1 | Document Security Systems': 1, 'Telos Corporation': 1, 'Mentions | Name                                                  ': 1, 'now?](https://reddit.com/lco711': 1, '| Electrical Equipment &': 1, 'Infrastructure         |          ': 1, '1 | Sabre Corporation': 1, 'Multimedia': 1, 'thoughts?](https://reddit.com': 1, 'ZACKS': 1, 'THMO stock?](https://reddit.com': 1, 'MWK Mohawk Group': 1, 'fuboTV Inc.': 1, 'Revolve Group': 1, 'Air Products and Chemicals': 1, 'GoPro, Inc.': 1, 'into?](https://reddit.com/ld9zim': 1, 'CuriosityStream Inc.': 1, 'Reddit-Stock-Trends': 1, 'Ocean Power Technologies, Inc.': 1, 'BlackBerry Limited': 1, 'Mexico\\n- SOXX iShares US Semiconductor\\n- IYM iShares': 1, 'Alphabet &': 1, 'Financial Access': 1, 'Autonomous Technology &': 1, 'Mexican-American Trade': 1, 'Analytic Instruments': 1, 'Watchlist': 1, 'Square &': 1, 'Global Clean Energy\\n- EWW iShares': 1, 'Rockwell Automation - _': 1, 'LABS.TO - WILL': 1, 'Grills Robinhood': 1, 'Central Police Forces': 1, 'Hyderabad': 1, 'Police, Municipal,': 1, 'Adverse Event Following Immunization (AEFI': 1, 'Alphabet/Spacex/Starlink IPO[removed]': 1, 'Tools': 1, 'Different WSB Portfolios': 1, 'Different Reddit Portfolios': 1, 'GHVI': 1, 'Clean Energy ETFsSince Biden': 1, 'FMS’s': 1, 'Kidney Care Dialysis': 1, 'Fresenius Medical Care’s': 1, 'EURO': 1, 'Philip Morris Intl': 1, 'KalVista': 1, 'GOOGLE': 1, 'Penny Stock Mover': 1, 'DelMorgan &': 1, 'Vitality Biopharma Inc.': 1, 'VBIO': 1, 'Non-Qualified': 1, 'KALTF': 1, 'KLY': 1, 'FFO': 1, 'Reddit Army Surrenders[removed]': 1, 'Federal Deposit Insurance Corporation': 1, 'the Expanded Bank Deposit Sweep Program': 1, 'The Expanded Bank Deposit Sweep': 1, 'the Expanded Bank Deposit Sweep': 1, 'Wells Fargo Bank N.A.': 1, 'Expanded Bank': 1, 'Bank Deposit Sweep Program': 1, 'Wells Fargo Advisors': 1, 'the Sweep Program': 1, 'the Bank Deposit Sweep': 1, 'Expanded Bank Deposit': 1, 'Program Banks': 1, 'LNG Futures': 1, 'Liquid Natural Gas': 1, 'Disruptive Innovation': 1, 'Coca Cola Earnings Announcement[removed]': 1, 'Net Liquid - TD Ameritrade[removed]': 1, 'KNOS': 1, 'Stock Secrets Chefs': 1, 'Fidelity International': 1, 'UpsideThis': 1, 'Channels': 1, 'Economy of the World': 1, 'Phoenix New Media Ltd.': 1, 'NASDAQ $FENG': 1, 'Phoenix New Media': 1, 'Phoenix New Media Limited': 1, 'Phoenix TV': 1, 'ADR Analyst': 1, '• Competent Management': 1, 'Chinese Stocks and Expansion\\n\\n• As Chinas': 1, 'News &': 1, 'Vision Lithium': 1, 'ABEPF': 1, 'Lithium Ion Battery Market': 1, 'Vision Lithium’s Sirmac': 1, 'EXEL': 1, 'The Big Bankers': 1, 'GMC Yukon': 1, 'the Chevrolet Tahoe': 1, \"Ford Motor Company's\": 1, 'Thomson Reuters': 1, 'VistaGen': 1, 'Short Exempt Volume': 1, 'Stock Market': 1, '🚀 MORNING': 1, 'MRNA](https://twitter.com/PeterKolchinsky/': 1, 'Cheaper (&lt;=': 1, 'Nanoflu](https://www.reuters.com': 1, 'Ava': 1, 'Ava Trade': 1, 'Discover Love': 1, 'NuttingAndrew': 1, 'Short Interest        %': 1, 'Heritage Battery Recycling': 1, 'HBR': 1, 'Heritage Environmental Services, Inc.': 1, 'Li Battery Recycling (HCCI': 1, 'RMO collaboration)*The Heritage Group': 1, 'XTB Withdraw': 1, 'the U.S. Court of Appeals': 1, 'IEX Group Inc.': 1, 'the Chicago Board Options Exchange': 1, 'this companyhttps://www.cnn.com/2021/02/09/business/shopify-facebook-instagram/index.html\\n\\nShopify': 1, 'SNDL Sundial': 1, 'Surface Surveillance Solution': 1, 'OPT’s': 1, 'AIS': 1, 'PowerBuoy®': 1, 'OPT Surface Surveillance Solution': 1, 'the CARES ACT': 1, 'Crypto-OLB Group': 1, 'Develop Functional Mushroom Line': 1, 'Additional LA Dispensary License Applicants': 1, 'Halo Collective Inc.': 1, 'Antibiotic-Resistant Infections': 1, 'Armata Pharmaceuticals': 1, 'Salmonella': 1, 'drugs](https://link.springer.com/article/10.1007/s00134-017-4878-x': 1, 'FASTER': 1, 'UAA\\n\\n&': 1, 'TM&amp;ty': 1, 'Bunge’s': 1, 'Hot Wheels': 1, 'UAA&amp;ty': 1, 'YELP&amp;ty': 1, 'Mattel': 1, 'MAT&amp;ty': 1, 'Q4\\n\\n&': 1, 'an Economic Club of New York': 1, 'ENPH&amp;ty': 1, 'KO&amp;ty': 1, 'Yelp': 1, 'SDIV': 1, 'GLOBAL': 1, 'Find Big Interest': 1, 'Hint': 1, 'the C1-INH': 1, 'AAE': 1, 'BCRX’s': 1, \"BioCryst Pharmaceutical's\": 1, 'HAE &': 1, 'Plasminogen': 1, 'Berotralstat of *': 1, 'Deacon': 1, 'Berotralstat’s': 1, 'HAE International': 1, 'Angiopoietin': 1, 'Sundial Growers Stock[removed]': 1, 'BS/Swing Trade Money - 5%': 1, 'PORTFOLIO &': 1, 'SCHB - 32.5%': 1, 'Overbought - Timing': 1, 'BioVaxys': 1, 'First Graphene Ltd.': 1, 'Robinhood Taxes - Wash Sale Not Adjusted?[removed]': 1, 'Great Cannibis ETFTo': 1, 'SNCA Big Movement': 1, 'GRMM': 1, 'Conformis': 1, 'ETF[removed]': 1, 'RIGL -Rigel Pharmaceuticals Inc.': 1, 'CANNABIS': 1, 'Regarding Options (Specifically Calls)[removed]': 1, 'A10': 1, 'Google Finance': 1, 'A10 Networks': 1, 'Drone Delivery Canada Corp': 1, 'Trudeau in Press': 1, 'RatioCarnival Corp.': 1, 'Royal Caribbean Group': 1, 'Cruise Line Holdings Ltd.': 1, 'RCLHello': 1, 'Graphics Card': 1, 'NVDA?I': 1, 'US EV': 1, 'HIDDEN': 1, 'BULL/BEAR CROSSES': 1, 'EMA &': 1, 'Regulators': 1, 'the Securities Division': 1, 'Globe': 1, 'Galvin’s': 1, 'Roaring Kitty': 1, 'KSPN': 1, 'Purchase!I': 1, 'HEC': 1, 'American Superconductor': 1, 'American Superconductor Corp($AMSC': 1, 'the US Navy': 1, 'Ribbit LEAP': 1, 'ICNAF': 1, 'GPN': 1, 'Global Payments - GPN': 1, 'BlackRock Treasury Trust?[removed]': 1, 'CVR Medical': 1, 'Cannabix': 1, 'DSP': 1, 'CSPR) Stock --': 1, 'Tinder': 1, 'OKCupid': 1, 'TOTAL': 1, 'SPARSE': 1, 'QSPW': 1, 'CORSAIR': 1, 'AGYP': 1, 'Robinhood &': 1, 'Annaly Capitol Management[removed]': 1, 'PSYK': 1, 'NIH Small Business Innovation Research Award': 1, 'SNGX': 1, 'NIH Small Business Innovation Research': 1, 'Soligenix Announces': 1, 'NCR': 1, 'PSYCHEDELICS': 1, 'HYDROGEN': 1, 'MICRO-PENNY PARTY': 1, 'ADA MINING': 1, 'Sundial Ticker SNDL': 1, 'NOK NOW': 1, 'IVDN': 1, 'Disney Stock Disappeared': 1, 'NRGX': 1, 'AMS': 1, 'OrganiGram Holdings Inc.': 1, 'P/E &': 1, 'ADT,1': 1, 'Tesla Motors': 1, 'Tesla Motors, Inc.': 1, '117 Mining': 1, 'ALREADY': 1, 'an Order Type': 1, 'THE MOON': 1, 'INCREDIBLY': 1, 'VGHCX': 1, 'Next Cannabis': 1, 'U.S. Department of Defense': 1, 'Haivisions': 1, 'HAI': 1, 'Capital IQ': 1, 'OCO': 1, 'Cannabix Technologies': 1, 'FlowAlgo': 1, 'OptionsSwingnan': 1, 'DDGah': 1, 'Slack': 1, 'TRUFF': 1, 'DKNG &': 1, 'Chase Asking About Employment': 1, 'Homebuilder Stock': 1, 'AEC': 1, 'PLYZ PLYZ PLYZ PLYZ': 1, 'CHAMPIGNON': 1, 'KT - Deep': 1, 'Korean Market Share': 1, 'USA &': 1, 'KT’s': 1, 'Original Post': 1, 'PRECISELY': 1, 'Webull': 1, 'ADT Migrating': 1, 'Applied': 1, 'ABB': 1, 'Extreme-E Teams': 1, '🚀🚀🚀\\n\\n\\n ': 1, 'Zeus Capital': 1, 'AFC Energy': 1, 'AFC Energy - Fuel': 1, \"Call Debit Spread?I'm\": 1, 'HMNY/Movie Pass': 1, 'Fidelity Cashes': 1, 'S S P': 1, 'Tilray Shorts': 1, 'AMC/Etc': 1, 'Teekay Corp - TK - DD[removed]': 1, 'Tekay Corp.': 1, 'APHA &': 1, 'LIPOCENE Growing': 1, 'RESN - Resonant Inc - 5': 1, 'UAV- Ag Aerial - Are': 1, 'OssDsign - 3D': 1, 'ETFM': 1, 'The Ultimate Stock Trading Course': 1, 'YouTube Videos To Watch In Order': 1, 'Boring Educational Post For The New Traders': 1, 'Interesting Movement': 1, 'Stock Trading Level': 1, 'XSPA DD 1/11/21': 1, 'APHA/TLRY &': 1, 'CBDL': 1, 'the Bear / Neutral': 1, 'ON Semiconductor Corporation': 1, 'Key Data': 1, 'Advanced Solutions Group': 1, 'Intelligent Sensing Group': 1, \"Moody's Rating Summary](https://www.moodys.com\": 1, 'Intelligent Sensing Group - Image': 1, 'Cloud Revenue Growth](https://www.gartner.com': 1, 'Moody-rates-ON-Semiconductors': 1, 'Consumer Electronics Growth](https://www.statista.com': 1, 'Industrial IoT Growth](https://www.globenewswire.com': 1, 'ISG': 1, 'ON - ON Semiconductor': 1, 'Global EV Outlook](https://www.iea.org': 1, 'Power Solutions Group': 1, 'Infineon Technologies and Cypress': 1, 'Bear Considerations\\n\\n- For': 1, 'Industrial-IoT-IIoT-Market': 1, 'Medical Imagine Market Growth](https://www.grandviewresearch.com': 1, 'See Organisation Summary': 1, 'JUSHF - Cannabis Stock of': 1, 'XPO Logistics, Inc.': 1, '$SENS &': 1, 'SNDL Option': 1, 'iBuyer': 1, 'Feb.10': 1, 'VLNCF': 1, 'HUYA Update': 1, '10x Pharmaceutical': 1, 'XPO Logistics (XPO': 1, 'AIO': 1, 'CNET Blockchain': 1, 'Dosist': 1, 'Champignon Brands': 1, 'Ballard Power': 1, 'CNET': 1, 'XBAR': 1, 'Longboard Capital Advisors': 1, '50Million RF Filters': 1, 'RESN': 1, 'Synthesized Networks': 1, 'AWM Investment Co.': 1, 'BlackRock Fund Advisors': 1, 'The Vanguard Group, Inc.': 1, 'XBAR®': 1, 'RF Filter': 1, 'Murata Manufacturing': 1, 'Park City Capital LLC': 1, 'the 🌙 🚀': 1, 'Sundial Gfowrrs 🚀🚀🚀🌕': 1, 'Unity Software': 1, '🚨 MVMD Growth': 1, 'CBLT': 1, 'Green Energy Investments': 1, 'Plug, Ballard, Hyzon': 1, 'Questions On Options Trading[removed]': 1, 'Direct Dose RX': 1, 'Rubicon’s': 1, 'Rubicon Technology RBCNRubicon Technology': 1, 'Rubicon': 1, 'RBCN': 1, 'SSP': 1, 'NAKD UAMY GSAT FLT WMD[removed': 1, 'Game-Theory Optimal': 1, 'BRLL': 1, 'Twilio': 1, 'TD &': 1, 'PSYC': 1, 'Greenlane Holdings': 1, 'NXGWF': 1, \"USO Oil ETFSI'm\": 1, 'BigStreet': 1, 'Playside Studious': 1, 'MBII': 1, 'Marrone Bio Innovations (Ticker': 1, 'Marrone Bio': 1, 'the University of California - Davis': 1, 'OSLH': 1, 'VAPE': 1, 'Monster Stock': 1, 'SAVA Video by': 1, 'Nov-Dec': 1, 'Mastercard $MC': 1, 'ALDX - Strong': 1, 'JNCE': 1, 'Operationally': 1, 'GTEC’s': 1, 'GTEC': 1, 'CFD Trades': 1, 'Multiple EPS': 1, 'Tools/': 1, 'Auxly Cannabis Group': 1, 'NERD -': 1, 'ETFRoundhill Investments': 1, 'the Roundhill Streaming Services &': 1, 'Tencent Music': 1, 'BETZ - The Sports Betting': 1, 'J-Stream': 1, 'Roundhill': 1, 'Aphria\\n2': 1, 'Oragenics': 1, 'Gilat Satellite Networks Ltd.': 1, 'ARK X': 1, 'WORXSCWorx Corp.': 1, 'Aion': 1, 'Theta': 1, 'HMU': 1, 'TNXP - Tonix Pharmaceuticals Ein COVID-Pennystock': 1, 'Factiva': 1, 'AMD/Nvidia/Intel': 1, '🚀S🚀🚀N🚀🚀D🚀🚀L🚀': 1, 'Ticker cLsh': 1, 'Canadian Cannabis Revenue': 1, 'Israel &': 1, 'content](https://imgur.com/z196rMB': 1, '2017](https://imgur.com/EUPer8h': 1, 'YouTuber': 1, 'The Interest of Wall Street': 1, 'Investment Tracker': 1, 'Myovant Sciences Drug Approval': 1, 'SIX': 1, 'Mindmed': 1, 'Curaleaf': 1, 'ARE': 1, 'Harvest Health': 1, 'Pinterest Inc.': 1, 'monthsTL;DR: Pinterest': 1, 'ETFMJ': 1, 'Ingersoll-Rand': 1, 'Barrick Gold?🥴💰': 1, 'PBI': 1, 'Pitney Bowes': 1, 'Zyla Life Sciences': 1, 'XPO&amp;ty': 1, 'GameStop\\n\\n&': 1, 'ShowingTime.com': 1, '1!](https://i.imgur.com/UHUQITx.png': 1, 'PepsiCo': 1, 'BMBL&amp;ty': 1, 'the Economic Club of New York': 1, 'Kraft Heinz': 1, 'Trump\\n\\n&': 1, 'EAI': 1, 'FOMO - A Discussion.10': 1, 'EKSO': 1, 'Pinterest Inc': 1, 'Microsoft Corp': 1, 'TME Stock': 1, 'TradingAnalysis.com': 1, 'New Hypervisor': 1, 'Views': 1, 'Fuel Cell Energy': 1, 'FuelCell Energy’s': 1, 'a Pressure Swing Adsorption (PSA': 1, 'Fuel Cell Energy, Inc.': 1, 'Xebec Adsorption Inc.': 1, 'Fuel Cell Energy’s': 1, 'ARK - Big Ideas 2021[removed': 1, 'Finbox': 1, 'Cannibus': 1, 'Newtown Lane Marketing Inc': 1, 'Newtown': 1, 'Appgate': 1, 'MarketHey': 1, 'Playboy (PLBY)': 1, 'Lovers': 1, 'SGMS': 1, 'ARKG - ARK Genomic Revolution Multi-Sector ETFHi': 1, 'GIFT': 1, 'Oshkosh/Ford/Microvast': 1, 'Ford/Microvast': 1, 'GRWG &': 1, 'LGORF - Largo': 1, 'IG e.g. Sundial': 1, 'IG Broker - \"': 1, 'Freetrade)I': 1, 'DRY ICE STOCK': 1, 'OWLI': 1, 'Cyclone Power': 1, 'Syringe': 1, 'emergency(6%-30%': 1, 'Money Market Funds': 1, 'COSTEarnings': 1, 'the EV RV': 1, 'Lordstown Motors Corp. Advances': 1, 'the Lordstown Endurance': 1, 'Ryan).](https://www.msn.com': 1, 'Marcus Lemonis': 1, 'Establish Nationwide EV Service Network': 1, 'Lordstown Motors Partner': 1, 'Department of Energy’s Advanced Technology Vehicles Manufacturing Loan Program': 1, 'First Full-Size': 1, 'The Department of Energy': 1, 'Develop Electric Solutions': 1, 'Fleets](https://finance.yahoo.com': 1, 'Lordstown Motors Corp.': 1, 'Attract Sanofi Interest': 1, \"Applied Genetics Technology Corp.'s\": 1, 'Applied Genetics Technology Corp.': 1, 'TMHC Homebuilder Stock on Verge of Breakout': 1, 'RDFN': 1, 'Ethereum Classic?[removed]': 1, 'A.': 1, 'B.': 1, 'Vuzix’s': 1, 'AR / VR': 1, 'Actidev Inc.': 1, 'Alimentation Couche-Tard': 1, 'ATD': 1, 'Alimentation Couche-Tard Inc.': 1, 'Ingo': 1, 'Couche-Tard': 1, 'Fire &': 1, 'Circle K': 1, 'Match': 1, 'Orderbook and Market Trades Question[removed': 1, 'JDST': 1, 'Chinese Twitch': 1, 'Orderbooks &': 1, 'Robinhood LOL.[removed]': 1, 'Motional’s Driverless Platform': 1, 'Novice': 1, 'Bill Gates Foundation': 1, 'SGMD Cheap': 1, 'TSM / INTC / AMD / NVIDIA': 1, 'SQ/MELI/PINS/BABA/SE': 1, 'Spyder Cannabis': 1, 'Kiaro Announces': 1, 'Rubicon Organics': 1, 'Alpine 4 Technologies/Holdings(ALPP': 1, 'a Partnership, Company A’s': 1, 'Company B’s': 1, 'Bear': 1, 'Established/Traditional/Big Financial Institutions:': 1, 'TRYIY': 1, 'Zoom &': 1, 'Yale': 1, 'Columbia University': 1, 'TAL': 1, 'NYU': 1, 'University of Cambridge': 1, 'University of Oxford': 1, 'Nexan': 1, 'GTEC Holdings': 1, 'gunbroker!!!!Is': 1, 'Yamana Gold Corp.': 1, 'FANGM': 1, 'VLNCF Simple DD': 1, 'CXDC': 1, 'REVS': 1, 'Energy Investment Banking Group': 1, 'Resorts, Inc.': 1, 'Ashford, Inc.': 1, 'Ashford LLC': 1, 'Corporate-Finance &': 1, 'Marriott, Courtyard, Residence Inn': 1, 'Ashford OAINC, Inc.': 1, 'Head-Corporate Development': 1, 'Ashford Hospitality Advisors LLC': 1, 'Ashford Investment Management LLC': 1, 'Merrill Lynch Global Power &': 1, 'Ashford Trust': 1, 'Ashford Hospitality Trust, Inc.': 1, 'Co-President &': 1, 'Dresser, Inc. (Instruments Division': 1, 'Braemar Hotels &': 1, 'Editas': 1, 'Rolls-Royce': 1, 'Hyliion Introduces Next Generation Battery Module[removed]': 1, 'Hudsons Bay Stores': 1, 'The Retail Trader Wave': 1, 'Kaylee': 1, 'Saffron': 1, 'Malcom': 1, 'Abobo': 1, \"Zoe's\": 1, 'Zoe': 1, 'Badger': 1, 'Skyline': 1, 'ACHMB3': 1, 'XLR &': 1, 'ATCG': 1, 'Vista': 1, 'Applied Genetic Technologies Corp.': 1, 'Nuno Amado': 1, 'Foreign Business': 1, 'the Euronext Lisbon': 1, 'Private Banking': 1, 'Banco Comercial Português': 1, 'Corporate &': 1, 'BTT': 1, 'the MOON🚀': 1, 'HCMC - Need': 1, 'First](https://www.sec.gov/Archives': 1, 'the SEC Fillings': 1, 'Second](https://www.sec.gov/Archives': 1, 'Veco Earnings': 1, 'Stock Market Post-Prezy Day': 1, 'VEE': 1, 'the Canadian Venture Exchange': 1, 'REPL': 1, 'Nexa': 1, 'FIRE - Supreme Cannabis Co.': 1, 'Datametrex AI': 1, 'IGX': 1, 'Convertible Debentures': 1, 'Cabana Club': 1, 'NEEDS': 1, 'Aurora Cannabis': 1, 'RGR Canada': 1, 'RGR &': 1, 'Canna Cabana Club': 1, 'KushBar': 1, 'META Growth Corp.': 1, 'non-Cabana Club': 1, 'High Tide Inc.': 1, 'CSC': 1, 'PROFITABLE': 1, 'Crypto Currency &': 1, 'Global X Cannabis': 1, 'Amplify Seymour Cannabis': 1, 'Turbulence': 1, 'Yalla Group???[removed]': 1, 'Deepest Value Stock Near': 1, 'MotleyFool': 1, 'BLUE BOX MAC': 1, 'KHC Rally/Boom': 1, 'Zenabis': 1, 'Refinitiv\\n    \\n    Revenue': 1, 'the ARK ETFS': 1, 'XRP: Smaller Brothers of Bitcoin[removed]': 1, 'Arrowstreet Capital Limited Partnership': 1, 'California Public Employees Retirement System': 1, 'NAT DD': 1, 'Supreme Cannabis Announces Financial Results': 1, 'Phoenix Holding': 1, 'Reddit Army': 1, 'ALJ': 1, 'ZOM’s': 1, \"lowI'm\": 1, 'ALJJ': 1, 'QS &': 1, 'Positioned to Fund Growth Initiatives Including Its Cloud and Enterprise Data Center Facility': 1, 'Entrepreneur': 1, 'Coolisys Technologies': 1, 'Coin Mining': 1, 'PO': 1, 'DataCenter Services': 1, 'ChargePoint Holdings, Inc.': 1, 'the Business Combination': 1, 'Switchback Energy Acquisition': 1, 'ChargePoint, Inc.': 1, 'KGKG - Kona Gold': 1, 'VECO': 1, 'OTIS': 1, 'FLXN - Obvious': 1, 'Wallstreetzen': 1, '10.4mil / Short Interest Ratio': 1, 'the CDC Medicaid National Drug Rebate Program': 1, 'Phase 3 Clinical Trials': 1, 'Ford Deal](https://old.reddit.com': 1, 'Trefis](https://www.trefis.com': 1, 'SoC.': 1, 'Land-Rover': 1, 'Lesotho, Liechtenstein': 1, 'Spark': 1, 'Visteon': 1, 'BB SP': 1, 'IoTs': 1, 'Amazon + BB': 1, 'ETF Managers Group': 1, 'Continental': 1, 'Arrowstreet Capital': 1, 'The New BlackBerry Everyone is': 1, 'Harris Associates': 1, 'SecuSuite': 1, 'CIA': 1, 'Kahn Brothers Advisors': 1, 'Acura': 1, 'Wells Capital': 1, 'iSec': 1, 'QNX\\n': 1, 'lc67bo/comprehensive_guide_about_bb_and_how_it_shall/': 1, 'Lexus': 1, 'Technical Page': 1, 'CACI': 1, 'Bentley': 1, 'QNX Security': 1, 'Mayotte': 1, \"Baidu (China's Google\": 1, 'Mercedes-Benz': 1, 'Sybase': 1, 'Cruise/GM': 1, 'Mitsubishi': 1, 'Image](https://imgur.com/GSmc5RH': 1, 'BlackBerry Stock': 1, 'Financial Live': 1, 'SC 13 G/A[removed]': 1, 'Quick Overview': 1, 'Gold Findings': 1, 'TaxesHello': 1, 'CPM': 1, 'IM NEW': 1, 'Momentus &': 1, 'KTI': 1, 'ARK Invests': 1, 'FSK': 1, 'Morgan Stanley - DD$FSR': 1, 'Sodium Ion': 1, 'Weed Meme Stock': 1, 'Recoup': 1, 'Thinking of Shorting Weed Stock': 1, 'EO': 1, 'article](https://www.google.com': 1, 'D+': 1, 'Foundation': 1, 'go?Is': 1, 'Asimov': 1, 'HTBX🚀🚀🚀': 1, 'PZOO &amp;HEMP': 1, 'Investors &': 1, 'Lennar Corporation': 1, 'CLEU Stock': 1, 'Calls?AMC': 1, 'Nespresso Coffee Line': 1, 'Pods\\n\\n&': 1, 'NEXE Nespresso-Compatible': 1, 'Commercialization Plans': 1, 'Nespresso Coffee Automation Line': 1, 'ISC': 1, 'Nespresso-Compatible Pods': 1, 'NEXE Innovations Inc.': 1, 'NEXE Catalyst - ?': 1, 'Post-COVID': 1, 'COCA': 1, 'GNUS Brands Breakout[removed]': 1, 'CFP': 1, '😔': 1, 'Hyliion Introduces Next Generation Battery Module': 1, 'Hyliion’s Hybrid': 1, 'HBO Max/HBO': 1, \"Netflix/Disney's\": 1, 'Warner Media': 1, 'SEEL &': 1, 'Sun Pacific Holding': 1, 'Sun Pacific Holding Corp': 1, 'ML System': 1, 'Mortgage': 1, 'Efficient Supercomputers &': 1, 'RenTech': 1, 'MXC': 1, 'Bad Data - Food': 1, '\\\\~7xEV/EBITDA': 1, 'EVITDA &': 1, 'EV/ EBITDA': 1, 'Sundial Corporate Presentation and Video Link[removed]': 1, 'NSCC Stock Borrow Program': 1, 'Acreage Holdings': 1, 'ACRDF &': 1, 'Coherent': 1, 'Newell Brands': 1, 'MCO': 1, 'Sharpie': 1, 'Lumentum Holdings': 1, 'Moody’s': 1, 'SVMK&amp;ty': 1, 'II-VI': 1, 'SurveyMonkey': 1, 'NWL': 1, 'MKS Instruments': 1, 'the White House’s': 1, 'Sunbeam': 1, 'NWL&amp;ty': 1, 'Rubbermaid': 1, 'Cheers &': 1, 'NOM': 1, '\\\\~130K': 1, 'Books/Publications': 1, 'Long Term Cannabis InvestmentBought APHA': 1, 'TRLY': 1, '# Architecture &': 1, 'Intel Developer': 1, 'Brand': 1, 'Gelsinger': 1, 'ADA - Cardano Daily Analysis': 1, 'Project Peregrine': 1, 'BEPCwhat': 1, 'Sonar Entertainment': 1, 'wallstreet](https://www.reddit.com': 1, 'National CineMedia, Inc.': 1, 'DISCA Short Interest Update': 1, 'THE PARTISAN BS': 1, 'POLITICAL POST - KEEP': 1, 'Clean Energy Stocks Down**THIS': 1, 'Forest Acquistion Corp': 1, 'Phoenix Rising': 1, 'Market Insight Reports': 1, 'SME’s': 1, 'NightcoreRo': 1, 'Tieshan Oil': 1, 'FNSR Electric Car Company': 1, 'Brookfield Renewable Partners L.P.Hi': 1, 'ARK Israel Innovative Technology': 1, 'Restaurant Stock': 1, 'Blue Lagoon': 1, '4,60$. \\n\\n&': 1, 'PLX': 1, 'Organovo Holdings': 1, 'Build Back Better planClean Energy and EV': 1, 'Rule 201': 1, 'the Federal Trade Commission': 1, 'the U.K.’s Competition and Markets Authority': 1, 'CBD Nutraceuticals': 1, 'FUSE': 1, 'WEEEEED': 1, 'GTEH': 1, 'IO': 1, 'YOOM Reddit': 1, 'NEED': 1, 'QOQ': 1, 'Match’s': 1, '\\\\~$44B': 1, 'Match’s P/E': 1, 'USDCAD': 1, 'XLC': 1, 'Canna': 1, 'Motley Fool Holdings': 1, 'Harrington Global Opportunity Fund': 1, 'District Court': 1, 'Concordia': 1, 'Bermuda': 1, 'TD Bank': 1, 'the US Securities Exchange': 1, 'Concordia’s': 1, 'ZOM/Zomedica[removed]': 1, 'Twitter Permanently Banned Trump[removed]': 1, 'LITERALLY TRILLIONS': 1, 'ANYMORE': 1, 'OILFF': 1, 'the Pursuit of Energy Services[removed': 1, 'Talis Biomedical -': 1, 'APTV\\n\\nGenetic': 1, 'Palantir\\n': 1, 'The Palantir Business Model*': 1, 'TAM  \\n\\n      ': 1, 'the Federal Streamlining Acquisition Act': 1, 'ArcelorMittal': 1, 'AlertLogic': 1, 'x4': 1, 'Moody Claims Silver Price Reflects Metal’s Role': 1, \"Auxly Cannabis Group's\": 1, 'India Globalization Capital': 1, 'Bio Tech': 1, 'Gartner Research': 1, 'GAC New Energy Aion': 1, 'BlackBerry’s': 1, 'Unified Endpoint Security': 1, 'BlackBerry Guard': 1, 'BlackBerry Spark': 1, 'li0rpg/blackberry_a_dormant_giant/': 1, 'GAC Group](https://www.gac-motor.com/': 1, 'Intelligent Vehicle Data Platform': 1, 'UES': 1, 'E*TRADECan': 1, 'NMTR - Upcoming': 1, 'Roche RHHBY': 1, 'Atotech $ATC': 1, 'ATC': 1, 'the Carlyle Group': 1, 'CGNT': 1, 'VRNT1': 1, 'VRNT': 1, 'Bumble Stock': 1, 'SUP': 1, 'the Ticker Symbol': 1, 'BLSP - Penny': 1, 'China EV Market Growth': 1, 'AF': 1, 'XPENG &': 1, 'Tesla Model': 1, '\\\\~$57,200\\n\\n\\\\- Range': 1, 'growth](https://insideevs.com/': 1, 'JJ': 1, 'Ford/GM EV': 1, '\\\\~$30,580\\n\\n\\\\- Range': 1, 'FNILX': 1, 'FZROX \\n\\nVXUS &gt;&gt': 1, 'FZILX\\n\\nVNQ &gt;&gt': 1, 'SEC Regulation': 1, 'lawsuit**s': 1, 'FTIDs': 1, 'Depository Trust &': 1, 'may’ve': 1, 'the SEC Christopher Cox': 1, 'Walgreens (WBA': 1, 'Mars![removed': 1, 'ShortagePer': 1, 'the Semiconductor Industry Association': 1, 'GSM - Biden': 1, 'the U.S. Department of Commerce': 1, 'NORML': 1, 'Community Reinvestment Grant': 1, 'Topships': 1, 'FebruaryEquity': 1, 'the Depository Trust and': 1, 'Clearing Corporation': 1, 'NUMI &': 1, 'NBAC': 1, 'NBAC (Nuvve) NEEDS YOUR VOTE FOR EXTENSION BEFORE FEB 16THIf': 1, \"Corporate Life - Amend the Company's\": 1, 'Good Options for Stock Investment': 1, 'Charisma': 1, 'Wright’s Law': 1, 'GreenGotham': 1, 'UndervaluedWondering': 1, 'SchumSchum': 1, 'Cronos-Group': 1, 'Kools': 1, 'PM/Marlboro Guys': 1, 'Wealthfront’s': 1, 'the Vanguard Group': 1, 'TTGT': 1, 'Synapse': 1, 'Digital Banking': 1, 'Cortex': 1, 'Dell Inc.': 1, 'Razer Youth Bank': 1, 'Razer Inc.': 1, 'Best Resources for Finding Short-Information[removed]': 1, 'BMBL Bumble': 1, 'TWTR Stock': 1, 'TBUIF': 1, 'Workday, Inc.': 1, 'North Tahoe Power Tools, Inc.': 1, 'Workday Student': 1, 'HCM': 1, 'Workday Data': 1, 'Workday Financial Management': 1, 'Workday Human Capital Management': 1, 'Insights Business Planning Cloud': 1, 'Skills': 1, 'Australis Provides Acquisition': 1, 'LOST Education': 1, 'Option Expires ITM?[removed]': 1, 'Philip Morris?This company': 1, 'NYSEARCA': 1, 'Colombia National Food and Drug Surveillance Institute': 1, 'TruSource Hemp Group LLC': 1, 'CLVR': 1, 'the Hemp Industry': 1, 'European Union': 1, 'Elmer': 1, 'a European Union': 1, 'GACP': 1, 'Herbal Brands': 1, 'Birchcliff Energy': 1, 'NERD - 10%': 1, '@51.80': 1, 'Cult': 1, 'Stanley (MS': 1, 'FRCH - StrategiesCurious': 1, 'FRCH': 1, 'Industrial Hemp Investments': 1, 'The Hemp Marketing Infrastructure\\n\\nDivision': 1, 'Pre-Roll Blending Infrastructure\\n\\nDivision': 1, 'Joint Ventures\\n\\n': 1, 'Division One –            The Industrial Hemp Infrastructure\\n\\nDivision': 1, 'The Hemp Educational Infrastructure\\n\\nDivision': 1, 'Products and Services\\n\\nDivision': 1, 'The Hemp Extraction &': 1, 'PTD (Pattern Day Trading)[removed]': 1, 'Ashton Noland': 1, 'CMPS Psychedelics': 1, 'NEW IDIOT TRADER[removed]': 1, 'SQZ': 1, 'IJJP': 1, 'NeuroOne': 1, 'LILAK': 1, 'Plateau Mineral Development': 1, 'Plays For The Possible Approach': 1, 'TEN': 1, 'FCA Group': 1, 'Bosch, Continental': 1, 'Cerence': 1, 'AI Company': 1, 'Rapidia': 1, 'Selling and Rebuying Losing Stocks[removed]': 1, 'Mitigating Capital Gains': 1, 'Oct/Nov/Dec': 1, 'Quarterly Tax Payments on': 1, 'Tilray before Fusion with Aphria': 1, 'MGC PHARMACEUTICALS': 1, 'ON THE RISE': 1, 'Associates PC Announces an Investigation of Glu Mobile Inc.': 1, 'Monteverde &': 1, 'BlackBerry Partner': 1, 'a New Autonomous Driving Technology\\n\\n': 1, 'National Security Agency': 1, 'NXTD': 1, 'Gthx': 1, 'MINE - 🚀🚀🚀🚀 - MONDAY[removed]': 1, 'MINE - 🚀🚀🚀🚀 - Monday[removed]': 1, 'Augury Research - any': 1, 'Tacrolimus and Voriconazole': 1, 'License': 1, 'TFF': 1, 'Thin Film Pharmaceuticals': 1, 'FWIW 2021 Stock': 1, 'SGMD Uber of Marajuana[removed': 1, 'Pivot Point': 1, 'the S&amp;P.\\n\\n': 1, 'Cloudflare Workers': 1, 'Workers KV': 1, 'DNS': 1, 'Cloudflare Pages': 1, 'Durable Objects': 1, 'TILCF': 1, 'CRYO': 1, 'BTZI': 1, '2!](https://i.imgur.com/xgXv9Jn.png': 1, 'Housing': 1, 'Banks and Materials': 1, '# Palantir Technologies Inc.': 1, 'Weak\\n\\n&': 1, 'The National Association of Home Builders': 1, 'THE MAJOR FUTURES INDICES AS OF FRIDAY!](https://i.imgur.com/BvmjknF.png': 1, '# Why Bulls': 1, 'AAP&amp;ty': 1, 'Melvin Capital Management and Citadel': 1, 'Gogo (GOGO': 1, 'International Game Technology': 1, 'Wald': 1, 'Wells Fargo Securities': 1, 'BigCommerce Holdings': 1, 'SIPF': 1, \"# Presidents' Day Seasonality\\n\\n&\": 1, 'FVRR&amp;ty': 1, 'National Beverage (FIZZ': 1, '# Twilio, Inc.': 1, 'Cornerstone Macro': 1, 'CVS Health': 1, '# Shopify Inc. -\\n**Shopify Inc.': 1, '# Walmart Inc.': 1, 'Advance Auto Parts Inc.': 1, 'The LPL Chart': 1, 'MW model](https://www.fool.com/investing/2021/02/12': 1, 'Portland General Electric': 1, 'WOOF': 1, 'Thoughts &': 1, 'Buyer Psychology': 1, 'Integrity of the Stock Market[removed': 1, 'SEC REG': 1, 'Kulicke and Soffa Industries': 1, 'Ceragon Networks': 1, 'Vox': 1, 'the Allen Matkins/UCLA Anderson': 1, 'Metro Manhattan': 1, 'Macerich': 1, 'Green Street Advisors': 1, 'Journal': 1, 'MAYO CLINIC': 1, 'Mayo Clinic - Could': 1, 'NeuroOne $': 1, 'VP of Finance': 1, 'NYCB': 1, 'BKH': 1, 'COB': 1, 'Diamond S Shipping Inc.': 1, 'Crude Tankers': 1, 'the Oil Chopper!': 1, 'Forex Trading[removed]': 1, 'breakdown](https://imgur.com': 1, 'Rollic': 1, 'Toon Blast': 1, 'Zynga](https://www.tradingview.com': 1, 'Android and iOS': 1, '# - Top Movers': 1, 'Twitter &': 1, 'RedditHey': 1, 'the Current Trending Score': 1, 'AAPL Long Term Analysis[removed]': 1, 'Hemp ag &': 1, 'UAV': 1, \"SOS Ltd.'s\": 1, 'FXK Tech Corporation(\"FXK': 1, 'TCH': 1, 'RBC Canada': 1, 'Robinhood Transfer Question': 1, 'Proctor Gamble': 1, 'COM': 1, 'LQMT?Anyone': 1, 'LQMT': 1, 'MAGA': 1, 'FB/MSFT/GOOG/APPL': 1, 'MSFT:35.86': 1, 'Herrick': 1, 'Husky': 1, 'Imperial Oil': 1, 'Canadian Natural Resources': 1, 'Baa3/BBB-': 1, \"Blue ChipDon't\": 1, 'XSW': 1, 'BRK.B?[removed': 1, 'Exelixis, Inc.': 1, 'VOLOCOPTER': 1, 'LILIUM': 1, 'Ontario Securities Commission': 1, 'COCSF': 1, 'KOF](https://finance.yahoo.com': 1, 'Monwy': 1, 'Help/Suggestions/Pro-tips': 1, 'Non-Margin Buying Power (Options, Mutual Funds': 1, 'Stock Recommendations': 1, 'SpringBox': 1, 'SpringBox AI': 1, 'Medical Devices / Semiconductors': 1, 'Defense / Utilities': 1, 'Trend Trading': 1, 'Stickied': 1, 'R****h**d \\n&': 1, 'Financial Advice': 1, 'Longview Acquisition Corp': 1, 'Bellicum Pharmaceuticals': 1, 'Esports Entertainmaint Group': 1, 'Cantor': 1, 'Amicus Therapeutics, Inc.': 1, 'FOLD': 1, 'Pompes Disease': 1, 'REGI Options/Advice?Bought REGI': 1, \"saleI'm\": 1, 'PBA': 1, 'MPW': 1, 'BRMK': 1, 'PAA': 1, 'Software Solutions': 1, 'Smartphone Maker': 1, 'AEO Breakout?American Eagle Outfitters': 1, 'VCN.TO](https://VCN.TO': 1, '3wheel-EV': 1, '3wheel EV manufacturer': 1, 'QQC': 1, 'the US Energy Information Administration': 1, 'the International Atomic Energy Agency': 1, 'EPR': 1, 'XPH': 1, 'Castor Marine Potential': 1, 'Finetech': 1, 'GLW\\nfirst Post': 1, 'Yield X\\r\\nInstitutional': 1, 'Call Options Example': 1, 'Escobal': 1, 'EARN NOW': 1, 'UTC': 1, 'Mettler-Toledo': 1, 'Nasal Spray': 1, 'AditxtReprogramming': 1, 'AditxtScore': 1, 'RSV': 1, 'ADiTx Therapeutics': 1, 'COVID/Nanoflu': 1, 'Orange Cyberdefense': 1, 'SecureData': 1, 'Orange Sells': 1, 'SecureLink': 1, 'MDR': 1, 'Amazon Web Service': 1, 'DiligenceHello': 1, 'ISP': 1, 'Orange Business Services': 1, 'MMS': 1, '# Orange Business Overview': 1, 'Orange S.A.': 1, 'Partner Communications Company': 1, 'Orange Bank': 1, 'Sosh': 1, 'ADSL': 1, 'the Competition Authority': 1, 'Bank-Money-Cyberdefense': 1, 'Orange': 1, 'Bouygues Telecom': 1, 'Hola': 1, 'France Orange SA': 1, 'Dell': 1, 'Security Incident Detection Service Providers Certification': 1, 'OVH': 1, 'Watchdog': 1, 'France Télécom': 1, 'Free (Iliad': 1, 'Orange Money, Orange Cyberdefense': 1, 'FTTH': 1, 'Orange’s': 1, 'Iliad': 1, 'QUIETLY': 1, '|NIO - NIO Inc - ADR|724|89%|': 1, 'lco7rh/comprehensive_guide_about_bb_and_how_it_shall/)|BB|\\n': 1, 'ld4k0x/why_i_am_bearish_on_bb_technical_analysis/)|BB|\\n': 1, 'Diligence Post': 1, 'SquEeZe': 1, 'Warrants?[removed': 1, 'Beannie Babies': 1, 'NOVSW': 1, 'NOVS': 1, 'Warrant?Brief': 1, 'Kalkine': 1, 'Motley Fool Canada': 1, 'ShareCare': 1, 'FTA': 1, 'the Liebert (P C W': 1, 'Outdoor Package Solutions': 1, 'Global Offering Management Core Systems': 1, 'Direct Expansion Cooling': 1, 'Mayo Clinic': 1, 'Continue to Expand': 1, 'the MSCI Emerging Markets': 1, 'Good Plays Anticipating Economic Stimulus?So': 1, 'Trillion(s': 1, 'Conclusion/TLDR': 1, '@$1k': 1, 'Stock Investing': 1, 'Citron': 1, 'MicroStrategy Inc.': 1, 'MSTR': 1, 'Corsair and Electric Vehicles': 1, '80c EPS': 1, 'Apax Partners': 1, 'Software Ltd.': 1, 'Cognyte’s': 1, 'EXPI': 1, 'EVOK': 1, 'Renewable Energy': 1, 'AirBnbs': 1, 'NPR': 1, 'Enverus Market Intelligence': 1, 'Performant $PFMT Follow': 1, 'Social Sentiment': 1, 'IPOThere': 1, 'Rockstar': 1, 'Electronic Arts': 1, 'Pro/Con of Roblox': 1, 'Oil and Gas company': 1, 'Canadia NEO': 1, 'User': 1, 'Volta Industries': 1, 'Nuvve Corporation': 1, 'Consolidated Providers?Up': 1, 'EV Charging Solutions Providers': 1, 'Shell Bulks': 1, 'Voldemort': 1, 'Notable Mentions': 1, 'Reliable Mediocrity': 1, \"Lehman Brothers' Risk Management Department\": 1, 'P/L': 1, 'Barnes &': 1, 'Noble Education': 1, 'Fanatics': 1, 'Nobles Inc.': 1, '0.5B': 1, 'BNED’s': 1, 'BNED': 1, 'the Market# Personal Risk Tolerance Profiles\\n\\nHi': 1, 'American Financial Groups': 1, 'Motley Fool Lists': 1, 'ARK ETF Holdings Portfolio UKI’m': 1, 'Vertex Pharmaceuticals (VRTX)': 1, 'Allegiant Tavel Co.': 1, 'Allegiant': 1, 'DGRW': 1, 'literature](https://www.glassdoor.com': 1, 'Glassdoor’s Best Places': 1, 'AMKBY': 1, 'Maersk': 1, 'Performance Food Group': 1, 'Sector ETF’s': 1, 'US.stock': 1, 'Best Banking Services': 1, 'Faster Trading[removed]': 1, '$Pavmed Inc.': 1, 'Motley Fool or Tipranks': 1, 'JAMFX': 1, 'JMCGX': 1, 'Jacobs Asset Management': 1, 'JAMFX &': 1, 'Comparing &': 1, 'Asset': 1, 'BombWhat': 1, 'system](https://www.reddit.com': 1, 'lk1z2o/after_3_months_my_brother_and_i_made_a_fully/': 1, 'WRHS - Workhorse': 1, 'Chase Manhattan': 1, 'SEC Questions Regarding Exchange Traded Products File': 1, 'Citigroup’s': 1, 'the World-Wide-Web': 1, 'DNjpO](https://archive.is/DNjpO': 1, 'Copper River Partners\\n\\nStock': 1, 'the Financial Stability Board': 1, 'Citicorp': 1, 'Kellogg': 1, 'the New York Fed': 1, 'Defendants Goldman Sachs': 1, 'the Practice of Recording the Ownership of Securities': 1, 'the Beneficial Owner': 1, 'Goldman &': 1, 'Reserve Bank': 1, 'Dole Foods': 1, 'Broker Defendants’': 1, 'Ex-Clearing': 1, 'Leaked Testimony': 1, 'the International Monetary Fund](https://archive.is': 1, 'The Georgetown Law Journal': 1, 'Smith Barney': 1, 'Leeds &': 1, 'Salomon Brothers': 1, 'Chemical Bank': 1, 'Investor Publications': 1, 'Credit Suisse First Boston': 1, 'the Committee for the Republic': 1, 'Prime Broker Defendants': 1, 'the Primary Dealers': 1, 'Bache': 1, 'Copper Rivers Partners—Cohodes': 1, 'Donaldson Lufkin &': 1, 'the New York Federal Reserve Bank': 1, 'the Bank for International Settlements': 1, 'Bear Stearns Cos': 1, 'Robinhood’s\\xa0': 1, 'NSCC': 1, 'Roche, Takeda, Nov': 1, 'BIG DADDY Holdings': 1, 'MedRecycler': 1, 'Gain Energy Resources': 1, 'MedMaster': 1, 'Marketing 🚀🚀🚀 New Promising Tech': 1, 'Hyliions': 1, 'SNPW MedRecycler': 1, 'Qcom': 1, 'Imay': 1, 'Capital Gains Tax For Dummies': 1, '🚀🛸🧐🧐🧐🧐': 1, 'TheStreet': 1, 'Sandia National Labs': 1, 'Apple M1': 1, 'Nvidia GPU’s': 1, 'The Semiconductor Industry Association': 1, 'Desktop CPU’s': 1, 'Nvda’s': 1, 'KFC': 1, 'AMD CPU’s': 1, 'Nvidia DD': 1, 'GPU’s': 1, 'Threadripper': 1, 'GSync': 1, 'Alder Lake': 1, 'Rocket Lake Processors': 1, 'Gforce': 1, 'Desktop': 1, '🛸🛸🛸🛸': 1, 'KIDZ - Amazing': 1, 'Lucid Motor': 1, 'YR': 1, 'TRADER &': 1, 'Varta AG': 1, 'MST': 1, 'ENTIRELY': 1, 'STRATEGY': 1, 'PAG': 1, 'Home\\xa0\\n\\n\\xa0\\n\\nIndustries': 1, 'BTE (Baytex Energy': 1, 'Playtika Holding Corp': 1, 'Unrealized': 1, 'CLNE Super Bull CaseCLNE Clean Energy Corporation': 1, 'GIANT': 1, 'DerexionNow': 1, 'BP\\n\\n&': 1, 'CUT/REMOVE': 1, 'iTero': 1, 'ALGN': 1, 'EMEA': 1, 'Align)In': 1, 'APAC': 1, 'Fool’s Stock Advisor': 1, 'TDG': 1, 'ANTM': 1, \"Morgan Stanley's\": 1, 'TXG': 1, 'RDSB': 1, 'Resources': 1, 'Westwater Resources': 1, 'Advice/Opinions': 1, 'Liberty': 1, 'NN-DM': 1, 'Fundamentals, FOMO, Social Hype &': 1, 'Portfolio - Nano Dimensions': 1, 'Korean Amazon': 1, 'Impairment of Capital Asset': 1, 'AMC-Entertainment-Still-at-Very-Deep-Value': 1, 'their Special Income Charges': 1, 'ASC': 1, 'Nano': 1, 'Oshkosh/Ford': 1, 'TNXP DD': 1, 'Senvion': 1, 'Fundumental Analysis': 1, 'OTNX': 1, 'VG International Growth Fund': 1, 'VG Total Market Index': 1, 'Stock A\\n\\nStock A': 1, 'Lufthansa': 1, 'Halo Collective &': 1, 'Core One Labs': 1, 'Pigs': 1, 'Pharos Energy': 1, 'El Fayum': 1, 'Pharos’ Core NAV': 1, 'TransGlobe': 1, 'Phaors Energy': 1, 'the Pharos/Transglobe': 1, 'Pharos Energy!I': 1, 'NESTE': 1, 'HEL': 1, 'Ultimate Cannabis': 1, 'Fukn AMAZON': 1, 'Altum International': 1, 'the Las Vegas Strip': 1, 'the Oval Office': 1, 'Integral Associates': 1, 'Gallup': 1, 'Tilray-Aphira': 1, 'Emerald Health Therapeutics': 1, 'Dirty': 1, 'Cambium Networks (CMBM': 1, 'Marrone Bio Innovations': 1, 'Ultra Clean Holdings, Inc.': 1, 'UCTT': 1, 'Ultra Clean Holdings': 1, 'MHC': 1, 'VBR': 1, 'SNHG': 1, 'MondayHi': 1, 'Buyout / Authorized': 1, 'Bion Environmental Technologies': 1, 'FIOA': 1, 'ImportYeti': 1, 'BE Semiconductor Industries N.V.': 1, 'FOWLP': 1, 'BE Semiconductor': 1, 'the Amsterdam Exchange': 1, 'London Exchange': 1, 'NIO Capital': 1, 'XPT': 1, 'the Clalit Institute for Research': 1, 'Aurinia Pharmaceuticals Inc.': 1, 'Aurinia': 1, 'THE FDA APPROVAL': 1, 'HMCH': 1, 'WORTH OF TRADES IN': 1, 'VITX': 1, 'LowIncomeInvesting.com': 1, 'PayPal Holdings': 1, 'Mystery Stock': 1, 'Phillips': 1, 'INC-ADR': 1, 'TWIST BIOSCIENCE CORP\\n': 1, 'ALPHABET INC-CL C': 1, 'PERSONALIS INC\\n': 1, 'MERCADOLIBRE INC\\n': 1, 'EXACT SCIENCES': 1, 'DEERE &': 1, 'CALIF': 1, 'IOVANCE BIOTHERAPEUTICS': 1, 'ZILLOW GROUP INC - C': 1, 'INVITAE CORP\\n': 1, 'ALIBABA GROUP': 1, '3 SQUARE INC - A': 1, 'CRISPR THERAPEUTICS AG': 1, '1 SQUARE INC - A\\n': 1, 'KRATOS DEFENSE &': 1, 'IRIDIUM COMMUNICATIONS INC\\nWeight - 48.6%': 1, '4 SQUARE INC - A\\n5 TELADOC HEALTH': 1, '$AR Natural Gas': 1, 'IntermediateIve': 1, 'PRACTICAL': 1, 'Rate &': 1, 'Gvoke Offering': 1, 'Searle': 1, 'Asia Pacific': 1, 'ADVATE': 1, 'Quality Management': 1, 'Ganic Pharmaceuticals': 1, 'Meda': 1, 'Catheter Connections': 1, 'BO': 1, 'Warburg Pincus-': 1, 'Celebrex': 1, 'Merit Medical': 1, 'Xeris Pharmaceuticals': 1, 'Baxter Healthcare': 1, 'Largest Electric Bus Maker': 1, 'Yi sees Arrival’s': 1, 'BYD Auto': 1, 'LoanDepot’s': 1, 'LDI’s EPS': 1, '104M': 1, 'PENN': 1, 'Global Management': 1, 'BigPoppa Brian Krzanich': 1, 'Adrian Steel': 1, 'Auto  Truck Group': 1, 'Electric Last Mile Solutions': 1, 'the Hoosier Business Investment': 1, 'The Indiana Factory': 1, 'Co Investment Adviers': 1, 'ELMS': 1, 'Key Safety Systems': 1, 'Lithia Motors': 1, 'Ryder': 1, 'Home Improvement': 1, 'IEDC': 1, 'Mishikawa': 1, 'BNP Paribas Asset Management': 1, 'NACFE': 1, 'FedExes': 1, 'Phoenix Holdings Ltd': 1, 'OTA': 1, 'Autoworkers Union': 1, 'Farraday Future': 1, 'Jefferies Group LLC': 1, 'Indiana Economic Development Corporation': 1, 'Raymour &': 1, 'Schoenfeld Asset Management LP': 1, 'the China Post': 1, 'Sense Photonics, Inc.': 1, 'The North American Council for Freight Efficiency': 1, 'Toronto Dominion Bank': 1, 'AMS AG': 1, 'Founder of ELMS': 1, 'National VP of Sales and Service': 1, 'IVS': 1, 'Semiconductor  Industry Association': 1, 'Key Safety  Systems': 1, 'CDK Global': 1, 'Flannigan Furniture and Holdings': 1, 'the Boards of Deere  &': 1, 'Joyson Safety Systems': 1, 'Takata Corporation': 1, 'Co-Founder of ELMS': 1, 'Advisory Committee': 1, 'SF Motors': 1, 'Bombardier': 1, 'The Indiana Office of Economic Development Executive': 1, 'Footprint US': 1, 'FDO': 1, 'the Nasdaq Stock Market': 1, 'Market Services': 1, 'ESG Services - Revenues': 1, 'IR &': 1, 'The Nasdaq Stock Market': 1, 'Geico Insurance': 1, 'USO Rising': 1, 'TMobile': 1, 'ICLN 60%': 1, 'SPYG': 1, 'SPLG': 1, 'PGX': 1, 'UHAL': 1, 'CRSR DiscussionHello': 1, 'JUST SO FUCKED': 1, 'BLOOMBERG TERMINAL OF XRT': 1, 'AAPL Searching': 1, 'AAPL Picked Up By Huge Hedge Fund[https://www.marketwatch.com': 1, 'Recent Earnings Call Overview &': 1, '365th': 1, '&gt;$500M': 1, '$PERI - Perion Network Ltd.': 1, 'Scalping Strategies - Looking': 1, 'ARDX': 1, 'MAS\\n\\n&': 1, 'HLIT': 1, 'ComputerShares': 1, 'IPads': 1, 'Hard Goods': 1, 'PGA': 1, 'Callaway Earnings Call': 1, 'TaylorMade': 1, 'Travis Mathew': 1, 'theScore Eyes Entry Into': 1, 'Nuclear Fusion': 1, 'Dow Futures': 1, 'StrippingHey': 1, 'Draftkings on board the': 1, 'DraftKings DD - Earnings Report': 1, 'Momentus': 1, 'Disney Parks International  \\nCTO': 1, 'the Space Force': 1, 'Sci:*': 1, 'capabilities](https://newatlas.com': 1, 'the Virgin Galactic/': 1, \"Virgin Galactic's\": 1, 'q3/Virgin-Galactic-Q3-2020-Earnings-Presentation.pdf': 1, 'Sci-Fi': 1, 'ICON Aircraft Inc.': 1, 'jet:](https://www.afar.com/magazine': 1, 'Cargo': 1, 'hundreds](https://cooperhurley.com': 1, 'the Virgin Group': 1, 'Hypersonic Travel': 1, 'Q3 Earnings Presentation](https://s24.q4cdn.com/816362521': 1, 'GLOBE': 1, 'FAA V&amp;amp;amp;V': 1, 'Trader Tax Status / Family \"Hedge Fund\"I': 1, 'Trader Tax Status': 1, 'NYSEAMERICAN': 1, 'UNRECOGNIZED': 1, 'College Economics InterviewHello': 1, 'EAT-CN': 1, 'The Best Stock': 1, 'a Free Trade Commission': 1, 'NAFTA': 1, 'U.S.-Mexico-Canada': 1, 'The Pacific Northwest': 1, 'US Imported Cannabis': 1, 'US Cannabis': 1, 'Indoor': 1, 'AMCA': 1, 'ITM/OTM': 1, 'PennyStocks': 1, 'A142N1': 1, 'OML': 1, 'today!': 1, 'Airtasker': 1, 'in18': 1, 'US Futures': 1, 'Palantir Technologies EPS': 1, 'U.S. Army': 1, 'NHS\\n\\nExpects': 1, 'U.S. Air Force': 1, 'LNG carriersGLOG': 1, 'FSRU': 1, 'GasLog': 1, 'L-3 Communications': 1, 'Societe B I C SA': 1, 'KT Corp -&gt': 1, 'CAH': 1, 'Robinhood Full Account Transfer': 1, 'The US Army': 1, 'ECMO': 1, 'Dialysis, Hemofiltration Cardiopulmonary': 1, 'CytoSorb': 1, 'Defense Advanced Research Projects Agency': 1, 'National Institute for Health and Care Excellence': 1, 'Keytruda': 1, 'Merck’s': 1, 'BMS’ Opdivo': 1, 'US Well Services': 1, 'ONTX Onconova Therapeutics[removed]': 1, 'Stock Q': 1, 'Personal Capital': 1, 'Applied Genetic Technologies': 1, 'EH EHang Holdings - Great Opportunity': 1, 'Suspicious Timing': 1, 'Urban Air Mobility': 1, 'WolfPack': 1, 'Austro Control and FACC': 1, 'FACC': 1, 'EH EHang Holdings - A Great Opportunity': 1, 'Shanghai Kunxiang Intelligent Technology Office Visit - Distributor of EHang': 1, 'Shanghai Kunxiang Intelligent Technology': 1, 'WolfPack Research': 1, 'NewsWire PR Articles - Apparently': 1, 'English/Chinese Press Release': 1, 'SEC Sales Contract': 1, 'the Vienna Stock Exchange': 1, 'AVIC Group': 1, '$IMVT - Buy Immunovant[removed]': 1, 'StockPro Mentor': 1, 'UTM': 1, 'Sony Pictures': 1, 'CRWD - Crowdstrike Holdings': 1, 'DNC': 1, 'the Unified Threat Management': 1, 'SD-WAN': 1, 'Wolfpack Research - one': 1, 'Animation/VFX': 1, 'KNB': 1, 'Ballard, Tetra Tech': 1, 'New Cannabis Company About': 1, 'ARK ETFS': 1, 'EBANG': 1, 'China Rapid Response': 1, 'EHANG': 1, 'AnnouncementONTX': 1, 'Official $EH': 1, 'Lock-upsWith': 1, 'Moneygram': 1, 'Anterix - A': 1, 'Anterix': 1, 'ATEX': 1, 'LTE': 1, 'San Diego Gas an Electric': 1, 'Anterix_IR_Presentation_1Q_FY2020-Final.pdf': 1, 'Anterix - Infrastructure/IoT': 1, 'the U.S. Securities and Exchange Commision': 1, 'Marqeta Inc': 1, 'Goldman Sachs Group Inc': 1, 'Price - $': 1, 'Price - $29': 1, 'PLYA - Playa Hotels': 1, 'Stock Screener &': 1, 'Investment Research on': 1, 'Schwabs Winter': 1, 'the Cramer Effect': 1, 'Schw': 1, 'Carnival Cruise Lines': 1, 'the HOUSE COMMITTEE ❗': 1, 'Silver Miners Are A Buy[removed]': 1, 'Benzinga/ Professional': 1, 'Peacock': 1, 'EBAY Stock Long Term Potential[removed]': 1, 'CLOUDFLARE': 1, 'Ark': 1, 'NP': 1, 'GRNQ': 1, 'Chevron &': 1, '3K': 1, 'the FREE GUAC!': 1, 'Chipotle’s Stock Rally Continue': 1, 'Northern Dynasty Minerals': 1, 'the MorningStar Research Report': 1, 'MorningStar': 1, 'Apple’s EV': 1, 'Denison': 1, 'DMGI': 1, 'TastyWorks Quantatative': 1, 'ACHM': 1, 'MYO': 1, 'Social $AD': 1, '$PERI - Perion Network': 1, 'PERI Video': 1, 'EV/Revenue, Magnite': 1, 'Video and Social': 1, 'Display': 1, '🚀\\n\\n&': 1, 'GBM': 1, 'recommendationsLittle': 1, 'AAIF.L': 1, 'UK Investment TrustsHello': 1, 'AIC': 1, 'UK Investment Trusts': 1, 'Overbought/Oversold Levels': 1, 'Regular Bull/Bear': 1, 'The Number Crunching for the Curious**': 1, 'Interactive Brokers’': 1, 'Apple TV+': 1, 'Apple Arcade+': 1, 'Apple Watch': 1, '@11.07': 1, 'AG Eagles': 1, 'Amazon?I’m': 1, 'AG Eagle': 1, 'KGF': 1, 'Citius': 1, 'SubB2m': 1, 'SubB2': 1, 'the University of Adelaide and Griffith University': 1, 'BARD1': 1, 'Robinhood Stocks - Capital Gains?[removed]': 1, 'Books/Blogs/Podcasts': 1, 'Leveraged Uranium': 1, 'Ally and Fidelity': 1, 'Disney Contracts': 1, 'Sonic': 1, 'CYCA': 1, 'Bitcoin ETF[removed]': 1, 'Fast Food / Restaurants and EV': 1, 'DOSE': 1, 'CTIC': 1, 'MITO': 1, 'IPDN': 1, 'Lockheed Martin': 1, 'the On-Balance Volume': 1, 'FNGS': 1, 'MCET': 1, 'CSCW': 1, 'Licensing &': 1, 'TD Securities': 1, 'Canadian Enterprise Software': 1, 'NEXCF': 1, 'SVRANo one': 1, 'EOG Resources, Inc. EOG': 1, 'Kinder Morgan Inc - Ordinary': 1, 'Exxon &': 1, 'Chevron Corp.': 1, 'Pioneer Natural Resources Co.': 1, 'Québec': 1, 'Matawinie': 1, 'CLEANTECH': 1, 'Quantity &': 1, 'RADA Electronic Industries Ltd.': 1, 'VPS &': 1, 'C-RAM': 1, 'Doppler': 1, 'RADA USA': 1, 'Hostile Fire Detection': 1, 'Active Protection Systems': 1, 'C-UAS\\n\\n': 1, 'HFD  \\n\\nRADA': 1, 'RADA': 1, 'Situation Awareness': 1, 'US SOF': 1, 'USMC': 1, 'USAF': 1, 'Mobile Short-Range Air Defense (M-SHORAD': 1, 'Renaissance Technologies LLC': 1, 'APS': 1, 'US Army': 1, 'the Air Surveillance': 1, 'SHORAD &': 1, 'Digital Video': 1, 'Vehicle Protection Systems': 1, 'Sense &': 1, 'IDF': 1, 'ARK IZRL': 1, 'Data Recorders': 1, 'SIVR': 1, 'Battery &': 1, 'RESEARCH A STOCK': 1, 'BarChart.com': 1, 'Peers &': 1, 'Pace University': 1, 'Research, Analyze &': 1, 'Income Statement Trend, Cashflow': 1, 'MacroTrends.com': 1, 'StocksGot': 1, 'Detailed Rebuttal': 1, 'ACIA': 1, 'Washing': 1, 'MonthHello': 1, 'WORLD': 1, 'Apple and Nothing Else[removed]': 1, 'PEOPLE GETTING DUMPED ON REAL SOON': 1, 'SHOULDA': 1, 'Adit Ventures': 1, 'PHX Financial': 1, 'BP Plc': 1, 'Leveraged Stocks': 1, 'Nysa': 1, \"gains?I'm\": 1, 'Psykey': 1, 'VIVENDI': 1, 'SHOPIFY': 1, 'SPOTIFY': 1, 'ZOOM': 1, 'NTR&amp;ty': 1, 'T3cRcfQL': 1, 'Robinhood, Citadel': 1, 'Bloomin’ Brands': 1, 'WMT\\n\\n&': 1, 'WM&amp;ty': 1, 'WWII\\n\\n&': 1, 'MAR&amp;ty': 1, '1!](https://i.imgur.com/eg2VEbG.png': 1, 'EagleTree Capital': 1, 'Nel ASA': 1, 'DCF](https://imgur.com/v759kwl': 1, 'Response &': 1, 'deleted](https://imgur.com/LeOaBd9': 1, 'DCF](https://imgur.com/Tc1mU75': 1, 'GURU': 1, 'LIAR': 1, 'DIPLOMA](https://imgur.com/eqclcM6': 1, 'Jacob': 1, 'Oracle, Alibaba &': 1, 'SPAM': 1, 'DexCom': 1, 'courses](https://imgur.com/': 1, '3](https://imgur.com/Pf1RgLS)\\\\]': 1, 'Coffezilla’s': 1, 'Wealth Power': 1, 'ON REPORT AMAZON': 1, 'BevCanna Enterprises': 1, 'YMAB -1%': 1, 'GOLD +2.4%': 1, 'UCTT -1.6%': 1, 'MOS': 1, 'ET -1.7%': 1, 'WST +2%': 1, 'LOPE +1.6%': 1, 'GMED -4.1%': 1, 'MANT': 1, 'AXTA': 1, 'CDE -2.7%': 1, 'MX +5.3%': 1, 'ORAN -3.2%': 1, 'BCS -3%': 1, 'NVTA +1.2%': 1, 'AEL -2.6%': 1, 'SI -5.1%': 1, 'RGR +2.3%': 1, 'QTWO -9.3%': 1, 'BNTX -2.5%': 1, 'EIG': 1, 'UGI -1.6%': 1, 'FTI -5.3%': 1, 'CYH': 1, 'SAM -5.7%': 1, 'MTEM -9.6%': 1, 'LXP +3.8%': 1, 'NICE -8.3%': 1, 'KAR -3%': 1, 'IART': 1, 'CBLI +47.4%': 1, 'TPH': 1, 'RPT -2.1%': 1, 'SM -9.7%': 1, 'LKQ +3.3%': 1, 'SITM -3.1%': 1, 'EQH +1.3%': 1, 'HLF -3.3%': 1, 'ALB -3.7%': 1, 'WK +10.1%': 1, 'PAAS +2.1%': 1, 'SPWR -7.7%': 1, 'CS -1.2%': 1, 'SNN -5.1%': 1, 'Broken Coast Cannabis Ltd.': 1, 'InBev': 1, '1974568 Ontario Limited': 1, 'Newbie Chart Analysis': 1, 'PLTR Future': 1, 'CTRM Announces Acquisition of New Ship[removed]': 1, 'ALUS': 1, 'FREYR Battery': 1, 'Onconvoa': 1, 'Stocks/Options': 1, 'DipDips': 1, 'ProPhase Labs': 1, 'Amazon Air': 1, 'Super PAC': 1, 'NEWBIE ALERT': 1, 'Postmates &': 1, 'Buy Booking Holdings': 1, 'Congressional Hearings[removed]': 1, '🌓🌒': 1, 'Noront': 1, 'Tanger Factory': 1, 'STONK': 1, '$PavMed Inc.': 1, 'Multi-Trade': 1, 'Multi-Trade Forex Platform[removed]': 1, 'RIOT &': 1, 'Leviton LLP': 1, 'EHang Holdings Limited': 1, 'the U.S. District Court': 1, 'MA 02110Phone': 1, 'BLOCK &': 1, 'LEVITON LLP260 Franklin St.': 1, 'Block &': 1, 'Transportation Costs Wrecking Havoc': 1, '$RIDE EV': 1, 'ABL': 1, 'MARA &': 1, 'Grade-A.': 1, 'TSCO': 1, 'DTCC': 1, 'Broker #2': 1, 'Crawford Main Zone': 1, 'PGM': 1, 'CNCF': 1, '\\\\~80M': 1, 'Crawford': 1, 'MacDiarmid': 1, 'First Nations': 1, 'NetZero Iron': 1, 'NetZero Cobalt': 1, 'MOU': 1, 'Canada Nickel': 1, 'Canada Nickel Company': 1, 'NetZero Metals Inc.': 1, 'PEA': 1, 'Nickel, Cobalt and Iron - has': 1, 'NetZero Nickel': 1, 'Kidd Creek': 1, 'GTEC Stock[removed]': 1, 'AMC DD)[removed]': 1, 'Hammer FiberOptics[removed]': 1, 'Newbie - Full Scope of Stock': 1, 'GE Hitachi': 1, 'ISO 9001:2015': 1, 'PyroGenesis Canada Inc.': 1, 'PyroGenesis': 1, 'PYRNF': 1, 'the United States Securities and Exchange Commission': 1, 'The Company’s': 1, 'the NASDAQ Stock Exchange': 1, 'IR/Comms': 1, 'Corporation': 1, 'b14wG1MeBWS1BJOnjEyFzSQjbNFXtgwIh7CNXn0XDgHDqiPGHWodQPHpElqrekytXytKGi7aFtUg0U1jG0n4NA==': 1, 'Chair of PyroGenesis': 1, 'GIS': 1, 'CLX': 1, 'QSR': 1, 'Project Ion - Distributed': 1, 'SCU': 1, 'U-A-V-S': 1, 'USA COVID-19 Treatment': 1, 'Psychedelics Market - Penny': 1, 'HDTVtest': 1, 'the LG CX': 1, 'LG Display': 1, 'LG electronics': 1, 'Way![removed': 1, 'the Market Crashing, Correcting': 1, 'BUY FLGT': 1, 'ESPR - Huge Opportunity Waiting': 1, 'NASDAQ $SNSE[removed]': 1, 'Alpha Healthcare Acquisition Corp': 1, 'Apeiron Investment Group': 1, 'Catalio Capital': 1, 'ASPH': 1, 'Jurvetson’s Future Ventures': 1, 'Biotech Stock': 1, 'X4 Pharmaceuticals': 1, 'ImmunoPhage(c': 1, 'the NASDAQ Global Market': 1, 'ImmunoPhage': 1, 'Bonitas': 1, 'BITF)🚀🚀🚀🚀🚀🚀🚀🚀🚀🚀🚀🚀🚀': 1, 'Bit Farm Ltd': 1, 'Nvidia Announces New Chip Design For Mining': 1, 'BTCC.U': 1, 'DataTrek': 1, 'CNBC Article': 1, 'Fed Funds Futures': 1, 'Nvidia Announces New Chips Designed for Mining EthereumEthereum': 1, 'NSF': 1, 'Minerco Inc.': 1, 'Hall of Fame Beverages Risky': 1, 'MFDA': 1, 'company!!![removed]': 1, 'House Finance Committee Hearing': 1, 'SINGLE': 1, 'AbbVie](https://www.prnewswire.com': 1, 'Abbot Laboratories': 1, 'Caribou Biosciences to Collaborate on CAR-T Cell': 1, 'Allergan \\n': 1, 'AbbVie': 1, 'AbbVie Inc.': 1, 'the Future of Mental Health Care Looks Promising](https://www.bloomberg.com': 1, 'BGFV Big Five Sporting Goods': 1, 'BGFV': 1, 'Sales': 1, 'Profits': 1, 'Rigel (RIGL': 1, '$RIGL 🚀🚨* Company': 1, 'BMO Capital Analyst': 1, 'BitCoin Verses': 1, 'Trappsol Cyclo': 1, 'Niemann-Pick': 1, 'Tradedesk': 1, 'SMASHES': 1, 'NXE': 1, 'Integrated Whale Media Investments': 1, 'Wanda Group': 1, 'X-POST Resistance': 1, 'Blockchain / Data Mining Stocks - Real': 1, 'Robinhood for Recurring &': 1, 'Fractional Investing Would': 1, 'Direct Offering': 1, 'Just Eat Inc': 1, 'Just Eat Inc.': 1, 'Just Eggs': 1, 'Eat Inc.': 1, 'MPT': 1, 'S.A.V': 1, 'HANG SENG': 1, 'NBR-A Preferred Call[removed]': 1, 'FUSE/MoneyLion': 1, 'Romeo': 1, 'Lion Electric Co.': 1, 'Republic Services (': 1, 'LGHL Swing': 1, 'College Investment Advice': 1, 'AeroJet RocketDyne': 1, 'Healthier Choice Management': 1, 'LLKKF': 1, 'RRSP': 1, 'FTT Tax': 1, 'IBEX': 1, 'HelloFresh - HLFFF[removed]': 1, 'CarGurus': 1, 'DMV': 1, 'CarLotz’s': 1, 'Xilinx/AMD DealThere': 1, 'Fidelity to TD': 1, 'Stupid PDT': 1, 'SSRI': 1, 'TICKER': 1, 'the PERCENT RISK TOLERANCE': 1, 'Artemis': 1, 'Soyuz': 1, 'the Falcon Heavy': 1, 'SN': 1, 'Microsoft/Google': 1, 'Opening US Bank': 1, 'LIGA': 1, 'Red Thursday?[removed]': 1, 'Red Thursday?Everything': 1, 'TLOFF': 1, 'CPV Clearvue Technologies': 1, 'Australian Solar Window Company': 1, 'PI-Coin': 1, 'potential](https://www.grandviewresearch.com': 1, 'Vail Resorts': 1, 'GLPG': 1, 'INFI': 1, 'III': 1, 'Crypto.com': 1, 'Mesa': 1, 'BETS': 1, '.97': 1, 'Kanabo': 1, 'Texas Roadhouse': 1, 'RCL&amp;ty': 1, 'IBM\\n\\n&': 1, 'AMAT&amp;ty': 1, 'Lancet': 1, 'Supreme Court': 1, 'PLNT&amp;ty': 1, 'G-7': 1, 'ASE Technology': 1, \"classI'm\": 1, 'No Better Stock Than GBTC[removed]': 1, 'Tonix Pharmaceuticals Holding Corp': 1, 'Coinbase Direct Public': 1, 'American Green, Inc.': 1, 'MEME STOCK': 1, 'Watt Energous Corp': 1, 'ASX - ASE Technology Holding Co., Ltd.': 1, 'CATB Ready': 1, '🚀St. George’s Eco-Mining Corp.': 1, \"the House Nancy Pelosi's\": 1, 'ZEU Technologies': 1, 'EVSX': 1, 'Lithium Processing &': 1, 'Alford': 1, 'Altair': 1, 'Barrel Energy': 1, 'Altair International': 1, 'EVSX Corp.': 1, 'American Battery Metals Corporation': 1, 'Mineral Resource': 1, 'Recycling for Electric Battery Market\\n\\nKey': 1, 'ACDC Heavily': 1, 'LTPO': 1, '9x EV/EBITDA': 1, 'Chipbond Technology': 1, 'Q3 GM': 1, 'ChipMos Technologies': 1, 'the China Academy of Information and Communications Technology': 1, 'VIEIX/VIGIX': 1, 'SFTW[removed]': 1, 'Committee on Financial Markets': 1, 'Quadrant Capital Group Llc': 1, 'Physics': 1, 'VFMO - Vanguard': 1, 'the Indian Advisory Board': 1, 'Eros STX Global Corporation': 1, 'Our Hong Kong Foundation': 1, 'the Budget Bureau of the Government of India': 1, 'SSTIX - State Street Total Return V.I.S. Fund': 1, '# Eros STX Global Corporation Business Update Call\\n\\n': 1, 'Cruiser Capital Advisors': 1, 'Bachelor’s': 1, 'Eros STX Global’s': 1, 'the Bombay Chartered Accountants’ Society': 1, 'Asset Management Association of China': 1, 'Eros Now': 1, 'HSBC Bank': 1, 'OECD\\n\\n&': 1, 'Palladium Partners Llc': 1, 'the International Network on Financial Education': 1, 'the Reserve Bank of India': 1, 'Hollywood Reporter’s': 1, 'the Government of India\\n': 1, 'ESGC / Eros STX Global Corporation': 1, 'ATSMX - AQR TM Small Cap': 1, 'the Financial Sector Reforms Commission': 1, 'Public Debt Management Authority Task Force': 1, 'CARE': 1, 'Hony Capital': 1, 'the Board of the SEBI': 1, 'the Pension Funds Regulatory Authority': 1, '# News': 1, 'AMAC': 1, 'the Institute of Public Auditors of India': 1, 'the China Development Research Foundation': 1, 'Rating': 1, 'Co, Chartered Accountants': 1, 'Jodie Foster': 1, 'the Institute of Chartered Accountants': 1, 'Northern Illinois University': 1, 'the British Bank of the Middle East': 1, 'Financial Sector Redress Agency Task Force': 1, 'Ministry of Finance': 1, 'RIFBX': 1, 'Co-Chairman': 1, 'Jayantilal Thakkar &': 1, 'Variety’s Dealmakers Impact Report': 1, 'the Kellogg School of Management at Northwestern University': 1, 'Electronic Engineering and Physics': 1, 'International Taxation Committee': 1, 'SLQD/LQD': 1, 'MINT': 1, 'ENBL': 1, 'Acquisition Presentation](https://www.sec.gov/Archives': 1, 'GEN': 1, 'Walgreens/Walmart': 1, 'DEC': 1, 'PESI': 1, 'VALUE': 1, 'UUUU - Energy Fuels Inc.\\n\\nEnergy Fuels Inc.': 1, 'UUUUA': 1, 'UUUU': 1, 'UUUU - Energy Fuels Inc.': 1, 'UPDATE ON THE TRADES RECOMMENDED': 1, 'the Schwab Trade': 1, 'Level 3 Options': 1, 'Apple Disney': 1, 'RSP': 1, 'Kosmos Energy Ltd. KOSI': 1, 'Debt/Equity': 1, 'Kosmos': 1, 'GoHealth (GOCO': 1, 'SelectQuote': 1, 'Valiquette': 1, 'Walmart Insurance Services': 1, 'EV/S': 1, 'Fidelity Fund': 1, 'Marathon Group': 1, 'CCIV Opinions[removed]': 1, 'IBM Considering Selling Watson': 1, 'Plant Based': 1, 'CSPG': 1, 'Q4 &': 1, 'The New Money-Making Penny': 1, 'Beachbody’s': 1, 'Led by Institutional Investors Including Fidelity Management &': 1, 'Myx Fitness': 1, 'Fertitta Capital\\n': 1, 'Beachbody': 1, 'The Beachbody Company': 1, 'Openfit': 1, 'the Connected Fitness Space': 1, 'Forest Road': 1, 'Fertitta Capital': 1, 'The Beachbody Company*': 1, 'Beachbody\\n': 1, 'the Beachbody On Demand': 1, 'Forest Road Acquisition Corp.': 1, 'Forest Road Acquisition Corporation’s': 1, 'Ex-Disney': 1, 'Antartica Asset Management': 1, 'CIO': 1, 'Elliott Management Corporation': 1, 'ON FIRE': 1, 'Buy/Sell/Hold?[removed]': 1, 'BewareRobinHood](https://www.reddit.com': 1, 'RobingHood': 1, 'Niche Doctor Offices': 1, 'BFLY Main Homepage](https://www.butterflynetwork.com/': 1, 'Valuation\\n\\nButterfly Network': 1, 'Malinda Gates Foundation': 1, 'Melinda Gates Foundation': 1, 'Ultrasound Technology': 1, 'the Bill &': 1, 'Covered Calls': 1, 'CATB B': 1, 'Nikola Financial': 1, 'AMC Theatres': 1, 'Nel Hydrogen': 1, 'EVTOL &amp;amp': 1, 'Robinhood news': 1, 'RYLD': 1, 'Global X': 1, 'SPFF': 1, \"Global X's\": 1, 'Apple Reportedly': 1, 'Total Market': 1, 'IOTA': 1, 'PFE Pfizer': 1, 'Intrinsic Value Calculation[removed]': 1, 'INTCIntel': 1, 'COAL': 1, \"Reddit Sentiment Analysis Stock-Picker AlgoWhat's\": 1, 'SSY': 1, 'JUVAF - Time': 1, '$TTCF About': 1, 'ITM LEAP': 1, 'ITM VIX': 1, 'Sunnova Energy': 1, 'The US State Department': 1, 'Analog Devices': 1, 'Comparison of Investing Apps / Brokerages': 1, 'Sphingosine Kinase 2': 1, 'Shanghai Kunxiang Intelligent Technology Co., Ltd.': 1, 'the Wolfpack Research': 1, 'Wolfpack': 1, 'Wolfpack Research’s': 1, \"Roaring Kitty's\": 1, 'THE NEXT BIG THING I LIKE THE STOCK[removed]': 1, 'CHK Stock': 1, 'Econ': 1, \"HY International Group New York Inc.'s\": 1, 'NYC': 1, 'SOS Information Technology New York Inc](https://opengovny.com/corporation/5788900': 1, 'NEXT BIG LITTLE': 1, 'Ancestry.com': 1, 'Johnson @184.5 Million': 1, 'Virgin Group Acquisition Corp': 1, 'price](https://www.marketbeat.com': 1, 'Cohen &': 1, 'CNS': 1, 'Ichimoku': 1, 'AnalysisHey': 1, 'CNS/': 1, 'University of Kentucky': 1, 'Neterhlands': 1, 'Aggtech': 1, 'National Geographic': 1, 'Indoor Farming': 1, 'NasdaqWhy': 1, 'day?Im': 1, 'Open Interest': 1, 'VolumeYou': 1, 'HONEDRA': 1, 'Japanese Pharmaceutical': 1, 'ETT': 1, 'European Heart Journal': 1, 'CLI': 1, 'EyePoint Pharmaceuticals': 1, 'Avanir Pharmaceuticals': 1, 'SSI Strategy': 1, 'MSD': 1, 'Essex Chimie AG &': 1, 'CLBS': 1, 'CLBS\\n\\n': 1, '\\\\[15\\\\]](https://finviz.com/quote.ashx?t': 1, 'CMD': 1, 'MS&amp;T Consulting': 1, 'Coronary': 1, 'Buerger’s Disease': 1, 'The Future of Energy Management --- $': 1, 'ChartCan': 1, 'TSCRF/TSCRD': 1, 'UNTIL': 1, 'Schwab/Ameritrade': 1, 'TRY': 1, 'Logitech $LOGI': 1, 'SEA LTDI': 1, 'Garena': 1, 'COVID/Election': 1, 'kos2tt/what_are_your_next_below_50_below_30below_20/': 1, 'Calls/Puts': 1, 'MarketWatch Game Setup': 1, 'Pershing Square Tontine Holdings, Ltd.': 1, 'Interactive Brokers Client Services': 1, 'Interactive Brokers 2%': 1, 'PSTH': 1, 'Client Service': 1, 'else?Hi': 1, 'RGBLY': 1, 'Possibility of Natural Gas': 1, 'Altitude Acquisition Corp.': 1, 'BloombergBloomberg': 1, 'Aerion Corp.': 1, 'BMRN &': 1, 'AGLE': 1, 'AGLE &': 1, 'INTCI': 1, 'Clover-Walmart': 1, 'Garipalli': 1, 'Alphabet Inc/Google': 1, 'SPEC': 1, 'the Company:*': 1, 'CarePoint Health': 1, 'Advice': 1, 'ECT': 1, 'Vanguard’s': 1, 'Vadadustat': 1, 'AmazonShopify': 1, 'JRM': 1, 'PLND': 1, 'BYG': 1, 'Vanguard Tax-managed': 1, 'EMPWCF': 1, 'OTIC': 1, 'Small Swing Trade': 1, 'Thur/Fri': 1, 'BB - Blackberry: Communications Equipment': 1, 'Price/Sales': 1, 'Tabaco': 1, 'YoY Revenue': 1, 'Vistras-Effort': 1, 'IPP’s': 1, 'Winterization': 1, 'Vistra Corp': 1, '5.5 EV': 1, 'Link](https://investor.vistracorp.com': 1, 'YoY EPS': 1, 'Fidelity for Penny / Newer': 1, 'Luxury': 1, 'Long Term Value Energy': 1, 'NextEra': 1, 'FXAIX': 1, 'ARK ETF’s - Advantages &': 1, 'ISBC': 1, 'CCCCCCCC': 1, 'Money Market: \\\\~$180k': 1, 'NNNN': 1, 'TSEM - Tower Semiconductor - Semiconductor': 1, 'the MSFT of EV': 1, 'Value Alpha Leaders Webinar': 1, \"Singular Research's Emerging Growth &\": 1, 'New Drug Applications': 1, 'Canadian Mining Stocks[removed': 1, 'Tuscan Holdings': 1, 'US GRW': 1, 'MINES': 1, 'AEX UCITS': 1, '|Product|% of portfolio|Gain / Loss': 1, 'PopPortfolios 🎈': 1, 'Valero': 1, 'CNCL': 1, 'Robinhood to SoFinan': 1, 'UNITED': 1, 'Hyliion](https://www.wsj.com': 1, 'the Hyliion Strategy': 1, 'AITX': 1, 'LoansHello': 1, 'the UK Space Agency': 1, 'Trend Tracker': 1, 'Rolls-Royce Holdings PLC': 1, 'Civil Aerospace': 1, 'Power Systems': 1, 'Defence Aerospace': 1, 'RR': 1, 'MDD': 1, 'Gen Z': 1, 'Headpsace': 1, 'THE PEOPLE HAVE SPOKEN': 1, '🐸🍑🙄': 1, 'American Manganese[removed]': 1, 'Extra-Terrestrial Real Estate': 1, 'Feb.8': 1, 'UMC': 1, 'United Microelectronics Corp': 1, 'Mie Fujitsu Semiconductor': 1, '1.7 B': 1, 'JTI': 1, 'PMI Market Share': 1, 'Philip Morris International': 1, 'China National Tobacco Corporation': 1, 'Japan Tobacco International': 1, 'Novan Penny': 1, 'INOVIO PHARMACEUTICALS INO': 1, 'the Edmomton Oilers': 1, 'FDA EUA Ce': 1, 'RADT': 1, 'Empower Clinics': 1, 'MONSTER': 1, 'DFW': 1, 'Kai Medical Labs': 1, 'MediPro': 1, 'SIGNIFICANTLY': 1, 'Clinics': 1, 'CBDT/8EC/': 1, 'Empower': 1, 'KAI': 1, 'CBDT EMPOWER CLINICS': 1, 'MDEL': 1, 'RAPIDLY': 1, 'YVR': 1, 'AIAI': 1, 'AI Chips': 1, \"AMD/Nvidia's\": 1, 'BTCC-U?If': 1, 'BTCC-USD': 1, 'SAC': 1, 'Post COVID': 1, 'the Montely Fool': 1, 'WKN': 1, 'CURRENCY': 1, 'SPAIN ECONOMY &': 1, 'Yahoo Finance Premium': 1, 'Computer Chips': 1, 'RenewableEnergy': 1, 'DVY': 1, '1!](https://i.imgur.com/EHTrDMd.png': 1, '# Home Depot': 1, 'Moody’s Analytics': 1, 'the Market Peak\\n\\n&': 1, 'Bespoke Report': 1, 'the Bloomberg Industrial Metals': 1, 'ESTIMATES!](https://i.imgur.com/To6WCZh.png': 1, 'DraftKings Inc.': 1, 'Improving': 1, 'Home Depot, Inc.': 1, 'the US Census Bureau': 1, 'Households': 1, 'Plug Power, Inc.': 1, 'Jumia Technologies AG': 1, '″[Powell’s': 1, 'IJS': 1, 'Communication Services, Financials, Materials': 1, 'ESTIMATES!](https://i.imgur.com/EcVeV4l.png': 1, 'QMA': 1, 'IJT': 1, 'Drawdowns': 1, 'ESTIMATES!](https://i.imgur.com/UCHvMLo.png': 1, '# Tech Leading': 1, 'Industrial Metals Shining Bright\\n\\n&': 1, 'NVIDIA Corp.': 1, 'Value Outperforming Growth': 1, 'Moderna, Inc.': 1, 'A/D Line': 1, 'Black &': 1, 'MedMen Canada': 1, 'Cronos Device Labs': 1, 'Technion’s': 1, 'Copenhagen': 1, 'AGI': 1, 'Cronos Group’s': 1, 'Helix Innovations': 1, 'Altria Group, Inc.\\n\\nAltria Group': 1, 'the Israeli Ministry of Health': 1, 'Cronos GrowCo': 1, 'Cronos Fermentation\\n&': 1, 'Cronos/Altria': 1, 'JUUL Labs, Inc.': 1, 'Altria/Cronos Group - The Forgotten Deal': 1, 'MedMen': 1, 'The Technion Research and Development Foundation': 1, 'Ginkgo Bioworks': 1, 'Cronos Brands': 1, 'Phillip Morris USA](https://www.philipmorrisusa.com/': 1, 'GMP': 1, 'Cronos Group Inc.': 1, 'Cronos Israel\\n&gt;Cronos Group': 1, 'Cronos GrowCo\\n&gt;Cronos Group': 1, '&gt;Cronos Group': 1, 'Gan Shmuel Foods Ltd.': 1, 'first Contract Manufacturing Organization': 1, 'NatuEra': 1, 'Altria &': 1, 'Robinhood Tax Form Urgent[removed': 1, 'Engage': 1, 'Half Billion': 1, 'Social Security Disability': 1, 'expected%20to%20continue%20doing%20so': 1, 'China Tobacco': 1, 'MSA': 1, 'UVV': 1, 'Tobacco/data#:~:text=14.6%25%20among%20adults%20aged%2018,twice%20the%20best%20group%20rate': 1, 'Camel': 1, 'uploads/2019/10/Tobacco-Developing-World.pdf': 1, 'Forex Signals[removed]': 1, 'BA &': 1, 'Plane': 1, 'US Aerospace &': 1, 'Boeing/United Airlines DD': 1, 'GE Aviation': 1, 'JagX': 1, 'PNC': 1, '\\\\~$33': 1, 'Play Magnus AS': 1, 'BestBuy': 1, 'Gamestop Bulls': 1, 'Nov/Dec': 1, 'PTBV': 1, 'PTBV\\n\\n&': 1, 'Lomiko Metals - Catalysts[removed': 1, 'Bull Spread': 1, 'Signal Sciences’': 1, 'PROFESSIONAL': 1, 'TraderBull-UP': 1, '&gt;**GW Pharmaceuticals': 1, 'each GW American Depositary Share': 1, 'Jazz Pharmaceuticals': 1, 'the Wash-Sale Rule': 1, 'Rio Tinto PLC': 1, 'TrendTracker': 1, 'Electrometallurgy -South Africa': 1, 'Microchips': 1, 'Recommendation': 1, 'Ferroglobe': 1, 'Signature Financial LLC': 1, 'Square One Bank': 1, 'Signature Bank’s': 1, 'FINRA/SIPC': 1, 'Signature Securities Group Corporation': 1, 'DJT': 1, 'Signature Bank': 1, 'FACTUAL': 1, 'eTorro': 1, 'Monthly Trend Resistance': 1, 'Total\\\\*0.0173': 1, 'MA International Development 2009': 1, 'JPY/Euro': 1, 'US Dollars': 1, 'Heineken': 1, 'Alcoholic': 1, 'American University': 1, 'AmBev': 1, 'Macro Explanations': 1, 'Kirin': 1, 'Owns Guaraná Antarctica': 1, 'Daily/Weekly': 1, 'InBev (Bud, Stella': 1, 'Dividend Stocks/': 1, 'DRI': 1, 'SYY': 1, 'RHP,': 1, 'Canadian Psychedelic': 1, 'APAH': 1, 'SUNDAY NIGHT FUTURES TRADING 💹': 1, 'InteractiveTrading': 1, 'Robinhood, Webull': 1, 'SDGR': 1, 'Lynx / Interactive Brokers': 1, 'MMWVT': 1, 'Entire Life Savings - Please': 1, 'Versus': 1, 'Bigcommerce': 1, 'OTM LEAP': 1, 'Rolls Royce - Followup + Original Analysis[removed]': 1, 'HAL (Hindustan Aeronautics Limited': 1, \"Dassault Aviation's\": 1, '# Rolls Royce Stock Analysis': 1, 'Reliance': 1, 'Infosys for Aerospace Engineering': 1, 'FY22 Projections': 1, 'Rolls Royce - Followup + Original': 1, 'Group': 1, 'Life Sciences Corp.': 1, 'MACE': 1, 'meThere’s': 1, 'SND': 1, 'Riverside': 1, 'the Novato Costco': 1, 'service[https://www.cnbc.com/2021/02/22': 1, 'TraderBull-Up Hot Stock': 1, 'the Closest Thing': 1, 'Projects Led': 1, 'Argentina Optimistic': 1, '|:-|:-|\\n|PYPL|5%|\\n|NIO|15%|': 1, 'FSM': 1, 'ENR': 1, 'AWS Management Console\\n\\nCompetition\\n\\nChen': 1, 'Mckensey&amp;Co': 1, 'Gold/Oil\\n\\nBB': 1, 'Smart-Appliances': 1, 'Google/Apple': 1, 'GME Fiasco': 1, 'Amazon*': 1, 'Mod': 1, 'First Group': 1, 'OCD': 1, 'Easter': 1, 'UGRO': 1, 'the Nasdaq Capital Market': 1, 'Fordham Financial Management, Inc.': 1, 'IPM': 1, 'Good Agricultural Practices': 1, 'CEA': 1, 'the Bank Secrecy Act': 1, 'Xoom': 1, 'Evolve Bank': 1, 'Financial Crimes Enforcement Network': 1, 'Big Banking': 1, 'Sutton Bank’s': 1, 'The Fundamental Constraint\\n\\n': 1, 'the KYC Problem': 1, 'Southern USA': 1, 'Semis - Portfolio[removed]': 1, 'MDLX/MDLQ?[removed]': 1, 'AppleSo I': 1, 'RNECF': 1, 'Comparison of Visa': 1, 'BPTH': 1, 'Gold For EV Industrial': 1, 'Copper &': 1, 'Silvercrest Metal’s': 1, 'MarginDebt': 1, 'Unite Airlines &': 1, 'Nio, Xpeng &': 1, 'DE / F &': 1, 'Technology, Communications &': 1, 'guided](https://imgur.com/OgcZT2b': 1, 'Roku,': 1, 'guidance](https://imgur.com/ExRQ4DD': 1, 'GM](https://imgur.com/SGIF2TL': 1, 'Weekly Stock Market News | ROKU / TWLO': 1, 'Deere &': 1, 'SaxoBank': 1, 'Stock Margin Call Option': 1, 'CGS': 1, 'Sinema': 1, 'CAF II': 1, 'Quantum Fiber': 1, 'Verizon Communications Inc.': 1, 'Zoom / Amazon / Google': 1, 'AT&amp;T Inc.': 1, 'Holistic Web Protection Solutions': 1, 'Frost &': 1, 'U.S. Enterprise': 1, 'WALLSTREETBETS': 1, 'Retail/LTC': 1, 'MinuteClinic': 1, 'Pharmacy Services': 1, 'Navarro.com': 1, 'Fortune’s': 1, 'CVS Health Corporation': 1, 'the Retail/LTC Segment': 1, 'Omnicare, Inc.': 1, 'Potential Downsides': 1, 'Brand New OTC KROEF[removed]': 1, 'bubble](https://www.yahoo.com': 1, 'DISCA Discovery Channel Brought': 1, 'a SPAC NextGen Acquisition': 1, 'Suggestions For Growing My PortfolioMorning All': 1, 'Tapestry’s': 1, 'People’s United': 1, 'Cooper Tire': 1, 'DISH&amp;ty': 1, 'the Paycheck Protection Program': 1, 'Principal Financial': 1, 'Pratt &': 1, 'Cyxtera Technologies': 1, 'Whitney': 1, 'KSS\\n\\n&': 1, 'SVAC': 1, 'People’s United Financial': 1, 'DISCA\\n\\n&': 1, 'KSS&amp;ty': 1, 'Starboard Value Acquisition': 1, 'Cooper’s': 1, 'ETF?ETFs': 1, 'the Roblox.[removed]': 1, 'LLBO Breast Cancer': 1, 'SANP Crushing': 1, 'the SEC?[removed]': 1, 'IDEX -Ideanomics EVSeems': 1, 'FTCS': 1, 'INKWGREENE': 1, 'Cooper Tire &': 1, 'One Million Meals Challenge': 1, 'Macerich’s': 1, 'Green Street': 1, 'MACERICH%20CO&amp;FormType=10-Q&amp;View': 1, 'Bull Thesis': 1, 'Leasing/Property/202': 1, 'Instrinsic Value': 1, 'MAC Analysis - Potential Deep Value PlayI': 1, 'functions](https://www.saratogahospital.org/News': 1, 'Tysons Corner Center': 1, 'Saratoga Hospital': 1, 'The Ontario Teachers’ Pension Plan': 1, 'Macerich Company': 1, 'Westside Pavilion': 1, 'ARKGI': 1, 'TMSC': 1, 'F16': 1, 'Balsanaro': 1, 'Quantum Scapes': 1, 'WTO': 1, 'International Development': 1, 'Ngozi': 1, 'Sunrun -22%': 1, 'SunPower -26%': 1, 'LiAuto -16%': 1, 'First Solar -17%': 1, 'Tesla -11%': 1, 'XPENG -30%': 1, 'Enphase -17%': 1, 'NIO -15%': 1, 'Trend Template': 1, 'EVLLF - Sustainable Mining': 1, 'EnviroLeach': 1, 'APGMF': 1, 'RVP': 1, 'GPO’s': 1, 'TSCRF': 1, 'Enghouse Stock': 1, 'CLMT': 1, 'CNY': 1, 'AB International Group Corp.': 1, 'AB Intl': 1, 'Stocks / Options': 1, 'Direct Stock BuysHello': 1, 'Canada Post': 1, 'ShipStation': 1, 'ShipWorks': 1, 'Priority Mail': 1, 'ShipEngine': 1, 'Neutral Outlooks*': 1, 'ShippingEasy': 1, 'Royal Mail': 1, 'Stamps.com’s': 1, 'MetaPack': 1, 'next![https://twitter.com/': 1, 'Havn Life Psychedelic Medicine': 1, 'BUYS': 1, 'InlaUpVp4t3IA3h](https://www.otcmarkets.com': 1, 'not?[removed': 1, 'Kohl’s': 1, 'BBBY) Inc.': 1, 'click/23008803.34962/aHR0cHM6Ly93d3cubW9ybmluZ2JyZXcuY29tL2RhaWx5L3IvP2tpZD01MzNmYzI5ZQ/5cbe3beb24c17c6c936b328eBa3e29101': 1, 'Garmin': 1, 'Illness': 1, 'BeachBody': 1, 'The Beachbody Co.': 1, 'Mix Fitness': 1, 'MAXR - Moon': 1, 'Maxar Technologies': 1, 'ARK’s Space Exploration': 1, 'McEwen Mining': 1, 'Barchart.com': 1, 'Hewlett Packard[removed]': 1, 'RP': 1, 'The Future of Energy Management': 1, '🚀🚀\\n\\nIntegration': 1, 'WTRH Announces Integration': 1, 'LESL PNR POOL': 1, 'Five9 - 1%': 1, 'Apple - 2%': 1, 'NIO Inc - 7%': 1, 'UTHR': 1, 'the Centers for Disease Control and Prevention': 1, 'United Therapeutics': 1, 'Indica': 1, 'Canopy Rivers': 1, 'U.S. Multi-State Cannabis Operator': 1, 'Mettrum Health Corp': 1, 'New Chief Executive': 1, 'BioSteel': 1, 'Quebecois': 1, 'Tweed Inc': 1, 'Tweed Tree Lot': 1, 'Bedrocan Canada Inc': 1, 'the Canadian Cannabis Awards': 1, 'Alignment](https://www.globenewswire.com': 1, 'Canopy Growth Corp -': 1, 'TER': 1, 'TerrAscend Corp.': 1, 'THC/CBD': 1, 'CRC': 1, 'the Dutch Office of Medicinal Cannabis': 1, 'Canopy Growth Announces': 1, 'DOJA': 1, 'Tweed': 1, 'Explore New Cannabis Markets Following': 1, 'Corona Extra': 1, \"Canopy Growth's\": 1, 'Les Serres Vert Cannabis Inc.': 1, 'Multiple Voting Shares': 1, 'Tweed](https://www.tweed.com': 1, 'Closing](https://www.newswire.ca': 1, 'Growth’s': 1, 'TerrAscend Canada Inc.': 1, 'Discover Stocks[removed]': 1, 'GlobalTech Industries Group - GTii -': 1, 'Fidelity - HARD': 1, 'MAXR': 1, 'FuelCell Energy, Inc.': 1, 'the FuelCell Energy, Inc. Certificate': 1, 'RAC': 1, 'MMORPG': 1, '164M Daily Active Users': 1, 'FUAMXI': 1, 'Evolve': 1, '\\\\- G6 Materials Corp.': 1, 'Project': 1, 'Gilman Industries LLC': 1, 'G6 Materials Corp.': 1, 'Research and Markets': 1, 'G6 Materials': 1, 'G6’s': 1, 'Air Purification Products:': 1, 'USO Lawsuit': 1, 'SolarPrimed': 1, 'Cryptos': 1, 'ON SALE': 1, 'MYX': 1, 'ARKInvest': 1, 'CDNA': 1, 'Brokerage/Digital Currency/Mining)[removed]': 1, 'GreenBox': 1, 'Clean Energy Stocks?[removed]': 1, 'CTLT - Pretty': 1, 'the US Department of Health and Human Services': 1, 'Response': 1, 'the Office of the': 1, 'StrataGraft': 1, 'BioShield Contract': 1, 'Stratatech Biologics License Application': 1, 'Lucid Dreams &': 1, 'AmeriDrive': 1, 'HyreCar': 1, \"sleepI'm\": 1, 'The China Hustle on Netflix': 1, 'TV](https://www.reddit.com': 1, 'DDPlease': 1, 'Cisco Systems': 1, 'IMImobile PLC': 1, 'CancerTYPE': 1, 'Biotheranostics': 1, 'CSCO - Cisco Systems': 1, 'Amazon AWS / BB': 1, 'FPO': 1, \"Motley Fool's\": 1, \"Motley Fool's Stock Advisor\": 1, 'NED': 1, 'Alteryx': 1, 'IUSV &lt;1%': 1, 'Long-Term Investing': 1, 'ANET': 1, 'HST': 1, 'Occidental Petroleum': 1, 'Valero Energy Corp': 1, 'Resort Inc': 1, 'Arista Networks Incorporated': 1, 'Illumnia Inc': 1, 'Host Hotels': 1, 'COP': 1, 'Conocophilips': 1, 'CCIV LUCID TALK': 1, \"Moody's\": 1, 'ITM/OTM/': 1, 'JD Logistics': 1, '$PBR Stock - Sold': 1, 'PSQ': 1, 'First Time': 1, 'Options Trading EBON Stock': 1, 'ISA Baby': 1, 'the House Financial Committee': 1, 'DIJA': 1, 'Tiny Interest Rate': 1, 'Long BABA - Holding': 1, 'Renminbi': 1, \"Digital Media and Entertainment\\n\\nAlibaba's\": 1, 'DingTalk': 1, 'Ant Group Co.': 1, 'the State Administration for Market Regulation': 1, 'Alibaba’s Business Segments': 1, 'OXY&amp;ty': 1, 'RealReal': 1, 'Home Depot’s': 1, 'Holiday Inn Express': 1, 'InterContinental Hotels Group': 1, 'IHG&amp;ty': 1, 'the Senate Finance Committee': 1, 'Wells Fargo Asset Management': 1, 'C/CIV': 1, 'Reverence Capital': 1, 'GTCR': 1, 'Roku, Twilio': 1, 'Bitcoin Drops Alongside Tech Stocks': 1, 'Bond Yields Rise': 1, 'MarTech 2021': 1, 'SNVIF': 1, 'NORDNET': 1, 'NORDNETI': 1, 'RETL': 1, 'UBOT': 1, 'IBUY': 1, 'Bear and Bull': 1, 'PILL': 1, \"the Bear and Bull ETF's\": 1, 'lq5u9s': 1, 'MSB': 1, 'SEC - Array Technologies FORM': 1, 'Honeywell Performance Materials &': 1, 'IArray Technologies': 1, 'Honeywell International Inc.': 1, 'NEXTracker Inc.': 1, 'LCOE': 1, 'Corio’s': 1, 'Neuberger Berman Group': 1, 'Finviz - Technology': 1, '/Archives': 1, 'Array Technologies - Research': 1, 'Debt/Equity of': 1, 'Array’s': 1, 'Advanced Materials': 1, 'AllianceBernstein': 1, 'DuraTrack’s': 1, 'the Bank of New York Mellon': 1, 'Amkor Technologies': 1, 'Barrons - Flex Stock': 1, 'NEXTracker': 1, 'Spin Solar-Tracking Unit](https://www.barrons.com': 1, 'RapidClamp': 1, 'Avnet (NASD: AVT': 1, 'Flex’s': 1, 'Glassdoor - Array Technologies Reviews](https://www.glassdoor.com/Reviews/Array-Technologies-Reviews-E849140.htm?filter.iso3Language': 1, 'Fusaro’s': 1, 'Motley Fool - Array Technologies': 1, 'Array Technologies': 1, 'SEC - Array Technologies S-1](https://www.sec.gov/Archives': 1, 'Oaktree': 1, 'Oaktree Capital Management': 1, '4.53 P/S': 1, 'DuraTrack-SmarTrack': 1, 'SEC - Array Technologies': 1, 'Popular Amongst Insiders?](https://finance.yahoo.com': 1, 'Flex Ltd.': 1, 'Fidelity Delays': 1, 'the Vanguard Rep': 1, 'AHC': 1, 'ASE': 1, 'ASE Technology’s': 1, 'ASE Technology Holding Co., Ltd': 1, 'AIoT': 1, 'KISS': 1, 'ASE Technology Holding Co., Ltd.': 1, 'Taiwan Semiconductor Manufacturing Company, Limited': 1, 'ASE’s': 1, 'Global Climate and Water Stewardship': 1, 'Ebix': 1, 'NYAG': 1, 'SUSL': 1, 'Macys': 1, 'UVYX': 1, 'NIO ON A DIP![removed]': 1, 'FCEL &': 1, 'PGRE Paramount Group': 1, 'JOAN': 1, 'NSAV Cryptocurrency': 1, 'Teva Stock Mixed messages[removed]': 1, 'Overall Airlines': 1, 'Linkedin Marketplaces - MSFT &': 1, 'ITRAXX Main': 1, 'CDX': 1, 'MarchAny': 1, 'Reclaimed': 1, 'the USPS Next Generation Delivery Vehicle': 1, 'The U.S. Postal Service': 1, 'The U.S. House of Representatives Budget Committee': 1, 'retirement/401k': 1, 'Launch Multi-Billion-Dollar Modernization of Postal Delivery Vehicle Fleet[removed]': 1, 'U.S. Postal Service Awards Contract': 1, 'WKHS Interest Expense[removed]': 1, 'ODE': 1, 'ETrade?Howdy': 1, 'VLDRW': 1, 'Hugely': 1, 'Newbie Investor': 1, 'Blue Horseshoe': 1, 'Dataset': 1, 'GARCH-Models': 1, 'PRLB - Long Term': 1, 'Biologics': 1, 'Stock - MOGO': 1, \"the Official Committee of Equity Securities Holders'\": 1, 'Garrett Motion Inc.': 1, 'Tech StocksFor': 1, 'Oshkosh &': 1, 'New Stock Discord Group': 1, 'DTE &lt;4So': 1, 'StocksandShit': 1, \"YOLO TPTW Investor's\": 1, 'Stock Increase': 1, 'Money Market Accounts\\n\\n*': 1, 'the Robinhood BS': 1, 'Investment Banks': 1, 'GrowGeneration Corp - A': 1, 'Organics': 1, 'Law Firm Lampert &amp;amp;amp': 1, 'Co-Founder*': 1, 'International Hemp Exchange': 1, 'Sell Agricultural Products to Hemp': 1, 'San Diego Hydroponics &amp;amp;amp': 1, 'Grassroots Hydroponics': 1, 'Store Operations': 1, 'GrowGeneration’s': 1, 'Grassroots Hydroponics Acquisitions': 1, 'Temple University\\n\\nDarren Lampert - *': 1, 'Foot Locker Inc.': 1, 'GrowBiz': 1, 'Forman Mills': 1, 'The GrowGeneration Commercial Team': 1, 'Liberty Tree CBD': 1, 'GrowGen': 1, 'Bridgeport University School of Law': 1, 'Southern California](https://finance.yahoo.com': 1, 'Ithaca College': 1, 'Salaman': 1, 'GrowGen Locations Nationwide': 1, 'Skinny Nutritional Corp.': 1, 'QMCO': 1, 'the Rural Digital Opportunities Fund': 1, 'Consolidated’s': 1, 'Searchlight Capital Partners': 1, 'Consolidated Communications': 1, 'HUBB': 1, 'NRRWF': 1, 'Potential 🚀 On Discount Today[removed]': 1, 'ABT DHR UNHI': 1, 'Potential 🚀 On Discount With Today’s Drops[removed': 1, 'ON PLTR?After': 1, 'lqu1gs/cathie_wood_reveals_starting_ark_was_fulfilling/': 1, 'Great New Company Pre-IPO StorEn Technologies': 1, 'SPACsnan': 1, 'Ioniq 5 EV': 1, 'HyundaiHyundai': 1, 'Super Investors[removed]': 1, 'Wealth Creation': 1, 'New Broker Required: Pre and': 1, 'SUIC': 1, '🚨🚨🚨': 1, 'Wolfpack’s': 1, 'CCTV': 1, 'KunXiang': 1, 'PRA Health Sciences': 1, 'Cahtie Woods': 1, 'CSPR\\n\\n&': 1, 'QuickBooks': 1, 'Icahn Capital’s': 1, 'Toll Brothers': 1, 'Vaccines and Related Biological Products Advisory Committee': 1, 'INTU&amp;ty': 1, 'The Food and Drug Administration’s': 1, 'Lowe’s': 1, 'Bell’s': 1, 'FUCKIN': 1, 'European Travel': 1, 'Climb HigherMassive': 1, 'Fisker Inc.-': 1, 'Thumb Industries Inc.': 1, 'AdvisorShares': 1, 'DATADOG VS DYNATEACE': 1, 'Microsoft/Disney/Tencent?[removed]': 1, 'Overall': 1, 'Financial Analysis': 1, 'Financial Statement': 1, 'FCA': 1, 'Financial Conduct Authority': 1, 'Marathon Oil (': 1, 'FND': 1, 'GCAN Greater Cannabis': 1, 'the Benzinga Cannabis Capital Conference BY GlobeNewswire': 1, 'Spreadsheet/Code/Blablabal[removed]': 1, 'K - 35K': 1, 'ALeKk02cuUpWbnjAmUWQyuC0ip': 1, 'DEEPCUBE': 1, 'Broker A': 1, 'Broker B': 1, 'Broker A.': 1, 'GameStop Frenzy Prompts SEC': 1, 'Weigh More Short Sale Transparency[removed]': 1, \"SPCE Virgin Galactic's\": 1, 'Peloton’s': 1, 'PTON': 1, 'VIEIX': 1, 'VIGIX](https://investor.vanguard.com': 1, 'The One Who Shall Not Be Named': 1, 'KOPN volatileKopin Corp': 1, 'Hello Darkness': 1, 'VMware Spinoff Trade': 1, 'PGAS': 1, 'VolumeHey': 1, 'Parabolic': 1, 'DKNG/PENN': 1, 'the Greek Stock': 1, 'MX Revenue': 1, 'VR/AR': 1, 'Screens': 1, \"Yahoo Finance '\": 1, 'Biden to Sign Executive Order on': 1, 'Brookfield Renewable Partners L.P.BEP': 1, 'Brookfield Renewable Partners L.P.': 1, 'Tonix Pharmaceuticals': 1, 'UGC': 1, 'FAQ': 1, 'Near Nav SPAC': 1, 'Tech Unicorn': 1, 'Sesen Bio': 1, 'HMMR': 1, 'StopGame': 1, 'World of Warcraft and': 1, 'the Tsar Bomba': 1, 'Blox': 1, 'League of Legends': 1, 'BuzzFeed': 1, 'Noront Resources Inc': 1, 'KWG Resources Inc (': 1, 'KWG': 1, 'Tesla Apple': 1, 'KEYS': 1, 'Trimble': 1, '0.61 EPS': 1, 'Trimble Inc.': 1, 'LVGI-Limitless Penny': 1, 'LVGI': 1, 'NBR Stock': 1, 'RMTI': 1, 'Are Target Dates': 1, 'Ark Innovation': 1, 'GME GOING': 1, 'Robinhood to Schwab': 1, 'the [Commerce Department': 1, 'U.S. Treasury': 1, 'The US Food and Drug Administration': 1, 'DELL': 1, 'Nordson': 1, 'Chair of the Federal Reserve Jerome Powell': 1, 'The U.S. Department': 1, 'PsychoTrader': 1, 'ARK Stock': 1, 'Securing America’s': 1, 'FACT': 1, 'Robinhood to Merrill Edge': 1, 'Personal Capital and Yahoo Finance': 1, 'fy19': 1, 'Massmart': 1, 'Wal-mart': 1, \"FlipKart - India's\": 1, 'QuestionLet': 1, 'trading](https://i.imgur.com/VZAXcd7.png': 1, \"Cathie Woods'\": 1, 'ETF)](https://imgur.com/z1spO52': 1, 'IEP': 1, 'Memes - 2-24-21[removed': 1, 'Penn National Gaming\\n': 1, 'Monmouth Racetrack': 1, 'Sportsnet': 1, 'theScore': 1, 'theScore Television Network': 1, 'SportScope': 1, 'the Score Television Network': 1, 'theScore Bet': 1, 'Headline Sports': 1, 'Twin River Worldwide Holdings, Inc.': 1, 'Score Media': 1, 'the Betting Linenan': 1, '$DK Stock': 1, 'AAPL Partnership': 1, 'ON American': 1, 'NVOS - Lets': 1, 'Churchill Capital': 1, 'SRET': 1, 'JEPI': 1, 'Wanxiang Group Holding': 1, 'Fisker Inc.': 1, 'Twitter Hashtag.nan': 1, 'GME Catalyst': 1, 'MM Creates': 1, 'Major Discount #': 1, 'ERIE - Channel': 1, 'Harney &': 1, 'Board &': 1, 'the Board and Management': 1, 'Upcoming Earnings Dates!Here': 1, 'Company Doug': 1, 'Kelloggs': 1, 'down](https://www.reddit.com': 1, 'Tweets': 1, 'MarketData/EquityOptions/detail.jsp?query=126:0P000002CH': 1, 'JCPNQ': 1, 'Apple, Walmart': 1, 'Marathon Oil': 1, 'Industrial Properties': 1, 'IIP’s': 1, 'Innovative Industrial Properties': 1, 'the US Cannabis Industry': 1, 'LOTZ READY FOR RUNNING[removed]': 1, 'ELCR': 1, 'Knight-Swift Transportation Holdings Inc.': 1, 'J.B. Hunt Transport Services Inc.': 1, 'Old Dominion Freight Line Inc.': 1, 'NerdWallet': 1, 'Canadian Solar’s P': 1, 'Winnie': 1, 'Duke Energy': 1, 'Canadian Solar’s': 1, 'Canadian Solar Short Interest': 1, 'Choice Hotels International Inc – Top Hotel Stocks To Buy Nownan': 1, 'GME Megathread': 1, 'Joby Aviation': 1, 'Heranba Industries Ltd.': 1, 'GME-Unpopular Opinion[removed]': 1, 'ANY APE HOLDING': 1, 'Eos Energy': 1, 'Snakeoil?I': 1, 'SLA': 1, 'SEGI': 1, 'HUML': 1, 'LossesHow': 1, '3!](https://i.postimg.cc/N0cNLSRt/divical3.png': 1, 'K/OSS': 1, 'Bath &': 1, 'BioNTech': 1, 'Anheuser-Busch InBev': 1, 'NCLH&amp;ty': 1, 'K/oss Corp.': 1, 'K/': 1, 'Body Works': 1, 'The Victoria’s Secret': 1, 'T-Mobile US': 1, 'FSR&amp;ty': 1, 'SPAC Peridot Acquisitions': 1, 'GME NO': 1, 'Peridot Acquisitions': 1, 'ISIN number?ROBLOX': 1, 'ISIN': 1, 'Landsdown-Hargreaves': 1, 'IBX FULL YEAR REPORT AVAILABLE[removed]': 1, 'TD Webbroker': 1, 'UpsideUpwork': 1, 'Churchill Capital Corp IV': 1, 'LTRPA': 1, 'Invest &': 1, 'USPH': 1, 'VEON': 1, 'Cra-Z-Art': 1, 'Debt/Liquidity:': 1, 'LoopEnergy': 1, 'HMI': 1, 'Merck Stock[removed]': 1, 'VWRA': 1, 'EQX - Long Play': 1, 'Nanotech Security[removed]': 1, 'FTL': 1, 'Newbie Huge Mistakenan': 1, 'Ebang International Holdings (EBON': 1, 'Unpopular Opinion - Meme Stocks are Ruining the Notion of Investing[removed]': 1, 'the Mexican-American Economy': 1, 'CCIV Capital Church IV': 1, 'AFRM Affirm Stock': 1, 'Options Tracking Tools: Advice': 1, 'Retail Holdings N.V. RHDGF': 1, 'US500': 1, 'the US500 Futures': 1, 'Gold Miners': 1, 'YOLO 100k': 1, 'YouTube](https://www.youtube.com': 1, 'Nasdaq.](https://twitter.com': 1, 'The Score': 1, 'postThe Score Media': 1, 'The Score eSports': 1, 'theScore-Announces-Pricing-of-Upsized-Initial-Public-Offering': 1, 'the Ohio Senate Select Committee': 1, 'TSX Venture': 1, 'the League of Legends': 1, 'PowerBrowser': 1, 'RGS': 1, 'TCHB': 1, '45K USD': 1, 'PRLB &': 1, 'BID': 1, 'Daily Average Stock Price Graph/Chart': 1, 'Guardion Health Sciences': 1, 'Poppe': 1, 'INTELSAT Stock': 1, 'Bollinger Bands and Moving Average Envelopes': 1, 'ATR': 1, 'WMA': 1, 'The Middle Line': 1, 'the Average True Range': 1, 'Bollinger Bands %': 1, 'Upper or Lower Band': 1, 'WOOD': 1, 'US Technology': 1, 'Chase Investments': 1, 'ETF)Hello': 1, 'Non Margin Purchasing Power Questionnan': 1, 'FSRPX': 1, 'RTH': 1, 'IEDI': 1, 'DKNG with Fanduel': 1, 'VIRX': 1, 'Fb': 1, 'Best Cannabis': 1, 'AIR TAXI SPAC': 1, 'VYM': 1, 'Rocket': 1, 'GTHX': 1, 'Directv - $T[removed]': 1, 'Fear &': 1, 'Coca-Cola Controversy[removed]': 1, 'CANG': 1, 'Dungeons &': 1, 'Hasbro Reorganizes Wizards': 1, 'Consumer Products': 1, 'Wizards': 1, 'MTG': 1, 'GMEAgain': 1, 'Stock Tracker AppHello': 1, 'Worth, Options': 1, 'Friday.nan': 1, 'CCIV Squeeze - Fuelling': 1, 'Twitter?Seems': 1, 'IPOsnan': 1, 'NasdaqTodays': 1, 'Snapshot of 8 Companies Pursuing Base': 1, 'Syrian Facilities': 1, 'Vantage': 1, 'MONTH': 1, 'NVTA - Horizontal': 1, 'HUN': 1, 'GWSAF': 1, 'Orders &': 1, 'U.S. Consumer': 1, 'Gavita': 1, 'Advance Social Equity and Racial Justice': 1, 'General Hydroponics': 1, 'Hawthorne Gardening': 1, 'Hydroponic Systems': 1, 'Coalition of Leading Companies': 1, 'PPW': 1, 'Bitcoin Plunge Reveals Possible Vulnerabilities': 1, 'WASM on Shopify': 1, 'Edge Computing': 1, 'DDoS': 1, 'SPH': 1, 'Cloudflare &': 1, 'WebAssembly': 1, 'Apple’s Siri': 1, 'Shopify’s': 1, 'Fastly’s': 1, 'Mobile Legends': 1, 'Reddit': 1, 'Ex-Mozilla &': 1, 'W3tech': 1, 'The Social Dilemma on Netflix': 1, 'Amazon’s Twitch': 1, 'WASM': 1, 'Amazon Cloudfront / Google': 1, 'Limelight’s': 1, 'TED Conferences': 1, 'Shopify, Target': 1, 'Singapore Press Holdings': 1, 'WASI': 1, 'Battle Royale': 1, 'USP &': 1, 'Verizon’s': 1, 'Edge Compute+CDN’s Total Addressable Market': 1, 'Akamai’s EdgeWorkers': 1, 'Vimeo’s': 1, 'IMDB': 1, 'Google’s Stadia': 1, 'Cathie Wood’s ARK': 1, 'Marketplace': 1, 'Travel Marketplaces': 1, 'Brett Shirk': 1, 'IBM Edge Application': 1, 'Amazon CloudFront': 1, 'FY2020': 1, 'Commodity': 1, 'ASSISTANCE NEEDED[removed]': 1, 'Dark PoolMost': 1, 'TNA': 1, 'BNO': 1, 'Lending Club': 1, 'WKHS’s': 1, 'Creditors': 1, 'OSK’s': 1, 'Seaport Global Asset Management': 1, 'SOP': 1, \"Value?I'm\": 1, 'S-1 dropTraders': 1, 'Hilltop Securities': 1, 'Mizuho International': 1, 'JPMorgan Chase &amp;amp;amp': 1, 'the Federal Reserve’s': 1, 'PARABOLIC': 1, 'The Market Monitor Tool': 1, 'the Market Monitor Tool': 1, 'ETF Research Center': 1, 'Lindekln': 1, 'Xanax': 1, 'the Current DownturnHi': 1, 'GTHX Stock': 1, 'IAU': 1, 'MTNB': 1, 'CRTO': 1, 'Coin': 1, 'Weirder': 1, 'P/Es': 1, 'YCC': 1, 'PEAK DOVISHNESS': 1, 'Kratos Defence &': 1, 'FY2021': 1, 'MINISO Group Holding Ltd - ADR': 1, 'Atlas Air Worldwide Holdings, Inc.': 1, 'ProShares UltraPro': 1, 'Boeing Co': 1, 'Cabot Oil &': 1, 'ROL': 1, 'Peloton Interactive Inc': 1, 'TSO': 1, 'ARG': 1, 'ONEOK': 1, 'Albemarle Corporation': 1, 'EFX': 1, 'NetApp Inc.': 1, 'Advanced Micro Devices, Inc.': 1, 'NRG Energy Inc\\n': 1, 'Pizza,': 1, 'PKI': 1, 'Endo International PLC': 1, 'Security Inc': 1, 'Autodesk, Inc.': 1, 'Argos Resources Ltd\\n': 1, 'Helix Energy Solutions Group Inc\\n\\n&': 1, 'PulteGroup, Inc.': 1, 'Gas Exp &amp': 1, 'ServiceNow Inc': 1, 'Technologies Inc': 1, 'ARNC': 1, 'Tripadvisor Inc Common Stock': 1, 'Kandi Technologies Group Inc\\n': 1, 'Dollar General Corp.': 1, 'Freeport-McMoRan Inc\\n': 1, 'Payne, Inc.\\n': 1, 'IPG Photonics Corporation': 1, 'Tesoro Resources Ltd': 1, 'Simon Property Group Inc': 1, 'Intellia Therapeutics Inc': 1, 'NextEra Energy Inc': 1, 'Hyliion Holdings Corp': 1, 'Arista Networks Inc': 1, 'United Airlines Holdings Inc': 1, 'Synopsys, Inc.': 1, 'American Water Works Company Inc': 1, 'Equifax Inc.': 1, 'Spotify Technology SA': 1, 'Bank of New York Mellon Corp': 1, 'ADT Inc\\n': 1, 'HSIC': 1, 'Co.,': 1, 'Viatris Inc\\n': 1, 'MKC': 1, 'Regeneron Pharmaceuticals Inc': 1, 'Palantir Technologies Inc\\n': 1, 'PAYC': 1, 'ProShares': 1, 'Logitech International SA': 1, 'Perrigo Company PLC': 1, 'Best Buy Co Inc': 1, 'Cintas Corporation': 1, 'Paypal Holdings Inc': 1, 'Journey Energy Inc\\n': 1, 'Amgen, Inc.': 1, 'Kinder Morgan Inc\\n': 1, 'Offshore, Inc.\\n*': 1, 'Direxion Daily Energy Bull': 1, 'FMC Corp': 1, 'AMC Entertainment Holdings Inc\\n': 1, 'Leidos Holdings Inc': 1, 'Helmerich &': 1, 'Macerich Co': 1, 'Virgin Galactic Holdings Inc': 1, 'Inovio Pharmaceuticals Inc\\n': 1, 'Fossil Group Inc\\n': 1, 'Copart, Inc.': 1, 'PerkinElmer, Inc.': 1, 'Fortune Brands Home &': 1, 'Tilray Inc': 1, 'Direxion Daily': 1, 'Apache Corporation': 1, 'STE': 1, 'Xilinx, Inc.': 1, 'Steris PLC': 1, 'PHM': 1, 'McCormick &': 1, 'KMI': 1, 'Therapeutics Inc\\n*': 1, 'GhSRSH24/divical2.png': 1, 'WW': 1, '3!](https://i.postimg.cc/DfDRNcML/Screenshot-2021-02-25-at-4-27-': 1, 'the McDonald’s': 1, 'NKLA&amp;ty': 1, 'CNK&amp;ty': 1, 'Taco Bell': 1, 'Weight Watchers': 1, 'Chaotic Treasury Selloff': 1, 'Libor': 1, \"the Federal Reserve's\": 1, 'MOJO #': 1, 'Tesla Fremont Factory Production Restarted After Parts': 1, 'Amazon Thoughts[removed': 1, 'Trigon Metals[removed]': 1, 'Apple News': 1, 'the Daily Journal Corporation': 1, 'Yamaha Motors': 1, 'New Article': 1, 'DMP Inc.': 1, 'Harsco': 1, '🚀 🚀 🌕': 1, 'Broker - DD': 1, 'Diamond Handers': 1, \"Melvin Capital's\": 1, 'The EV Charging Network': 1, 'FSR Questionnan': 1, 'Units/Warrants[removed]': 1, 'IssuesSince': 1, 'DuPont Analysis': 1, 'EM/Value': 1, 'Aerospace': 1, 'Small': 1, 'approach](https://www.quora.com': 1, 'WIP': 1, 'Emerging Markets': 1, 'ALTAR Score': 1, 'Copper Stocks - Copper Prices': 1, 'WTF - AirFrance': 1, 'AirFrance-KLM': 1, 'AirFrance': 1, 'Air France-KLM': 1, 'TINY FLOT': 1, 'The Stochastic Oscillator': 1, 'the Stochastic Oscillator': 1, 'Stochastics': 1, 'StochasticsHey Traders': 1, 'K\\n2': 1, 'Bear/Bull': 1, 'Organigram': 1, 'Metabolic Disease': 1, 'Bakers Bros': 1, 'HF#2': 1, 'VC': 1, 'gooabb3/?context=3': 1, 'Daily Active Users': 1, 'the Apple App Store': 1, 'Unreal': 1, 'Sun Life Financial Inc.': 1, 'the University Health Network': 1, 'the U.S. Air Force': 1, 'Chair of the Canadian Institute for Advanced Research': 1, 'New Board': 1, 'VYON Court': 1, 'ON BOARD': 1, 'SNSS &': 1, 'MACGX': 1, 'HungaryAnd': 1, 'Stock Research': 1, 'Friday](https://www.sec.gov/Archives': 1, 'the Financial Industry Regulatory Authority': 1, 'the U.S. House of Representatives': 1, 'Allianz Investment Management': 1, 'FebMarkets': 1, 'Burry’s': 1, 'highs](https://i.imgur.com/bPGbhRl.jpgThe': 1, 'RemindMe': 1, 'Endurance': 1, 'Elaphe': 1, 'THE DEMAND:*': 1, 'Camping World': 1, 'IAG - UK Entry': 1, 'Orbital Energy Group, Inc.': 1, 'TechNode': 1, 'SNDR': 1, 'Schneider National': 1, 'USX': 1, 'Chipmaker Nvidia': 1, 'Sina Corp.': 1, 'the California Institute of Technology': 1, 'U.S. Xpress Enterprises': 1, 'Suning.com': 1, 'US Treasury': 1, 'Overvalued - Bond Rates': 1, 'QUASADILLAS': 1, 'vaccineThe Food and Drug Administration': 1, 'Realistic Expectations': 1, 'Win Goals': 1, 'Financial System\"nan': 1, 'Holding and Selling': 1, 'Scott Group': 1, 'Fintel Orbimed purchase](https://fintel.io': 1, 'OrbiMed Investors': 1, 'Long Term Tech Stock': 1, 'ADT Stock': 1, 'American Shared Hospital Services(AMS': 1, 'Hon Hai Precision Company': 1, 'Petco (WOOF': 1, 'Wedbush $': 1, 'Church Hill Capital': 1, 'the Depository Trust &': 1, 'GameStop Corp.’s': 1, 'MarchRobinhood Markets Inc.': 1, 'AMC Entertainment Holdings Inc.': 1, 'Bloomberg News': 1, 'Fidelity/Active Trader Pro': 1, 'assets](https://www.reuters.com': 1, 'US Dollar': 1, 'V.X.X': 1, 'F.S.R': 1, 'C.A.T': 1, 'N.A.K': 1, 'Bogle Three-Fund-Portfolio': 1, 'Oracles': 1, '🚀🌙 🐕': 1, \"ETF'sSo I\": 1, 'Social Media Activity[removed]': 1, 'SPXS': 1, 'the markets.[removed]': 1, 'Blow-Off Top': 1, 'UPRO': 1, 'AI Managed Funds[deleted': 1, 'CostI': 1, 'CLOUDFLARE INC': 1, 'MarchFor': 1, 'EOD Selloff': 1, 'HLT': 1, 'Unpopular Stock Opinions': 1, 'MondayAfter': 1, 'Melody VR': 1, 'MVR': 1, 'Q4 EPS Consensus': 1, 'PACB Long': 1, 'Marvell Technology Group Ltd.': 1, 'MRVL': 1, 'Buick': 1, 'cap=': 1, 'Bear Case/Open Discussion': 1, 'FAW': 1, 'BulletsLet’s': 1, 'COSTCO': 1, 'Billionnan': 1, 'LTM Rev': 1, 'LSF': 1, 'Amazon - AMC - BO': 1, 'Hawaiian Airlines Recovery PlayHere’s': 1, 'CMCSA': 1, 'GME SPOILER': 1, 'BIGGEST': 1, 'GMDA': 1, 'Root, Inc (ROOT': 1, 'UNA': 1, \"IPOI'm\": 1, 'COIN': 1, 'BMO Capital': 1, 'Imperial College': 1, 'the Dept of Defense': 1, 'Immune': 1, 'RIGL\\n\\nDrug Pipeline': 1, 'Updating weekly)Rigel Pharmaceuticals': 1, '\\\\~$700m': 1, 'Eli Lilly Partnership': 1, 'Rigel Pharmaceuticals - A': 1, 'RIP1': 1, 'Digital Turbine Inc.': 1, 'Ingles Markets': 1, 'IMKTA': 1, '| \\n  \\n': 1, 'Mastercard or Home Depot &': 1, 'Visa &': 1, 'BYDDY': 1, 'article](https://finance.yahoo.com': 1, 'Qualys’s': 1, 'Signio': 1, \"Business Insider's\": 1, 'VeriSign': 1, 'the Trustworthy Internet Movement': 1, 'Jason Zweig  \\n\\n&': 1, 'Credit Spread Options for Beginners': 1, 'Freeman Publication \\n\\n&': 1, 'Call, Put &': 1, 'Freeman Publications  \\n\\n&': 1, 'Live Nation Entertainment': 1, '\\\\~35\\n\\n': 1, '&gt;5mil\\n\\nIndustry P/E': 1, 'ABX': 1, 'Purpose Bitcoin[removed]': 1, 'MillionWater': 1, 'ZK International Looking Bullish': 1, 'DeFi': 1, 'GEICO': 1, 'VR &': 1, 'Diluted': 1, 'XLU': 1, 'Varnish](https://www.fastly.com': 1, 'Signal Science’s': 1, 'Arista': 1, 'Edge Compute Technology': 1, 'WAF': 1, 'Web Application Firewall': 1, 'Artur': 1, 'Slack, Shopify': 1, 'the Signal Science’s': 1, 'Secure@Edge': 1, 'Limited': 1, 'Value Investing': 1, 'Sub-Penny': 1, 'Vistra': 1, 'HOL - Astra[removed]': 1, 'Galileo Acquisition Corp': 1, 'BlackBarry': 1, 'Ford’s Sync': 1, 'GOOL': 1, 'QNX’s': 1, 'Netscape Navigator': 1, 'CarPlay': 1, 'SELLAS Life Sciences Group': 1, 'Ground-Floor': 1, 'Sunrise Consulting Group': 1, \"label='gme\": 1, 'LKCO': 1, 'TWC': 1, 'Spectrum Cable': 1, 'T-Mobile Sprint': 1, 'Video Services': 1, 'Charter Communications': 1, 'Time Warner Cable': 1, 'Blackrock and Lockeed': 1, 'Rocket and Satellite': 1, 'YoY\\n- Space Startups': 1, 'Poorman’s SpaceXIf': 1, 'EXROF Stock Targeted': 1, 'Garbage': 1, 'Maravai Life Sciences MRVI': 1, 'Scion Asset Management': 1, 'Kraft-Heinz': 1, 'Portfolio\\n\\n&': 1, 'Robinhood to': 1, 'RCKT': 1, 'the VanEck Social Sentiment ETF': 1, 'NEGATIVE': 1, 'the University of Georgia, College of Pharmacy': 1, 'Sunshine Biopharma Inc.': 1, 'SBFM': 1, '&amp;nbsp': 1, 'National Holdings Corporation](https://ir.brileyfin.com/2021-02-25': 1, 'Operating EBITDA': 1, 'Wassup': 1, 'contract!!https://imgur.com': 1, 'BGFV Earnings': 1, 'Bond-Stock Price Relationship and Asset Allocation[removed]': 1, 'MRE': 1, 'the Buena-Vista Meagher': 1, 'the Virgin Deposit': 1, 'Antler': 1, 'GSV - Merger/Acquisition PredictionNote': 1, 'Director/ Co-Founder': 1, 'the Railroad-Pinion': 1, 'Newmont Mining Corp.': 1, 'Nevada Gold Mine’s': 1, 'Goldcorp': 1, 'Lewis Project': 1, 'Paleozoic': 1, 'Battle Mountain Gold Inc': 1, 'the Lewis Project': 1, 'Barrick Gold Corporation': 1, 'Nevada Gold Mines': 1, 'GSV': 1, 'Ag': 1, 'GSV’s': 1, 'Havallah Sequence': 1, 'SALT': 1, 'Red Bull': 1, 'Copa di Vino': 1, 'Anheuser-Busch Network': 1, 'MMA': 1, 'SBEV': 1, \"Red Bull's\": 1, 'Skype/Google Hangouts': 1, 'https://www.jnj.com/johnson-johnson-announces-u-s-cdc-advisory-committee-recommends-first-single-shot-covid-19-vaccine-for-adults-18-and-older-in-u-s)and': 1, 'the Federal Reserve Jerome Powell': 1, 'the US Food and Drug Administration': 1, 'CTLT': 1, 'S3 Analytics': 1, 'Jefferies Financial': 1, 'Central Bank': 1, 'GameStop Inc': 1, 'Zoom’s': 1, 'EXCEPT': 1, 'HCMC - New Investor': 1, 'AMMO, Inc.': 1, 'Call Options vs Buying Stock[removed]': 1, 'Know About $ANTH?Back': 1, 'Anthera': 1, 'fuboTV': 1, 'Date](https://www.businesswire.com': 1, 'safe](https://insideevs.com/news/487821': 1, 'ID.4': 1, 'MOJO REPLAY ️️ MOJO #': 1, 'DYI': 1, 'Hollister Biosciences Inc': 1, 'HSTRF': 1, 'UPSIDE': 1, 'Mariner Research': 1, 'AttackSo': 1, 'Mariner': 1, 'US Agriculture': 1, 'APPF': 1, 'GT': 1, 'the Bogleheads Three Fund Portfolio': 1, 'Bam Bam Resources': 1, 'Seresto/Elanco/Bayer Pet Collars Causing Fatalities - Likely Impact On Stock?[deleted]': 1, 'HALO': 1, 'ABEV': 1, 'the Total Market': 1, 'RG/PM (Revenue Growth': 1, 'FX': 1, 'NIOgang': 1, 'The Rock’s New Energy Drink[removed]': 1, 'Options on Owned Stock That Has Fallen in Price[removed]': 1, 'STPK DD': 1, '$REPX Insane': 1, 'Sportify': 1, 'Hello Pal International Inc.': 1, 'KemPharm, Inc.': 1, 'Selling Mags to Selling': 1, 'PCBT Merger': 1, 'Authorities like Central Banks': 1, 'RED': 1, \"Future and Networks Division's\": 1, \"the People's Bank of China\": 1, 'Banking and Insurance Regulatory': 1, 'CommissionGuo': 1, 'Communist Party': 1, 'AI Signals': 1, 'SHORTING REGIONS STOCK &': 1, 'BP (Oil and Gas': 1, 'Unveils Electric Van Taking to Public Roads': 1, 'TCO': 1, 'Banning': 1, 'Hopper': 1, 'DraftKings Introduce App IntegrationDISH Network': 1, 'Quantify Viral': 1, 'Options RKT &': 1, 'CXSE': 1, 'BOX&amp;ty': 1, 'JWN&amp;ty': 1, 'Oscar Health\\n\\n&': 1, 'Vegas': 1, 'APO': 1, 'WEN&amp;ty': 1, 'the Venetian Resort Las Vegas': 1, 'Apollo Global Management': 1, 'LVS\\n\\n&': 1, 'May\\n\\n&': 1, 'WEN': 1, 'LVS&amp;ty': 1, 'R-Ky.': 1, '$BSV BitcoinSV': 1, 'MRkR': 1, 'EPS P/E': 1, 'CCEL': 1, 'Sysco Corp.': 1, 'Chinavirus': 1, 'HF Foods Group': 1, 'Asian Restaurant Supply Company - HF Foods Group - HFFG Asian Restaurant Supply Company - HF Foods Group - HFFG': 1, 'B &': 1, 'CTC Food': 1, 'Global Holdings': 1, 'Sysco': 1, 'the Board': 1, 'Quick COVID-19 Vaccine': 1, 'Never Nice - Novavax Appeals': 1, 'Alchemist Capital Partner Korea': 1, 'DB HiTek': 1, 'MagnaChip Semiconductor MX': 1, 'MagnaChip Semiconductor': 1, 'Credian Partners': 1, 'SK Hynix Inc.': 1, 'MagnaChip': 1, 'Berkshire Hathaway’s': 1, 'Google News': 1, 'CRIS &': 1, 'iGaming': 1, 'DIS &': 1, 'MZL': 1, 'the U.S. Food  &': 1, '5thGilead Sciences, Inc.': 1, 'Drug Administration': 1, 'KTE': 1, 'Biologics License  Application (sBLA': 1, 'Trading Halted': 1, 'LUMN Going': 1, 'ORA - Ormat Technologies': 1, 'Denison mines[removed]': 1, 'Gex Management Inc': 1, 'BerkshireHathway': 1, 'Denali Therapeutics': 1, 'Catalyst Pharmaceuticals #CPRX[removed]': 1, 'IGO Limited': 1, 'ANGH': 1, 'CRWD HON NEE NVDA': 1, 'FSKAX AARK VTWG': 1, 'Advice Needed - Options/ Spreadnan': 1, 'Reddit January’s': 1, 'Spotify of the Middle East/MENA Regionnan': 1, 'PTN': 1, 'Palatin Technologies': 1, 'Tough Times': 1, 'GOGO Stock': 1, 'MITJF - Mint[deleted]': 1, 'Ocean County Landfill Corp': 1, 'Percent': 1, 'FFNTF': 1, 'lol?I': 1, 'Laser': 1, 'SHTF': 1, 'Financial Samurai': 1, 'Jinan University Press': 1, 'University Press': 1, 'JD.com’s': 1, 'Bond Yields': 1, 'Red Market': 1, 'SAVA - Stock of': 1, 'TD Bank Acct': 1, 'Palantir Institutional': 1, 'APEN': 1, 'Apollo Endosurgery #': 1, 'GOGO Inc': 1, 'ToS.\\n4': 1, 'EXT': 1, 'Drugmaker Merck': 1, 'DraftKings’': 1, 'Dish Network': 1, 'Sub': 1, 'Kinross Gold Corporation': 1, 'NEM': 1, 'Newmont Corporation': 1, 'Guardant Health': 1, 'the Liquid Biopsy Industry': 1, 'Clearpoint Neuro Inc.': 1, 'Wellness': 1, 'Salesforce (CRM)?[deleted]': 1, 'Possible Tech Boom': 1, 'ARK Just': 1, 'IOU': 1, 'Quantfury': 1, 'YGMZ - Shorted': 1, 'MEME STOCK UWMC': 1, 'Culper Research': 1, 'Quarterly      ': 1, 'Livongo’s': 1, 'Ontrak, Inc.': 1, 'Catasys, Inc.': 1, 'State Street': 1, 'Predict-Recommend-Engage': 1, 'OTRK': 1, 'ArrowMark': 1, 'Livomgo': 1, 'Non-Convertible Cumulative Perpetual Preferred Stock\\n*': 1, 'Culper': 1, 'Aetna': 1, 'LifeDojo Inc.      ': 1, 'HIFI': 1, 'FinanceLike': 1, 'STLC': 1, 'Schwab’s': 1, 'Motley Fool 10x Recommendation': 1, 'the Motley Fool Service': 1, 'Warehouse': 1, 'SPWH': 1, 'Sector / Industry / %': 1, 'Biocept': 1, 'GENE - Review': 1, 'Morgan Stanley](https://electrek.co/2021/03/03': 1, 'Financial Suicide': 1, 'Splunk': 1, 'Greene Concepts': 1, 'AAPL MSFT': 1, 'stocksI’ve': 1, 'EV Drone': 1, 'NUE’s': 1, 'Steel Dynamics (NYSE': 1, 'Nucor Corporation': 1, 'Industrial Diversification': 1, 'Stag Industrial Inc NYSE': 1, 'STLD': 1, 'FTAC': 1, 'Progressive': 1, 'LifeMD': 1, 'NavaMD': 1, 'Keeps': 1, 'the London Metal Exchange': 1, 'Norilsk Nickel': 1, 'Travel/Banking/Energy': 1, 'Banks/Hospitality/Travel/Energy': 1, 'Trading USA': 1, 'Mini-Tech': 1, 'Data Scientist': 1, 'HYG': 1, 'AGG': 1, 'BLV': 1, 'ICF': 1, 'Lower Growth Stocks?Title': 1, 'the Toronto Dominion Bank': 1, 'Bond Yields - Maths': 1, \"Penn National's\": 1, 'Buzz Holdings': 1, \"Portnoy's Barstool Sports\": 1, 'Barstool’s': 1, 'Vectors Social Sentiment ETF': 1, 'Leveraged StockHi': 1, 'Montley Fool Membership???[removed': 1, 'Soccer - Stock': 1, 'SQ': 1, 'Jell-O': 1, 'Beyond Meat': 1, 'Maxwell House': 1, 'Capri Sun': 1, 'Heinz': 1, 'Kraft Mac &': 1, 'Kraft Heinz Corporation': 1, 'SLGG TOOOO THA': 1, 'Shill SEC': 1, 'LPL Financial 2015': 1, 'INSIGNIFICANT': 1, 'Boards': 1, 'HF bots': 1, 'accountI’ve': 1, 'Inseego': 1, 'BYRN': 1, 'TRXC ASENSUS SURGICAL MAKE IT BIG': 1, 'Walmart /': 1, 'NIO 49 percent': 1, 'JAC Motor': 1, '$NIO Holdings Ltd.': 1, \"JAC NIO's\": 1, 'Changan Automobile': 1, 'Amazon Stock PriceIt': 1, 'the Genius Group of Reddit Traders and': 1, 'RMNI': 1, 'Diversy Fund': 1, '~10%': 1, 'Chamath’s': 1, 'WHEAT': 1, 'COW': 1, 'MSRP': 1, 'Canadian Solar Inc': 1, 'Maravai Life Sciences': 1, 'the House on Feb 2, 2021': 1, 'UndervaluedAcademy Sports &': 1, 'Dick’s Sporting Goods': 1, 'Academy Sports + Outdoors': 1, 'NICS Firearm Background Checks': 1, 'Academy Sports and Outdoors': 1, 'Academy Sports': 1, 'Academy Sports and Outdoors, Inc.': 1, 'LISA': 1, 'Super league': 1, '$SNRS Sunrise Consulting Group': 1, 'Super Gaming League Inc.': 1, 'Pizza-Twilio’s': 1, 'Pizza-Twilio': 1, 'mGage': 1, 'Italian Twilio': 1, 'me?[deleted]': 1, \"J. Powel's\": 1, 'NOWWWWWWW': 1, 'BNSF Railroad': 1, 'BNSF': 1, 'DreamWorks': 1, 'DreamWorks Animation SKG': 1, 'WholeFoods': 1, 'KMPH FDA': 1, '\\\\~60K': 1, 'LMND’s': 1, 'BondsHey': 1, 'Blue Chip Stocks': 1, 'JetBlue': 1, 'Next Stops](https://imgur.com/AHD6E2X': 1, 'Vale DD - Potential': 1, 'VALE S.A': 1, 'Jinchuan Group': 1, 'Outstanding': 1, 'the ARK Funds': 1, 'March19 Calls)I': 1, 'SPY march19': 1, 'Clean Energy ETF Recent Valuations': 1, 'PBB': 1, 'ALC': 1, 'AAPL calls?I’m': 1, 'Robinhood to Interactive BrokersAny': 1, 'ChargePoint Stock[removed]': 1, 'GMEV': 1, 'eToro?[removed]': 1, 'Notice a Bear Market': 1, 'the Latest Trend': 1, 'Baron': 1, 'Kimbal Musk)[Billionaire': 1, 'NYSE GROUP': 1, 'the NYSE Group Short Interest Data': 1, 'Software For Tracking Stock': 1, 'Robindhood': 1, 'TradeZero': 1, 'Renewables Energy Group': 1, 'Morgfan Stanley': 1, 'ADPT': 1, 'American Eagle Outfitters': 1, 'STRONG-BUY\\n': 1, 'Visuals': 1, 'FLIPKART': 1, 'the Fool Stock Advisor?[removed]': 1, 'XQQ': 1, 'AVRO': 1, 'Haptic Feedback': 1, 'Clarivate': 1, 'SenseArena': 1, 'Thoughts?AMD': 1, 'Fidelity, Sofi and Webull\\n\\nSoFi': 1, 'LGI': 1, 'Ouchie': 1, 'Revenues': 1, 'Unmanned Systems': 1, 'Space, Satellite Communications and Unmanned Systems': 1, 'Security Solutions': 1, 'Kratos Defense &': 1, 'some Subsonic Aerial Targets': 1, 'the Champions League': 1, '@376': 1, 'TransAmerica': 1, 'Vanguard Total Stock Market': 1, 'SGEN - Amazing': 1, 'LABD ON DEEEEEEEEEEECKJournal': 1, 'TMHC': 1, 'BLDR - Uptrend': 1, 'Founder': 1, 'the Central Intelligence Agency': 1, 'Vital Farm’s': 1, 'Cal-Maine Foods': 1, 'the Organic Egg Farmers of America': 1, 'B-Corp': 1, 'Long Term SPXL': 1, 'BDRBF DD': 1, 'Trinity Biotech': 1, 'Long Term Stocks': 1, 'AI Stock to Explode[removed]': 1, 'Sells Chips': 1, 'Schwabhttps://intelligent.schwab.com/page/ETF-selection-process\\n\\n': 1, 'MRO SOLID': 1, 'Order Type': 1, '+ Tech Sell': 1, 'SEEL](https://uk.finance.yahoo.com/quote/SEEL': 1, 'ARKInvest_122019_ESG-Policy.pdf': 1, 'Process &': 1, 'Taiwan Semiconductor Manufacturing Company -': 1, 'TSMC’s': 1, 'Innovation Fund': 1, 'IM Academy': 1, 'Supercharging Network': 1, 'Untapped': 1, 'Global Electric Vehicle': 1, 'FSD Beta': 1, 'Tesla  \\n\\n# Fundamental': 1, 'Nio, Lucid': 1, 'Withstand the Economic Uncertainties': 1, 'Overreliance on Chinese Market\\n\\nOne-fifth': 1, 'Car/Renewable Energy': 1, 'Astra Zeneca[removed]': 1, 'TL': 1, '$&': 1, 'FXNAX': 1, 'HCC': 1, 'StarMine': 1, 'StarMine Equity Score': 1, 'StarMine Score': 1, 'WSM': 1, 'BEAZER HOMES USA': 1, 'JACK': 1, 'ATKR Atkore': 1, 'CAR-MART': 1, 'LOGI Logitech\\n\\nMaterials': 1, 'ASO Academy\\n\\nCons': 1, 'CRMT': 1, 'ESGR': 1, 'HAVERTY FURNITURE (HVT': 1, 'KORSUVA': 1, 'U.S. FDA': 1, 'DIV': 1, 'the Moon 🚀': 1, 'VLXC': 1, 'the United States Food and Drug Administration': 1, 'Whiting Petroleum': 1, '$EYES FDA': 1, 'US Stock Market': 1, 'Walletinvestor.com': 1, 'Forecast System': 1, 'Chugai Pharmaceutical Co Ltd - ADR': 1, 'The Pre-Closing Dividend': 1, 'the Pre-Closing Dividend': 1, 'the Company’s Board of Directors': 1, 'PED Stocks Discussion[removed]': 1, 'Apple 🍎Interesting': 1, 'MTOR DD': 1, 'MTOR': 1, 'Lesser': 1, 'SunHydrogen': 1, 'Aercap': 1, 'Dow Jones &': 1, 'Company, Inc.': 1, 'iPod': 1, 'Pegatron': 1, 'MR/AR': 1, 'Apple Arcade': 1, 'Sonos Inc Financial Report': 1, 'Sonos': 1, 'the Wash-Rule For': 1, 'the Wash-Rule': 1, 'exoneration](https://www.washingtonpost.com': 1, 'PIN': 1, 'CARA': 1, 'PayLease': 1, 'Draftkings, Roblox': 1, 'Betfair': 1, 'Twitch, Youtube': 1, 'Paysafe’s': 1, 'ApplePay': 1, 'Dun &': 1, 'Fidelity National Information Services': 1, 'Periodt': 1, 'Nucor': 1, 'Numbers': 1, 'Phantom': 1, 'Buy\\n\\nMorgan Stanley': 1, 'Morgan Stanely': 1, 'Cannaccord Genuity': 1, 'Digital Turbine': 1, 'Personalis': 1, 'GRIL': 1, 'Tech/Growth/NASDAQ': 1, 'Tech/Growth': 1, 'DIT': 1, 'Telegram': 1, 'AH POP THINKING IT': 1, 'CramerThis': 1, 'OSUR': 1, 'IntelliAgent': 1, 'PHENOMINAL': 1, 'KV Core': 1, 'Naberly, Fathom': 1, 'FTHM': 1, 'Red Barn Real Estate on 3/5/2021': 1, 'Naberly Solutions': 1, 'FTHM Fathom Realty DD**My': 1, 'EARNINGS': 1, '3/2/2021 Fathom': 1, 'Fathom': 1, 'AMC AH': 1, 'DOGECOIN BUY[removed]': 1, 'Diamondback Capital': 1, 'AirTags': 1, 'CLNE Q4': 1, 'United States Oil Fun LP': 1, 'Hone Depot': 1, 'Trend Trading for Dummies': 1, 'NCSL': 1, 'Speculation': 1, 'PAVE': 1, 'the Democratic party': 1, '--$TT - Trane Tech': 1, 'US Infrastructure Development': 1, 'Ideal': 1, 'Relax!I': 1, 'LONGS': 1, 'DISH': 1, 'FuboTV Investors Should Celebrate': 1, 'Best Growth Stock': 1, 'China State': 1, 'Washington State New Capital Gains Tax[Seattle': 1, 'Robingood': 1, 'price](https://i.imgur.com/cyHjvYn.png': 1, 'Shwab': 1, 'Symbol - U': 1, 'Telco:*': 1, 'Vaneck': 1, 'Goldman Sachs EVP': 1, 'CEDE': 1, 'Cede': 1, '9**](https://smithonstocks.com/part-10': 1, 'GME STOCK': 1, 'Tutanota LLC': 1, 'FINTECH': 1, 'Canaian FINTECH': 1, 'Oragenics INC': 1, 'Bank Sweep': 1, 'Xbox and Playstation': 1, 'Mario': 1, \"NTDOYI've\": 1, 'Cj0KCQiAs5eCBhCBARIsAEhk4r4RbOf4yLUdgHB7J7Ixu2JsDsAEIbRG5hSjWBj3B8bgIJz6UsjD61MaAjnBEALw_wcB&amp;pageci=5b3660be-2c5a-4a93-90cd-4259139ee94e': 1, 'CapEcon': 1, 'TLT': 1, 'FED Land': 1, 'FXY': 1, 'TIPS': 1, 'FAIT': 1, 'Yen / \\\\*NQ': 1, 'GLD/TLT': 1, 'EuroDollars': 1, 'AIT': 1, 'Growth /': 1, 'Uncontrolled': 1, 'Q4/Q4': 1, 'Sabre Technology': 1, 'SeatGuru.com': 1, 'Agoda': 1, 'Sabre’s': 1, 'The Sabre Travel AI': 1, 'Orbitz': 1, 'Travelocity': 1, 'Hotels.com': 1, 'Expedia and Google Travel': 1, 'Caesars Entertainment\\n\\n': 1, 'the Global Distribution System IT': 1, 'Travelport': 1, 'Priceline': 1, 'Business Travelers': 1, 'Tripadvisor.com': 1, 'SABR Google partnership](https://www.sabre.com': 1, 'Cheaptickets.com': 1, 'HIBL Direction': 1, 'Aslan': 1, 'ICS': 1, 'JBI': 1, 'J.B. Hunt Transport Services': 1, \"J.B. Hunt Transport Services'\": 1, 'QuarterEquities': 1, 'Dedicated Contract Services': 1, 'Integrated Capacity Solutions': 1, 'Final Mile Services': 1, 'Daiwa Securities Group Inc.': 1, 'Sigma Planning Corp': 1, \"Zacks Investment Research's\": 1, 'JBHT': 1, \"J.B. Hunt Transport Services's\": 1, 'Symmetry Partners LLC': 1, 'J.B. Hunt Transport Services, Inc.': 1, 'Los Angeles Capital Management &': 1, 'Equity Research Inc.': 1, 'the US Senate Committee on Banking, Housing': 1, 'COMMITTEE ON BANKING': 1, 'Founder &': 1, 'Milken Institute Center for Financial Markets': 1, 'Mercatus Center': 1, 'OAP': 1, 'Committee’s': 1, 'Adasina Social Capital': 1, 'The New School': 1, 'Retail InvestingFor': 1, 'Duke University School of Law': 1, \"Urban Affairs'\": 1, 'POTENTIONAL PDT': 1, \"Apple iPhone Will Feature 'Unibody' Design\": 1, 'iPhone’s': 1, 'AppleInsider': 1, 'Apple iPhones': 1, 'MacRumors': 1, 'Commercial EV': 1, 'BioAmmo': 1, 'Patented Biodegradable Shotgun Shells': 1, 'Sell Cutting Edge &': 1, 'Exclusive U.S. Distribution Agreement': 1, 'Assembly': 1, 'Extracurricular': 1, 'Taliban': 1, \"Apple TV+ Partners With Women's\": 1, 'Malala Fund': 1, 'the Oxford Union': 1, 'Oxford University': 1, 'Apple’s 10': 1, 'Live Stocks &': 1, 'MSCI World': 1, 'uCloudLink - Future of': 1, 'Sass': 1, 'UCL': 1, 'P/E?[removed]': 1, 'AMC YOLO': 1, 'Vwagy': 1, 'VOW': 1, 'the Fixed Range and Session Volume': 1, 'HVN': 1, 'the Point of Control': 1, 'LVN': 1, 'the TA Educational Series': 1, 'MDB': 1, 'The Point of Control!': 1, 'VPVR': 1, 'Stochs': 1, 'GE?I': 1, 'CPB': 1, 'OBV': 1, 'RSA': 1, 'DayTo': 1, 'CHFS - Any': 1, 'US ETFS': 1, 'RedditHello': 1, 'Validea Investment Models Based on Investing Gurus[removed]': 1, 'Copenhagen Infrastructure Partners': 1, 'PNM Resources’': 1, 'Avangrid, Inc.': 1, 'PNM’s': 1, 'a Record of Decision': 1, 'article](https://www.washingtonpost.com': 1, 'Interior’s Bureau': 1, 'PNM Resources': 1, 'Park City Wind': 1, 'AGR': 1, 'the U.S. Bureau of Ocean Energy Management': 1, 'PNM-Resources-Shareholders-Approve-Proposed-AVANGRID-Merger': 1, 'AVANGRID': 1, 'the National Ocean Industries Association': 1, 'PNM': 1, 'the Final Environmental Impact Statement': 1, 'the Bureau of Ocean Energy Management': 1, 'National Ocean Industries Association': 1, 'AVANGRID, Inc.': 1, 'Payne Capital Management': 1, 'DAVA': 1, \"Walt Disney Co.'s\": 1, 'BMO Capital Markets': 1, 'Morgasn Stanley': 1, 'PagSeguro Digital': 1, 'Bank of AMerica': 1, 'S-1': 1, 'Canoo’s': 1, 'vehicle](https://www.reddit.com': 1, 'Options Trading Confusion?[removed]': 1, 'Fidelity ATP': 1, 'INSEEGO': 1, 'BNGO GOING TO': 1, 'General Public': 1, 'Del Taco Restaurants Inc.': 1, 'Tacos': 1, 'Del Taco': 1, 'Fast Food': 1, 'Franchise (Fresh Flex': 1, 'TACO': 1, 'Bullish future!TACO Earning Report': 1, 'IVIV': 1, 'AEye': 1, 'STMicroelectronics': 1, 'INVZ': 1, 'CGRO': 1, 'NNOX': 1, 'SINT': 1, 'RobinHood Referral': 1, 'FUN': 1, 'iStars': 1, 'Assets($3.1B': 1, 'Goldman’s PT': 1, 'Ally Investments - Sell': 1, 'Turquoise Hill Resources': 1, 'B. Riley Financial?I’ve': 1, 'NFP': 1, 'Lam Research': 1, 'kid?I': 1, 'Cresset Asset Management LLC': 1, 'Announce Earnings': 1, 'Truist Financial Corp': 1, 'Denali Advisors LLC': 1, 'ShareAnalysts': 1, \"the Thomson Reuters'\": 1, 'LPL Financial LLC': 1, 'Ellevest Inc.': 1, 'Transportation Logistics': 1, 'U.S.-Mexico': 1, 'Cresset Asset Management': 1, 'Credit Suisse Group': 1, 'The Transportation Logistics': 1, 'LSTR': 1, 'CSSPX': 1, 'LVL2': 1, 'S-1’s': 1, 'S-1 on Stocktwits': 1, 'Canadian Imperial Bank of Commerce': 1, 'BCE': 1, 'BCE Inc': 1, 'Toronto-Dominion Bank': 1, 'Taiwan Semiconductor Mfg. Co. Ltd': 1, 'BMV': 1, 'Bank of Nova Scotia': 1, 'Bell Canada': 1, 'Nano Dimension NNDM[removed]': 1, 'RBXL': 1, 'Fidelity - Differences &': 1, 'NVTA': 1, 'ite.to i3 Energy': 1, 'Small/': 1, 'Inpixon': 1, 'FPRX': 1, 'AAR': 1, 'Prospect Capital': 1, 'ASRT CatalystsAs': 1, 'INVO Jumping': 1, 'US Video': 1, 'Frontier Developments &': 1, 'GE Reverse Stock Split': 1, 'New Jersey Technology Business Tax Certificate Transfer': 1, 'Receive': 1, 'the New Jersey Division of Taxation': 1, 'the New Jersey Commission': 1, 'NJEDA': 1, 'Non-Dilutive Funding Through New Jersey Technology Business Tax Certificate Transfer Program\\n\\nSource': 1, \"the New Jersey Economic Development Authority's\": 1, 'Soligenix, Inc.': 1, 'the Wall Risk:*': 1, 'Money Flow Index': 1, 'MFI': 1, 'Elkem $': 1, 'B. Riley Financial': 1, 'Three Bank Certifications': 1, 'GCLT': 1, 'Schwinn': 1, 'SalesHey': 1, 'JRNY': 1, 'XELA Stock Price[removed]': 1, 'Recent HacksWe': 1, 'WHY': 1, 'BSQR - BAYSQUARE': 1, 'Bitfarms Ltd.': 1, 'GE Technical Analysis': 1, 'SHOWTIME': 1, 'Paramount Plus': 1, 'NOK ON THE RISE![removed]': 1, 'the Airbus Group': 1, 'BMCS Sumcoin Company': 1, 'RBLX Set To Open': 1, 'Amazon \\n\\n': 1, 'Tootsie Roll Industries Inc.': 1, 'Amazon\\n\\n': 1, 'Disney Stock': 1, 'OPGEN': 1, '2021!Hemostemix Inc.': 1, 'Worldwar': 1, 'Cielo Waste Solutions': 1, 'BioDiesel': 1, 'this Canadian Company': 1, 'Cielo Waste Solutions Corp - Emerging Canadian Company': 1, 'BHC +5%\\n\\n': 1, 'the American Association for Cancer Research': 1, 'AI/ML': 1, 'DevOps': 1, 'BI': 1, 'Rangan': 1, 'Globus': 1, 'Ford Motor Company StocksSo': 1, 'the Interactive Brokers': 1, 'Growth': 1, 'Castor Maritime Inc.': 1, 'JUST ENERGY GROUP': 1, 'LY-CoV16': 1, 'Eli Lilly and Company': 1, 'SVB Leerink Webcast': 1, 'AbCellera': 1, 'LLY - Cure for Covid? -': 1, 'the Phase 3 Trial': 1, 'BYDDF': 1, 'Disney / ESPN / HULU': 1, 'NHL &': 1, 'Price/Free-cash-flow?I': 1, 'GME 🚀🚀': 1, 'Gamestock at Robinhood!': 1, 'Trolling': 1, 'ATN': 1, 'ATN International': 1, 'Alaska Communications': 1, 'FPI': 1, 'TWith': 1, 'Inari Medical': 1, 'Macquarie': 1, 'The National Hockey League': 1, 'ARK Innovation': 1, 'NARI': 1, 'Fidelity/Merrill Lynch': 1, 'XELA Stock': 1, 'The European Commission': 1, 'Ticker Symbol': 1, 'Eilers &': 1, 'BHP Moves Nickel': 1, 'Canada Emerges': 1, '$AVEO Stock': 1, 'SHOPIFY INC - CLASS': 1, 'SQUARE INC - \\n3': 1, 'Gray Television': 1, 'World Wrestling Entertainment': 1, 'BATRA': 1, 'The Roundhill Pro Sports': 1, 'Liberty Braves Group': 1, \"Dick's Sporting Goods\": 1, 'Fandom Sports Media Corp.': 1, 'PeriodFeb': 1, 'UpdatedMar': 1, 'Pieridae Energy': 1, 'QQQJ/QQQM': 1, 'VIS': 1, 'ITRI': 1, '3/11/21 - Not Financial Advice': 1, 'CVNA - Great': 1, 'SDIV)Hi': 1, 'INSANELY CHEAP': 1, 'TNT': 1, 'AXTI': 1, 'Quest Diagnostics': 1, 'Quest Quanum': 1, 'Corp': 1, 'Battery Technology': 1, 'KraneShares Electric Vehicles &': 1, 'EV Investment &': 1, 'Me)?Hi': 1, 'Legalization of Marijuana?Hello': 1, 'Khiron Life Sciences': 1, 'Disney Trip': 1, 'SDC - Smile Direct': 1, 'ELIXIR': 1, 'Rite Aid': 1, 'The Prescription Benefits Management': 1, 'PANTIR': 1, 'TERRIBLE': 1, 'HEXO Stock': 1, 'a Financial Advisor': 1, 'Great Forbes Article Explaining': 1, 'Projekt': 1, 'Goldman Sach': 1, \"Charlie's Holdings\": 1, 'Virtundi Research Video': 1, 'the PDT/Free Ride': 1, 'NVFY': 1, 'GME n': 1, 'Retail Select Industry': 1, 'RO-STONK': 1, 'BTCS-Drives-Near-Term-Revenue-Growth': 1, 'BTCS Closes': 1, '2014](https://www.globenewswire.com/Tracker?data=78zY89XQ8CjjIhHEotQyI2pnI-XKsy7UsPzoupFXMjsJ-750CaYQCw0lGjjgy24OmgA-f7MlDvCN2tMCC_uu-gnMV1qa-mvMasnGua701JSOAG5Bo2A8O406SiPPFwqX1340st_o4grL3gsynCTsow==': 1, 'release/2021/03/01/2184392/0': 1, 'BTCS](https://www.globenewswire.com/Tracker?data': 1, 'BTCS': 1, '2017](https://www.globenewswire.com/Tracker?data': 1, 'Healthier Choices Management Corp.': 1, 'LANXESS': 1, 'Doosan': 1, 'Post-Covid': 1, 'SYK, TRVN, ETN, C': 1, 'SYK &': 1, 'HHC': 1, 'EBT': 1, 'Mullen Technologies Announces Purchase of Advanced Engineering and Manufacturing Center': 1, 'Portfolio Tracker': 1, 'Yeezy': 1, 'MILL': 1, 'New Horizons': 1, 'Hyundai Motor Company': 1, 'Hon Hai Precision Industry Co. Ltd': 1, 'Korea’s': 1, 'Nissan Motor Co.': 1, 'Playbook On Production $': 1, 'EDIT': 1, 'sight](https://www.benzinga.com': 1, 'Call Options adviceLooking': 1, 'Amc': 1, 'Petroneft Resources': 1, 'Soccer - Stock!I': 1, 'Skoda Auto': 1, 'Scania': 1, 'SCAMMER': 1, '&lt;a href=\"[http://www.reddit.com': 1, 'QUANTUM COMPUTING': 1, 'Bosch, Hewlett Packard Enterprise': 1, 'Google Ventures': 1, 'Dividend Announced - More': 1, '👋': 1, 'LG UPlus': 1, 'Giganoob Small-Time Trading': 1, 'LIFO[removed]': 1, 'VIIIX': 1, 'Developed Markets': 1, 'Ireland’s': 1, 'Big Makeover Continues': 1, 'GNUS Marvel': 1, 'GNUS!🚀🌖': 1, 'NAT - Price': 1, 'Chart Analysis[removed': 1, 'Yield Curve Control': 1, 'MCK &': 1, 'DOV': 1, 'High Growth': 1, 'Mercedes S': 1, 'ECARX': 1, 'Brands Awards': 1, 'US10YT': 1, 'ROKU Express': 1, 'Sharp': 1, 'Amazing Fire': 1, 'Nvidia Shield': 1, 'Google Chromecast': 1, 'EOY 2020 Roku': 1, 'Google/Amazon/Facebook': 1, 'Surface': 1, 'UI/UX': 1, 'OneView': 1, 'the ROKU Channel': 1, 'OneView Ad': 1, 'ARPU Roku': 1, 'AVA': 1, 'Q4 for Roku': 1, 'Robot Blocks': 1, 'Robots Building Education': 1, 'ROBE': 1, '🚀🌙💰': 1, 'Therapeutics': 1, 'SKDI': 1, 'Strong Thursday Night Auction Results @jctb1[removed]': 1, 'Non-Core Wireless': 1, 'SMC Entertainment': 1, 'AnalysisHi': 1, 'Tillray': 1, 'Cartels': 1, 'Burlington Stores': 1, 'KMPR': 1, 'Roblox Corp': 1, 'Morgan Stannley': 1, 'Roblox for ARK Next Generation Internet ETF': 1, 'GECAS': 1, 'Pantheon Macroeconomics': 1, 'The Department of Labor': 1, 'AerCap Holdings': 1, 'Kemper': 1, 'Crowdstrike Holdings': 1, 'Phase III': 1, 'the NY Times': 1, 'Hexa-X 6G Project\\n': 1, 'WEG Motor Manufacturer': 1, 'LG Uplus': 1, \"Fortum's\": 1, 'Risks/Cons': 1, 'Alcatel-Lucent': 1, 'Dotcom': 1, 'Electric Private Network': 1, 'Mainland 5G Network': 1, 'Capital Markets Day': 1, 'Telecommunications R&amp;D Center\\n': 1, 'Nippon Steel': 1, 'Nokia 2020': 1, 'Samsung\\n*': 1, 'Pekka Lundmark': 1, 'Challenge - Update': 1, 'GunBroker.com’s': 1, 'Gunbroker': 1, 'ContractsMay': 1, 'TilrayCurrently': 1, 'The MOST Shorted Stock': 1, 'debt,](https://en.wikipedia.org': 1, 'Analyst Ratings': 1, 'Stock Rover': 1, 'the $21k': 1, 'UNFI &': 1, 'BYND &': 1, 'the Department of Defence': 1, 'Histogen-Announces-Successful-Completion-of-its-Merger-with-Conatus': 1, 'Financings': 1, 'Canfield’s': 1, 'Emricasan': 1, 'Histogen-Strengthens-Board-of-Directors-with-Appointment-of-Industry-Leader-Susan-Windham-Bannister-Ph-D.html))([Her': 1, 'Patients Anticipated': 1, 'Histogen-Reports-Fourth-Quarter-and-Year-End-2020-Financial-Results-and-Provides-Business-Update.html': 1, 'the Peer Reviewed Orthopedic Research Program': 1, 'Histogen': 1, 'Trial Initiation for Cartilage Regeneration in': 1, 'Proof](https://finviz.com/quote.ashx?t': 1, 'Investigational New Drug': 1, 'the Knee Anticipated': 1, 'Dexcom’s': 1, 'J.P.’s': 1, 'the Twentieth Century': 1, 'VXUS': 1, 'the Panic of 1907': 1, 'Morgan': 1, 'Amazon AWS': 1, 'Global Transportation Technology Group': 1, 'SystemPlus': 1, 'ISO 26262 Functional Safety ASIL-D': 1, 'EV Charging Network': 1, 'TTR': 1, 'Texas Hold': 1, 'DNMR Bio-Plastics[removed]': 1, 'Super Bull': 1, 'Novartis': 1, 'Rblx': 1, 'Fifa': 1, 'Red Dead': 1, 'TES': 1, 'Minecraft': 1, 'VWAPY': 1, 'Stellantis NV': 1, 'BULLTRAP': 1, 'Custodial Parent': 1, 'THE NEXT BIG THING': 1, 'ARKK ARKK ARKK': 1, 'Rocket’s': 1, 'CCX': 1, 'KLEIN': 1, 'GIDMF': 1, 'The One Percent': 1, 'American Dream': 1, 'FoxBusiness': 1, 'ADS': 1, 'Lordstown MotorsLordstown': 1, 'CPNG': 1, 'PANASONIC': 1, 'Screenshot](https://i.imgur.com/ywisn6b.png': 1, 'FHS': 1, 'STOCKMARKET RECAP': 1, 'Castor Maritime[removed]': 1, 'Cook &': 1, 'Gainey McKenna &': 1, 'Next Generation Delivery Vehicle': 1, 'Egleston': 1, 'Workhouse (WKHS': 1, 'Firm': 1, 'Defendants': 1, 'An Undervalued Fintech Company With Strong Momentum/Growth Potential[removed]': 1, 'Sundial Gorwers': 1, 'Best Stock Ticker Symbol - BOTY[removed]': 1, 'WeChat': 1, 'Jpow': 1, 'NPC': 1, 'S1': 1, 'Bear Weekly Review': 1, 'GGP &': 1, 'JETS.JETS': 1, 'Oracle': 1, 'British American Tobacco Partnership': 1, 'Ares Capital': 1, 'a Business Development Company': 1, 'The Zacks Consensus Estimate': 1, 'Seaworld Overvalued - SEAS](https://www.reddit.com': 1, 'SeaWorld Orlando': 1, 'SeaWorld': 1, 'PartSource': 1, 'Canadian Tire Corporation, Limited': 1, 'Living, Playing, Fixing': 1, 'CTC': 1, 'Hockey Experts': 1, 'Sports Experts': 1, 'NuPort Robotics': 1, 'the Ontario Government': 1, 'National Sports': 1, 'the Government of Ontario': 1, 'Pro Hockey Life': 1, 'NuPort': 1, 'Intersport': 1, 'the Ontario Centre of Innovation': 1, 'NuPort Robotics Inc.': 1, 'The Autonomous Vehicle Innovation Network': 1, 'Intelligent Automation': 1, 'Seasonal &': 1, 'First Automated Heavy Duty Trucking': 1, 'Cari Covent': 1, 'Commercialize Canada’s': 1, 'SportChek': 1, 'Canadian Tire Corporation': 1, 'Automotive and': 1, \"NuPort Robotic's\": 1, 'Canadian Tire': 1, 'BRB-K': 1, 'NASDAQ-100': 1, 'Applovin Core Technologies': 1, 'AppLovin': 1, 'Applovins': 1, 'AppLovin’s S-1': 1, 'AppDiscovery': 1, 'Core Technologies': 1, 'SenseTower': 1, 'Degiro &': 1, 'Boston Beer Company': 1, 'SEO': 1, 'Kiana': 1, 'Capital.com Broker GME': 1, \"Alphabet Inc.'s\": 1, 'Outpeform.': 1, 'AerCap': 1, 'Smart Windows.[removed': 1, 'View Inc': 1, 'Financial Education Jeremy': 1, 'PetSmart': 1, \"up?I'm\": 1, 'U.S Treasury': 1, 'FUBO Investor': 1, 'FireEye’s': 1, 'BOGO': 1, 'LUMN Thesis': 1, 'AGS': 1, 'Pro Phase': 1, 'Selling Call Options (Passive': 1, 'Generac Holdings': 1, 'RIP\\n\\n&': 1, 'Ceasars Entertainment': 1, 'SmallCap': 1, 'Cheap Electric Vehicle Stock[removed]': 1, 'the I/S': 1, 'Winnie-The-Pooh': 1, 'the TL DR': 1, 'QFIN': 1, 'FINV’s': 1, 'Winnie’s': 1, 'QFIN’s': 1, 'AEM': 1, 'PutsLet': 1, 'Option': 1, 'Taiwan Semiconductors': 1, 'Aerospace - Raytheon': 1, 'BWX Tech': 1, 'ArkQ, Lucid\\n\\nCybersecurity - Varonis, Snowflake, Palantir': 1, 'Social - Etsy': 1, 'Ameresco': 1, 'Neogenomics': 1, 'BUG': 1, 'TPI': 1, 'Wholesale/Retail - Target': 1, 'this MGM Buffalo Wild Wings': 1, 'VYGG + Discord': 1, 'LogiTech': 1, 'Apple Music': 1, 'NLSP - NLS Pharnaceutics[removed]': 1, 'Board of  Directors': 1, 'P L T R': 1, 'Issuance of StockHi': 1, 'Stock Guru Legit': 1, 'SLODE Comstock': 1, 'LODE Comstock Mining[removed]': 1, 'LODE COMSTOCK MINING[removed]': 1, 'The Irrational Motley Fool HateFor': 1, 'Ping An Healthcare and Technology': 1, \"JD Health's\": 1, 'JD Health': 1, 'the Hong King Stock Exchange': 1, 'Global-Digital-Health-Market-Report-2020-Market-is-Expected': 1, 'Alibaba Health Information Technology': 1, 'the Ark Fintech Innovation ETF': 1, \"Ping An Healthcare's\": 1, 'Alibaba Health Information Technology Limited': 1, 'JD Health International Inc': 1, 'ARK Investments Management': 1, 'Digital Health': 1, 'Ping An Insurance (Group) Company of China, Ltd.': 1, 'Ping An Healthcare': 1, 'Stock Market Taxes Explainednan': 1, 'Bank Stocks': 1, 'Tax Advice': 1, 'Great Bear Resources Gold': 1, 'SEC Investigation': 1, 'DXYN': 1, 'Dixie Group Inc.': 1, 'FV': 1, 'The Time Value of Money': 1, 'the Time Value of Money': 1, 'taught Time Value of Money': 1, 'Fidelity SpireHas': 1, 'Global': 1, 'Engineering From Massachusetts Institute of Technology': 1, 'Rocket Delivery': 1, 'Coupangs': 1, 'Bombshell': 1, 'Rocket Delivery and': 1, 'VMWare Inc': 1, 'Myntra': 1, 'Dec': 1, 'Amazon,': 1, 'Amazon of South Korea': 1, 'Rocket Fresh': 1, 'Vintage Media Company': 1, 'Rocket WOW': 1, 'Vision Fund': 1, 'Softbank Vision Fund': 1, 'Energy Metal Stocks To Watch': 1, \"Bear ETF's\": 1, 'Profits on Held Positions': 1, 'Wheaton': 1, \"futureI'm\": 1, 'Cassie': 1, 'MANU': 1, 'm3qs7f/i_can_talk_to_a_bot_that_analyzes_stocks/': 1, 'Stock AI': 1, 'SOS &': 1, 'ReutersMarket': 1, 'NYTimes': 1, 'TheHill': 1, 'Snapsies': 1, 'San Diego Comicon': 1, 'NBA Top Shots': 1, 'Tokyo Clash': 1, 'Q4\\n\\n\\\\-- Funko': 1, 'NFT’s': 1, 'Comicon': 1, 'Non-Fungible Token': 1, 'the AC/DC’s': 1, 'Godzilla': 1, 'Evergreen': 1, 'Loungefly': 1, 'New York Toy Fair': 1, 'Marvel Battleworld': 1, 'Evergreen Television': 1, 'Strong Q4': 1, 'Grayscale Bitcoin Trust': 1, 'FunkoEurope.com': 1, 'InvestmentFor': 1, 'NASDAQ Trading[removed]': 1, 'PYR': 1, 'ISA Strategy': 1, 'HEPA - Hepion Pharmaceuticals': 1, 'Ready to Rock &': 1, 'Citron/Hindenburg DiscussionIs': 1, 'Triterras': 1, '1035 Capital Management': 1, 'Western Union': 1, 'Fidelity Advisor Growth Opportunity Fund': 1, 'The Board of Directors': 1, \"FMR LLC's\": 1, 'FAGOF': 1, 'Meredith Corp': 1, 'Info on BLI?I’d': 1, 'the US’s': 1, 'FNKO': 1, 'PopAfter': 1, 'BitFarms': 1, 'Long Call PremiumsHey': 1, 'the 🗣SEC': 1, 'Ycharts.com': 1, 'the Executive Team': 1, 'Sero Capital': 1, 'Siteimprove': 1, 'Product Marketer': 1, 'TurnMark Capital': 1, 'Interim': 1, 'Stock Based Compensation': 1, 'Facebook and Pinterest': 1, 'Private Equity': 1, 'Share Based Compensation': 1, 'Indiana University': 1, 'deals](https://www.bnnbloomberg.ca': 1, 'Enghouse Systems': 1, 'CSU': 1, 'The Next Tech Software Play': 1, 'WSB Continue': 1, 'NKK - Plan': 1, 'BOSS.DE': 1, 'Crayon Group Holding': 1, 'Kalyan Jewellers India Limited': 1, 'SJT': 1, 'Div?Wondering': 1, 'Touchstone Exploration - #': 1, 'Kellogg’s': 1, 'PFE Abrocitinib': 1, 'MRK Keytruda': 1, 'UTHR Tyvaso': 1, 'BMY KarMMa': 1, 'Market Wizard': 1, 'Money Masters': 1, 'Market Wizards or Money Masters?I’ve': 1, 'The Money Masters': 1, 'New Money Masters': 1, 'LNC': 1, 'the Ides of March': 1, 'VFF&amp;ty': 1, '# Growth': 1, 'Bond': 1, 'Bleakley Global Advisors': 1, 'Global Payments': 1, 'F/uelCell Energy, Inc.': 1, 'Energy, Inc.': 1, 'G/evo Inc $': 1, 'Chart Scanner': 1, 'NASDAQ’s': 1, 'Treasurys': 1, 'THE MAJOR FUTURES INDICES AS OF FRIDAY!](https://i.imgur.com/hvH8uj8.png': 1, 'the Stock Trader’s Almanac': 1, 'Quarterly Options Expiration': 1, 'F/CEL': 1, 'PGIM Fixed Income': 1, 'ESTIMATES!](https://i.imgur.com/SWuSo8l.png': 1, 'AES': 1, 'Market Axess (MKTX': 1, 'ESTIMATES!](https://i.imgur.com/VyDOWFI.png': 1, 'Growers Inc.': 1, 'Russell 2K Log Record Highs': 1, 'PGIM': 1, 'myM4TrG.png': 1, 'W-123': 1, 'Stock Trader’s Almanac': 1, 'V_UZI&amp;ty': 1, 'NASDAQ Bounces Off Support': 1, 'Redler': 1, 'CrowdStrike, Inc.': 1, 'ESTIMATES!](https://i.imgur.com/ujRMr7q.png': 1, 'ENTX': 1, 'Tennessee Valley Oil Company': 1, 'Trend Following Approach Position Sizing[removed]': 1, 'GRDX': 1, 'ThoughtsSo I': 1, 'AMZN DIS': 1, 'FIDELITY': 1, 'CBTC': 1, 'dialogue/3b8e49dbdd8946d6a58c61c579c93f8f](https://www.pairagraph.com/dialogue/3b8e49dbdd8946d6a58c61c579c93f8f?94': 1, 'Drive Shack $DS Trading': 1, 'build](https://www.anandtech.com': 1, 'Semiconductors - TSMC DDReports': 1, 'FINVIZ': 1, 'Californian': 1, 'SPY Puts': 1, \"stressI'm\": 1, 'GOGO - Horizontal': 1, 'BNOW - Boon Industries[removed]': 1, 'Hennessy - Sold': 1, 'Nasdaq Total View Market': 1, 'Butterfly': 1, 'the Butterfly IQ': 1, 'Linear': 1, 'Apple IOS': 1, 'The Butterfly IQ Pros and Cons': 1, 'MGMT': 1, 'Better Spatial': 1, 'LICENSE': 1, \"missing?I'm\": 1, 'Amazon CC': 1, 'G-M-E': 1, 'NDTP': 1, 'Names': 1, 'YRD': 1, '$RIDE Discord': 1, 'Acoje Mining Company Incorporated': 1, 'Rocket Lab USA': 1, 'Vector Acquisitions': 1, 'The Southern Alberta Land Company Limited': 1, 'TDOC\\n\\n&': 1, 'CAC': 1, 'Amazon\\n3': 1, 'A.M. PUMP MRKR[removed]': 1, 'Thumb Industries Inc': 1, 'CCHWF': 1, 'the Earnings Revisions': 1, 'Margin of Safety of': 1, 'Growth Rate': 1, 'Vanguard Institutional': 1, 'HRA VEBA': 1, 'Vanguard Balanced': 1, 'Champlain Small Company Institutional': 1, 'Sears Holdings Corporation': 1, 'SQBG': 1, 'RCGCF': 1, 'ROSCAN GOLD': 1, 'Coke Cola': 1, 'MTAR': 1, 'EWW': 1, 'Rockwell Automation  \\nExposure': 1, 'ON Semiconductor': 1, 'General Electric  \\n': 1, '# Secondary Holdings': 1, 'Home Depot  \\nExposure': 1, '# Primary Holdings': 1, '$CX': 1, 'Stock Research and Technical Analysis': 1, 'VFF': 1, '#CATABASIS Stock': 1, 'Fulgent’s': 1, 'Laxmi Organic Industries Ltd.': 1, 'AH Wealth': 1, 'Tupperware': 1, 'TUP': 1, 'GILD&amp;ty': 1, 'XPEV&amp;ty': 1, 'SJR': 1, 'Shaw Communications': 1, 'The National Highway Traffic Safety Administration': 1, 'Atlantic Equities': 1, 'GNMK&amp;ty': 1, 'Caesars Entertainment': 1, 'UAL&amp;ty': 1, 'Shaw’s': 1, 'the Transportation Safety Administration': 1, 'Ireland’s AerCap Holdings': 1, 'GenMark Diagnostics': 1, 'GenMark': 1, 'Lordstown': 1, 'Southwest Airlines': 1, 'US Total Market': 1, 'Daiwa Securities': 1, 'ON (On Semiconductor': 1, 'Bronco EV': 1, 'P/S and P/E': 1, 'Finviz and Yahoo Finance': 1, 'LG Chem': 1, 'Ford’s': 1, 'Focus sedans](https://www.detroitnews.com': 1, 'Argo AI': 1, 'Ford Europe': 1, '\\\\*cough\\\\* Toyota \\\\*cough\\\\*': 1, 'skateboard”](https://www.forbes.com': 1, 'Focus EV': 1, 'HMG': 1, 'Global Markets': 1, 'market](https://media.ford.com': 1, 'the U.S.': 1, 'Spanish Broadcasting System Inc.': 1, '\\\\~10x YTD': 1, 'Stornoway': 1, 'LFCF': 1, 'Ravensource': 1, 'LTM EBITDA': 1, 'SBSAA': 1, 'Univision': 1, 'LTV': 1, 'CapIQ': 1, 'Airline Stock[removed]': 1, 'VCR - Recession/Correction Resistant?[removed]': 1, 'AphriaWhat': 1, 'VFW': 1, 'SPAQ Acquisitions': 1, 'Motley Fool - Stock Advisor': 1, 'Hemp Paper': 1, 'IwAR0_gIBTaVZKbrT0lyd58l22Qk7wkWyceGldiDQ-IbLSJP8IYCJeYbn0I48': 1, 'beyond](https://venturebeat.com/2021/02/17': 1, 'Hummer EV SUT': 1, 'the National Transportation Safety': 1, 'B](https://finance.yahoo.com': 1, 'shares](https://www.cnbc.com/2021/02/11': 1, 'MITT': 1, 'p8uQC5b](https://imgur.com/p8uQC5b': 1, 'LGR5': 1, 'Frequency Therapeutics': 1, 'retired](https://www.tinnitustalk.com': 1, 'TRT': 1, 'Frequency': 1, 'VPA': 1, 'Global-Hearing-Aids-Market': 1, 'AewCyUu](https://imgur.com/AewCyUu': 1, 'Frequency’s': 1, 'report](https://investors.frequencytx.com': 1, 'Mastercard': 1, 'Argo Group': 1, 'IGICW': 1, 'the German Stock Exchange.[removed]': 1, 'MetLife': 1, 'Graybug Vision': 1, 'ExchangeHow': 1, 'Kid Rock[removed]': 1, 'Gold, Oil, Software': 1, 'Next Week &': 1, 'the European Union’s': 1, 'Jefferies Financial Group': 1, 'StichFix': 1, 'ARP': 1, 'NEEDHAM &': 1, 'General Electric’s': 1, 'FSRBX': 1, 'Litigation Capital Management': 1, 'ETA': 1, 'Rourke': 1, 'Denison Mines Added': 1, 'Game Stop’s': 1, 'SunStream': 1, 'WEAT': 1, 'SCCO Southern Copper Corporation[removed]': 1, 'Berkshire’s': 1, 'Unity Technologies': 1, 'Toronto Stock Exchange': 1, 'RealNetworks': 1, '💵Hello': 1, 'DOCU &': 1, 'The U.S. Securities and Exchange Commission': 1, 'Shaw': 1, 'Shaw Stock': 1, 'Shaw I': 1, 'Rogers': 1, 'VolatilityHey': 1, 'Rakuten': 1, 'BBJP': 1, 'KE Holdings': 1, 'GTV)1': 1, 'financialsKE Holdings': 1})\n"
     ]
    }
   ],
   "source": [
    "print(org_freq)"
   ]
  },
  {
   "cell_type": "code",
   "execution_count": 615,
   "metadata": {
    "scrolled": true
   },
   "outputs": [
    {
     "data": {
      "text/plain": [
       "[('GME', 2044),\n",
       " ('AMC', 857),\n",
       " ('EV', 396),\n",
       " ('Apple', 370),\n",
       " ('WSB', 353),\n",
       " ('Amazon', 290),\n",
       " ('PLTR', 268),\n",
       " ('NOK', 259),\n",
       " ('Tesla', 238),\n",
       " ('AAPL', 209),\n",
       " ('Fidelity', 202),\n",
       " ('SEC', 199),\n",
       " ('AMD', 197),\n",
       " ('ICLN', 192),\n",
       " ('ARK', 189),\n",
       " ('🚀', 162),\n",
       " ('Microsoft', 160),\n",
       " ('ARKK', 156),\n",
       " ('FDA', 150),\n",
       " ('GameStop', 150),\n",
       " ('NYSE', 149),\n",
       " ('NASDAQ', 142),\n",
       " ('Nokia', 141),\n",
       " ('EPS', 115),\n",
       " ('APHA', 114)]"
      ]
     },
     "execution_count": 615,
     "metadata": {},
     "output_type": "execute_result"
    }
   ],
   "source": [
    "# create dictionary of organization mention frequency\n",
    "org_freq = Counter(orgs)\n",
    "org_freq.most_common(25)"
   ]
  },
  {
   "cell_type": "code",
   "execution_count": 647,
   "metadata": {},
   "outputs": [],
   "source": [
    "df_90 = pd.DataFrame([org_freq])\n",
    "df_90 = df_90.T\n",
    "df_90.columns = ['frequency']\n",
    "df_90 = df_90.sort_values(by='frequency', ascending=False)\n",
    "df_orgs_frequency = df_90.head(20)\n",
    "df_orgs_frequency.to_csv('data/orgs_frequency')"
   ]
  },
  {
   "cell_type": "code",
   "execution_count": 451,
   "metadata": {},
   "outputs": [],
   "source": [
    "from flair.data import Sentence\n",
    "from segtok.segmenter import split_single\n",
    "import re"
   ]
  },
  {
   "cell_type": "code",
   "execution_count": 452,
   "metadata": {
    "scrolled": false
   },
   "outputs": [
    {
     "name": "stdout",
     "output_type": "stream",
     "text": [
      "2021-03-16 14:36:25,115 loading file C:\\Users\\Yuri\\.flair\\models\\sentiment-en-mix-distillbert_4.pt\n"
     ]
    }
   ],
   "source": [
    "classifier = flair.models.TextClassifier.load('en-sentiment')"
   ]
  },
  {
   "cell_type": "code",
   "execution_count": 453,
   "metadata": {},
   "outputs": [],
   "source": [
    "def make_sentences(text):\n",
    "    \"\"\" Break apart text into a list of sentences \"\"\"\n",
    "    sentences = [sent for sent in split_single(text)]\n",
    "    return sentences"
   ]
  },
  {
   "cell_type": "code",
   "execution_count": 454,
   "metadata": {},
   "outputs": [],
   "source": [
    "def clean(raw):\n",
    "    \"\"\" Remove hyperlinks and markup \"\"\"\n",
    "    result = re.sub(\"<[a][^>]*>(.+?)</[a]>\", 'Link.', raw)\n",
    "    result = re.sub('&gt;', \"\", result)\n",
    "    result = re.sub('&#x27;', \"'\", result)\n",
    "    result = re.sub('&quot;', '\"', result)\n",
    "    result = re.sub('&#x2F;', ' ', result)\n",
    "    result = re.sub('<p>', ' ', result)\n",
    "    result = re.sub('</i>', '', result)\n",
    "    result = re.sub('&#62;', '', result)\n",
    "    result = re.sub('<i>', ' ', result)\n",
    "    result = re.sub(\"\\n\", '', result)\n",
    "    return result"
   ]
  },
  {
   "cell_type": "code",
   "execution_count": 455,
   "metadata": {},
   "outputs": [],
   "source": [
    "def predict(sentence):\n",
    "    \"\"\" Predict the sentiment of a sentence \"\"\"\n",
    "    if sentence == \"\":\n",
    "        return 0\n",
    "    text = Sentence(sentence)\n",
    "    # stacked_embeddings.embed(text)\n",
    "    classifier.predict(text)\n",
    "    value = text.labels[0].to_dict()['value'] \n",
    "    if value == 'POSITIVE':\n",
    "        result = text.to_dict()['labels'][0]['confidence']\n",
    "    else:\n",
    "        result = -(text.to_dict()['labels'][0]['confidence'])\n",
    "    return round(result, 3)\n",
    "\n",
    "def get_scores(sentences):\n",
    "    \"\"\" Call predict on every sentence of a text \"\"\"\n",
    "    results = []\n",
    "    \n",
    "    for i in range(0, len(sentences)): \n",
    "        results.append(predict(sentences[i]))\n",
    "    return results\n",
    "\n",
    "def get_sum(scores):\n",
    "    \n",
    "    result = round(sum(scores), 3)\n",
    "    return result"
   ]
  },
  {
   "cell_type": "code",
   "execution_count": 456,
   "metadata": {},
   "outputs": [
    {
     "data": {
      "text/html": [
       "<div>\n",
       "<style scoped>\n",
       "    .dataframe tbody tr th:only-of-type {\n",
       "        vertical-align: middle;\n",
       "    }\n",
       "\n",
       "    .dataframe tbody tr th {\n",
       "        vertical-align: top;\n",
       "    }\n",
       "\n",
       "    .dataframe thead th {\n",
       "        text-align: right;\n",
       "    }\n",
       "</style>\n",
       "<table border=\"1\" class=\"dataframe\">\n",
       "  <thead>\n",
       "    <tr style=\"text-align: right;\">\n",
       "      <th></th>\n",
       "      <th>date</th>\n",
       "      <th>author</th>\n",
       "      <th>post</th>\n",
       "      <th>orgs</th>\n",
       "      <th>sentences</th>\n",
       "      <th>scores</th>\n",
       "      <th>scores_sum</th>\n",
       "    </tr>\n",
       "  </thead>\n",
       "  <tbody>\n",
       "    <tr>\n",
       "      <th>0</th>\n",
       "      <td>2021-01-01</td>\n",
       "      <td>izgustant</td>\n",
       "      <td>Question about the 2021 stocks and your opinio...</td>\n",
       "      <td>[IRL, NASDAQ]</td>\n",
       "      <td>[Question about the 2021 stocks and your opini...</td>\n",
       "      <td>[0.985, 0.997, 0.983, -0.978, -0.963, -0.879, ...</td>\n",
       "      <td>-2.385</td>\n",
       "    </tr>\n",
       "    <tr>\n",
       "      <th>1</th>\n",
       "      <td>2021-01-01</td>\n",
       "      <td>Andymilonakis21</td>\n",
       "      <td>So I hear a lot of people say don’t do options...</td>\n",
       "      <td>[]</td>\n",
       "      <td>[So I hear a lot of people say don’t do option...</td>\n",
       "      <td>[-0.973]</td>\n",
       "      <td>-0.973</td>\n",
       "    </tr>\n",
       "    <tr>\n",
       "      <th>2</th>\n",
       "      <td>2021-01-01</td>\n",
       "      <td>PuzzledMindAndBody</td>\n",
       "      <td>Index Funds:Stocks Allocation[removed]</td>\n",
       "      <td>[]</td>\n",
       "      <td>[Index Funds:Stocks Allocation[removed]]</td>\n",
       "      <td>[-0.951]</td>\n",
       "      <td>-0.951</td>\n",
       "    </tr>\n",
       "    <tr>\n",
       "      <th>3</th>\n",
       "      <td>2021-01-01</td>\n",
       "      <td>bigbang1996</td>\n",
       "      <td>High confidence - NioAccording to a JD power s...</td>\n",
       "      <td>[]</td>\n",
       "      <td>[High confidence - NioAccording to a JD power ...</td>\n",
       "      <td>[0.999, 0.997]</td>\n",
       "      <td>1.996</td>\n",
       "    </tr>\n",
       "    <tr>\n",
       "      <th>4</th>\n",
       "      <td>2021-01-01</td>\n",
       "      <td>PuzzledMindAndBody</td>\n",
       "      <td>Index Funds:Stocks Allocation %[removed]</td>\n",
       "      <td>[]</td>\n",
       "      <td>[Index Funds:Stocks Allocation %[removed]]</td>\n",
       "      <td>[-0.994]</td>\n",
       "      <td>-0.994</td>\n",
       "    </tr>\n",
       "    <tr>\n",
       "      <th>5</th>\n",
       "      <td>2021-01-01</td>\n",
       "      <td>PuzzledMindAndBody</td>\n",
       "      <td>Index funds: StocksI am 36M. Couple of questio...</td>\n",
       "      <td>[]</td>\n",
       "      <td>[Index funds: StocksI am 36M., Couple of quest...</td>\n",
       "      <td>[-0.971, 0.74, -0.997, 0.848]</td>\n",
       "      <td>-0.380</td>\n",
       "    </tr>\n",
       "    <tr>\n",
       "      <th>6</th>\n",
       "      <td>2021-01-01</td>\n",
       "      <td>WalkerTejasRanger</td>\n",
       "      <td>Compounding interest questionNew to investing ...</td>\n",
       "      <td>[]</td>\n",
       "      <td>[Compounding interest questionNew to investing...</td>\n",
       "      <td>[-0.999, -0.999, -0.999, -0.793, -0.999, -0.84...</td>\n",
       "      <td>-4.641</td>\n",
       "    </tr>\n",
       "    <tr>\n",
       "      <th>7</th>\n",
       "      <td>2021-01-01</td>\n",
       "      <td>Kyle_Ace_22</td>\n",
       "      <td>Top Stock Picks For 2021?What stocks, etf's, o...</td>\n",
       "      <td>[AAPL, ICLN, AMZN, IWF]</td>\n",
       "      <td>[Top Stock Picks For 2021?What stocks, etf's, ...</td>\n",
       "      <td>[0.997, 0.974, 0.963]</td>\n",
       "      <td>2.934</td>\n",
       "    </tr>\n",
       "    <tr>\n",
       "      <th>8</th>\n",
       "      <td>2021-01-01</td>\n",
       "      <td>sco77001</td>\n",
       "      <td>January 2021 stock market performance?[removed]</td>\n",
       "      <td>[]</td>\n",
       "      <td>[January 2021 stock market performance?[removed]]</td>\n",
       "      <td>[-0.994]</td>\n",
       "      <td>-0.994</td>\n",
       "    </tr>\n",
       "    <tr>\n",
       "      <th>9</th>\n",
       "      <td>2021-01-01</td>\n",
       "      <td>Substantial_Net4379</td>\n",
       "      <td>BNGO[removed]</td>\n",
       "      <td>[]</td>\n",
       "      <td>[BNGO[removed]]</td>\n",
       "      <td>[-0.977]</td>\n",
       "      <td>-0.977</td>\n",
       "    </tr>\n",
       "    <tr>\n",
       "      <th>10</th>\n",
       "      <td>2021-01-01</td>\n",
       "      <td>geja99</td>\n",
       "      <td>I’m a senior in HS. How can I start setting my...</td>\n",
       "      <td>[HS]</td>\n",
       "      <td>[I’m a senior in HS., How can I start setting ...</td>\n",
       "      <td>[0.917, -0.908]</td>\n",
       "      <td>0.009</td>\n",
       "    </tr>\n",
       "    <tr>\n",
       "      <th>11</th>\n",
       "      <td>2021-01-01</td>\n",
       "      <td>mandingob</td>\n",
       "      <td>What is the hardest form of trading?We know ab...</td>\n",
       "      <td>[FOREX]</td>\n",
       "      <td>[What is the hardest form of trading?We know a...</td>\n",
       "      <td>[0.844, 0.962, -0.834, -1.0]</td>\n",
       "      <td>-0.028</td>\n",
       "    </tr>\n",
       "    <tr>\n",
       "      <th>12</th>\n",
       "      <td>2021-01-01</td>\n",
       "      <td>ClappedCheeks114</td>\n",
       "      <td>Tesla Call[removed]</td>\n",
       "      <td>[]</td>\n",
       "      <td>[Tesla Call[removed]]</td>\n",
       "      <td>[-0.99]</td>\n",
       "      <td>-0.990</td>\n",
       "    </tr>\n",
       "    <tr>\n",
       "      <th>13</th>\n",
       "      <td>2021-01-01</td>\n",
       "      <td>ClappedCheeks114</td>\n",
       "      <td>Should I sell my tesla stocks to go in on a te...</td>\n",
       "      <td>[]</td>\n",
       "      <td>[Should I sell my tesla stocks to go in on a t...</td>\n",
       "      <td>[-0.99]</td>\n",
       "      <td>-0.990</td>\n",
       "    </tr>\n",
       "    <tr>\n",
       "      <th>14</th>\n",
       "      <td>2021-01-01</td>\n",
       "      <td>snackerjoe</td>\n",
       "      <td>strikereports.com - your daily newsletter for ...</td>\n",
       "      <td>[SEC, insider_trading_program/g9cmzvi/?context...</td>\n",
       "      <td>[strikereports.com - your daily newsletter for...</td>\n",
       "      <td>[-0.821, 0.667, -1.0, 0.985, -0.998, 0.641]</td>\n",
       "      <td>-0.526</td>\n",
       "    </tr>\n",
       "    <tr>\n",
       "      <th>15</th>\n",
       "      <td>2021-01-01</td>\n",
       "      <td>ejfsoccer</td>\n",
       "      <td>Due DiligenceHey guys! So there’s people comme...</td>\n",
       "      <td>[DiligenceHey]</td>\n",
       "      <td>[Due DiligenceHey guys!, So there’s people com...</td>\n",
       "      <td>[0.996, -0.995, -0.993, 0.871, -0.686]</td>\n",
       "      <td>-0.807</td>\n",
       "    </tr>\n",
       "    <tr>\n",
       "      <th>16</th>\n",
       "      <td>2021-01-01</td>\n",
       "      <td>waffled_pancake</td>\n",
       "      <td>Adding my 401k to my TDA trading account?I cur...</td>\n",
       "      <td>[TDA]</td>\n",
       "      <td>[Adding my 401k to my TDA trading account?I cu...</td>\n",
       "      <td>[-0.733, -0.513, 0.995, 0.581, -0.515, -0.949,...</td>\n",
       "      <td>-1.872</td>\n",
       "    </tr>\n",
       "    <tr>\n",
       "      <th>17</th>\n",
       "      <td>2021-01-01</td>\n",
       "      <td>fet_nick</td>\n",
       "      <td>pharma company valuationFor some academic purp...</td>\n",
       "      <td>[]</td>\n",
       "      <td>[pharma company valuationFor some academic pur...</td>\n",
       "      <td>[0.865, -0.998, -0.861, -0.999, 0.724, 0.987, ...</td>\n",
       "      <td>0.081</td>\n",
       "    </tr>\n",
       "    <tr>\n",
       "      <th>18</th>\n",
       "      <td>2021-01-01</td>\n",
       "      <td>CrispierCloud</td>\n",
       "      <td>500 dollar equity[removed]</td>\n",
       "      <td>[]</td>\n",
       "      <td>[500 dollar equity[removed]]</td>\n",
       "      <td>[-0.995]</td>\n",
       "      <td>-0.995</td>\n",
       "    </tr>\n",
       "    <tr>\n",
       "      <th>19</th>\n",
       "      <td>2021-01-01</td>\n",
       "      <td>CrispierCloud</td>\n",
       "      <td>400 - 1000I have a 400 dollar portfolio right ...</td>\n",
       "      <td>[]</td>\n",
       "      <td>[400 - 1000I have a 400 dollar portfolio right...</td>\n",
       "      <td>[0.966, -0.996, 0.914, -0.85, 0.996]</td>\n",
       "      <td>1.030</td>\n",
       "    </tr>\n",
       "  </tbody>\n",
       "</table>\n",
       "</div>"
      ],
      "text/plain": [
       "         date               author  \\\n",
       "0  2021-01-01            izgustant   \n",
       "1  2021-01-01      Andymilonakis21   \n",
       "2  2021-01-01   PuzzledMindAndBody   \n",
       "3  2021-01-01          bigbang1996   \n",
       "4  2021-01-01   PuzzledMindAndBody   \n",
       "5  2021-01-01   PuzzledMindAndBody   \n",
       "6  2021-01-01    WalkerTejasRanger   \n",
       "7  2021-01-01          Kyle_Ace_22   \n",
       "8  2021-01-01             sco77001   \n",
       "9  2021-01-01  Substantial_Net4379   \n",
       "10 2021-01-01               geja99   \n",
       "11 2021-01-01            mandingob   \n",
       "12 2021-01-01     ClappedCheeks114   \n",
       "13 2021-01-01     ClappedCheeks114   \n",
       "14 2021-01-01           snackerjoe   \n",
       "15 2021-01-01            ejfsoccer   \n",
       "16 2021-01-01      waffled_pancake   \n",
       "17 2021-01-01             fet_nick   \n",
       "18 2021-01-01        CrispierCloud   \n",
       "19 2021-01-01        CrispierCloud   \n",
       "\n",
       "                                                 post  \\\n",
       "0   Question about the 2021 stocks and your opinio...   \n",
       "1   So I hear a lot of people say don’t do options...   \n",
       "2              Index Funds:Stocks Allocation[removed]   \n",
       "3   High confidence - NioAccording to a JD power s...   \n",
       "4            Index Funds:Stocks Allocation %[removed]   \n",
       "5   Index funds: StocksI am 36M. Couple of questio...   \n",
       "6   Compounding interest questionNew to investing ...   \n",
       "7   Top Stock Picks For 2021?What stocks, etf's, o...   \n",
       "8     January 2021 stock market performance?[removed]   \n",
       "9                                       BNGO[removed]   \n",
       "10  I’m a senior in HS. How can I start setting my...   \n",
       "11  What is the hardest form of trading?We know ab...   \n",
       "12                                Tesla Call[removed]   \n",
       "13  Should I sell my tesla stocks to go in on a te...   \n",
       "14  strikereports.com - your daily newsletter for ...   \n",
       "15  Due DiligenceHey guys! So there’s people comme...   \n",
       "16  Adding my 401k to my TDA trading account?I cur...   \n",
       "17  pharma company valuationFor some academic purp...   \n",
       "18                         500 dollar equity[removed]   \n",
       "19  400 - 1000I have a 400 dollar portfolio right ...   \n",
       "\n",
       "                                                 orgs  \\\n",
       "0                                       [IRL, NASDAQ]   \n",
       "1                                                  []   \n",
       "2                                                  []   \n",
       "3                                                  []   \n",
       "4                                                  []   \n",
       "5                                                  []   \n",
       "6                                                  []   \n",
       "7                             [AAPL, ICLN, AMZN, IWF]   \n",
       "8                                                  []   \n",
       "9                                                  []   \n",
       "10                                               [HS]   \n",
       "11                                            [FOREX]   \n",
       "12                                                 []   \n",
       "13                                                 []   \n",
       "14  [SEC, insider_trading_program/g9cmzvi/?context...   \n",
       "15                                     [DiligenceHey]   \n",
       "16                                              [TDA]   \n",
       "17                                                 []   \n",
       "18                                                 []   \n",
       "19                                                 []   \n",
       "\n",
       "                                            sentences  \\\n",
       "0   [Question about the 2021 stocks and your opini...   \n",
       "1   [So I hear a lot of people say don’t do option...   \n",
       "2            [Index Funds:Stocks Allocation[removed]]   \n",
       "3   [High confidence - NioAccording to a JD power ...   \n",
       "4          [Index Funds:Stocks Allocation %[removed]]   \n",
       "5   [Index funds: StocksI am 36M., Couple of quest...   \n",
       "6   [Compounding interest questionNew to investing...   \n",
       "7   [Top Stock Picks For 2021?What stocks, etf's, ...   \n",
       "8   [January 2021 stock market performance?[removed]]   \n",
       "9                                     [BNGO[removed]]   \n",
       "10  [I’m a senior in HS., How can I start setting ...   \n",
       "11  [What is the hardest form of trading?We know a...   \n",
       "12                              [Tesla Call[removed]]   \n",
       "13  [Should I sell my tesla stocks to go in on a t...   \n",
       "14  [strikereports.com - your daily newsletter for...   \n",
       "15  [Due DiligenceHey guys!, So there’s people com...   \n",
       "16  [Adding my 401k to my TDA trading account?I cu...   \n",
       "17  [pharma company valuationFor some academic pur...   \n",
       "18                       [500 dollar equity[removed]]   \n",
       "19  [400 - 1000I have a 400 dollar portfolio right...   \n",
       "\n",
       "                                               scores  scores_sum  \n",
       "0   [0.985, 0.997, 0.983, -0.978, -0.963, -0.879, ...      -2.385  \n",
       "1                                            [-0.973]      -0.973  \n",
       "2                                            [-0.951]      -0.951  \n",
       "3                                      [0.999, 0.997]       1.996  \n",
       "4                                            [-0.994]      -0.994  \n",
       "5                       [-0.971, 0.74, -0.997, 0.848]      -0.380  \n",
       "6   [-0.999, -0.999, -0.999, -0.793, -0.999, -0.84...      -4.641  \n",
       "7                               [0.997, 0.974, 0.963]       2.934  \n",
       "8                                            [-0.994]      -0.994  \n",
       "9                                            [-0.977]      -0.977  \n",
       "10                                    [0.917, -0.908]       0.009  \n",
       "11                       [0.844, 0.962, -0.834, -1.0]      -0.028  \n",
       "12                                            [-0.99]      -0.990  \n",
       "13                                            [-0.99]      -0.990  \n",
       "14        [-0.821, 0.667, -1.0, 0.985, -0.998, 0.641]      -0.526  \n",
       "15             [0.996, -0.995, -0.993, 0.871, -0.686]      -0.807  \n",
       "16  [-0.733, -0.513, 0.995, 0.581, -0.515, -0.949,...      -1.872  \n",
       "17  [0.865, -0.998, -0.861, -0.999, 0.724, 0.987, ...       0.081  \n",
       "18                                           [-0.995]      -0.995  \n",
       "19               [0.966, -0.996, 0.914, -0.85, 0.996]       1.030  "
      ]
     },
     "execution_count": 456,
     "metadata": {},
     "output_type": "execute_result"
    }
   ],
   "source": [
    "#transform the post into sentence and get the sentiment analysis score\n",
    "reddit_stocks.post = reddit_stocks.post.apply(clean)\n",
    "reddit_stocks['sentences'] = reddit_stocks.post.apply(make_sentences)\n",
    "reddit_stocks['scores'] = reddit_stocks['sentences'].apply(get_scores)\n",
    "reddit_stocks['scores_sum'] = reddit_stocks.scores.apply(get_sum)\n",
    "\n",
    "reddit_stocks.head(20)"
   ]
  },
  {
   "cell_type": "code",
   "execution_count": 457,
   "metadata": {},
   "outputs": [
    {
     "data": {
      "text/html": [
       "<div>\n",
       "<style scoped>\n",
       "    .dataframe tbody tr th:only-of-type {\n",
       "        vertical-align: middle;\n",
       "    }\n",
       "\n",
       "    .dataframe tbody tr th {\n",
       "        vertical-align: top;\n",
       "    }\n",
       "\n",
       "    .dataframe thead th {\n",
       "        text-align: right;\n",
       "    }\n",
       "</style>\n",
       "<table border=\"1\" class=\"dataframe\">\n",
       "  <thead>\n",
       "    <tr style=\"text-align: right;\">\n",
       "      <th></th>\n",
       "      <th>date</th>\n",
       "      <th>author</th>\n",
       "      <th>post</th>\n",
       "      <th>orgs</th>\n",
       "      <th>sentences</th>\n",
       "      <th>scores</th>\n",
       "      <th>scores_sum</th>\n",
       "    </tr>\n",
       "  </thead>\n",
       "  <tbody>\n",
       "    <tr>\n",
       "      <th>42256</th>\n",
       "      <td>2021-03-15</td>\n",
       "      <td>JoacoFerna24</td>\n",
       "      <td>$DNN due diligence - Helpful info on company a...</td>\n",
       "      <td>[]</td>\n",
       "      <td>[$DNN due diligence - Helpful info on company ...</td>\n",
       "      <td>[-1.0]</td>\n",
       "      <td>-1.000</td>\n",
       "    </tr>\n",
       "    <tr>\n",
       "      <th>42257</th>\n",
       "      <td>2021-03-15</td>\n",
       "      <td>Panditji15</td>\n",
       "      <td>PLTR bullish signal and trade idea[removed]</td>\n",
       "      <td>[PLTR]</td>\n",
       "      <td>[PLTR bullish signal and trade idea[removed]]</td>\n",
       "      <td>[-0.996]</td>\n",
       "      <td>-0.996</td>\n",
       "    </tr>\n",
       "    <tr>\n",
       "      <th>42258</th>\n",
       "      <td>2021-03-15</td>\n",
       "      <td>inkslingerben</td>\n",
       "      <td>SEC Sues California trader for alleged social ...</td>\n",
       "      <td>[SEC, The U.S. Securities and Exchange Commiss...</td>\n",
       "      <td>[SEC Sues California trader for alleged social...</td>\n",
       "      <td>[-0.998, -0.761, 0.913, -0.929]</td>\n",
       "      <td>-1.775</td>\n",
       "    </tr>\n",
       "    <tr>\n",
       "      <th>42259</th>\n",
       "      <td>2021-03-15</td>\n",
       "      <td>StaggerHiramLee</td>\n",
       "      <td>I’m new. Why does it seem like being a pattern...</td>\n",
       "      <td>[]</td>\n",
       "      <td>[I’m new., Why does it seem like being a patte...</td>\n",
       "      <td>[0.999, -0.986]</td>\n",
       "      <td>0.013</td>\n",
       "    </tr>\n",
       "    <tr>\n",
       "      <th>42260</th>\n",
       "      <td>2021-03-15</td>\n",
       "      <td>JoacoFerna24</td>\n",
       "      <td>$DNN Due Diligence - Helpful info on the compa...</td>\n",
       "      <td>[]</td>\n",
       "      <td>[$DNN Due Diligence - Helpful info on the comp...</td>\n",
       "      <td>[-0.999]</td>\n",
       "      <td>-0.999</td>\n",
       "    </tr>\n",
       "    <tr>\n",
       "      <th>42261</th>\n",
       "      <td>2021-03-15</td>\n",
       "      <td>BenniHB</td>\n",
       "      <td>help with finance website?[removed]</td>\n",
       "      <td>[]</td>\n",
       "      <td>[help with finance website?[removed]]</td>\n",
       "      <td>[-0.991]</td>\n",
       "      <td>-0.991</td>\n",
       "    </tr>\n",
       "    <tr>\n",
       "      <th>42262</th>\n",
       "      <td>2021-03-15</td>\n",
       "      <td>drewgarr</td>\n",
       "      <td>What’s your opinion on Shaw Stock priceWith th...</td>\n",
       "      <td>[Shaw, Shaw Stock, Shaw I, Rogers]</td>\n",
       "      <td>[What’s your opinion on Shaw Stock priceWith t...</td>\n",
       "      <td>[0.948, 0.867, -0.944]</td>\n",
       "      <td>0.871</td>\n",
       "    </tr>\n",
       "    <tr>\n",
       "      <th>42263</th>\n",
       "      <td>2021-03-15</td>\n",
       "      <td>StatisticianLoud7762</td>\n",
       "      <td>CTRM IS GOING TO BLOW TOMMOROW[removed]</td>\n",
       "      <td>[]</td>\n",
       "      <td>[CTRM IS GOING TO BLOW TOMMOROW[removed]]</td>\n",
       "      <td>[-1.0]</td>\n",
       "      <td>-1.000</td>\n",
       "    </tr>\n",
       "    <tr>\n",
       "      <th>42264</th>\n",
       "      <td>2021-03-15</td>\n",
       "      <td>No-Consequence-8713</td>\n",
       "      <td>NIO buy buy buy buy[removed]</td>\n",
       "      <td>[]</td>\n",
       "      <td>[NIO buy buy buy buy[removed]]</td>\n",
       "      <td>[-0.999]</td>\n",
       "      <td>-0.999</td>\n",
       "    </tr>\n",
       "    <tr>\n",
       "      <th>42265</th>\n",
       "      <td>2021-03-15</td>\n",
       "      <td>Scary_Marionberry140</td>\n",
       "      <td>EXPR BUY NOW[removed]</td>\n",
       "      <td>[]</td>\n",
       "      <td>[EXPR BUY NOW[removed]]</td>\n",
       "      <td>[-0.858]</td>\n",
       "      <td>-0.858</td>\n",
       "    </tr>\n",
       "    <tr>\n",
       "      <th>42266</th>\n",
       "      <td>2021-03-15</td>\n",
       "      <td>zeppzapp</td>\n",
       "      <td>Luminar; $LAZRSo. After rading a bit about it,...</td>\n",
       "      <td>[Volvo]</td>\n",
       "      <td>[Luminar; $LAZRSo., After rading a bit about i...</td>\n",
       "      <td>[0.929, 0.87, 0.967, 0.879, -0.998, 0.865]</td>\n",
       "      <td>3.512</td>\n",
       "    </tr>\n",
       "    <tr>\n",
       "      <th>42267</th>\n",
       "      <td>2021-03-15</td>\n",
       "      <td>MegaTradeUSA</td>\n",
       "      <td>Dividend stocks/ETF[removed]</td>\n",
       "      <td>[Dividend]</td>\n",
       "      <td>[Dividend stocks/ETF[removed]]</td>\n",
       "      <td>[-0.989]</td>\n",
       "      <td>-0.989</td>\n",
       "    </tr>\n",
       "    <tr>\n",
       "      <th>42268</th>\n",
       "      <td>2021-03-15</td>\n",
       "      <td>MegaTradeUSA</td>\n",
       "      <td>Index funds recommendation[removed]</td>\n",
       "      <td>[]</td>\n",
       "      <td>[Index funds recommendation[removed]]</td>\n",
       "      <td>[-0.977]</td>\n",
       "      <td>-0.977</td>\n",
       "    </tr>\n",
       "    <tr>\n",
       "      <th>42269</th>\n",
       "      <td>2021-03-15</td>\n",
       "      <td>Merkypie</td>\n",
       "      <td>Trading Foreign Stocks: OTC and VolatilityHey,...</td>\n",
       "      <td>[VolatilityHey, TSE, SoftBank, Rakuten, BBJP, ...</td>\n",
       "      <td>[Trading Foreign Stocks: OTC and VolatilityHey...</td>\n",
       "      <td>[-0.622, -1.0]</td>\n",
       "      <td>-1.622</td>\n",
       "    </tr>\n",
       "    <tr>\n",
       "      <th>42270</th>\n",
       "      <td>2021-03-15</td>\n",
       "      <td>CoyoteClem</td>\n",
       "      <td>Taking a Capital LossDoes this technique work ...</td>\n",
       "      <td>[Amazon]</td>\n",
       "      <td>[Taking a Capital LossDoes this technique work...</td>\n",
       "      <td>[-0.943, -0.926, -1.0, -0.942, -0.607, -0.991,...</td>\n",
       "      <td>-6.279</td>\n",
       "    </tr>\n",
       "    <tr>\n",
       "      <th>42271</th>\n",
       "      <td>2021-03-15</td>\n",
       "      <td>Bob__Kazamakis</td>\n",
       "      <td>The stock market don’t make no sense to me[rem...</td>\n",
       "      <td>[]</td>\n",
       "      <td>[The stock market don’t make no sense to me[re...</td>\n",
       "      <td>[-1.0]</td>\n",
       "      <td>-1.000</td>\n",
       "    </tr>\n",
       "    <tr>\n",
       "      <th>42272</th>\n",
       "      <td>2021-03-15</td>\n",
       "      <td>t-carter41</td>\n",
       "      <td>Any recs on stocks information and research?I ...</td>\n",
       "      <td>[Motley Fool]</td>\n",
       "      <td>[Any recs on stocks information and research?I...</td>\n",
       "      <td>[-0.995, 0.996, -0.645]</td>\n",
       "      <td>-0.644</td>\n",
       "    </tr>\n",
       "    <tr>\n",
       "      <th>42273</th>\n",
       "      <td>2021-03-15</td>\n",
       "      <td>ImNotSmelly</td>\n",
       "      <td>Would anyone be surprised if these Chinese sto...</td>\n",
       "      <td>[CCP]</td>\n",
       "      <td>[Would anyone be surprised if these Chinese st...</td>\n",
       "      <td>[-0.998, -0.996, -0.999, 0.814]</td>\n",
       "      <td>-2.179</td>\n",
       "    </tr>\n",
       "    <tr>\n",
       "      <th>42274</th>\n",
       "      <td>2021-03-15</td>\n",
       "      <td>JollyGreeneGiants</td>\n",
       "      <td>KE Holdings [BEKE] posts strong fourth quarter...</td>\n",
       "      <td>[KE Holdings, GTV)1, financialsKE Holdings]</td>\n",
       "      <td>[KE Holdings [BEKE] posts strong fourth quarte...</td>\n",
       "      <td>[0.973, -0.619, 0.968, 0.965, 0.922, -0.886, 0...</td>\n",
       "      <td>5.221</td>\n",
       "    </tr>\n",
       "    <tr>\n",
       "      <th>42275</th>\n",
       "      <td>2021-03-15</td>\n",
       "      <td>wavefool</td>\n",
       "      <td>Debit Spread help[removed]</td>\n",
       "      <td>[]</td>\n",
       "      <td>[Debit Spread help[removed]]</td>\n",
       "      <td>[-0.949]</td>\n",
       "      <td>-0.949</td>\n",
       "    </tr>\n",
       "  </tbody>\n",
       "</table>\n",
       "</div>"
      ],
      "text/plain": [
       "            date                author  \\\n",
       "42256 2021-03-15          JoacoFerna24   \n",
       "42257 2021-03-15            Panditji15   \n",
       "42258 2021-03-15         inkslingerben   \n",
       "42259 2021-03-15       StaggerHiramLee   \n",
       "42260 2021-03-15          JoacoFerna24   \n",
       "42261 2021-03-15               BenniHB   \n",
       "42262 2021-03-15              drewgarr   \n",
       "42263 2021-03-15  StatisticianLoud7762   \n",
       "42264 2021-03-15   No-Consequence-8713   \n",
       "42265 2021-03-15  Scary_Marionberry140   \n",
       "42266 2021-03-15              zeppzapp   \n",
       "42267 2021-03-15          MegaTradeUSA   \n",
       "42268 2021-03-15          MegaTradeUSA   \n",
       "42269 2021-03-15              Merkypie   \n",
       "42270 2021-03-15            CoyoteClem   \n",
       "42271 2021-03-15        Bob__Kazamakis   \n",
       "42272 2021-03-15            t-carter41   \n",
       "42273 2021-03-15           ImNotSmelly   \n",
       "42274 2021-03-15     JollyGreeneGiants   \n",
       "42275 2021-03-15              wavefool   \n",
       "\n",
       "                                                    post  \\\n",
       "42256  $DNN due diligence - Helpful info on company a...   \n",
       "42257        PLTR bullish signal and trade idea[removed]   \n",
       "42258  SEC Sues California trader for alleged social ...   \n",
       "42259  I’m new. Why does it seem like being a pattern...   \n",
       "42260  $DNN Due Diligence - Helpful info on the compa...   \n",
       "42261                help with finance website?[removed]   \n",
       "42262  What’s your opinion on Shaw Stock priceWith th...   \n",
       "42263            CTRM IS GOING TO BLOW TOMMOROW[removed]   \n",
       "42264                       NIO buy buy buy buy[removed]   \n",
       "42265                              EXPR BUY NOW[removed]   \n",
       "42266  Luminar; $LAZRSo. After rading a bit about it,...   \n",
       "42267                       Dividend stocks/ETF[removed]   \n",
       "42268                Index funds recommendation[removed]   \n",
       "42269  Trading Foreign Stocks: OTC and VolatilityHey,...   \n",
       "42270  Taking a Capital LossDoes this technique work ...   \n",
       "42271  The stock market don’t make no sense to me[rem...   \n",
       "42272  Any recs on stocks information and research?I ...   \n",
       "42273  Would anyone be surprised if these Chinese sto...   \n",
       "42274  KE Holdings [BEKE] posts strong fourth quarter...   \n",
       "42275                         Debit Spread help[removed]   \n",
       "\n",
       "                                                    orgs  \\\n",
       "42256                                                 []   \n",
       "42257                                             [PLTR]   \n",
       "42258  [SEC, The U.S. Securities and Exchange Commiss...   \n",
       "42259                                                 []   \n",
       "42260                                                 []   \n",
       "42261                                                 []   \n",
       "42262                 [Shaw, Shaw Stock, Shaw I, Rogers]   \n",
       "42263                                                 []   \n",
       "42264                                                 []   \n",
       "42265                                                 []   \n",
       "42266                                            [Volvo]   \n",
       "42267                                         [Dividend]   \n",
       "42268                                                 []   \n",
       "42269  [VolatilityHey, TSE, SoftBank, Rakuten, BBJP, ...   \n",
       "42270                                           [Amazon]   \n",
       "42271                                                 []   \n",
       "42272                                      [Motley Fool]   \n",
       "42273                                              [CCP]   \n",
       "42274        [KE Holdings, GTV)1, financialsKE Holdings]   \n",
       "42275                                                 []   \n",
       "\n",
       "                                               sentences  \\\n",
       "42256  [$DNN due diligence - Helpful info on company ...   \n",
       "42257      [PLTR bullish signal and trade idea[removed]]   \n",
       "42258  [SEC Sues California trader for alleged social...   \n",
       "42259  [I’m new., Why does it seem like being a patte...   \n",
       "42260  [$DNN Due Diligence - Helpful info on the comp...   \n",
       "42261              [help with finance website?[removed]]   \n",
       "42262  [What’s your opinion on Shaw Stock priceWith t...   \n",
       "42263          [CTRM IS GOING TO BLOW TOMMOROW[removed]]   \n",
       "42264                     [NIO buy buy buy buy[removed]]   \n",
       "42265                            [EXPR BUY NOW[removed]]   \n",
       "42266  [Luminar; $LAZRSo., After rading a bit about i...   \n",
       "42267                     [Dividend stocks/ETF[removed]]   \n",
       "42268              [Index funds recommendation[removed]]   \n",
       "42269  [Trading Foreign Stocks: OTC and VolatilityHey...   \n",
       "42270  [Taking a Capital LossDoes this technique work...   \n",
       "42271  [The stock market don’t make no sense to me[re...   \n",
       "42272  [Any recs on stocks information and research?I...   \n",
       "42273  [Would anyone be surprised if these Chinese st...   \n",
       "42274  [KE Holdings [BEKE] posts strong fourth quarte...   \n",
       "42275                       [Debit Spread help[removed]]   \n",
       "\n",
       "                                                  scores  scores_sum  \n",
       "42256                                             [-1.0]      -1.000  \n",
       "42257                                           [-0.996]      -0.996  \n",
       "42258                    [-0.998, -0.761, 0.913, -0.929]      -1.775  \n",
       "42259                                    [0.999, -0.986]       0.013  \n",
       "42260                                           [-0.999]      -0.999  \n",
       "42261                                           [-0.991]      -0.991  \n",
       "42262                             [0.948, 0.867, -0.944]       0.871  \n",
       "42263                                             [-1.0]      -1.000  \n",
       "42264                                           [-0.999]      -0.999  \n",
       "42265                                           [-0.858]      -0.858  \n",
       "42266         [0.929, 0.87, 0.967, 0.879, -0.998, 0.865]       3.512  \n",
       "42267                                           [-0.989]      -0.989  \n",
       "42268                                           [-0.977]      -0.977  \n",
       "42269                                     [-0.622, -1.0]      -1.622  \n",
       "42270  [-0.943, -0.926, -1.0, -0.942, -0.607, -0.991,...      -6.279  \n",
       "42271                                             [-1.0]      -1.000  \n",
       "42272                            [-0.995, 0.996, -0.645]      -0.644  \n",
       "42273                    [-0.998, -0.996, -0.999, 0.814]      -2.179  \n",
       "42274  [0.973, -0.619, 0.968, 0.965, 0.922, -0.886, 0...       5.221  \n",
       "42275                                           [-0.949]      -0.949  "
      ]
     },
     "execution_count": 457,
     "metadata": {},
     "output_type": "execute_result"
    }
   ],
   "source": [
    "reddit_stocks.tail(20)"
   ]
  },
  {
   "cell_type": "code",
   "execution_count": 464,
   "metadata": {},
   "outputs": [],
   "source": [
    "reddit_copy = reddit_stocks.explode('orgs')\n",
    "\n",
    "reddit_copy.reset_index(drop=True, inplace=True)\n",
    "reddit_copy = reddit_copy.dropna()\n"
   ]
  },
  {
   "cell_type": "code",
   "execution_count": 545,
   "metadata": {},
   "outputs": [],
   "source": [
    "reddit_copy.to_csv('data/reddit_copy')"
   ]
  },
  {
   "cell_type": "code",
   "execution_count": 544,
   "metadata": {
    "scrolled": true
   },
   "outputs": [
    {
     "data": {
      "text/html": [
       "<div>\n",
       "<style scoped>\n",
       "    .dataframe tbody tr th:only-of-type {\n",
       "        vertical-align: middle;\n",
       "    }\n",
       "\n",
       "    .dataframe tbody tr th {\n",
       "        vertical-align: top;\n",
       "    }\n",
       "\n",
       "    .dataframe thead th {\n",
       "        text-align: right;\n",
       "    }\n",
       "</style>\n",
       "<table border=\"1\" class=\"dataframe\">\n",
       "  <thead>\n",
       "    <tr style=\"text-align: right;\">\n",
       "      <th></th>\n",
       "      <th>date</th>\n",
       "      <th>author</th>\n",
       "      <th>post</th>\n",
       "      <th>orgs</th>\n",
       "      <th>sentences</th>\n",
       "      <th>scores</th>\n",
       "      <th>scores_sum</th>\n",
       "    </tr>\n",
       "  </thead>\n",
       "  <tbody>\n",
       "    <tr>\n",
       "      <th>0</th>\n",
       "      <td>2021-01-01</td>\n",
       "      <td>izgustant</td>\n",
       "      <td>Question about the 2021 stocks and your opinio...</td>\n",
       "      <td>IRL</td>\n",
       "      <td>[Question about the 2021 stocks and your opini...</td>\n",
       "      <td>[0.985, 0.997, 0.983, -0.978, -0.963, -0.879, ...</td>\n",
       "      <td>-2.385</td>\n",
       "    </tr>\n",
       "    <tr>\n",
       "      <th>1</th>\n",
       "      <td>2021-01-01</td>\n",
       "      <td>izgustant</td>\n",
       "      <td>Question about the 2021 stocks and your opinio...</td>\n",
       "      <td>NASDAQ</td>\n",
       "      <td>[Question about the 2021 stocks and your opini...</td>\n",
       "      <td>[0.985, 0.997, 0.983, -0.978, -0.963, -0.879, ...</td>\n",
       "      <td>-2.385</td>\n",
       "    </tr>\n",
       "    <tr>\n",
       "      <th>2</th>\n",
       "      <td>2021-01-01</td>\n",
       "      <td>Kyle_Ace_22</td>\n",
       "      <td>Top Stock Picks For 2021?What stocks, etf's, o...</td>\n",
       "      <td>AAPL</td>\n",
       "      <td>[Top Stock Picks For 2021?What stocks, etf's, ...</td>\n",
       "      <td>[0.997, 0.974, 0.963]</td>\n",
       "      <td>2.934</td>\n",
       "    </tr>\n",
       "    <tr>\n",
       "      <th>3</th>\n",
       "      <td>2021-01-01</td>\n",
       "      <td>Kyle_Ace_22</td>\n",
       "      <td>Top Stock Picks For 2021?What stocks, etf's, o...</td>\n",
       "      <td>ICLN</td>\n",
       "      <td>[Top Stock Picks For 2021?What stocks, etf's, ...</td>\n",
       "      <td>[0.997, 0.974, 0.963]</td>\n",
       "      <td>2.934</td>\n",
       "    </tr>\n",
       "    <tr>\n",
       "      <th>4</th>\n",
       "      <td>2021-01-01</td>\n",
       "      <td>Kyle_Ace_22</td>\n",
       "      <td>Top Stock Picks For 2021?What stocks, etf's, o...</td>\n",
       "      <td>AMZN</td>\n",
       "      <td>[Top Stock Picks For 2021?What stocks, etf's, ...</td>\n",
       "      <td>[0.997, 0.974, 0.963]</td>\n",
       "      <td>2.934</td>\n",
       "    </tr>\n",
       "  </tbody>\n",
       "</table>\n",
       "</div>"
      ],
      "text/plain": [
       "        date       author                                               post  \\\n",
       "0 2021-01-01    izgustant  Question about the 2021 stocks and your opinio...   \n",
       "1 2021-01-01    izgustant  Question about the 2021 stocks and your opinio...   \n",
       "2 2021-01-01  Kyle_Ace_22  Top Stock Picks For 2021?What stocks, etf's, o...   \n",
       "3 2021-01-01  Kyle_Ace_22  Top Stock Picks For 2021?What stocks, etf's, o...   \n",
       "4 2021-01-01  Kyle_Ace_22  Top Stock Picks For 2021?What stocks, etf's, o...   \n",
       "\n",
       "     orgs                                          sentences  \\\n",
       "0     IRL  [Question about the 2021 stocks and your opini...   \n",
       "1  NASDAQ  [Question about the 2021 stocks and your opini...   \n",
       "2    AAPL  [Top Stock Picks For 2021?What stocks, etf's, ...   \n",
       "3    ICLN  [Top Stock Picks For 2021?What stocks, etf's, ...   \n",
       "4    AMZN  [Top Stock Picks For 2021?What stocks, etf's, ...   \n",
       "\n",
       "                                              scores  scores_sum  \n",
       "0  [0.985, 0.997, 0.983, -0.978, -0.963, -0.879, ...      -2.385  \n",
       "1  [0.985, 0.997, 0.983, -0.978, -0.963, -0.879, ...      -2.385  \n",
       "2                              [0.997, 0.974, 0.963]       2.934  \n",
       "3                              [0.997, 0.974, 0.963]       2.934  \n",
       "4                              [0.997, 0.974, 0.963]       2.934  "
      ]
     },
     "execution_count": 544,
     "metadata": {},
     "output_type": "execute_result"
    }
   ],
   "source": [
    "#reddit_copy.reset_index(drop=True, inplace=True)\n",
    "reddit_copy.head()\n",
    "#reddit_copy['orgs'].isna().sum()"
   ]
  },
  {
   "cell_type": "code",
   "execution_count": 603,
   "metadata": {},
   "outputs": [
    {
     "data": {
      "text/html": [
       "<div>\n",
       "<style scoped>\n",
       "    .dataframe tbody tr th:only-of-type {\n",
       "        vertical-align: middle;\n",
       "    }\n",
       "\n",
       "    .dataframe tbody tr th {\n",
       "        vertical-align: top;\n",
       "    }\n",
       "\n",
       "    .dataframe thead th {\n",
       "        text-align: right;\n",
       "    }\n",
       "</style>\n",
       "<table border=\"1\" class=\"dataframe\">\n",
       "  <thead>\n",
       "    <tr style=\"text-align: right;\">\n",
       "      <th></th>\n",
       "      <th>date</th>\n",
       "      <th>scores_sum</th>\n",
       "    </tr>\n",
       "  </thead>\n",
       "  <tbody>\n",
       "    <tr>\n",
       "      <th>0</th>\n",
       "      <td>2021-01-01</td>\n",
       "      <td>0.780687</td>\n",
       "    </tr>\n",
       "    <tr>\n",
       "      <th>1</th>\n",
       "      <td>2021-01-02</td>\n",
       "      <td>-17.502110</td>\n",
       "    </tr>\n",
       "    <tr>\n",
       "      <th>2</th>\n",
       "      <td>2021-01-03</td>\n",
       "      <td>-2.139727</td>\n",
       "    </tr>\n",
       "    <tr>\n",
       "      <th>3</th>\n",
       "      <td>2021-01-04</td>\n",
       "      <td>2.398160</td>\n",
       "    </tr>\n",
       "    <tr>\n",
       "      <th>4</th>\n",
       "      <td>2021-01-05</td>\n",
       "      <td>-4.835623</td>\n",
       "    </tr>\n",
       "    <tr>\n",
       "      <th>5</th>\n",
       "      <td>2021-01-06</td>\n",
       "      <td>-2.440988</td>\n",
       "    </tr>\n",
       "    <tr>\n",
       "      <th>6</th>\n",
       "      <td>2021-01-07</td>\n",
       "      <td>-4.440185</td>\n",
       "    </tr>\n",
       "    <tr>\n",
       "      <th>7</th>\n",
       "      <td>2021-01-08</td>\n",
       "      <td>-3.209271</td>\n",
       "    </tr>\n",
       "    <tr>\n",
       "      <th>8</th>\n",
       "      <td>2021-01-09</td>\n",
       "      <td>-18.900658</td>\n",
       "    </tr>\n",
       "    <tr>\n",
       "      <th>9</th>\n",
       "      <td>2021-01-10</td>\n",
       "      <td>3.550024</td>\n",
       "    </tr>\n",
       "    <tr>\n",
       "      <th>10</th>\n",
       "      <td>2021-01-11</td>\n",
       "      <td>-1.774196</td>\n",
       "    </tr>\n",
       "    <tr>\n",
       "      <th>11</th>\n",
       "      <td>2021-01-12</td>\n",
       "      <td>-0.927357</td>\n",
       "    </tr>\n",
       "    <tr>\n",
       "      <th>12</th>\n",
       "      <td>2021-01-13</td>\n",
       "      <td>-2.059438</td>\n",
       "    </tr>\n",
       "    <tr>\n",
       "      <th>13</th>\n",
       "      <td>2021-01-14</td>\n",
       "      <td>-0.813342</td>\n",
       "    </tr>\n",
       "    <tr>\n",
       "      <th>14</th>\n",
       "      <td>2021-01-15</td>\n",
       "      <td>-6.217716</td>\n",
       "    </tr>\n",
       "    <tr>\n",
       "      <th>15</th>\n",
       "      <td>2021-01-16</td>\n",
       "      <td>-10.606545</td>\n",
       "    </tr>\n",
       "    <tr>\n",
       "      <th>16</th>\n",
       "      <td>2021-01-17</td>\n",
       "      <td>0.486739</td>\n",
       "    </tr>\n",
       "    <tr>\n",
       "      <th>17</th>\n",
       "      <td>2021-01-18</td>\n",
       "      <td>-1.189845</td>\n",
       "    </tr>\n",
       "    <tr>\n",
       "      <th>18</th>\n",
       "      <td>2021-01-19</td>\n",
       "      <td>-1.352494</td>\n",
       "    </tr>\n",
       "    <tr>\n",
       "      <th>19</th>\n",
       "      <td>2021-01-20</td>\n",
       "      <td>-1.385818</td>\n",
       "    </tr>\n",
       "  </tbody>\n",
       "</table>\n",
       "</div>"
      ],
      "text/plain": [
       "         date  scores_sum\n",
       "0  2021-01-01    0.780687\n",
       "1  2021-01-02  -17.502110\n",
       "2  2021-01-03   -2.139727\n",
       "3  2021-01-04    2.398160\n",
       "4  2021-01-05   -4.835623\n",
       "5  2021-01-06   -2.440988\n",
       "6  2021-01-07   -4.440185\n",
       "7  2021-01-08   -3.209271\n",
       "8  2021-01-09  -18.900658\n",
       "9  2021-01-10    3.550024\n",
       "10 2021-01-11   -1.774196\n",
       "11 2021-01-12   -0.927357\n",
       "12 2021-01-13   -2.059438\n",
       "13 2021-01-14   -0.813342\n",
       "14 2021-01-15   -6.217716\n",
       "15 2021-01-16  -10.606545\n",
       "16 2021-01-17    0.486739\n",
       "17 2021-01-18   -1.189845\n",
       "18 2021-01-19   -1.352494\n",
       "19 2021-01-20   -1.385818"
      ]
     },
     "execution_count": 603,
     "metadata": {},
     "output_type": "execute_result"
    }
   ],
   "source": [
    "spy_df = pd.DataFrame(reddit_copy.groupby([\"date\"], as_index=False).agg({'scores_sum':'mean'}))\n",
    "spy_df.head(20)"
   ]
  },
  {
   "cell_type": "code",
   "execution_count": 605,
   "metadata": {},
   "outputs": [
    {
     "data": {
      "text/html": [
       "<div>\n",
       "<style scoped>\n",
       "    .dataframe tbody tr th:only-of-type {\n",
       "        vertical-align: middle;\n",
       "    }\n",
       "\n",
       "    .dataframe tbody tr th {\n",
       "        vertical-align: top;\n",
       "    }\n",
       "\n",
       "    .dataframe thead th {\n",
       "        text-align: right;\n",
       "    }\n",
       "</style>\n",
       "<table border=\"1\" class=\"dataframe\">\n",
       "  <thead>\n",
       "    <tr style=\"text-align: right;\">\n",
       "      <th></th>\n",
       "      <th>date</th>\n",
       "      <th>sentiment_score</th>\n",
       "    </tr>\n",
       "  </thead>\n",
       "  <tbody>\n",
       "    <tr>\n",
       "      <th>0</th>\n",
       "      <td>2021-01-01</td>\n",
       "      <td>0.780687</td>\n",
       "    </tr>\n",
       "    <tr>\n",
       "      <th>1</th>\n",
       "      <td>2021-01-02</td>\n",
       "      <td>-17.502110</td>\n",
       "    </tr>\n",
       "    <tr>\n",
       "      <th>2</th>\n",
       "      <td>2021-01-03</td>\n",
       "      <td>-2.139727</td>\n",
       "    </tr>\n",
       "    <tr>\n",
       "      <th>3</th>\n",
       "      <td>2021-01-04</td>\n",
       "      <td>2.398160</td>\n",
       "    </tr>\n",
       "    <tr>\n",
       "      <th>4</th>\n",
       "      <td>2021-01-05</td>\n",
       "      <td>-4.835623</td>\n",
       "    </tr>\n",
       "    <tr>\n",
       "      <th>5</th>\n",
       "      <td>2021-01-06</td>\n",
       "      <td>-2.440988</td>\n",
       "    </tr>\n",
       "    <tr>\n",
       "      <th>6</th>\n",
       "      <td>2021-01-07</td>\n",
       "      <td>-4.440185</td>\n",
       "    </tr>\n",
       "    <tr>\n",
       "      <th>7</th>\n",
       "      <td>2021-01-08</td>\n",
       "      <td>-3.209271</td>\n",
       "    </tr>\n",
       "    <tr>\n",
       "      <th>8</th>\n",
       "      <td>2021-01-09</td>\n",
       "      <td>-18.900658</td>\n",
       "    </tr>\n",
       "    <tr>\n",
       "      <th>9</th>\n",
       "      <td>2021-01-10</td>\n",
       "      <td>3.550024</td>\n",
       "    </tr>\n",
       "    <tr>\n",
       "      <th>10</th>\n",
       "      <td>2021-01-11</td>\n",
       "      <td>-1.774196</td>\n",
       "    </tr>\n",
       "    <tr>\n",
       "      <th>11</th>\n",
       "      <td>2021-01-12</td>\n",
       "      <td>-0.927357</td>\n",
       "    </tr>\n",
       "    <tr>\n",
       "      <th>12</th>\n",
       "      <td>2021-01-13</td>\n",
       "      <td>-2.059438</td>\n",
       "    </tr>\n",
       "    <tr>\n",
       "      <th>13</th>\n",
       "      <td>2021-01-14</td>\n",
       "      <td>-0.813342</td>\n",
       "    </tr>\n",
       "    <tr>\n",
       "      <th>14</th>\n",
       "      <td>2021-01-15</td>\n",
       "      <td>-6.217716</td>\n",
       "    </tr>\n",
       "    <tr>\n",
       "      <th>15</th>\n",
       "      <td>2021-01-16</td>\n",
       "      <td>-10.606545</td>\n",
       "    </tr>\n",
       "    <tr>\n",
       "      <th>16</th>\n",
       "      <td>2021-01-17</td>\n",
       "      <td>0.486739</td>\n",
       "    </tr>\n",
       "    <tr>\n",
       "      <th>17</th>\n",
       "      <td>2021-01-18</td>\n",
       "      <td>-1.189845</td>\n",
       "    </tr>\n",
       "    <tr>\n",
       "      <th>18</th>\n",
       "      <td>2021-01-19</td>\n",
       "      <td>-1.352494</td>\n",
       "    </tr>\n",
       "    <tr>\n",
       "      <th>19</th>\n",
       "      <td>2021-01-20</td>\n",
       "      <td>-1.385818</td>\n",
       "    </tr>\n",
       "  </tbody>\n",
       "</table>\n",
       "</div>"
      ],
      "text/plain": [
       "         date  sentiment_score\n",
       "0  2021-01-01         0.780687\n",
       "1  2021-01-02       -17.502110\n",
       "2  2021-01-03        -2.139727\n",
       "3  2021-01-04         2.398160\n",
       "4  2021-01-05        -4.835623\n",
       "5  2021-01-06        -2.440988\n",
       "6  2021-01-07        -4.440185\n",
       "7  2021-01-08        -3.209271\n",
       "8  2021-01-09       -18.900658\n",
       "9  2021-01-10         3.550024\n",
       "10 2021-01-11        -1.774196\n",
       "11 2021-01-12        -0.927357\n",
       "12 2021-01-13        -2.059438\n",
       "13 2021-01-14        -0.813342\n",
       "14 2021-01-15        -6.217716\n",
       "15 2021-01-16       -10.606545\n",
       "16 2021-01-17         0.486739\n",
       "17 2021-01-18        -1.189845\n",
       "18 2021-01-19        -1.352494\n",
       "19 2021-01-20        -1.385818"
      ]
     },
     "execution_count": 605,
     "metadata": {},
     "output_type": "execute_result"
    }
   ],
   "source": [
    "spy_df.columns = ['date', 'sentiment_score']\n",
    "spy_df.head(20)"
   ]
  },
  {
   "cell_type": "code",
   "execution_count": 610,
   "metadata": {},
   "outputs": [
    {
     "ename": "KeyError",
     "evalue": "'date'",
     "output_type": "error",
     "traceback": [
      "\u001b[1;31m---------------------------------------------------------------------------\u001b[0m",
      "\u001b[1;31mKeyError\u001b[0m                                  Traceback (most recent call last)",
      "\u001b[1;32m~\\anaconda3\\lib\\site-packages\\pandas\\core\\indexes\\base.py\u001b[0m in \u001b[0;36mget_loc\u001b[1;34m(self, key, method, tolerance)\u001b[0m\n\u001b[0;32m   2894\u001b[0m             \u001b[1;32mtry\u001b[0m\u001b[1;33m:\u001b[0m\u001b[1;33m\u001b[0m\u001b[1;33m\u001b[0m\u001b[0m\n\u001b[1;32m-> 2895\u001b[1;33m                 \u001b[1;32mreturn\u001b[0m \u001b[0mself\u001b[0m\u001b[1;33m.\u001b[0m\u001b[0m_engine\u001b[0m\u001b[1;33m.\u001b[0m\u001b[0mget_loc\u001b[0m\u001b[1;33m(\u001b[0m\u001b[0mcasted_key\u001b[0m\u001b[1;33m)\u001b[0m\u001b[1;33m\u001b[0m\u001b[1;33m\u001b[0m\u001b[0m\n\u001b[0m\u001b[0;32m   2896\u001b[0m             \u001b[1;32mexcept\u001b[0m \u001b[0mKeyError\u001b[0m \u001b[1;32mas\u001b[0m \u001b[0merr\u001b[0m\u001b[1;33m:\u001b[0m\u001b[1;33m\u001b[0m\u001b[1;33m\u001b[0m\u001b[0m\n",
      "\u001b[1;32mpandas\\_libs\\index.pyx\u001b[0m in \u001b[0;36mpandas._libs.index.IndexEngine.get_loc\u001b[1;34m()\u001b[0m\n",
      "\u001b[1;32mpandas\\_libs\\index.pyx\u001b[0m in \u001b[0;36mpandas._libs.index.IndexEngine.get_loc\u001b[1;34m()\u001b[0m\n",
      "\u001b[1;32mpandas\\_libs\\hashtable_class_helper.pxi\u001b[0m in \u001b[0;36mpandas._libs.hashtable.PyObjectHashTable.get_item\u001b[1;34m()\u001b[0m\n",
      "\u001b[1;32mpandas\\_libs\\hashtable_class_helper.pxi\u001b[0m in \u001b[0;36mpandas._libs.hashtable.PyObjectHashTable.get_item\u001b[1;34m()\u001b[0m\n",
      "\u001b[1;31mKeyError\u001b[0m: 'date'",
      "\nThe above exception was the direct cause of the following exception:\n",
      "\u001b[1;31mKeyError\u001b[0m                                  Traceback (most recent call last)",
      "\u001b[1;32m<ipython-input-610-88db1d230309>\u001b[0m in \u001b[0;36m<module>\u001b[1;34m\u001b[0m\n\u001b[0;32m      6\u001b[0m \u001b[0mspy\u001b[0m\u001b[1;33m=\u001b[0m\u001b[0mffn\u001b[0m\u001b[1;33m.\u001b[0m\u001b[0mget\u001b[0m\u001b[1;33m(\u001b[0m\u001b[1;34m'spy'\u001b[0m\u001b[1;33m,\u001b[0m \u001b[0mstart\u001b[0m\u001b[1;33m=\u001b[0m\u001b[1;34m'2021-01-01'\u001b[0m\u001b[1;33m)\u001b[0m\u001b[1;33m\u001b[0m\u001b[1;33m\u001b[0m\u001b[0m\n\u001b[0;32m      7\u001b[0m \u001b[0mspy_vals\u001b[0m\u001b[1;33m=\u001b[0m\u001b[1;33m[\u001b[0m\u001b[1;33m]\u001b[0m\u001b[1;33m\u001b[0m\u001b[1;33m\u001b[0m\u001b[0m\n\u001b[1;32m----> 8\u001b[1;33m \u001b[1;32mfor\u001b[0m \u001b[0mdate\u001b[0m \u001b[1;32min\u001b[0m \u001b[0mspy_df\u001b[0m\u001b[1;33m[\u001b[0m\u001b[1;34m'date'\u001b[0m\u001b[1;33m]\u001b[0m\u001b[1;33m.\u001b[0m\u001b[0mtolist\u001b[0m\u001b[1;33m(\u001b[0m\u001b[1;33m)\u001b[0m\u001b[1;33m:\u001b[0m\u001b[1;33m\u001b[0m\u001b[1;33m\u001b[0m\u001b[0m\n\u001b[0m\u001b[0;32m      9\u001b[0m     \u001b[1;32mtry\u001b[0m\u001b[1;33m:\u001b[0m\u001b[1;33m\u001b[0m\u001b[1;33m\u001b[0m\u001b[0m\n\u001b[0;32m     10\u001b[0m         \u001b[0mspy_vals\u001b[0m\u001b[1;33m.\u001b[0m\u001b[0mappend\u001b[0m\u001b[1;33m(\u001b[0m\u001b[0mfloat\u001b[0m\u001b[1;33m(\u001b[0m\u001b[0mspy\u001b[0m\u001b[1;33m.\u001b[0m\u001b[0mloc\u001b[0m\u001b[1;33m[\u001b[0m\u001b[0mdate\u001b[0m\u001b[1;33m]\u001b[0m\u001b[1;33m)\u001b[0m\u001b[1;33m)\u001b[0m\u001b[1;33m\u001b[0m\u001b[1;33m\u001b[0m\u001b[0m\n",
      "\u001b[1;32m~\\anaconda3\\lib\\site-packages\\pandas\\core\\frame.py\u001b[0m in \u001b[0;36m__getitem__\u001b[1;34m(self, key)\u001b[0m\n\u001b[0;32m   2900\u001b[0m             \u001b[1;32mif\u001b[0m \u001b[0mself\u001b[0m\u001b[1;33m.\u001b[0m\u001b[0mcolumns\u001b[0m\u001b[1;33m.\u001b[0m\u001b[0mnlevels\u001b[0m \u001b[1;33m>\u001b[0m \u001b[1;36m1\u001b[0m\u001b[1;33m:\u001b[0m\u001b[1;33m\u001b[0m\u001b[1;33m\u001b[0m\u001b[0m\n\u001b[0;32m   2901\u001b[0m                 \u001b[1;32mreturn\u001b[0m \u001b[0mself\u001b[0m\u001b[1;33m.\u001b[0m\u001b[0m_getitem_multilevel\u001b[0m\u001b[1;33m(\u001b[0m\u001b[0mkey\u001b[0m\u001b[1;33m)\u001b[0m\u001b[1;33m\u001b[0m\u001b[1;33m\u001b[0m\u001b[0m\n\u001b[1;32m-> 2902\u001b[1;33m             \u001b[0mindexer\u001b[0m \u001b[1;33m=\u001b[0m \u001b[0mself\u001b[0m\u001b[1;33m.\u001b[0m\u001b[0mcolumns\u001b[0m\u001b[1;33m.\u001b[0m\u001b[0mget_loc\u001b[0m\u001b[1;33m(\u001b[0m\u001b[0mkey\u001b[0m\u001b[1;33m)\u001b[0m\u001b[1;33m\u001b[0m\u001b[1;33m\u001b[0m\u001b[0m\n\u001b[0m\u001b[0;32m   2903\u001b[0m             \u001b[1;32mif\u001b[0m \u001b[0mis_integer\u001b[0m\u001b[1;33m(\u001b[0m\u001b[0mindexer\u001b[0m\u001b[1;33m)\u001b[0m\u001b[1;33m:\u001b[0m\u001b[1;33m\u001b[0m\u001b[1;33m\u001b[0m\u001b[0m\n\u001b[0;32m   2904\u001b[0m                 \u001b[0mindexer\u001b[0m \u001b[1;33m=\u001b[0m \u001b[1;33m[\u001b[0m\u001b[0mindexer\u001b[0m\u001b[1;33m]\u001b[0m\u001b[1;33m\u001b[0m\u001b[1;33m\u001b[0m\u001b[0m\n",
      "\u001b[1;32m~\\anaconda3\\lib\\site-packages\\pandas\\core\\indexes\\base.py\u001b[0m in \u001b[0;36mget_loc\u001b[1;34m(self, key, method, tolerance)\u001b[0m\n\u001b[0;32m   2895\u001b[0m                 \u001b[1;32mreturn\u001b[0m \u001b[0mself\u001b[0m\u001b[1;33m.\u001b[0m\u001b[0m_engine\u001b[0m\u001b[1;33m.\u001b[0m\u001b[0mget_loc\u001b[0m\u001b[1;33m(\u001b[0m\u001b[0mcasted_key\u001b[0m\u001b[1;33m)\u001b[0m\u001b[1;33m\u001b[0m\u001b[1;33m\u001b[0m\u001b[0m\n\u001b[0;32m   2896\u001b[0m             \u001b[1;32mexcept\u001b[0m \u001b[0mKeyError\u001b[0m \u001b[1;32mas\u001b[0m \u001b[0merr\u001b[0m\u001b[1;33m:\u001b[0m\u001b[1;33m\u001b[0m\u001b[1;33m\u001b[0m\u001b[0m\n\u001b[1;32m-> 2897\u001b[1;33m                 \u001b[1;32mraise\u001b[0m \u001b[0mKeyError\u001b[0m\u001b[1;33m(\u001b[0m\u001b[0mkey\u001b[0m\u001b[1;33m)\u001b[0m \u001b[1;32mfrom\u001b[0m \u001b[0merr\u001b[0m\u001b[1;33m\u001b[0m\u001b[1;33m\u001b[0m\u001b[0m\n\u001b[0m\u001b[0;32m   2898\u001b[0m \u001b[1;33m\u001b[0m\u001b[0m\n\u001b[0;32m   2899\u001b[0m         \u001b[1;32mif\u001b[0m \u001b[0mtolerance\u001b[0m \u001b[1;32mis\u001b[0m \u001b[1;32mnot\u001b[0m \u001b[1;32mNone\u001b[0m\u001b[1;33m:\u001b[0m\u001b[1;33m\u001b[0m\u001b[1;33m\u001b[0m\u001b[0m\n",
      "\u001b[1;31mKeyError\u001b[0m: 'date'"
     ]
    }
   ],
   "source": [
    "import ffn #for loading financial data\n",
    "\n",
    "## merge stock price and plot\n",
    "\n",
    "spy=ffn.get('spy', start='2021-01-01')\n",
    "spy_vals=[]\n",
    "for date in spy_df['date'].tolist():\n",
    "    try:\n",
    "        spy_vals.append(float(spy.loc[date]))\n",
    "    except KeyError:\n",
    "        spy_vals.append(None)  \n",
    "spy_df['spy']=spy_vals\n",
    "\n",
    "spy_df=spy_df[['date','sentiment_score','spy']]\n",
    "spy_df=spy_df.set_index('date')\n",
    "spy_df=spy_df[df_spy['spy'].notna()]\n",
    "\n",
    "spy_df.to_csv('data/positive+negative_sentiment_data.csv')"
   ]
  },
  {
   "cell_type": "code",
   "execution_count": 695,
   "metadata": {},
   "outputs": [],
   "source": [
    "AMC_sentiments = reddit_copy[reddit_copy['orgs'] == 'AMC']"
   ]
  },
  {
   "cell_type": "code",
   "execution_count": 698,
   "metadata": {},
   "outputs": [
    {
     "data": {
      "text/html": [
       "<div>\n",
       "<style scoped>\n",
       "    .dataframe tbody tr th:only-of-type {\n",
       "        vertical-align: middle;\n",
       "    }\n",
       "\n",
       "    .dataframe tbody tr th {\n",
       "        vertical-align: top;\n",
       "    }\n",
       "\n",
       "    .dataframe thead th {\n",
       "        text-align: right;\n",
       "    }\n",
       "</style>\n",
       "<table border=\"1\" class=\"dataframe\">\n",
       "  <thead>\n",
       "    <tr style=\"text-align: right;\">\n",
       "      <th></th>\n",
       "      <th>date</th>\n",
       "      <th>orgs</th>\n",
       "      <th>sentiment_score</th>\n",
       "    </tr>\n",
       "  </thead>\n",
       "  <tbody>\n",
       "    <tr>\n",
       "      <th>0</th>\n",
       "      <td>2021-01-04</td>\n",
       "      <td>AMC</td>\n",
       "      <td>-4.7360</td>\n",
       "    </tr>\n",
       "    <tr>\n",
       "      <th>1</th>\n",
       "      <td>2021-01-05</td>\n",
       "      <td>AMC</td>\n",
       "      <td>-2.0960</td>\n",
       "    </tr>\n",
       "    <tr>\n",
       "      <th>2</th>\n",
       "      <td>2021-01-07</td>\n",
       "      <td>AMC</td>\n",
       "      <td>-2.7360</td>\n",
       "    </tr>\n",
       "    <tr>\n",
       "      <th>3</th>\n",
       "      <td>2021-01-08</td>\n",
       "      <td>AMC</td>\n",
       "      <td>-1.6270</td>\n",
       "    </tr>\n",
       "    <tr>\n",
       "      <th>4</th>\n",
       "      <td>2021-01-15</td>\n",
       "      <td>AMC</td>\n",
       "      <td>-0.1025</td>\n",
       "    </tr>\n",
       "  </tbody>\n",
       "</table>\n",
       "</div>"
      ],
      "text/plain": [
       "        date orgs  sentiment_score\n",
       "0 2021-01-04  AMC          -4.7360\n",
       "1 2021-01-05  AMC          -2.0960\n",
       "2 2021-01-07  AMC          -2.7360\n",
       "3 2021-01-08  AMC          -1.6270\n",
       "4 2021-01-15  AMC          -0.1025"
      ]
     },
     "execution_count": 698,
     "metadata": {},
     "output_type": "execute_result"
    }
   ],
   "source": [
    "AMC_sentiments = pd.DataFrame(AMC_sentiments.groupby([\"date\", \"orgs\"], as_index=False)[\"scores_sum\"].mean())\n",
    "\n",
    "AMC_sentiments.columns = ['date','orgs', 'sentiment_score']\n",
    "\n",
    "AMC_sentiments.head()"
   ]
  },
  {
   "cell_type": "code",
   "execution_count": 700,
   "metadata": {},
   "outputs": [],
   "source": [
    "## merge stock price and plot for apple\n",
    "\n",
    "AMC=ffn.get('AMC', start='2021-01-01')\n",
    "AMC_vals=[]\n",
    "for date in AMC_sentiments['date'].tolist():\n",
    "    try:\n",
    "        AMC_vals.append(float(AMC.loc[date]))\n",
    "    except KeyError:\n",
    "        AMC_vals.append(None)  \n",
    "AMC_sentiments['AMC']=AMC_vals\n",
    "\n",
    "AMC_sentiments=AMC_sentiments[['date','sentiment_score','AMC']]\n",
    "AMC_sentiments=AMC_sentiments.set_index('date')\n",
    "AMC_sentiments=AMC_sentiments[AMC_sentiments['AMC'].notna()]\n",
    "\n",
    "#spy_df.to_csv('data/positive+negative_sentiment_data.csv')"
   ]
  },
  {
   "cell_type": "code",
   "execution_count": 701,
   "metadata": {},
   "outputs": [
    {
     "data": {
      "text/html": [
       "<div>\n",
       "<style scoped>\n",
       "    .dataframe tbody tr th:only-of-type {\n",
       "        vertical-align: middle;\n",
       "    }\n",
       "\n",
       "    .dataframe tbody tr th {\n",
       "        vertical-align: top;\n",
       "    }\n",
       "\n",
       "    .dataframe thead th {\n",
       "        text-align: right;\n",
       "    }\n",
       "</style>\n",
       "<table border=\"1\" class=\"dataframe\">\n",
       "  <thead>\n",
       "    <tr style=\"text-align: right;\">\n",
       "      <th></th>\n",
       "      <th>sentiment_score</th>\n",
       "      <th>AMC</th>\n",
       "    </tr>\n",
       "    <tr>\n",
       "      <th>date</th>\n",
       "      <th></th>\n",
       "      <th></th>\n",
       "    </tr>\n",
       "  </thead>\n",
       "  <tbody>\n",
       "    <tr>\n",
       "      <th>2021-01-04</th>\n",
       "      <td>-4.7360</td>\n",
       "      <td>2.01</td>\n",
       "    </tr>\n",
       "    <tr>\n",
       "      <th>2021-01-05</th>\n",
       "      <td>-2.0960</td>\n",
       "      <td>1.98</td>\n",
       "    </tr>\n",
       "    <tr>\n",
       "      <th>2021-01-07</th>\n",
       "      <td>-2.7360</td>\n",
       "      <td>2.05</td>\n",
       "    </tr>\n",
       "    <tr>\n",
       "      <th>2021-01-08</th>\n",
       "      <td>-1.6270</td>\n",
       "      <td>2.14</td>\n",
       "    </tr>\n",
       "    <tr>\n",
       "      <th>2021-01-15</th>\n",
       "      <td>-0.1025</td>\n",
       "      <td>2.33</td>\n",
       "    </tr>\n",
       "  </tbody>\n",
       "</table>\n",
       "</div>"
      ],
      "text/plain": [
       "            sentiment_score   AMC\n",
       "date                             \n",
       "2021-01-04          -4.7360  2.01\n",
       "2021-01-05          -2.0960  1.98\n",
       "2021-01-07          -2.7360  2.05\n",
       "2021-01-08          -1.6270  2.14\n",
       "2021-01-15          -0.1025  2.33"
      ]
     },
     "execution_count": 701,
     "metadata": {},
     "output_type": "execute_result"
    }
   ],
   "source": [
    "AMC_sentiments.head()"
   ]
  },
  {
   "cell_type": "code",
   "execution_count": 702,
   "metadata": {},
   "outputs": [],
   "source": [
    "AMC_sentiments.to_csv('data/amc_sentiments.csv')"
   ]
  },
  {
   "cell_type": "code",
   "execution_count": 541,
   "metadata": {},
   "outputs": [],
   "source": [
    "\n",
    "#rolling average \n",
    "test_14['14day'] = test_14.scores_sum.rolling(14).mean().shift(-7)"
   ]
  },
  {
   "cell_type": "code",
   "execution_count": 480,
   "metadata": {},
   "outputs": [],
   "source": [
    "import plotly.express as px\n",
    "import plotly.graph_objects as go"
   ]
  },
  {
   "cell_type": "code",
   "execution_count": 536,
   "metadata": {},
   "outputs": [
    {
     "data": {
      "application/vnd.plotly.v1+json": {
       "config": {
        "plotlyServerURL": "https://plot.ly"
       },
       "data": [
        {
         "type": "scatter",
         "x": [
          "2021-01-01T00:00:00",
          "2021-01-02T00:00:00",
          "2021-01-03T00:00:00",
          "2021-01-04T00:00:00",
          "2021-01-05T00:00:00",
          "2021-01-06T00:00:00",
          "2021-01-07T00:00:00",
          "2021-01-08T00:00:00",
          "2021-01-09T00:00:00",
          "2021-01-10T00:00:00",
          "2021-01-11T00:00:00",
          "2021-01-12T00:00:00",
          "2021-01-13T00:00:00",
          "2021-01-14T00:00:00",
          "2021-01-15T00:00:00",
          "2021-01-16T00:00:00",
          "2021-01-17T00:00:00",
          "2021-01-18T00:00:00",
          "2021-01-19T00:00:00",
          "2021-01-20T00:00:00",
          "2021-01-21T00:00:00",
          "2021-01-22T00:00:00",
          "2021-01-23T00:00:00",
          "2021-01-24T00:00:00",
          "2021-01-25T00:00:00",
          "2021-01-27T00:00:00",
          "2021-01-28T00:00:00",
          "2021-01-29T00:00:00",
          "2021-01-31T00:00:00",
          "2021-02-01T00:00:00",
          "2021-02-02T00:00:00",
          "2021-02-03T00:00:00",
          "2021-02-04T00:00:00",
          "2021-02-08T00:00:00",
          "2021-02-09T00:00:00",
          "2021-02-10T00:00:00",
          "2021-02-11T00:00:00",
          "2021-02-12T00:00:00",
          "2021-02-13T00:00:00",
          "2021-02-14T00:00:00",
          "2021-02-15T00:00:00",
          "2021-02-16T00:00:00",
          "2021-02-17T00:00:00",
          "2021-02-18T00:00:00",
          "2021-02-19T00:00:00",
          "2021-02-20T00:00:00",
          "2021-02-21T00:00:00",
          "2021-02-22T00:00:00",
          "2021-02-23T00:00:00",
          "2021-02-24T00:00:00",
          "2021-02-25T00:00:00",
          "2021-02-26T00:00:00",
          "2021-02-27T00:00:00",
          "2021-02-28T00:00:00",
          "2021-03-02T00:00:00",
          "2021-03-03T00:00:00",
          "2021-03-04T00:00:00",
          "2021-03-07T00:00:00",
          "2021-03-08T00:00:00",
          "2021-03-09T00:00:00",
          "2021-03-10T00:00:00",
          "2021-03-11T00:00:00",
          "2021-03-12T00:00:00",
          "2021-03-14T00:00:00",
          "2021-03-15T00:00:00"
         ],
         "y": [
          1.885,
          -69.884,
          0.139,
          -2.8045,
          1.193,
          -2.3085,
          -1.5766,
          -5.9076666666666675,
          -1.12,
          -0.49250000000000005,
          0.2764,
          -1.33175,
          -2.433666666666667,
          -2.142,
          -0.6046666666666667,
          -1.458,
          -2.864,
          -1.5311666666666668,
          -3.189,
          -1.8203333333333334,
          -2.4216666666666664,
          -0.14299999999999996,
          -46.805,
          -6.397,
          -2.2445,
          -1.952,
          2.3305000000000002,
          -1.0743333333333334,
          -0.73,
          -2.6525,
          -2.337714285714285,
          -1.8284444444444443,
          -3.28775,
          -5.612666666666667,
          -1.373,
          -4.464,
          -2.9214,
          -4.1775,
          7.140666666666667,
          -3.164,
          -0.17266666666666666,
          -1,
          -1.1395,
          -3.1863333333333337,
          -1.2409999999999997,
          0.9690000000000001,
          6.074,
          -1.789,
          -3.6355999999999993,
          2.96,
          -1.335,
          -3.7740000000000005,
          -2.495,
          -0.221,
          -3.6013333333333333,
          -3.728,
          -1.8026000000000004,
          12.889,
          -3.233538461538461,
          -2.02775,
          2.7,
          -1.0919999999999999,
          -1.1885,
          -3.9997499999999997,
          0.22766666666666666
         ]
        }
       ],
       "layout": {
        "template": {
         "data": {
          "bar": [
           {
            "error_x": {
             "color": "#2a3f5f"
            },
            "error_y": {
             "color": "#2a3f5f"
            },
            "marker": {
             "line": {
              "color": "#E5ECF6",
              "width": 0.5
             }
            },
            "type": "bar"
           }
          ],
          "barpolar": [
           {
            "marker": {
             "line": {
              "color": "#E5ECF6",
              "width": 0.5
             }
            },
            "type": "barpolar"
           }
          ],
          "carpet": [
           {
            "aaxis": {
             "endlinecolor": "#2a3f5f",
             "gridcolor": "white",
             "linecolor": "white",
             "minorgridcolor": "white",
             "startlinecolor": "#2a3f5f"
            },
            "baxis": {
             "endlinecolor": "#2a3f5f",
             "gridcolor": "white",
             "linecolor": "white",
             "minorgridcolor": "white",
             "startlinecolor": "#2a3f5f"
            },
            "type": "carpet"
           }
          ],
          "choropleth": [
           {
            "colorbar": {
             "outlinewidth": 0,
             "ticks": ""
            },
            "type": "choropleth"
           }
          ],
          "contour": [
           {
            "colorbar": {
             "outlinewidth": 0,
             "ticks": ""
            },
            "colorscale": [
             [
              0,
              "#0d0887"
             ],
             [
              0.1111111111111111,
              "#46039f"
             ],
             [
              0.2222222222222222,
              "#7201a8"
             ],
             [
              0.3333333333333333,
              "#9c179e"
             ],
             [
              0.4444444444444444,
              "#bd3786"
             ],
             [
              0.5555555555555556,
              "#d8576b"
             ],
             [
              0.6666666666666666,
              "#ed7953"
             ],
             [
              0.7777777777777778,
              "#fb9f3a"
             ],
             [
              0.8888888888888888,
              "#fdca26"
             ],
             [
              1,
              "#f0f921"
             ]
            ],
            "type": "contour"
           }
          ],
          "contourcarpet": [
           {
            "colorbar": {
             "outlinewidth": 0,
             "ticks": ""
            },
            "type": "contourcarpet"
           }
          ],
          "heatmap": [
           {
            "colorbar": {
             "outlinewidth": 0,
             "ticks": ""
            },
            "colorscale": [
             [
              0,
              "#0d0887"
             ],
             [
              0.1111111111111111,
              "#46039f"
             ],
             [
              0.2222222222222222,
              "#7201a8"
             ],
             [
              0.3333333333333333,
              "#9c179e"
             ],
             [
              0.4444444444444444,
              "#bd3786"
             ],
             [
              0.5555555555555556,
              "#d8576b"
             ],
             [
              0.6666666666666666,
              "#ed7953"
             ],
             [
              0.7777777777777778,
              "#fb9f3a"
             ],
             [
              0.8888888888888888,
              "#fdca26"
             ],
             [
              1,
              "#f0f921"
             ]
            ],
            "type": "heatmap"
           }
          ],
          "heatmapgl": [
           {
            "colorbar": {
             "outlinewidth": 0,
             "ticks": ""
            },
            "colorscale": [
             [
              0,
              "#0d0887"
             ],
             [
              0.1111111111111111,
              "#46039f"
             ],
             [
              0.2222222222222222,
              "#7201a8"
             ],
             [
              0.3333333333333333,
              "#9c179e"
             ],
             [
              0.4444444444444444,
              "#bd3786"
             ],
             [
              0.5555555555555556,
              "#d8576b"
             ],
             [
              0.6666666666666666,
              "#ed7953"
             ],
             [
              0.7777777777777778,
              "#fb9f3a"
             ],
             [
              0.8888888888888888,
              "#fdca26"
             ],
             [
              1,
              "#f0f921"
             ]
            ],
            "type": "heatmapgl"
           }
          ],
          "histogram": [
           {
            "marker": {
             "colorbar": {
              "outlinewidth": 0,
              "ticks": ""
             }
            },
            "type": "histogram"
           }
          ],
          "histogram2d": [
           {
            "colorbar": {
             "outlinewidth": 0,
             "ticks": ""
            },
            "colorscale": [
             [
              0,
              "#0d0887"
             ],
             [
              0.1111111111111111,
              "#46039f"
             ],
             [
              0.2222222222222222,
              "#7201a8"
             ],
             [
              0.3333333333333333,
              "#9c179e"
             ],
             [
              0.4444444444444444,
              "#bd3786"
             ],
             [
              0.5555555555555556,
              "#d8576b"
             ],
             [
              0.6666666666666666,
              "#ed7953"
             ],
             [
              0.7777777777777778,
              "#fb9f3a"
             ],
             [
              0.8888888888888888,
              "#fdca26"
             ],
             [
              1,
              "#f0f921"
             ]
            ],
            "type": "histogram2d"
           }
          ],
          "histogram2dcontour": [
           {
            "colorbar": {
             "outlinewidth": 0,
             "ticks": ""
            },
            "colorscale": [
             [
              0,
              "#0d0887"
             ],
             [
              0.1111111111111111,
              "#46039f"
             ],
             [
              0.2222222222222222,
              "#7201a8"
             ],
             [
              0.3333333333333333,
              "#9c179e"
             ],
             [
              0.4444444444444444,
              "#bd3786"
             ],
             [
              0.5555555555555556,
              "#d8576b"
             ],
             [
              0.6666666666666666,
              "#ed7953"
             ],
             [
              0.7777777777777778,
              "#fb9f3a"
             ],
             [
              0.8888888888888888,
              "#fdca26"
             ],
             [
              1,
              "#f0f921"
             ]
            ],
            "type": "histogram2dcontour"
           }
          ],
          "mesh3d": [
           {
            "colorbar": {
             "outlinewidth": 0,
             "ticks": ""
            },
            "type": "mesh3d"
           }
          ],
          "parcoords": [
           {
            "line": {
             "colorbar": {
              "outlinewidth": 0,
              "ticks": ""
             }
            },
            "type": "parcoords"
           }
          ],
          "pie": [
           {
            "automargin": true,
            "type": "pie"
           }
          ],
          "scatter": [
           {
            "marker": {
             "colorbar": {
              "outlinewidth": 0,
              "ticks": ""
             }
            },
            "type": "scatter"
           }
          ],
          "scatter3d": [
           {
            "line": {
             "colorbar": {
              "outlinewidth": 0,
              "ticks": ""
             }
            },
            "marker": {
             "colorbar": {
              "outlinewidth": 0,
              "ticks": ""
             }
            },
            "type": "scatter3d"
           }
          ],
          "scattercarpet": [
           {
            "marker": {
             "colorbar": {
              "outlinewidth": 0,
              "ticks": ""
             }
            },
            "type": "scattercarpet"
           }
          ],
          "scattergeo": [
           {
            "marker": {
             "colorbar": {
              "outlinewidth": 0,
              "ticks": ""
             }
            },
            "type": "scattergeo"
           }
          ],
          "scattergl": [
           {
            "marker": {
             "colorbar": {
              "outlinewidth": 0,
              "ticks": ""
             }
            },
            "type": "scattergl"
           }
          ],
          "scattermapbox": [
           {
            "marker": {
             "colorbar": {
              "outlinewidth": 0,
              "ticks": ""
             }
            },
            "type": "scattermapbox"
           }
          ],
          "scatterpolar": [
           {
            "marker": {
             "colorbar": {
              "outlinewidth": 0,
              "ticks": ""
             }
            },
            "type": "scatterpolar"
           }
          ],
          "scatterpolargl": [
           {
            "marker": {
             "colorbar": {
              "outlinewidth": 0,
              "ticks": ""
             }
            },
            "type": "scatterpolargl"
           }
          ],
          "scatterternary": [
           {
            "marker": {
             "colorbar": {
              "outlinewidth": 0,
              "ticks": ""
             }
            },
            "type": "scatterternary"
           }
          ],
          "surface": [
           {
            "colorbar": {
             "outlinewidth": 0,
             "ticks": ""
            },
            "colorscale": [
             [
              0,
              "#0d0887"
             ],
             [
              0.1111111111111111,
              "#46039f"
             ],
             [
              0.2222222222222222,
              "#7201a8"
             ],
             [
              0.3333333333333333,
              "#9c179e"
             ],
             [
              0.4444444444444444,
              "#bd3786"
             ],
             [
              0.5555555555555556,
              "#d8576b"
             ],
             [
              0.6666666666666666,
              "#ed7953"
             ],
             [
              0.7777777777777778,
              "#fb9f3a"
             ],
             [
              0.8888888888888888,
              "#fdca26"
             ],
             [
              1,
              "#f0f921"
             ]
            ],
            "type": "surface"
           }
          ],
          "table": [
           {
            "cells": {
             "fill": {
              "color": "#EBF0F8"
             },
             "line": {
              "color": "white"
             }
            },
            "header": {
             "fill": {
              "color": "#C8D4E3"
             },
             "line": {
              "color": "white"
             }
            },
            "type": "table"
           }
          ]
         },
         "layout": {
          "annotationdefaults": {
           "arrowcolor": "#2a3f5f",
           "arrowhead": 0,
           "arrowwidth": 1
          },
          "autotypenumbers": "strict",
          "coloraxis": {
           "colorbar": {
            "outlinewidth": 0,
            "ticks": ""
           }
          },
          "colorscale": {
           "diverging": [
            [
             0,
             "#8e0152"
            ],
            [
             0.1,
             "#c51b7d"
            ],
            [
             0.2,
             "#de77ae"
            ],
            [
             0.3,
             "#f1b6da"
            ],
            [
             0.4,
             "#fde0ef"
            ],
            [
             0.5,
             "#f7f7f7"
            ],
            [
             0.6,
             "#e6f5d0"
            ],
            [
             0.7,
             "#b8e186"
            ],
            [
             0.8,
             "#7fbc41"
            ],
            [
             0.9,
             "#4d9221"
            ],
            [
             1,
             "#276419"
            ]
           ],
           "sequential": [
            [
             0,
             "#0d0887"
            ],
            [
             0.1111111111111111,
             "#46039f"
            ],
            [
             0.2222222222222222,
             "#7201a8"
            ],
            [
             0.3333333333333333,
             "#9c179e"
            ],
            [
             0.4444444444444444,
             "#bd3786"
            ],
            [
             0.5555555555555556,
             "#d8576b"
            ],
            [
             0.6666666666666666,
             "#ed7953"
            ],
            [
             0.7777777777777778,
             "#fb9f3a"
            ],
            [
             0.8888888888888888,
             "#fdca26"
            ],
            [
             1,
             "#f0f921"
            ]
           ],
           "sequentialminus": [
            [
             0,
             "#0d0887"
            ],
            [
             0.1111111111111111,
             "#46039f"
            ],
            [
             0.2222222222222222,
             "#7201a8"
            ],
            [
             0.3333333333333333,
             "#9c179e"
            ],
            [
             0.4444444444444444,
             "#bd3786"
            ],
            [
             0.5555555555555556,
             "#d8576b"
            ],
            [
             0.6666666666666666,
             "#ed7953"
            ],
            [
             0.7777777777777778,
             "#fb9f3a"
            ],
            [
             0.8888888888888888,
             "#fdca26"
            ],
            [
             1,
             "#f0f921"
            ]
           ]
          },
          "colorway": [
           "#636efa",
           "#EF553B",
           "#00cc96",
           "#ab63fa",
           "#FFA15A",
           "#19d3f3",
           "#FF6692",
           "#B6E880",
           "#FF97FF",
           "#FECB52"
          ],
          "font": {
           "color": "#2a3f5f"
          },
          "geo": {
           "bgcolor": "white",
           "lakecolor": "white",
           "landcolor": "#E5ECF6",
           "showlakes": true,
           "showland": true,
           "subunitcolor": "white"
          },
          "hoverlabel": {
           "align": "left"
          },
          "hovermode": "closest",
          "mapbox": {
           "style": "light"
          },
          "paper_bgcolor": "white",
          "plot_bgcolor": "#E5ECF6",
          "polar": {
           "angularaxis": {
            "gridcolor": "white",
            "linecolor": "white",
            "ticks": ""
           },
           "bgcolor": "#E5ECF6",
           "radialaxis": {
            "gridcolor": "white",
            "linecolor": "white",
            "ticks": ""
           }
          },
          "scene": {
           "xaxis": {
            "backgroundcolor": "#E5ECF6",
            "gridcolor": "white",
            "gridwidth": 2,
            "linecolor": "white",
            "showbackground": true,
            "ticks": "",
            "zerolinecolor": "white"
           },
           "yaxis": {
            "backgroundcolor": "#E5ECF6",
            "gridcolor": "white",
            "gridwidth": 2,
            "linecolor": "white",
            "showbackground": true,
            "ticks": "",
            "zerolinecolor": "white"
           },
           "zaxis": {
            "backgroundcolor": "#E5ECF6",
            "gridcolor": "white",
            "gridwidth": 2,
            "linecolor": "white",
            "showbackground": true,
            "ticks": "",
            "zerolinecolor": "white"
           }
          },
          "shapedefaults": {
           "line": {
            "color": "#2a3f5f"
           }
          },
          "ternary": {
           "aaxis": {
            "gridcolor": "white",
            "linecolor": "white",
            "ticks": ""
           },
           "baxis": {
            "gridcolor": "white",
            "linecolor": "white",
            "ticks": ""
           },
           "bgcolor": "#E5ECF6",
           "caxis": {
            "gridcolor": "white",
            "linecolor": "white",
            "ticks": ""
           }
          },
          "title": {
           "x": 0.05
          },
          "xaxis": {
           "automargin": true,
           "gridcolor": "white",
           "linecolor": "white",
           "ticks": "",
           "title": {
            "standoff": 15
           },
           "zerolinecolor": "white",
           "zerolinewidth": 2
          },
          "yaxis": {
           "automargin": true,
           "gridcolor": "white",
           "linecolor": "white",
           "ticks": "",
           "title": {
            "standoff": 15
           },
           "zerolinecolor": "white",
           "zerolinewidth": 2
          }
         }
        }
       }
      },
      "text/html": [
       "<div>                            <div id=\"22b45ba0-0970-48ef-a96c-d656756945ef\" class=\"plotly-graph-div\" style=\"height:525px; width:100%;\"></div>            <script type=\"text/javascript\">                require([\"plotly\"], function(Plotly) {                    window.PLOTLYENV=window.PLOTLYENV || {};                                    if (document.getElementById(\"22b45ba0-0970-48ef-a96c-d656756945ef\")) {                    Plotly.newPlot(                        \"22b45ba0-0970-48ef-a96c-d656756945ef\",                        [{\"type\": \"scatter\", \"x\": [\"2021-01-01T00:00:00\", \"2021-01-02T00:00:00\", \"2021-01-03T00:00:00\", \"2021-01-04T00:00:00\", \"2021-01-05T00:00:00\", \"2021-01-06T00:00:00\", \"2021-01-07T00:00:00\", \"2021-01-08T00:00:00\", \"2021-01-09T00:00:00\", \"2021-01-10T00:00:00\", \"2021-01-11T00:00:00\", \"2021-01-12T00:00:00\", \"2021-01-13T00:00:00\", \"2021-01-14T00:00:00\", \"2021-01-15T00:00:00\", \"2021-01-16T00:00:00\", \"2021-01-17T00:00:00\", \"2021-01-18T00:00:00\", \"2021-01-19T00:00:00\", \"2021-01-20T00:00:00\", \"2021-01-21T00:00:00\", \"2021-01-22T00:00:00\", \"2021-01-23T00:00:00\", \"2021-01-24T00:00:00\", \"2021-01-25T00:00:00\", \"2021-01-27T00:00:00\", \"2021-01-28T00:00:00\", \"2021-01-29T00:00:00\", \"2021-01-31T00:00:00\", \"2021-02-01T00:00:00\", \"2021-02-02T00:00:00\", \"2021-02-03T00:00:00\", \"2021-02-04T00:00:00\", \"2021-02-08T00:00:00\", \"2021-02-09T00:00:00\", \"2021-02-10T00:00:00\", \"2021-02-11T00:00:00\", \"2021-02-12T00:00:00\", \"2021-02-13T00:00:00\", \"2021-02-14T00:00:00\", \"2021-02-15T00:00:00\", \"2021-02-16T00:00:00\", \"2021-02-17T00:00:00\", \"2021-02-18T00:00:00\", \"2021-02-19T00:00:00\", \"2021-02-20T00:00:00\", \"2021-02-21T00:00:00\", \"2021-02-22T00:00:00\", \"2021-02-23T00:00:00\", \"2021-02-24T00:00:00\", \"2021-02-25T00:00:00\", \"2021-02-26T00:00:00\", \"2021-02-27T00:00:00\", \"2021-02-28T00:00:00\", \"2021-03-02T00:00:00\", \"2021-03-03T00:00:00\", \"2021-03-04T00:00:00\", \"2021-03-07T00:00:00\", \"2021-03-08T00:00:00\", \"2021-03-09T00:00:00\", \"2021-03-10T00:00:00\", \"2021-03-11T00:00:00\", \"2021-03-12T00:00:00\", \"2021-03-14T00:00:00\", \"2021-03-15T00:00:00\"], \"y\": [1.885, -69.884, 0.139, -2.8045, 1.193, -2.3085, -1.5766, -5.9076666666666675, -1.12, -0.49250000000000005, 0.2764, -1.33175, -2.433666666666667, -2.142, -0.6046666666666667, -1.458, -2.864, -1.5311666666666668, -3.189, -1.8203333333333334, -2.4216666666666664, -0.14299999999999996, -46.805, -6.397, -2.2445, -1.952, 2.3305000000000002, -1.0743333333333334, -0.73, -2.6525, -2.337714285714285, -1.8284444444444443, -3.28775, -5.612666666666667, -1.373, -4.464, -2.9214, -4.1775, 7.140666666666667, -3.164, -0.17266666666666666, -1.0, -1.1395, -3.1863333333333337, -1.2409999999999997, 0.9690000000000001, 6.074, -1.789, -3.6355999999999993, 2.96, -1.335, -3.7740000000000005, -2.495, -0.221, -3.6013333333333333, -3.728, -1.8026000000000004, 12.889, -3.233538461538461, -2.02775, 2.7, -1.0919999999999999, -1.1885, -3.9997499999999997, 0.22766666666666666]}],                        {\"template\": {\"data\": {\"bar\": [{\"error_x\": {\"color\": \"#2a3f5f\"}, \"error_y\": {\"color\": \"#2a3f5f\"}, \"marker\": {\"line\": {\"color\": \"#E5ECF6\", \"width\": 0.5}}, \"type\": \"bar\"}], \"barpolar\": [{\"marker\": {\"line\": {\"color\": \"#E5ECF6\", \"width\": 0.5}}, \"type\": \"barpolar\"}], \"carpet\": [{\"aaxis\": {\"endlinecolor\": \"#2a3f5f\", \"gridcolor\": \"white\", \"linecolor\": \"white\", \"minorgridcolor\": \"white\", \"startlinecolor\": \"#2a3f5f\"}, \"baxis\": {\"endlinecolor\": \"#2a3f5f\", \"gridcolor\": \"white\", \"linecolor\": \"white\", \"minorgridcolor\": \"white\", \"startlinecolor\": \"#2a3f5f\"}, \"type\": \"carpet\"}], \"choropleth\": [{\"colorbar\": {\"outlinewidth\": 0, \"ticks\": \"\"}, \"type\": \"choropleth\"}], \"contour\": [{\"colorbar\": {\"outlinewidth\": 0, \"ticks\": \"\"}, \"colorscale\": [[0.0, \"#0d0887\"], [0.1111111111111111, \"#46039f\"], [0.2222222222222222, \"#7201a8\"], [0.3333333333333333, \"#9c179e\"], [0.4444444444444444, \"#bd3786\"], [0.5555555555555556, \"#d8576b\"], [0.6666666666666666, \"#ed7953\"], [0.7777777777777778, \"#fb9f3a\"], [0.8888888888888888, \"#fdca26\"], [1.0, \"#f0f921\"]], \"type\": \"contour\"}], \"contourcarpet\": [{\"colorbar\": {\"outlinewidth\": 0, \"ticks\": \"\"}, \"type\": \"contourcarpet\"}], \"heatmap\": [{\"colorbar\": {\"outlinewidth\": 0, \"ticks\": \"\"}, \"colorscale\": [[0.0, \"#0d0887\"], [0.1111111111111111, \"#46039f\"], [0.2222222222222222, \"#7201a8\"], [0.3333333333333333, \"#9c179e\"], [0.4444444444444444, \"#bd3786\"], [0.5555555555555556, \"#d8576b\"], [0.6666666666666666, \"#ed7953\"], [0.7777777777777778, \"#fb9f3a\"], [0.8888888888888888, \"#fdca26\"], [1.0, \"#f0f921\"]], \"type\": \"heatmap\"}], \"heatmapgl\": [{\"colorbar\": {\"outlinewidth\": 0, \"ticks\": \"\"}, \"colorscale\": [[0.0, \"#0d0887\"], [0.1111111111111111, \"#46039f\"], [0.2222222222222222, \"#7201a8\"], [0.3333333333333333, \"#9c179e\"], [0.4444444444444444, \"#bd3786\"], [0.5555555555555556, \"#d8576b\"], [0.6666666666666666, \"#ed7953\"], [0.7777777777777778, \"#fb9f3a\"], [0.8888888888888888, \"#fdca26\"], [1.0, \"#f0f921\"]], \"type\": \"heatmapgl\"}], \"histogram\": [{\"marker\": {\"colorbar\": {\"outlinewidth\": 0, \"ticks\": \"\"}}, \"type\": \"histogram\"}], \"histogram2d\": [{\"colorbar\": {\"outlinewidth\": 0, \"ticks\": \"\"}, \"colorscale\": [[0.0, \"#0d0887\"], [0.1111111111111111, \"#46039f\"], [0.2222222222222222, \"#7201a8\"], [0.3333333333333333, \"#9c179e\"], [0.4444444444444444, \"#bd3786\"], [0.5555555555555556, \"#d8576b\"], [0.6666666666666666, \"#ed7953\"], [0.7777777777777778, \"#fb9f3a\"], [0.8888888888888888, \"#fdca26\"], [1.0, \"#f0f921\"]], \"type\": \"histogram2d\"}], \"histogram2dcontour\": [{\"colorbar\": {\"outlinewidth\": 0, \"ticks\": \"\"}, \"colorscale\": [[0.0, \"#0d0887\"], [0.1111111111111111, \"#46039f\"], [0.2222222222222222, \"#7201a8\"], [0.3333333333333333, \"#9c179e\"], [0.4444444444444444, \"#bd3786\"], [0.5555555555555556, \"#d8576b\"], [0.6666666666666666, \"#ed7953\"], [0.7777777777777778, \"#fb9f3a\"], [0.8888888888888888, \"#fdca26\"], [1.0, \"#f0f921\"]], \"type\": \"histogram2dcontour\"}], \"mesh3d\": [{\"colorbar\": {\"outlinewidth\": 0, \"ticks\": \"\"}, \"type\": \"mesh3d\"}], \"parcoords\": [{\"line\": {\"colorbar\": {\"outlinewidth\": 0, \"ticks\": \"\"}}, \"type\": \"parcoords\"}], \"pie\": [{\"automargin\": true, \"type\": \"pie\"}], \"scatter\": [{\"marker\": {\"colorbar\": {\"outlinewidth\": 0, \"ticks\": \"\"}}, \"type\": \"scatter\"}], \"scatter3d\": [{\"line\": {\"colorbar\": {\"outlinewidth\": 0, \"ticks\": \"\"}}, \"marker\": {\"colorbar\": {\"outlinewidth\": 0, \"ticks\": \"\"}}, \"type\": \"scatter3d\"}], \"scattercarpet\": [{\"marker\": {\"colorbar\": {\"outlinewidth\": 0, \"ticks\": \"\"}}, \"type\": \"scattercarpet\"}], \"scattergeo\": [{\"marker\": {\"colorbar\": {\"outlinewidth\": 0, \"ticks\": \"\"}}, \"type\": \"scattergeo\"}], \"scattergl\": [{\"marker\": {\"colorbar\": {\"outlinewidth\": 0, \"ticks\": \"\"}}, \"type\": \"scattergl\"}], \"scattermapbox\": [{\"marker\": {\"colorbar\": {\"outlinewidth\": 0, \"ticks\": \"\"}}, \"type\": \"scattermapbox\"}], \"scatterpolar\": [{\"marker\": {\"colorbar\": {\"outlinewidth\": 0, \"ticks\": \"\"}}, \"type\": \"scatterpolar\"}], \"scatterpolargl\": [{\"marker\": {\"colorbar\": {\"outlinewidth\": 0, \"ticks\": \"\"}}, \"type\": \"scatterpolargl\"}], \"scatterternary\": [{\"marker\": {\"colorbar\": {\"outlinewidth\": 0, \"ticks\": \"\"}}, \"type\": \"scatterternary\"}], \"surface\": [{\"colorbar\": {\"outlinewidth\": 0, \"ticks\": \"\"}, \"colorscale\": [[0.0, \"#0d0887\"], [0.1111111111111111, \"#46039f\"], [0.2222222222222222, \"#7201a8\"], [0.3333333333333333, \"#9c179e\"], [0.4444444444444444, \"#bd3786\"], [0.5555555555555556, \"#d8576b\"], [0.6666666666666666, \"#ed7953\"], [0.7777777777777778, \"#fb9f3a\"], [0.8888888888888888, \"#fdca26\"], [1.0, \"#f0f921\"]], \"type\": \"surface\"}], \"table\": [{\"cells\": {\"fill\": {\"color\": \"#EBF0F8\"}, \"line\": {\"color\": \"white\"}}, \"header\": {\"fill\": {\"color\": \"#C8D4E3\"}, \"line\": {\"color\": \"white\"}}, \"type\": \"table\"}]}, \"layout\": {\"annotationdefaults\": {\"arrowcolor\": \"#2a3f5f\", \"arrowhead\": 0, \"arrowwidth\": 1}, \"autotypenumbers\": \"strict\", \"coloraxis\": {\"colorbar\": {\"outlinewidth\": 0, \"ticks\": \"\"}}, \"colorscale\": {\"diverging\": [[0, \"#8e0152\"], [0.1, \"#c51b7d\"], [0.2, \"#de77ae\"], [0.3, \"#f1b6da\"], [0.4, \"#fde0ef\"], [0.5, \"#f7f7f7\"], [0.6, \"#e6f5d0\"], [0.7, \"#b8e186\"], [0.8, \"#7fbc41\"], [0.9, \"#4d9221\"], [1, \"#276419\"]], \"sequential\": [[0.0, \"#0d0887\"], [0.1111111111111111, \"#46039f\"], [0.2222222222222222, \"#7201a8\"], [0.3333333333333333, \"#9c179e\"], [0.4444444444444444, \"#bd3786\"], [0.5555555555555556, \"#d8576b\"], [0.6666666666666666, \"#ed7953\"], [0.7777777777777778, \"#fb9f3a\"], [0.8888888888888888, \"#fdca26\"], [1.0, \"#f0f921\"]], \"sequentialminus\": [[0.0, \"#0d0887\"], [0.1111111111111111, \"#46039f\"], [0.2222222222222222, \"#7201a8\"], [0.3333333333333333, \"#9c179e\"], [0.4444444444444444, \"#bd3786\"], [0.5555555555555556, \"#d8576b\"], [0.6666666666666666, \"#ed7953\"], [0.7777777777777778, \"#fb9f3a\"], [0.8888888888888888, \"#fdca26\"], [1.0, \"#f0f921\"]]}, \"colorway\": [\"#636efa\", \"#EF553B\", \"#00cc96\", \"#ab63fa\", \"#FFA15A\", \"#19d3f3\", \"#FF6692\", \"#B6E880\", \"#FF97FF\", \"#FECB52\"], \"font\": {\"color\": \"#2a3f5f\"}, \"geo\": {\"bgcolor\": \"white\", \"lakecolor\": \"white\", \"landcolor\": \"#E5ECF6\", \"showlakes\": true, \"showland\": true, \"subunitcolor\": \"white\"}, \"hoverlabel\": {\"align\": \"left\"}, \"hovermode\": \"closest\", \"mapbox\": {\"style\": \"light\"}, \"paper_bgcolor\": \"white\", \"plot_bgcolor\": \"#E5ECF6\", \"polar\": {\"angularaxis\": {\"gridcolor\": \"white\", \"linecolor\": \"white\", \"ticks\": \"\"}, \"bgcolor\": \"#E5ECF6\", \"radialaxis\": {\"gridcolor\": \"white\", \"linecolor\": \"white\", \"ticks\": \"\"}}, \"scene\": {\"xaxis\": {\"backgroundcolor\": \"#E5ECF6\", \"gridcolor\": \"white\", \"gridwidth\": 2, \"linecolor\": \"white\", \"showbackground\": true, \"ticks\": \"\", \"zerolinecolor\": \"white\"}, \"yaxis\": {\"backgroundcolor\": \"#E5ECF6\", \"gridcolor\": \"white\", \"gridwidth\": 2, \"linecolor\": \"white\", \"showbackground\": true, \"ticks\": \"\", \"zerolinecolor\": \"white\"}, \"zaxis\": {\"backgroundcolor\": \"#E5ECF6\", \"gridcolor\": \"white\", \"gridwidth\": 2, \"linecolor\": \"white\", \"showbackground\": true, \"ticks\": \"\", \"zerolinecolor\": \"white\"}}, \"shapedefaults\": {\"line\": {\"color\": \"#2a3f5f\"}}, \"ternary\": {\"aaxis\": {\"gridcolor\": \"white\", \"linecolor\": \"white\", \"ticks\": \"\"}, \"baxis\": {\"gridcolor\": \"white\", \"linecolor\": \"white\", \"ticks\": \"\"}, \"bgcolor\": \"#E5ECF6\", \"caxis\": {\"gridcolor\": \"white\", \"linecolor\": \"white\", \"ticks\": \"\"}}, \"title\": {\"x\": 0.05}, \"xaxis\": {\"automargin\": true, \"gridcolor\": \"white\", \"linecolor\": \"white\", \"ticks\": \"\", \"title\": {\"standoff\": 15}, \"zerolinecolor\": \"white\", \"zerolinewidth\": 2}, \"yaxis\": {\"automargin\": true, \"gridcolor\": \"white\", \"linecolor\": \"white\", \"ticks\": \"\", \"title\": {\"standoff\": 15}, \"zerolinecolor\": \"white\", \"zerolinewidth\": 2}}}},                        {\"responsive\": true}                    ).then(function(){\n",
       "                            \n",
       "var gd = document.getElementById('22b45ba0-0970-48ef-a96c-d656756945ef');\n",
       "var x = new MutationObserver(function (mutations, observer) {{\n",
       "        var display = window.getComputedStyle(gd).display;\n",
       "        if (!display || display === 'none') {{\n",
       "            console.log([gd, 'removed!']);\n",
       "            Plotly.purge(gd);\n",
       "            observer.disconnect();\n",
       "        }}\n",
       "}});\n",
       "\n",
       "// Listen for the removal of the full notebook cells\n",
       "var notebookContainer = gd.closest('#notebook-container');\n",
       "if (notebookContainer) {{\n",
       "    x.observe(notebookContainer, {childList: true});\n",
       "}}\n",
       "\n",
       "// Listen for the clearing of the current output cell\n",
       "var outputEl = gd.closest('.output');\n",
       "if (outputEl) {{\n",
       "    x.observe(outputEl, {childList: true});\n",
       "}}\n",
       "\n",
       "                        })                };                });            </script>        </div>"
      ]
     },
     "metadata": {},
     "output_type": "display_data"
    }
   ],
   "source": [
    "fig = go.Figure([go.Scatter(x=test_14['date'], y=test_14['scores_sum'])])\n",
    "fig.show()"
   ]
  },
  {
   "cell_type": "code",
   "execution_count": null,
   "metadata": {},
   "outputs": [],
   "source": []
  },
  {
   "cell_type": "code",
   "execution_count": null,
   "metadata": {},
   "outputs": [],
   "source": []
  },
  {
   "cell_type": "code",
   "execution_count": null,
   "metadata": {},
   "outputs": [],
   "source": []
  }
 ],
 "metadata": {
  "kernelspec": {
   "display_name": "Python 3",
   "language": "python",
   "name": "python3"
  },
  "language_info": {
   "codemirror_mode": {
    "name": "ipython",
    "version": 3
   },
   "file_extension": ".py",
   "mimetype": "text/x-python",
   "name": "python",
   "nbconvert_exporter": "python",
   "pygments_lexer": "ipython3",
   "version": "3.8.5"
  }
 },
 "nbformat": 4,
 "nbformat_minor": 4
}
