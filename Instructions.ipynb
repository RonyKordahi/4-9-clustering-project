{
 "cells": [
  {
   "cell_type": "markdown",
   "metadata": {},
   "source": [
    "# Project 4: Community learning\n",
    "\n",
    "In this project, you will be doing unsupervised learning on an online data of your choice.\n",
    "\n",
    "This can be done either through network embedding and clustering or though NLP word/sentence/paragraph/etc. embedding of the text in the dataset and clustering on this.\n",
    "\n",
    "You can do this in teams of up to 5, or individually. This project is **fully open-ended**, I encourage you to be creative.\n",
    "\n",
    "**Requirements**\n",
    "\n",
    "- You generate a new dataset from an online API or scraping. No pre-made datasets!\n",
    "\n",
    "- You discover underlying clusters (social communities, market patterns, etc.) using unsupervised learning tools we've seen in class (clustering, dimensionality reduction, pre-trained word embeddings, network embedding, etc.)\n",
    "\n",
    "- Produce a visualization in 2d or 3d of the data (using dimensionality reduction) with the clusters you found tagged. See reddit example below.\n",
    "\n",
    "- Analyze the produced clusters and use them to provide a short exposition (5-10min) of what you found. One team member can present if desired\n",
    "\n",
    "Reddit example visualization:\n",
    "\n",
    "![](reddit.png)\n",
    "\n",
    "\n",
    "**Interesting API examples:**\n",
    "\n",
    "- [Pushshift (reddit)](https://reddit-api.readthedocs.io/en/latest/)\n",
    "\n",
    "- [Twitter API](https://developer.twitter.com/en/docs/twitter-api)\n",
    "\n",
    "- [IG Graph API](https://developers.facebook.com/docs/instagram-api/#get-started)\n",
    "\n",
    "- [Tumblr](https://www.tumblr.com/docs/en/api/v2)\n",
    "\n",
    "- [Pinterest](https://www.pinterest.ca/login/?next=http%3A%2F%2Fdevelopers.pinterest.com%2Fapi_docs%2F)\n",
    "\n",
    "- [eBay](https://developer.ebay.com/common/api/)\n",
    "\n",
    "\n",
    "**You don't have to do it at a large scale**\n",
    "\n",
    "The data for these sort of projects can run very large if you let them, making the enterprise difficult.\n",
    "\n",
    "You can limit yourself to samples of the communities you're looking at rather than the entire thing.\n",
    "\n",
    "If you want to work at a larger scale, reach out to me and I'll help you with tools for larger graphs or larger text datasets."
   ]
  }
 ],
 "metadata": {
  "kernelspec": {
   "display_name": "Python 3",
   "language": "python",
   "name": "python3"
  },
  "language_info": {
   "codemirror_mode": {
    "name": "ipython",
    "version": 3
   },
   "file_extension": ".py",
   "mimetype": "text/x-python",
   "name": "python",
   "nbconvert_exporter": "python",
   "pygments_lexer": "ipython3",
   "version": "3.8.5"
  }
 },
 "nbformat": 4,
 "nbformat_minor": 4
}
